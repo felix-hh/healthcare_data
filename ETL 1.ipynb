{
 "cells": [
  {
   "cell_type": "markdown",
   "id": "0d23f0e1-f90d-4877-b13d-5ee3329a0e55",
   "metadata": {
    "tags": []
   },
   "source": [
    "# ETL\n",
    "\n",
    "ETL is comprised of 3 steps:\n",
    "- Extract: Open the Excel files, read the data into Python memory\n",
    "- Transform: Convert the data to the format I will use in my database\n",
    "- Load: Put the data in my local SQL database"
   ]
  },
  {
   "cell_type": "code",
   "execution_count": 1,
   "id": "34ca526a-f621-4758-8bae-78c0c5d25795",
   "metadata": {},
   "outputs": [],
   "source": [
    "%load_ext autoreload\n",
    "%autoreload 2\n",
    "\n",
    "import pandas as pd\n",
    "import numpy as np\n",
    "from pathlib import Path\n",
    "\n",
    "pd.set_option('display.max_rows', 100)"
   ]
  },
  {
   "cell_type": "markdown",
   "id": "16d05bf5-dd2c-487e-8172-6afe1b2ab39b",
   "metadata": {},
   "source": [
    "## Extract"
   ]
  },
  {
   "cell_type": "code",
   "execution_count": 2,
   "id": "d82aec41-326d-4d4f-bf1a-8d8b74c80b1a",
   "metadata": {},
   "outputs": [
    {
     "data": {
      "text/plain": [
       "[('AHMC Anaheim Regional Medical Center',\n",
       "  PosixPath('chargemaster-cdm-2021/AHMC Anaheim Regional Medical Center/106301098_CDM_All_2021.xlsx')),\n",
       " ('AHMC Seton Medical Center',\n",
       "  PosixPath('chargemaster-cdm-2021/AHMC Seton Medical Center/106410817_CDM_All_2021.xlsx')),\n",
       " ('Alameda Hospital',\n",
       "  PosixPath('chargemaster-cdm-2021/Alameda Hospital/106010735_CDM_All_2021.xlsx')),\n",
       " ('Alta Bates Summit Medical Center',\n",
       "  PosixPath('chargemaster-cdm-2021/Alta Bates Summit Medical Center/106010937_CDM_All_2021.xlsx')),\n",
       " ('Alta Bates-Summit Medical Center - Alta Bates Campus',\n",
       "  PosixPath('chargemaster-cdm-2021/Alta Bates-Summit Medical Center - Alta Bates Campus/106010739_CDM_All_2021.xlsx'))]"
      ]
     },
     "execution_count": 2,
     "metadata": {},
     "output_type": "execute_result"
    }
   ],
   "source": [
    "def collect_name_and_excel_paths(num_files= 0):\n",
    "    count = 0\n",
    "    base_path = Path(\"chargemaster-cdm-2021\")\n",
    "    hospitals = sorted([path for path in base_path.iterdir() if not path.name.startswith('.')])\n",
    "    hospital_sheets = []\n",
    "    allowed_extensions = set([\".xls\", \".xlsx\", \".csv\"])\n",
    "    \n",
    "    for hospital in hospitals:\n",
    "        # Skip hospitals with multiple excel files for now. \n",
    "        # TODO: Implement handling multiple excels and validate data from all hospitals.\n",
    "        files = [(hospital.name, file) for file in hospital.iterdir() if file.suffix in allowed_extensions and not file.name.startswith(\"~\")]\n",
    "        if len(files) == 1:\n",
    "            hospital_sheets.extend(files)\n",
    "            count+=1\n",
    "        if num_files >= 1 and count >= num_files:\n",
    "            break\n",
    "\n",
    "    return hospital_sheets\n",
    "\n",
    "names_and_files = collect_name_and_excel_paths()\n",
    "names_and_files[:5]"
   ]
  },
  {
   "cell_type": "code",
   "execution_count": 3,
   "id": "85377f82-858f-4917-b218-cbb397ab1465",
   "metadata": {},
   "outputs": [
    {
     "data": {
      "text/html": [
       "<div>\n",
       "<style scoped>\n",
       "    .dataframe tbody tr th:only-of-type {\n",
       "        vertical-align: middle;\n",
       "    }\n",
       "\n",
       "    .dataframe tbody tr th {\n",
       "        vertical-align: top;\n",
       "    }\n",
       "\n",
       "    .dataframe thead th {\n",
       "        text-align: right;\n",
       "    }\n",
       "</style>\n",
       "<table border=\"1\" class=\"dataframe\">\n",
       "  <thead>\n",
       "    <tr style=\"text-align: right;\">\n",
       "      <th></th>\n",
       "      <th>Hospital Name:  Ballard Rehabilitation Hospital</th>\n",
       "      <th>Unnamed: 1</th>\n",
       "      <th>Unnamed: 2</th>\n",
       "    </tr>\n",
       "  </thead>\n",
       "  <tbody>\n",
       "    <tr>\n",
       "      <th>0</th>\n",
       "      <td>OSHPD Facility No: 106364121</td>\n",
       "      <td>NaN</td>\n",
       "      <td>NaN</td>\n",
       "    </tr>\n",
       "    <tr>\n",
       "      <th>1</th>\n",
       "      <td>Effective Date of Charges: June 1, 2021</td>\n",
       "      <td>NaN</td>\n",
       "      <td>NaN</td>\n",
       "    </tr>\n",
       "    <tr>\n",
       "      <th>2</th>\n",
       "      <td>NaN</td>\n",
       "      <td>NaN</td>\n",
       "      <td>NaN</td>\n",
       "    </tr>\n",
       "    <tr>\n",
       "      <th>3</th>\n",
       "      <td>In response to requests from hospitals and the...</td>\n",
       "      <td>NaN</td>\n",
       "      <td>NaN</td>\n",
       "    </tr>\n",
       "    <tr>\n",
       "      <th>4</th>\n",
       "      <td>Evaluation &amp; Management Services (CPT Codes 99...</td>\n",
       "      <td>2020 CPT Code</td>\n",
       "      <td>Average Charge</td>\n",
       "    </tr>\n",
       "    <tr>\n",
       "      <th>5</th>\n",
       "      <td>Emergency Room Visit, Level 2 (low to moderate...</td>\n",
       "      <td>99282</td>\n",
       "      <td>NaN</td>\n",
       "    </tr>\n",
       "    <tr>\n",
       "      <th>6</th>\n",
       "      <td>Emergency Room Visit, Level 3 (moderate severity)</td>\n",
       "      <td>99283</td>\n",
       "      <td>NaN</td>\n",
       "    </tr>\n",
       "    <tr>\n",
       "      <th>7</th>\n",
       "      <td>Emergency Room Visit, Level 4 (high severity w...</td>\n",
       "      <td>99284</td>\n",
       "      <td>NaN</td>\n",
       "    </tr>\n",
       "    <tr>\n",
       "      <th>8</th>\n",
       "      <td>Emergency Room Visit, Level 4 (high severity w...</td>\n",
       "      <td>99285</td>\n",
       "      <td>NaN</td>\n",
       "    </tr>\n",
       "    <tr>\n",
       "      <th>9</th>\n",
       "      <td>Outpatient Visit, established patient, 15 minutes</td>\n",
       "      <td>99213</td>\n",
       "      <td>NaN</td>\n",
       "    </tr>\n",
       "    <tr>\n",
       "      <th>10</th>\n",
       "      <td>Laboratory &amp; Pathology Services (CPT Codes 800...</td>\n",
       "      <td>2020 CPT Code</td>\n",
       "      <td>Average Charge</td>\n",
       "    </tr>\n",
       "    <tr>\n",
       "      <th>11</th>\n",
       "      <td>Basic Metabolic Panel</td>\n",
       "      <td>80048</td>\n",
       "      <td>11.63</td>\n",
       "    </tr>\n",
       "    <tr>\n",
       "      <th>12</th>\n",
       "      <td>Blood Gas Analysis, including 02 saturation</td>\n",
       "      <td>82805</td>\n",
       "      <td>NaN</td>\n",
       "    </tr>\n",
       "    <tr>\n",
       "      <th>13</th>\n",
       "      <td>Complete Blood Count, automated</td>\n",
       "      <td>85027</td>\n",
       "      <td>8.89</td>\n",
       "    </tr>\n",
       "    <tr>\n",
       "      <th>14</th>\n",
       "      <td>Complete Blood Count, with differential WBC, a...</td>\n",
       "      <td>85025</td>\n",
       "      <td>10.69</td>\n",
       "    </tr>\n",
       "    <tr>\n",
       "      <th>15</th>\n",
       "      <td>Comprehensive Metabolic Panel</td>\n",
       "      <td>80053</td>\n",
       "      <td>14.53</td>\n",
       "    </tr>\n",
       "    <tr>\n",
       "      <th>16</th>\n",
       "      <td>Creatine Kinase (CK), (CPK), Total</td>\n",
       "      <td>82550</td>\n",
       "      <td>8.95</td>\n",
       "    </tr>\n",
       "    <tr>\n",
       "      <th>17</th>\n",
       "      <td>Lipid Panel</td>\n",
       "      <td>80061</td>\n",
       "      <td>18.42</td>\n",
       "    </tr>\n",
       "    <tr>\n",
       "      <th>18</th>\n",
       "      <td>Partial Thromboplastin Time</td>\n",
       "      <td>85730</td>\n",
       "      <td>8.25</td>\n",
       "    </tr>\n",
       "    <tr>\n",
       "      <th>19</th>\n",
       "      <td>Prothrombin Time</td>\n",
       "      <td>85610</td>\n",
       "      <td>5.4</td>\n",
       "    </tr>\n",
       "    <tr>\n",
       "      <th>20</th>\n",
       "      <td>Thyroid Stimulating Hormone</td>\n",
       "      <td>84443</td>\n",
       "      <td>23.1</td>\n",
       "    </tr>\n",
       "    <tr>\n",
       "      <th>21</th>\n",
       "      <td>Troponin, Quantitative</td>\n",
       "      <td>84484</td>\n",
       "      <td>13.53</td>\n",
       "    </tr>\n",
       "    <tr>\n",
       "      <th>22</th>\n",
       "      <td>Urinalysis, without microscopy</td>\n",
       "      <td>81002 or 81003</td>\n",
       "      <td>3.09</td>\n",
       "    </tr>\n",
       "    <tr>\n",
       "      <th>23</th>\n",
       "      <td>Urinalysis, with microscopy</td>\n",
       "      <td>81000 or 81001</td>\n",
       "      <td>4.35</td>\n",
       "    </tr>\n",
       "    <tr>\n",
       "      <th>24</th>\n",
       "      <td>Radiology Services  (CPT Codes 70010-79999)</td>\n",
       "      <td>2020 CPT Code</td>\n",
       "      <td>Average Charge</td>\n",
       "    </tr>\n",
       "    <tr>\n",
       "      <th>25</th>\n",
       "      <td>CT Scan, Abdomen, with contrast</td>\n",
       "      <td>74160</td>\n",
       "      <td>733.7</td>\n",
       "    </tr>\n",
       "    <tr>\n",
       "      <th>26</th>\n",
       "      <td>CT Scan, Head or Brain, without contrast</td>\n",
       "      <td>70450</td>\n",
       "      <td>2245.65</td>\n",
       "    </tr>\n",
       "    <tr>\n",
       "      <th>27</th>\n",
       "      <td>CT Scan, Pelvis, with contrast</td>\n",
       "      <td>72193</td>\n",
       "      <td>733.7</td>\n",
       "    </tr>\n",
       "    <tr>\n",
       "      <th>28</th>\n",
       "      <td>Mammography, Screening, Bilateral</td>\n",
       "      <td>77067</td>\n",
       "      <td>NaN</td>\n",
       "    </tr>\n",
       "    <tr>\n",
       "      <th>29</th>\n",
       "      <td>MRI, Brain, without contrast, followed by cont...</td>\n",
       "      <td>70553</td>\n",
       "      <td>NaN</td>\n",
       "    </tr>\n",
       "    <tr>\n",
       "      <th>30</th>\n",
       "      <td>Ultrasound, Abdomen, Complete</td>\n",
       "      <td>76700</td>\n",
       "      <td>1713.85</td>\n",
       "    </tr>\n",
       "    <tr>\n",
       "      <th>31</th>\n",
       "      <td>Ultrasound, OB, 14 weeks or more, transabdominal</td>\n",
       "      <td>76805</td>\n",
       "      <td>NaN</td>\n",
       "    </tr>\n",
       "    <tr>\n",
       "      <th>32</th>\n",
       "      <td>X-Ray, Lower Back, minimum four views</td>\n",
       "      <td>72110</td>\n",
       "      <td>NaN</td>\n",
       "    </tr>\n",
       "    <tr>\n",
       "      <th>33</th>\n",
       "      <td>X-Ray, Chest, two views</td>\n",
       "      <td>71046</td>\n",
       "      <td>NaN</td>\n",
       "    </tr>\n",
       "    <tr>\n",
       "      <th>34</th>\n",
       "      <td>Medicine Services  (CPT Codes 90281-99607)</td>\n",
       "      <td>2020 CPT Code</td>\n",
       "      <td>Average Charge</td>\n",
       "    </tr>\n",
       "    <tr>\n",
       "      <th>35</th>\n",
       "      <td>Cardiac Catheterization, Left Heart, percutane...</td>\n",
       "      <td>93452</td>\n",
       "      <td>NaN</td>\n",
       "    </tr>\n",
       "    <tr>\n",
       "      <th>36</th>\n",
       "      <td>Echocardiography, Transthoracic, complete</td>\n",
       "      <td>93307</td>\n",
       "      <td>NaN</td>\n",
       "    </tr>\n",
       "    <tr>\n",
       "      <th>37</th>\n",
       "      <td>Electrocardiogram, routine, with interpretatio...</td>\n",
       "      <td>93000</td>\n",
       "      <td>NaN</td>\n",
       "    </tr>\n",
       "    <tr>\n",
       "      <th>38</th>\n",
       "      <td>Inhalation Treatment, pressurized or nonpressu...</td>\n",
       "      <td>94640</td>\n",
       "      <td>NaN</td>\n",
       "    </tr>\n",
       "    <tr>\n",
       "      <th>39</th>\n",
       "      <td>Physical Therapy, Evaluation</td>\n",
       "      <td>97161-97163</td>\n",
       "      <td>467.55</td>\n",
       "    </tr>\n",
       "    <tr>\n",
       "      <th>40</th>\n",
       "      <td>Physical Therapy, Gait Training</td>\n",
       "      <td>97116</td>\n",
       "      <td>115.6</td>\n",
       "    </tr>\n",
       "    <tr>\n",
       "      <th>41</th>\n",
       "      <td>Physical Therapy, Therapeutic Exercise</td>\n",
       "      <td>97110</td>\n",
       "      <td>110.55</td>\n",
       "    </tr>\n",
       "    <tr>\n",
       "      <th>42</th>\n",
       "      <td>Surgery Services  (CPT Codes 10021-69990)</td>\n",
       "      <td>2020 CPT Code</td>\n",
       "      <td>Average Charge</td>\n",
       "    </tr>\n",
       "    <tr>\n",
       "      <th>43</th>\n",
       "      <td>Arthroscopy, Knee, with meniscectomy (medial o...</td>\n",
       "      <td>29881</td>\n",
       "      <td>NaN</td>\n",
       "    </tr>\n",
       "    <tr>\n",
       "      <th>44</th>\n",
       "      <td>Arthroscopy, Shoulder, with partial acromioplasty</td>\n",
       "      <td>29826</td>\n",
       "      <td>NaN</td>\n",
       "    </tr>\n",
       "    <tr>\n",
       "      <th>45</th>\n",
       "      <td>Carpal Tunnel Surgery</td>\n",
       "      <td>64721</td>\n",
       "      <td>NaN</td>\n",
       "    </tr>\n",
       "    <tr>\n",
       "      <th>46</th>\n",
       "      <td>Cataract Removal with Insertion of Intraocular...</td>\n",
       "      <td>66984</td>\n",
       "      <td>NaN</td>\n",
       "    </tr>\n",
       "    <tr>\n",
       "      <th>47</th>\n",
       "      <td>Colonoscopy, diagnostic</td>\n",
       "      <td>45378</td>\n",
       "      <td>NaN</td>\n",
       "    </tr>\n",
       "    <tr>\n",
       "      <th>48</th>\n",
       "      <td>Colonoscopy, with biopsy</td>\n",
       "      <td>45380</td>\n",
       "      <td>NaN</td>\n",
       "    </tr>\n",
       "    <tr>\n",
       "      <th>49</th>\n",
       "      <td>Colonoscopy, with lesion removal, by snare tec...</td>\n",
       "      <td>45385</td>\n",
       "      <td>NaN</td>\n",
       "    </tr>\n",
       "    <tr>\n",
       "      <th>50</th>\n",
       "      <td>Discission, secondary membranous cataract, las...</td>\n",
       "      <td>66821</td>\n",
       "      <td>NaN</td>\n",
       "    </tr>\n",
       "    <tr>\n",
       "      <th>51</th>\n",
       "      <td>Endoscopy, Upper GI, with biopsy</td>\n",
       "      <td>43239</td>\n",
       "      <td>NaN</td>\n",
       "    </tr>\n",
       "    <tr>\n",
       "      <th>52</th>\n",
       "      <td>Endoscopy, Upper GI, diagnostic</td>\n",
       "      <td>43235</td>\n",
       "      <td>NaN</td>\n",
       "    </tr>\n",
       "    <tr>\n",
       "      <th>53</th>\n",
       "      <td>Excision, Breast Lesion, without preoperative ...</td>\n",
       "      <td>19120</td>\n",
       "      <td>NaN</td>\n",
       "    </tr>\n",
       "    <tr>\n",
       "      <th>54</th>\n",
       "      <td>Hernia Repair, Inguinal, 5 years and older</td>\n",
       "      <td>49505</td>\n",
       "      <td>NaN</td>\n",
       "    </tr>\n",
       "    <tr>\n",
       "      <th>55</th>\n",
       "      <td>Injection, Diagnostic or Therapeutic substance...</td>\n",
       "      <td>62322-62323</td>\n",
       "      <td>NaN</td>\n",
       "    </tr>\n",
       "    <tr>\n",
       "      <th>56</th>\n",
       "      <td>Injection, Anesthetic or Steroid, transforamin...</td>\n",
       "      <td>64483</td>\n",
       "      <td>NaN</td>\n",
       "    </tr>\n",
       "    <tr>\n",
       "      <th>57</th>\n",
       "      <td>Laparoscopic Cholecystectomy</td>\n",
       "      <td>47562</td>\n",
       "      <td>NaN</td>\n",
       "    </tr>\n",
       "    <tr>\n",
       "      <th>58</th>\n",
       "      <td>Tympanostomy (insert ventilating  tube, genera...</td>\n",
       "      <td>69436</td>\n",
       "      <td>NaN</td>\n",
       "    </tr>\n",
       "    <tr>\n",
       "      <th>59</th>\n",
       "      <td>Tonsillectomy with Adenoidectomy, less than 12...</td>\n",
       "      <td>42820</td>\n",
       "      <td>NaN</td>\n",
       "    </tr>\n",
       "    <tr>\n",
       "      <th>60</th>\n",
       "      <td>Other Common Outpatient Procedures (list as ne...</td>\n",
       "      <td>2020 CPT Code</td>\n",
       "      <td>Average Charge</td>\n",
       "    </tr>\n",
       "    <tr>\n",
       "      <th>61</th>\n",
       "      <td>OT Ther Act Ea 15</td>\n",
       "      <td>97530</td>\n",
       "      <td>116.7</td>\n",
       "    </tr>\n",
       "    <tr>\n",
       "      <th>62</th>\n",
       "      <td>PT Neuro Re Ed</td>\n",
       "      <td>97112</td>\n",
       "      <td>122.75</td>\n",
       "    </tr>\n",
       "    <tr>\n",
       "      <th>63</th>\n",
       "      <td>OT Ther Activity</td>\n",
       "      <td>97530</td>\n",
       "      <td>116.7</td>\n",
       "    </tr>\n",
       "    <tr>\n",
       "      <th>64</th>\n",
       "      <td>PT Manual TX</td>\n",
       "      <td>97140</td>\n",
       "      <td>123.53</td>\n",
       "    </tr>\n",
       "    <tr>\n",
       "      <th>65</th>\n",
       "      <td>OT Thera Ex Ea 15</td>\n",
       "      <td>97110</td>\n",
       "      <td>117.81</td>\n",
       "    </tr>\n",
       "    <tr>\n",
       "      <th>66</th>\n",
       "      <td>OT Neuromsclr RE-E</td>\n",
       "      <td>97112</td>\n",
       "      <td>123.37</td>\n",
       "    </tr>\n",
       "    <tr>\n",
       "      <th>67</th>\n",
       "      <td>ST Tx SP/Lng/Vce/C</td>\n",
       "      <td>92507</td>\n",
       "      <td>469.32</td>\n",
       "    </tr>\n",
       "    <tr>\n",
       "      <th>68</th>\n",
       "      <td>OT SLFCR/HM  Mgmt t</td>\n",
       "      <td>97535</td>\n",
       "      <td>117.58</td>\n",
       "    </tr>\n",
       "    <tr>\n",
       "      <th>69</th>\n",
       "      <td>PT Therapy Activity</td>\n",
       "      <td>97530</td>\n",
       "      <td>117.22</td>\n",
       "    </tr>\n",
       "    <tr>\n",
       "      <th>70</th>\n",
       "      <td>OT Manual Therapy 15 min</td>\n",
       "      <td>97140</td>\n",
       "      <td>117.01</td>\n",
       "    </tr>\n",
       "    <tr>\n",
       "      <th>71</th>\n",
       "      <td>Count of Reported Procedures (minimum 25 requi...</td>\n",
       "      <td>NaN</td>\n",
       "      <td>29</td>\n",
       "    </tr>\n",
       "    <tr>\n",
       "      <th>72</th>\n",
       "      <td>Instructions for Completing AB 1045 Common Out...</td>\n",
       "      <td>NaN</td>\n",
       "      <td>NaN</td>\n",
       "    </tr>\n",
       "    <tr>\n",
       "      <th>73</th>\n",
       "      <td>1. Enter Hospital Name and OSHPD Facility Numb...</td>\n",
       "      <td>NaN</td>\n",
       "      <td>NaN</td>\n",
       "    </tr>\n",
       "    <tr>\n",
       "      <th>74</th>\n",
       "      <td>2. Enter Average Charge for at least 25 common...</td>\n",
       "      <td>NaN</td>\n",
       "      <td>NaN</td>\n",
       "    </tr>\n",
       "    <tr>\n",
       "      <th>75</th>\n",
       "      <td>Services, do not include related ancillary...</td>\n",
       "      <td>NaN</td>\n",
       "      <td>NaN</td>\n",
       "    </tr>\n",
       "    <tr>\n",
       "      <th>76</th>\n",
       "      <td>NOTE:  The CPT codes are included on this ...</td>\n",
       "      <td>NaN</td>\n",
       "      <td>NaN</td>\n",
       "    </tr>\n",
       "    <tr>\n",
       "      <th>77</th>\n",
       "      <td>across hospital-based ambulatory surgery da...</td>\n",
       "      <td>NaN</td>\n",
       "      <td>NaN</td>\n",
       "    </tr>\n",
       "    <tr>\n",
       "      <th>78</th>\n",
       "      <td>(e.g., supplies, drugs, lab, use of operat...</td>\n",
       "      <td>NaN</td>\n",
       "      <td>NaN</td>\n",
       "    </tr>\n",
       "    <tr>\n",
       "      <th>79</th>\n",
       "      <td>3. Do not change procedure descriptions or CPT...</td>\n",
       "      <td>NaN</td>\n",
       "      <td>NaN</td>\n",
       "    </tr>\n",
       "    <tr>\n",
       "      <th>80</th>\n",
       "      <td>(rows 62-71) if you are unable to select p...</td>\n",
       "      <td>NaN</td>\n",
       "      <td>NaN</td>\n",
       "    </tr>\n",
       "    <tr>\n",
       "      <th>81</th>\n",
       "      <td>4. Submit completed form as Excel (.xls) file,...</td>\n",
       "      <td>NaN</td>\n",
       "      <td>NaN</td>\n",
       "    </tr>\n",
       "    <tr>\n",
       "      <th>82</th>\n",
       "      <td>calculation, by e-mail to chargemaster@osh...</td>\n",
       "      <td>NaN</td>\n",
       "      <td>NaN</td>\n",
       "    </tr>\n",
       "  </tbody>\n",
       "</table>\n",
       "</div>"
      ],
      "text/plain": [
       "      Hospital Name:  Ballard Rehabilitation Hospital      Unnamed: 1  \\\n",
       "0                        OSHPD Facility No: 106364121             NaN   \n",
       "1             Effective Date of Charges: June 1, 2021             NaN   \n",
       "2                                                 NaN             NaN   \n",
       "3   In response to requests from hospitals and the...             NaN   \n",
       "4   Evaluation & Management Services (CPT Codes 99...   2020 CPT Code   \n",
       "5   Emergency Room Visit, Level 2 (low to moderate...           99282   \n",
       "6   Emergency Room Visit, Level 3 (moderate severity)           99283   \n",
       "7   Emergency Room Visit, Level 4 (high severity w...           99284   \n",
       "8   Emergency Room Visit, Level 4 (high severity w...           99285   \n",
       "9   Outpatient Visit, established patient, 15 minutes           99213   \n",
       "10  Laboratory & Pathology Services (CPT Codes 800...   2020 CPT Code   \n",
       "11                              Basic Metabolic Panel           80048   \n",
       "12        Blood Gas Analysis, including 02 saturation           82805   \n",
       "13                    Complete Blood Count, automated           85027   \n",
       "14  Complete Blood Count, with differential WBC, a...           85025   \n",
       "15                      Comprehensive Metabolic Panel           80053   \n",
       "16                 Creatine Kinase (CK), (CPK), Total           82550   \n",
       "17                                        Lipid Panel           80061   \n",
       "18                        Partial Thromboplastin Time           85730   \n",
       "19                                   Prothrombin Time           85610   \n",
       "20                        Thyroid Stimulating Hormone           84443   \n",
       "21                             Troponin, Quantitative           84484   \n",
       "22                     Urinalysis, without microscopy  81002 or 81003   \n",
       "23                        Urinalysis, with microscopy  81000 or 81001   \n",
       "24        Radiology Services  (CPT Codes 70010-79999)   2020 CPT Code   \n",
       "25                    CT Scan, Abdomen, with contrast           74160   \n",
       "26           CT Scan, Head or Brain, without contrast           70450   \n",
       "27                     CT Scan, Pelvis, with contrast           72193   \n",
       "28                  Mammography, Screening, Bilateral           77067   \n",
       "29  MRI, Brain, without contrast, followed by cont...           70553   \n",
       "30                      Ultrasound, Abdomen, Complete           76700   \n",
       "31   Ultrasound, OB, 14 weeks or more, transabdominal           76805   \n",
       "32              X-Ray, Lower Back, minimum four views           72110   \n",
       "33                            X-Ray, Chest, two views           71046   \n",
       "34         Medicine Services  (CPT Codes 90281-99607)   2020 CPT Code   \n",
       "35  Cardiac Catheterization, Left Heart, percutane...           93452   \n",
       "36          Echocardiography, Transthoracic, complete           93307   \n",
       "37  Electrocardiogram, routine, with interpretatio...           93000   \n",
       "38  Inhalation Treatment, pressurized or nonpressu...           94640   \n",
       "39                       Physical Therapy, Evaluation     97161-97163   \n",
       "40                    Physical Therapy, Gait Training           97116   \n",
       "41             Physical Therapy, Therapeutic Exercise           97110   \n",
       "42          Surgery Services  (CPT Codes 10021-69990)   2020 CPT Code   \n",
       "43  Arthroscopy, Knee, with meniscectomy (medial o...           29881   \n",
       "44  Arthroscopy, Shoulder, with partial acromioplasty           29826   \n",
       "45                              Carpal Tunnel Surgery           64721   \n",
       "46  Cataract Removal with Insertion of Intraocular...           66984   \n",
       "47                            Colonoscopy, diagnostic           45378   \n",
       "48                           Colonoscopy, with biopsy           45380   \n",
       "49  Colonoscopy, with lesion removal, by snare tec...           45385   \n",
       "50  Discission, secondary membranous cataract, las...           66821   \n",
       "51                   Endoscopy, Upper GI, with biopsy           43239   \n",
       "52                    Endoscopy, Upper GI, diagnostic           43235   \n",
       "53  Excision, Breast Lesion, without preoperative ...           19120   \n",
       "54         Hernia Repair, Inguinal, 5 years and older           49505   \n",
       "55  Injection, Diagnostic or Therapeutic substance...     62322-62323   \n",
       "56  Injection, Anesthetic or Steroid, transforamin...           64483   \n",
       "57                       Laparoscopic Cholecystectomy           47562   \n",
       "58  Tympanostomy (insert ventilating  tube, genera...           69436   \n",
       "59  Tonsillectomy with Adenoidectomy, less than 12...           42820   \n",
       "60  Other Common Outpatient Procedures (list as ne...   2020 CPT Code   \n",
       "61                                  OT Ther Act Ea 15           97530   \n",
       "62                                     PT Neuro Re Ed           97112   \n",
       "63                                   OT Ther Activity           97530   \n",
       "64                                       PT Manual TX           97140   \n",
       "65                                  OT Thera Ex Ea 15           97110   \n",
       "66                                 OT Neuromsclr RE-E           97112   \n",
       "67                                 ST Tx SP/Lng/Vce/C           92507   \n",
       "68                                OT SLFCR/HM  Mgmt t           97535   \n",
       "69                                PT Therapy Activity           97530   \n",
       "70                           OT Manual Therapy 15 min           97140   \n",
       "71  Count of Reported Procedures (minimum 25 requi...             NaN   \n",
       "72  Instructions for Completing AB 1045 Common Out...             NaN   \n",
       "73  1. Enter Hospital Name and OSHPD Facility Numb...             NaN   \n",
       "74  2. Enter Average Charge for at least 25 common...             NaN   \n",
       "75      Services, do not include related ancillary...             NaN   \n",
       "76      NOTE:  The CPT codes are included on this ...             NaN   \n",
       "77     across hospital-based ambulatory surgery da...             NaN   \n",
       "78      (e.g., supplies, drugs, lab, use of operat...             NaN   \n",
       "79  3. Do not change procedure descriptions or CPT...             NaN   \n",
       "80      (rows 62-71) if you are unable to select p...             NaN   \n",
       "81  4. Submit completed form as Excel (.xls) file,...             NaN   \n",
       "82      calculation, by e-mail to chargemaster@osh...             NaN   \n",
       "\n",
       "        Unnamed: 2  \n",
       "0              NaN  \n",
       "1              NaN  \n",
       "2              NaN  \n",
       "3              NaN  \n",
       "4   Average Charge  \n",
       "5              NaN  \n",
       "6              NaN  \n",
       "7              NaN  \n",
       "8              NaN  \n",
       "9              NaN  \n",
       "10  Average Charge  \n",
       "11           11.63  \n",
       "12             NaN  \n",
       "13            8.89  \n",
       "14           10.69  \n",
       "15           14.53  \n",
       "16            8.95  \n",
       "17           18.42  \n",
       "18            8.25  \n",
       "19             5.4  \n",
       "20            23.1  \n",
       "21           13.53  \n",
       "22            3.09  \n",
       "23            4.35  \n",
       "24  Average Charge  \n",
       "25           733.7  \n",
       "26         2245.65  \n",
       "27           733.7  \n",
       "28             NaN  \n",
       "29             NaN  \n",
       "30         1713.85  \n",
       "31             NaN  \n",
       "32             NaN  \n",
       "33             NaN  \n",
       "34  Average Charge  \n",
       "35             NaN  \n",
       "36             NaN  \n",
       "37             NaN  \n",
       "38             NaN  \n",
       "39          467.55  \n",
       "40           115.6  \n",
       "41          110.55  \n",
       "42  Average Charge  \n",
       "43             NaN  \n",
       "44             NaN  \n",
       "45             NaN  \n",
       "46             NaN  \n",
       "47             NaN  \n",
       "48             NaN  \n",
       "49             NaN  \n",
       "50             NaN  \n",
       "51             NaN  \n",
       "52             NaN  \n",
       "53             NaN  \n",
       "54             NaN  \n",
       "55             NaN  \n",
       "56             NaN  \n",
       "57             NaN  \n",
       "58             NaN  \n",
       "59             NaN  \n",
       "60  Average Charge  \n",
       "61           116.7  \n",
       "62          122.75  \n",
       "63           116.7  \n",
       "64          123.53  \n",
       "65          117.81  \n",
       "66          123.37  \n",
       "67          469.32  \n",
       "68          117.58  \n",
       "69          117.22  \n",
       "70          117.01  \n",
       "71              29  \n",
       "72             NaN  \n",
       "73             NaN  \n",
       "74             NaN  \n",
       "75             NaN  \n",
       "76             NaN  \n",
       "77             NaN  \n",
       "78             NaN  \n",
       "79             NaN  \n",
       "80             NaN  \n",
       "81             NaN  \n",
       "82             NaN  "
      ]
     },
     "execution_count": 3,
     "metadata": {},
     "output_type": "execute_result"
    }
   ],
   "source": [
    "def data_from_excel(filepath):\n",
    "    # Handle all extensions, and all sheet names. \n",
    "    if filepath.suffix not in ['.xlsx', '.xls']:\n",
    "        raise Exception(\"file extension not supported\")\n",
    "        \n",
    "    sheet_name = \"AB 1045 Form\"\n",
    "    sheet_names = pd.ExcelFile(filepath).sheet_names\n",
    "    for name in sheet_names:\n",
    "        if \"1045\" in name:\n",
    "            sheet_name = name\n",
    "    \n",
    "    item = pd.read_excel(filepath, sheet_name=sheet_name)\n",
    "    return item\n",
    "\n",
    "name, path = names_and_files[16]\n",
    "data = data_from_excel(path)\n",
    "data.head(100)"
   ]
  },
  {
   "cell_type": "markdown",
   "id": "ca2b71ae-3416-4b25-af16-a47516101dcd",
   "metadata": {},
   "source": [
    "## Transform"
   ]
  },
  {
   "cell_type": "markdown",
   "id": "f6688817-1dbb-4512-9eea-32d75cf15a2c",
   "metadata": {},
   "source": [
    "For now, we limit to extracting the rows with numeric CPT and charge values. In the future we can extract the number of reported procedures to validate out data extraction process. We can also extract the hospital ID and the date of the report. "
   ]
  },
  {
   "cell_type": "code",
   "execution_count": 4,
   "id": "1fe1da89-aaa0-4200-90ba-dbfd5d1122b1",
   "metadata": {},
   "outputs": [
    {
     "name": "stderr",
     "output_type": "stream",
     "text": [
      "/var/folders/yv/3zzm4_cs25v74y31mq6j8_mh0000gr/T/ipykernel_60607/3297213217.py:14: SettingWithCopyWarning: \n",
      "A value is trying to be set on a copy of a slice from a DataFrame.\n",
      "Try using .loc[row_indexer,col_indexer] = value instead\n",
      "\n",
      "See the caveats in the documentation: https://pandas.pydata.org/pandas-docs/stable/user_guide/indexing.html#returning-a-view-versus-a-copy\n",
      "  reported_procedures[\"Hospital\"] = hospital_series\n"
     ]
    },
    {
     "data": {
      "text/html": [
       "<div>\n",
       "<style scoped>\n",
       "    .dataframe tbody tr th:only-of-type {\n",
       "        vertical-align: middle;\n",
       "    }\n",
       "\n",
       "    .dataframe tbody tr th {\n",
       "        vertical-align: top;\n",
       "    }\n",
       "\n",
       "    .dataframe thead th {\n",
       "        text-align: right;\n",
       "    }\n",
       "</style>\n",
       "<table border=\"1\" class=\"dataframe\">\n",
       "  <thead>\n",
       "    <tr style=\"text-align: right;\">\n",
       "      <th></th>\n",
       "      <th>CPT Code</th>\n",
       "      <th>Procedure</th>\n",
       "      <th>Average Charge</th>\n",
       "    </tr>\n",
       "    <tr>\n",
       "      <th>Hospital</th>\n",
       "      <th></th>\n",
       "      <th></th>\n",
       "      <th></th>\n",
       "    </tr>\n",
       "  </thead>\n",
       "  <tbody>\n",
       "    <tr>\n",
       "      <th>Ballard Rehabilitation Hospital</th>\n",
       "      <td>80048</td>\n",
       "      <td>Basic Metabolic Panel</td>\n",
       "      <td>1163</td>\n",
       "    </tr>\n",
       "    <tr>\n",
       "      <th>Ballard Rehabilitation Hospital</th>\n",
       "      <td>85027</td>\n",
       "      <td>Complete Blood Count, automated</td>\n",
       "      <td>889</td>\n",
       "    </tr>\n",
       "    <tr>\n",
       "      <th>Ballard Rehabilitation Hospital</th>\n",
       "      <td>85025</td>\n",
       "      <td>Complete Blood Count, with differential WBC, a...</td>\n",
       "      <td>1069</td>\n",
       "    </tr>\n",
       "    <tr>\n",
       "      <th>Ballard Rehabilitation Hospital</th>\n",
       "      <td>80053</td>\n",
       "      <td>Comprehensive Metabolic Panel</td>\n",
       "      <td>1453</td>\n",
       "    </tr>\n",
       "    <tr>\n",
       "      <th>Ballard Rehabilitation Hospital</th>\n",
       "      <td>82550</td>\n",
       "      <td>Creatine Kinase (CK), (CPK), Total</td>\n",
       "      <td>894</td>\n",
       "    </tr>\n",
       "    <tr>\n",
       "      <th>Ballard Rehabilitation Hospital</th>\n",
       "      <td>80061</td>\n",
       "      <td>Lipid Panel</td>\n",
       "      <td>1841</td>\n",
       "    </tr>\n",
       "    <tr>\n",
       "      <th>Ballard Rehabilitation Hospital</th>\n",
       "      <td>85730</td>\n",
       "      <td>Partial Thromboplastin Time</td>\n",
       "      <td>825</td>\n",
       "    </tr>\n",
       "    <tr>\n",
       "      <th>Ballard Rehabilitation Hospital</th>\n",
       "      <td>85610</td>\n",
       "      <td>Prothrombin Time</td>\n",
       "      <td>540</td>\n",
       "    </tr>\n",
       "    <tr>\n",
       "      <th>Ballard Rehabilitation Hospital</th>\n",
       "      <td>84443</td>\n",
       "      <td>Thyroid Stimulating Hormone</td>\n",
       "      <td>2310</td>\n",
       "    </tr>\n",
       "    <tr>\n",
       "      <th>Ballard Rehabilitation Hospital</th>\n",
       "      <td>84484</td>\n",
       "      <td>Troponin, Quantitative</td>\n",
       "      <td>1353</td>\n",
       "    </tr>\n",
       "    <tr>\n",
       "      <th>Ballard Rehabilitation Hospital</th>\n",
       "      <td>74160</td>\n",
       "      <td>CT Scan, Abdomen, with contrast</td>\n",
       "      <td>73370</td>\n",
       "    </tr>\n",
       "    <tr>\n",
       "      <th>Ballard Rehabilitation Hospital</th>\n",
       "      <td>70450</td>\n",
       "      <td>CT Scan, Head or Brain, without contrast</td>\n",
       "      <td>224565</td>\n",
       "    </tr>\n",
       "    <tr>\n",
       "      <th>Ballard Rehabilitation Hospital</th>\n",
       "      <td>72193</td>\n",
       "      <td>CT Scan, Pelvis, with contrast</td>\n",
       "      <td>73370</td>\n",
       "    </tr>\n",
       "    <tr>\n",
       "      <th>Ballard Rehabilitation Hospital</th>\n",
       "      <td>76700</td>\n",
       "      <td>Ultrasound, Abdomen, Complete</td>\n",
       "      <td>171385</td>\n",
       "    </tr>\n",
       "    <tr>\n",
       "      <th>Ballard Rehabilitation Hospital</th>\n",
       "      <td>97116</td>\n",
       "      <td>Physical Therapy, Gait Training</td>\n",
       "      <td>11560</td>\n",
       "    </tr>\n",
       "    <tr>\n",
       "      <th>Ballard Rehabilitation Hospital</th>\n",
       "      <td>97110</td>\n",
       "      <td>Physical Therapy, Therapeutic Exercise</td>\n",
       "      <td>11055</td>\n",
       "    </tr>\n",
       "    <tr>\n",
       "      <th>Ballard Rehabilitation Hospital</th>\n",
       "      <td>97530</td>\n",
       "      <td>OT Ther Act Ea 15</td>\n",
       "      <td>11670</td>\n",
       "    </tr>\n",
       "    <tr>\n",
       "      <th>Ballard Rehabilitation Hospital</th>\n",
       "      <td>97112</td>\n",
       "      <td>PT Neuro Re Ed</td>\n",
       "      <td>12275</td>\n",
       "    </tr>\n",
       "    <tr>\n",
       "      <th>Ballard Rehabilitation Hospital</th>\n",
       "      <td>97530</td>\n",
       "      <td>OT Ther Activity</td>\n",
       "      <td>11670</td>\n",
       "    </tr>\n",
       "    <tr>\n",
       "      <th>Ballard Rehabilitation Hospital</th>\n",
       "      <td>97140</td>\n",
       "      <td>PT Manual TX</td>\n",
       "      <td>12353</td>\n",
       "    </tr>\n",
       "    <tr>\n",
       "      <th>Ballard Rehabilitation Hospital</th>\n",
       "      <td>97110</td>\n",
       "      <td>OT Thera Ex Ea 15</td>\n",
       "      <td>11781</td>\n",
       "    </tr>\n",
       "    <tr>\n",
       "      <th>Ballard Rehabilitation Hospital</th>\n",
       "      <td>97112</td>\n",
       "      <td>OT Neuromsclr RE-E</td>\n",
       "      <td>12337</td>\n",
       "    </tr>\n",
       "    <tr>\n",
       "      <th>Ballard Rehabilitation Hospital</th>\n",
       "      <td>92507</td>\n",
       "      <td>ST Tx SP/Lng/Vce/C</td>\n",
       "      <td>46932</td>\n",
       "    </tr>\n",
       "    <tr>\n",
       "      <th>Ballard Rehabilitation Hospital</th>\n",
       "      <td>97535</td>\n",
       "      <td>OT SLFCR/HM  Mgmt t</td>\n",
       "      <td>11758</td>\n",
       "    </tr>\n",
       "    <tr>\n",
       "      <th>Ballard Rehabilitation Hospital</th>\n",
       "      <td>97530</td>\n",
       "      <td>PT Therapy Activity</td>\n",
       "      <td>11722</td>\n",
       "    </tr>\n",
       "    <tr>\n",
       "      <th>Ballard Rehabilitation Hospital</th>\n",
       "      <td>97140</td>\n",
       "      <td>OT Manual Therapy 15 min</td>\n",
       "      <td>11701</td>\n",
       "    </tr>\n",
       "  </tbody>\n",
       "</table>\n",
       "</div>"
      ],
      "text/plain": [
       "                                 CPT Code  \\\n",
       "Hospital                                    \n",
       "Ballard Rehabilitation Hospital     80048   \n",
       "Ballard Rehabilitation Hospital     85027   \n",
       "Ballard Rehabilitation Hospital     85025   \n",
       "Ballard Rehabilitation Hospital     80053   \n",
       "Ballard Rehabilitation Hospital     82550   \n",
       "Ballard Rehabilitation Hospital     80061   \n",
       "Ballard Rehabilitation Hospital     85730   \n",
       "Ballard Rehabilitation Hospital     85610   \n",
       "Ballard Rehabilitation Hospital     84443   \n",
       "Ballard Rehabilitation Hospital     84484   \n",
       "Ballard Rehabilitation Hospital     74160   \n",
       "Ballard Rehabilitation Hospital     70450   \n",
       "Ballard Rehabilitation Hospital     72193   \n",
       "Ballard Rehabilitation Hospital     76700   \n",
       "Ballard Rehabilitation Hospital     97116   \n",
       "Ballard Rehabilitation Hospital     97110   \n",
       "Ballard Rehabilitation Hospital     97530   \n",
       "Ballard Rehabilitation Hospital     97112   \n",
       "Ballard Rehabilitation Hospital     97530   \n",
       "Ballard Rehabilitation Hospital     97140   \n",
       "Ballard Rehabilitation Hospital     97110   \n",
       "Ballard Rehabilitation Hospital     97112   \n",
       "Ballard Rehabilitation Hospital     92507   \n",
       "Ballard Rehabilitation Hospital     97535   \n",
       "Ballard Rehabilitation Hospital     97530   \n",
       "Ballard Rehabilitation Hospital     97140   \n",
       "\n",
       "                                                                         Procedure  \\\n",
       "Hospital                                                                             \n",
       "Ballard Rehabilitation Hospital                              Basic Metabolic Panel   \n",
       "Ballard Rehabilitation Hospital                    Complete Blood Count, automated   \n",
       "Ballard Rehabilitation Hospital  Complete Blood Count, with differential WBC, a...   \n",
       "Ballard Rehabilitation Hospital                      Comprehensive Metabolic Panel   \n",
       "Ballard Rehabilitation Hospital                 Creatine Kinase (CK), (CPK), Total   \n",
       "Ballard Rehabilitation Hospital                                        Lipid Panel   \n",
       "Ballard Rehabilitation Hospital                        Partial Thromboplastin Time   \n",
       "Ballard Rehabilitation Hospital                                   Prothrombin Time   \n",
       "Ballard Rehabilitation Hospital                        Thyroid Stimulating Hormone   \n",
       "Ballard Rehabilitation Hospital                             Troponin, Quantitative   \n",
       "Ballard Rehabilitation Hospital                    CT Scan, Abdomen, with contrast   \n",
       "Ballard Rehabilitation Hospital           CT Scan, Head or Brain, without contrast   \n",
       "Ballard Rehabilitation Hospital                     CT Scan, Pelvis, with contrast   \n",
       "Ballard Rehabilitation Hospital                      Ultrasound, Abdomen, Complete   \n",
       "Ballard Rehabilitation Hospital                    Physical Therapy, Gait Training   \n",
       "Ballard Rehabilitation Hospital             Physical Therapy, Therapeutic Exercise   \n",
       "Ballard Rehabilitation Hospital                                  OT Ther Act Ea 15   \n",
       "Ballard Rehabilitation Hospital                                     PT Neuro Re Ed   \n",
       "Ballard Rehabilitation Hospital                                   OT Ther Activity   \n",
       "Ballard Rehabilitation Hospital                                       PT Manual TX   \n",
       "Ballard Rehabilitation Hospital                                  OT Thera Ex Ea 15   \n",
       "Ballard Rehabilitation Hospital                                 OT Neuromsclr RE-E   \n",
       "Ballard Rehabilitation Hospital                                 ST Tx SP/Lng/Vce/C   \n",
       "Ballard Rehabilitation Hospital                                OT SLFCR/HM  Mgmt t   \n",
       "Ballard Rehabilitation Hospital                                PT Therapy Activity   \n",
       "Ballard Rehabilitation Hospital                           OT Manual Therapy 15 min   \n",
       "\n",
       "                                 Average Charge  \n",
       "Hospital                                         \n",
       "Ballard Rehabilitation Hospital            1163  \n",
       "Ballard Rehabilitation Hospital             889  \n",
       "Ballard Rehabilitation Hospital            1069  \n",
       "Ballard Rehabilitation Hospital            1453  \n",
       "Ballard Rehabilitation Hospital             894  \n",
       "Ballard Rehabilitation Hospital            1841  \n",
       "Ballard Rehabilitation Hospital             825  \n",
       "Ballard Rehabilitation Hospital             540  \n",
       "Ballard Rehabilitation Hospital            2310  \n",
       "Ballard Rehabilitation Hospital            1353  \n",
       "Ballard Rehabilitation Hospital           73370  \n",
       "Ballard Rehabilitation Hospital          224565  \n",
       "Ballard Rehabilitation Hospital           73370  \n",
       "Ballard Rehabilitation Hospital          171385  \n",
       "Ballard Rehabilitation Hospital           11560  \n",
       "Ballard Rehabilitation Hospital           11055  \n",
       "Ballard Rehabilitation Hospital           11670  \n",
       "Ballard Rehabilitation Hospital           12275  \n",
       "Ballard Rehabilitation Hospital           11670  \n",
       "Ballard Rehabilitation Hospital           12353  \n",
       "Ballard Rehabilitation Hospital           11781  \n",
       "Ballard Rehabilitation Hospital           12337  \n",
       "Ballard Rehabilitation Hospital           46932  \n",
       "Ballard Rehabilitation Hospital           11758  \n",
       "Ballard Rehabilitation Hospital           11722  \n",
       "Ballard Rehabilitation Hospital           11701  "
      ]
     },
     "execution_count": 4,
     "metadata": {},
     "output_type": "execute_result"
    }
   ],
   "source": [
    "def transform_data(data, hospital_name):\n",
    "    mask = data.astype('str').iloc[:, 2].str.contains(\"\\d+\")\n",
    "    # for now, ignore procedures without a fully numeric CPT field\n",
    "    # TODO: implement validation. Collected procedures count in file must be same as extracted. \n",
    "    mask2 = data.astype('str').iloc[:, 1].str.contains(\"^\\d+$\")\n",
    "    reported_procedures = data[(mask & mask2)]\n",
    "    idx = pd.Index(range(len(reported_procedures)))\n",
    "    reported_procedures.set_index(idx, inplace=True)\n",
    "\n",
    "    reported_procedures.columns = [\"Procedure\", \"CPT Code\", \"Average Charge\"]\n",
    "\n",
    "    hospital_column = [hospital_name] * len(reported_procedures)\n",
    "    hospital_series = pd.Series(np.array(hospital_column))\n",
    "    reported_procedures[\"Hospital\"] = hospital_series\n",
    "\n",
    "    reported_procedures = reported_procedures[[\"Hospital\", \"CPT Code\", \"Procedure\", \"Average Charge\"]]\n",
    "    reported_procedures.set_index(\"Hospital\", inplace=True)\n",
    "\n",
    "    reported_procedures[\"CPT Code\"] = reported_procedures[\"CPT Code\"].apply(np.int64)\n",
    "    # Convert charges to cents and round. \n",
    "    reported_procedures[\"Average Charge\"] = (reported_procedures[\"Average Charge\"] * 100).astype(np.int64)\n",
    "\n",
    "    return reported_procedures\n",
    "\n",
    "reported_procedures = transform_data(data, name)\n",
    "reported_procedures"
   ]
  },
  {
   "cell_type": "markdown",
   "id": "fddd92bc-e790-4ee1-98f3-82e79e114c3f",
   "metadata": {},
   "source": [
    "## Load"
   ]
  },
  {
   "cell_type": "markdown",
   "id": "8cef2855-7b0a-4a7f-a203-ea94f539d655",
   "metadata": {},
   "source": [
    "Convert to a database readable format and load into a database. "
   ]
  },
  {
   "cell_type": "code",
   "execution_count": 5,
   "id": "5c41c751-bdfe-402f-8267-bc1477117a5a",
   "metadata": {},
   "outputs": [
    {
     "name": "stdout",
     "output_type": "stream",
     "text": [
      "Writing reported procedures to reported_procedures/Ballard Rehabilitation Hospital_reported_procedures.csv\n"
     ]
    }
   ],
   "source": [
    "def write_data(reported_procedures, dst_folder, hospital_name):\n",
    "    output_dir = Path(dst_folder)\n",
    "    output_dir.mkdir(parents=True, exist_ok=True)\n",
    "    output_path = output_dir / f\"{hospital_name}_reported_procedures.csv\"\n",
    "    print(f\"Writing reported procedures to {output_path}\")\n",
    "    reported_procedures.to_csv(output_path)\n",
    "    \n",
    "write_data(reported_procedures, \"reported_procedures\", name)"
   ]
  },
  {
   "cell_type": "markdown",
   "id": "d5260eaf-07a0-42b8-9139-073a525b60cb",
   "metadata": {},
   "source": [
    "## Execute"
   ]
  },
  {
   "cell_type": "code",
   "execution_count": 16,
   "id": "03cfa97b-e55c-485e-b15f-83471376a345",
   "metadata": {},
   "outputs": [
    {
     "name": "stdout",
     "output_type": "stream",
     "text": [
      "Parsing  chargemaster-cdm-2021/AHMC Anaheim Regional Medical Center/106301098_CDM_All_2021.xlsx\n"
     ]
    },
    {
     "name": "stderr",
     "output_type": "stream",
     "text": [
      "/var/folders/yv/3zzm4_cs25v74y31mq6j8_mh0000gr/T/ipykernel_60607/3297213217.py:14: SettingWithCopyWarning: \n",
      "A value is trying to be set on a copy of a slice from a DataFrame.\n",
      "Try using .loc[row_indexer,col_indexer] = value instead\n",
      "\n",
      "See the caveats in the documentation: https://pandas.pydata.org/pandas-docs/stable/user_guide/indexing.html#returning-a-view-versus-a-copy\n",
      "  reported_procedures[\"Hospital\"] = hospital_series\n",
      "/var/folders/yv/3zzm4_cs25v74y31mq6j8_mh0000gr/T/ipykernel_60607/3297213217.py:19: SettingWithCopyWarning: \n",
      "A value is trying to be set on a copy of a slice from a DataFrame.\n",
      "Try using .loc[row_indexer,col_indexer] = value instead\n",
      "\n",
      "See the caveats in the documentation: https://pandas.pydata.org/pandas-docs/stable/user_guide/indexing.html#returning-a-view-versus-a-copy\n",
      "  reported_procedures[\"CPT Code\"] = reported_procedures[\"CPT Code\"].apply(np.int64)\n",
      "/var/folders/yv/3zzm4_cs25v74y31mq6j8_mh0000gr/T/ipykernel_60607/3297213217.py:21: SettingWithCopyWarning: \n",
      "A value is trying to be set on a copy of a slice from a DataFrame.\n",
      "Try using .loc[row_indexer,col_indexer] = value instead\n",
      "\n",
      "See the caveats in the documentation: https://pandas.pydata.org/pandas-docs/stable/user_guide/indexing.html#returning-a-view-versus-a-copy\n",
      "  reported_procedures[\"Average Charge\"] = (reported_procedures[\"Average Charge\"] * 100).astype(np.int64)\n"
     ]
    },
    {
     "name": "stdout",
     "output_type": "stream",
     "text": [
      "Writing reported procedures to reported_procedures/AHMC Anaheim Regional Medical Center_reported_procedures.csv\n",
      "Parsing  chargemaster-cdm-2021/AHMC Seton Medical Center/106410817_CDM_All_2021.xlsx\n"
     ]
    },
    {
     "name": "stderr",
     "output_type": "stream",
     "text": [
      "/var/folders/yv/3zzm4_cs25v74y31mq6j8_mh0000gr/T/ipykernel_60607/3297213217.py:14: SettingWithCopyWarning: \n",
      "A value is trying to be set on a copy of a slice from a DataFrame.\n",
      "Try using .loc[row_indexer,col_indexer] = value instead\n",
      "\n",
      "See the caveats in the documentation: https://pandas.pydata.org/pandas-docs/stable/user_guide/indexing.html#returning-a-view-versus-a-copy\n",
      "  reported_procedures[\"Hospital\"] = hospital_series\n",
      "/var/folders/yv/3zzm4_cs25v74y31mq6j8_mh0000gr/T/ipykernel_60607/3297213217.py:19: SettingWithCopyWarning: \n",
      "A value is trying to be set on a copy of a slice from a DataFrame.\n",
      "Try using .loc[row_indexer,col_indexer] = value instead\n",
      "\n",
      "See the caveats in the documentation: https://pandas.pydata.org/pandas-docs/stable/user_guide/indexing.html#returning-a-view-versus-a-copy\n",
      "  reported_procedures[\"CPT Code\"] = reported_procedures[\"CPT Code\"].apply(np.int64)\n",
      "/var/folders/yv/3zzm4_cs25v74y31mq6j8_mh0000gr/T/ipykernel_60607/3297213217.py:21: SettingWithCopyWarning: \n",
      "A value is trying to be set on a copy of a slice from a DataFrame.\n",
      "Try using .loc[row_indexer,col_indexer] = value instead\n",
      "\n",
      "See the caveats in the documentation: https://pandas.pydata.org/pandas-docs/stable/user_guide/indexing.html#returning-a-view-versus-a-copy\n",
      "  reported_procedures[\"Average Charge\"] = (reported_procedures[\"Average Charge\"] * 100).astype(np.int64)\n"
     ]
    },
    {
     "name": "stdout",
     "output_type": "stream",
     "text": [
      "Writing reported procedures to reported_procedures/AHMC Seton Medical Center_reported_procedures.csv\n",
      "Parsing  chargemaster-cdm-2021/Alameda Hospital/106010735_CDM_All_2021.xlsx\n"
     ]
    },
    {
     "name": "stderr",
     "output_type": "stream",
     "text": [
      "/var/folders/yv/3zzm4_cs25v74y31mq6j8_mh0000gr/T/ipykernel_60607/3297213217.py:14: SettingWithCopyWarning: \n",
      "A value is trying to be set on a copy of a slice from a DataFrame.\n",
      "Try using .loc[row_indexer,col_indexer] = value instead\n",
      "\n",
      "See the caveats in the documentation: https://pandas.pydata.org/pandas-docs/stable/user_guide/indexing.html#returning-a-view-versus-a-copy\n",
      "  reported_procedures[\"Hospital\"] = hospital_series\n",
      "/var/folders/yv/3zzm4_cs25v74y31mq6j8_mh0000gr/T/ipykernel_60607/3297213217.py:19: SettingWithCopyWarning: \n",
      "A value is trying to be set on a copy of a slice from a DataFrame.\n",
      "Try using .loc[row_indexer,col_indexer] = value instead\n",
      "\n",
      "See the caveats in the documentation: https://pandas.pydata.org/pandas-docs/stable/user_guide/indexing.html#returning-a-view-versus-a-copy\n",
      "  reported_procedures[\"CPT Code\"] = reported_procedures[\"CPT Code\"].apply(np.int64)\n",
      "/var/folders/yv/3zzm4_cs25v74y31mq6j8_mh0000gr/T/ipykernel_60607/3297213217.py:21: SettingWithCopyWarning: \n",
      "A value is trying to be set on a copy of a slice from a DataFrame.\n",
      "Try using .loc[row_indexer,col_indexer] = value instead\n",
      "\n",
      "See the caveats in the documentation: https://pandas.pydata.org/pandas-docs/stable/user_guide/indexing.html#returning-a-view-versus-a-copy\n",
      "  reported_procedures[\"Average Charge\"] = (reported_procedures[\"Average Charge\"] * 100).astype(np.int64)\n"
     ]
    },
    {
     "name": "stdout",
     "output_type": "stream",
     "text": [
      "Writing reported procedures to reported_procedures/Alameda Hospital_reported_procedures.csv\n",
      "Parsing  chargemaster-cdm-2021/Alta Bates Summit Medical Center/106010937_CDM_All_2021.xlsx\n"
     ]
    },
    {
     "name": "stderr",
     "output_type": "stream",
     "text": [
      "/var/folders/yv/3zzm4_cs25v74y31mq6j8_mh0000gr/T/ipykernel_60607/3297213217.py:14: SettingWithCopyWarning: \n",
      "A value is trying to be set on a copy of a slice from a DataFrame.\n",
      "Try using .loc[row_indexer,col_indexer] = value instead\n",
      "\n",
      "See the caveats in the documentation: https://pandas.pydata.org/pandas-docs/stable/user_guide/indexing.html#returning-a-view-versus-a-copy\n",
      "  reported_procedures[\"Hospital\"] = hospital_series\n",
      "/var/folders/yv/3zzm4_cs25v74y31mq6j8_mh0000gr/T/ipykernel_60607/3297213217.py:19: SettingWithCopyWarning: \n",
      "A value is trying to be set on a copy of a slice from a DataFrame.\n",
      "Try using .loc[row_indexer,col_indexer] = value instead\n",
      "\n",
      "See the caveats in the documentation: https://pandas.pydata.org/pandas-docs/stable/user_guide/indexing.html#returning-a-view-versus-a-copy\n",
      "  reported_procedures[\"CPT Code\"] = reported_procedures[\"CPT Code\"].apply(np.int64)\n",
      "/var/folders/yv/3zzm4_cs25v74y31mq6j8_mh0000gr/T/ipykernel_60607/3297213217.py:21: SettingWithCopyWarning: \n",
      "A value is trying to be set on a copy of a slice from a DataFrame.\n",
      "Try using .loc[row_indexer,col_indexer] = value instead\n",
      "\n",
      "See the caveats in the documentation: https://pandas.pydata.org/pandas-docs/stable/user_guide/indexing.html#returning-a-view-versus-a-copy\n",
      "  reported_procedures[\"Average Charge\"] = (reported_procedures[\"Average Charge\"] * 100).astype(np.int64)\n"
     ]
    },
    {
     "name": "stdout",
     "output_type": "stream",
     "text": [
      "Writing reported procedures to reported_procedures/Alta Bates Summit Medical Center_reported_procedures.csv\n",
      "Parsing  chargemaster-cdm-2021/Alta Bates-Summit Medical Center - Alta Bates Campus/106010739_CDM_All_2021.xlsx\n"
     ]
    },
    {
     "name": "stderr",
     "output_type": "stream",
     "text": [
      "/var/folders/yv/3zzm4_cs25v74y31mq6j8_mh0000gr/T/ipykernel_60607/3297213217.py:14: SettingWithCopyWarning: \n",
      "A value is trying to be set on a copy of a slice from a DataFrame.\n",
      "Try using .loc[row_indexer,col_indexer] = value instead\n",
      "\n",
      "See the caveats in the documentation: https://pandas.pydata.org/pandas-docs/stable/user_guide/indexing.html#returning-a-view-versus-a-copy\n",
      "  reported_procedures[\"Hospital\"] = hospital_series\n",
      "/var/folders/yv/3zzm4_cs25v74y31mq6j8_mh0000gr/T/ipykernel_60607/3297213217.py:19: SettingWithCopyWarning: \n",
      "A value is trying to be set on a copy of a slice from a DataFrame.\n",
      "Try using .loc[row_indexer,col_indexer] = value instead\n",
      "\n",
      "See the caveats in the documentation: https://pandas.pydata.org/pandas-docs/stable/user_guide/indexing.html#returning-a-view-versus-a-copy\n",
      "  reported_procedures[\"CPT Code\"] = reported_procedures[\"CPT Code\"].apply(np.int64)\n",
      "/var/folders/yv/3zzm4_cs25v74y31mq6j8_mh0000gr/T/ipykernel_60607/3297213217.py:21: SettingWithCopyWarning: \n",
      "A value is trying to be set on a copy of a slice from a DataFrame.\n",
      "Try using .loc[row_indexer,col_indexer] = value instead\n",
      "\n",
      "See the caveats in the documentation: https://pandas.pydata.org/pandas-docs/stable/user_guide/indexing.html#returning-a-view-versus-a-copy\n",
      "  reported_procedures[\"Average Charge\"] = (reported_procedures[\"Average Charge\"] * 100).astype(np.int64)\n"
     ]
    },
    {
     "name": "stdout",
     "output_type": "stream",
     "text": [
      "Writing reported procedures to reported_procedures/Alta Bates-Summit Medical Center - Alta Bates Campus_reported_procedures.csv\n",
      "Parsing  chargemaster-cdm-2021/Alvarado Hospital/106370652_CDM_All_2021.xlsx\n"
     ]
    },
    {
     "name": "stderr",
     "output_type": "stream",
     "text": [
      "/var/folders/yv/3zzm4_cs25v74y31mq6j8_mh0000gr/T/ipykernel_60607/3297213217.py:14: SettingWithCopyWarning: \n",
      "A value is trying to be set on a copy of a slice from a DataFrame.\n",
      "Try using .loc[row_indexer,col_indexer] = value instead\n",
      "\n",
      "See the caveats in the documentation: https://pandas.pydata.org/pandas-docs/stable/user_guide/indexing.html#returning-a-view-versus-a-copy\n",
      "  reported_procedures[\"Hospital\"] = hospital_series\n",
      "/var/folders/yv/3zzm4_cs25v74y31mq6j8_mh0000gr/T/ipykernel_60607/3297213217.py:19: SettingWithCopyWarning: \n",
      "A value is trying to be set on a copy of a slice from a DataFrame.\n",
      "Try using .loc[row_indexer,col_indexer] = value instead\n",
      "\n",
      "See the caveats in the documentation: https://pandas.pydata.org/pandas-docs/stable/user_guide/indexing.html#returning-a-view-versus-a-copy\n",
      "  reported_procedures[\"CPT Code\"] = reported_procedures[\"CPT Code\"].apply(np.int64)\n",
      "/var/folders/yv/3zzm4_cs25v74y31mq6j8_mh0000gr/T/ipykernel_60607/3297213217.py:21: SettingWithCopyWarning: \n",
      "A value is trying to be set on a copy of a slice from a DataFrame.\n",
      "Try using .loc[row_indexer,col_indexer] = value instead\n",
      "\n",
      "See the caveats in the documentation: https://pandas.pydata.org/pandas-docs/stable/user_guide/indexing.html#returning-a-view-versus-a-copy\n",
      "  reported_procedures[\"Average Charge\"] = (reported_procedures[\"Average Charge\"] * 100).astype(np.int64)\n"
     ]
    },
    {
     "name": "stdout",
     "output_type": "stream",
     "text": [
      "Writing reported procedures to reported_procedures/Alvarado Hospital_reported_procedures.csv\n",
      "Parsing  chargemaster-cdm-2021/Atascadero State Hospital/106400683_CDM_All_2021.xlsx\n",
      "Writing reported procedures to reported_procedures/Atascadero State Hospital_reported_procedures.csv\n",
      "Parsing  chargemaster-cdm-2021/Aurora Behavioral Healthcare - Santa Rosa/106494048_CDM_All_2021.xls\n",
      "Hospital Aurora Behavioral Healthcare - Santa Rosa seems to contain no reported procedures\n"
     ]
    },
    {
     "name": "stderr",
     "output_type": "stream",
     "text": [
      "/var/folders/yv/3zzm4_cs25v74y31mq6j8_mh0000gr/T/ipykernel_60607/3297213217.py:14: SettingWithCopyWarning: \n",
      "A value is trying to be set on a copy of a slice from a DataFrame.\n",
      "Try using .loc[row_indexer,col_indexer] = value instead\n",
      "\n",
      "See the caveats in the documentation: https://pandas.pydata.org/pandas-docs/stable/user_guide/indexing.html#returning-a-view-versus-a-copy\n",
      "  reported_procedures[\"Hospital\"] = hospital_series\n",
      "/var/folders/yv/3zzm4_cs25v74y31mq6j8_mh0000gr/T/ipykernel_60607/3297213217.py:19: SettingWithCopyWarning: \n",
      "A value is trying to be set on a copy of a slice from a DataFrame.\n",
      "Try using .loc[row_indexer,col_indexer] = value instead\n",
      "\n",
      "See the caveats in the documentation: https://pandas.pydata.org/pandas-docs/stable/user_guide/indexing.html#returning-a-view-versus-a-copy\n",
      "  reported_procedures[\"CPT Code\"] = reported_procedures[\"CPT Code\"].apply(np.int64)\n",
      "/var/folders/yv/3zzm4_cs25v74y31mq6j8_mh0000gr/T/ipykernel_60607/3297213217.py:21: SettingWithCopyWarning: \n",
      "A value is trying to be set on a copy of a slice from a DataFrame.\n",
      "Try using .loc[row_indexer,col_indexer] = value instead\n",
      "\n",
      "See the caveats in the documentation: https://pandas.pydata.org/pandas-docs/stable/user_guide/indexing.html#returning-a-view-versus-a-copy\n",
      "  reported_procedures[\"Average Charge\"] = (reported_procedures[\"Average Charge\"] * 100).astype(np.int64)\n"
     ]
    },
    {
     "data": {
      "text/html": [
       "<div>\n",
       "<style scoped>\n",
       "    .dataframe tbody tr th:only-of-type {\n",
       "        vertical-align: middle;\n",
       "    }\n",
       "\n",
       "    .dataframe tbody tr th {\n",
       "        vertical-align: top;\n",
       "    }\n",
       "\n",
       "    .dataframe thead th {\n",
       "        text-align: right;\n",
       "    }\n",
       "</style>\n",
       "<table border=\"1\" class=\"dataframe\">\n",
       "  <thead>\n",
       "    <tr style=\"text-align: right;\">\n",
       "      <th></th>\n",
       "      <th>CPT Code</th>\n",
       "      <th>Procedure</th>\n",
       "      <th>Average Charge</th>\n",
       "    </tr>\n",
       "    <tr>\n",
       "      <th>Hospital</th>\n",
       "      <th></th>\n",
       "      <th></th>\n",
       "      <th></th>\n",
       "    </tr>\n",
       "  </thead>\n",
       "  <tbody>\n",
       "  </tbody>\n",
       "</table>\n",
       "</div>"
      ],
      "text/plain": [
       "Empty DataFrame\n",
       "Columns: [CPT Code, Procedure, Average Charge]\n",
       "Index: []"
      ]
     },
     "metadata": {},
     "output_type": "display_data"
    },
    {
     "name": "stdout",
     "output_type": "stream",
     "text": [
      "Parsing  chargemaster-cdm-2021/Aurora Charter Oak/106190163_CDM_All_2021.xlsx\n",
      "Hospital Aurora Charter Oak seems to contain no reported procedures\n"
     ]
    },
    {
     "data": {
      "text/html": [
       "<div>\n",
       "<style scoped>\n",
       "    .dataframe tbody tr th:only-of-type {\n",
       "        vertical-align: middle;\n",
       "    }\n",
       "\n",
       "    .dataframe tbody tr th {\n",
       "        vertical-align: top;\n",
       "    }\n",
       "\n",
       "    .dataframe thead th {\n",
       "        text-align: right;\n",
       "    }\n",
       "</style>\n",
       "<table border=\"1\" class=\"dataframe\">\n",
       "  <thead>\n",
       "    <tr style=\"text-align: right;\">\n",
       "      <th></th>\n",
       "      <th>CPT Code</th>\n",
       "      <th>Procedure</th>\n",
       "      <th>Average Charge</th>\n",
       "    </tr>\n",
       "    <tr>\n",
       "      <th>Hospital</th>\n",
       "      <th></th>\n",
       "      <th></th>\n",
       "      <th></th>\n",
       "    </tr>\n",
       "  </thead>\n",
       "  <tbody>\n",
       "  </tbody>\n",
       "</table>\n",
       "</div>"
      ],
      "text/plain": [
       "Empty DataFrame\n",
       "Columns: [CPT Code, Procedure, Average Charge]\n",
       "Index: []"
      ]
     },
     "metadata": {},
     "output_type": "display_data"
    },
    {
     "name": "stdout",
     "output_type": "stream",
     "text": [
      "Parsing  chargemaster-cdm-2021/Aurora Las Encinas Hospital/106190462_CDM_All_2021.xls\n",
      "Hospital Aurora Las Encinas Hospital seems to contain no reported procedures\n"
     ]
    },
    {
     "data": {
      "text/html": [
       "<div>\n",
       "<style scoped>\n",
       "    .dataframe tbody tr th:only-of-type {\n",
       "        vertical-align: middle;\n",
       "    }\n",
       "\n",
       "    .dataframe tbody tr th {\n",
       "        vertical-align: top;\n",
       "    }\n",
       "\n",
       "    .dataframe thead th {\n",
       "        text-align: right;\n",
       "    }\n",
       "</style>\n",
       "<table border=\"1\" class=\"dataframe\">\n",
       "  <thead>\n",
       "    <tr style=\"text-align: right;\">\n",
       "      <th></th>\n",
       "      <th>CPT Code</th>\n",
       "      <th>Procedure</th>\n",
       "      <th>Average Charge</th>\n",
       "    </tr>\n",
       "    <tr>\n",
       "      <th>Hospital</th>\n",
       "      <th></th>\n",
       "      <th></th>\n",
       "      <th></th>\n",
       "    </tr>\n",
       "  </thead>\n",
       "  <tbody>\n",
       "  </tbody>\n",
       "</table>\n",
       "</div>"
      ],
      "text/plain": [
       "Empty DataFrame\n",
       "Columns: [CPT Code, Procedure, Average Charge]\n",
       "Index: []"
      ]
     },
     "metadata": {},
     "output_type": "display_data"
    },
    {
     "name": "stdout",
     "output_type": "stream",
     "text": [
      "Parsing  chargemaster-cdm-2021/Aurora San Diego Hospital/106374024_CDM_All_2021.xls\n",
      "Hospital Aurora San Diego Hospital seems to contain no reported procedures\n"
     ]
    },
    {
     "data": {
      "text/html": [
       "<div>\n",
       "<style scoped>\n",
       "    .dataframe tbody tr th:only-of-type {\n",
       "        vertical-align: middle;\n",
       "    }\n",
       "\n",
       "    .dataframe tbody tr th {\n",
       "        vertical-align: top;\n",
       "    }\n",
       "\n",
       "    .dataframe thead th {\n",
       "        text-align: right;\n",
       "    }\n",
       "</style>\n",
       "<table border=\"1\" class=\"dataframe\">\n",
       "  <thead>\n",
       "    <tr style=\"text-align: right;\">\n",
       "      <th></th>\n",
       "      <th>CPT Code</th>\n",
       "      <th>Procedure</th>\n",
       "      <th>Average Charge</th>\n",
       "    </tr>\n",
       "    <tr>\n",
       "      <th>Hospital</th>\n",
       "      <th></th>\n",
       "      <th></th>\n",
       "      <th></th>\n",
       "    </tr>\n",
       "  </thead>\n",
       "  <tbody>\n",
       "  </tbody>\n",
       "</table>\n",
       "</div>"
      ],
      "text/plain": [
       "Empty DataFrame\n",
       "Columns: [CPT Code, Procedure, Average Charge]\n",
       "Index: []"
      ]
     },
     "metadata": {},
     "output_type": "display_data"
    },
    {
     "name": "stdout",
     "output_type": "stream",
     "text": [
      "Parsing  chargemaster-cdm-2021/Aurora Vista del Mar Hospital/106560203_CDM_All_2021.xls\n",
      "Hospital Aurora Vista del Mar Hospital seems to contain no reported procedures\n"
     ]
    },
    {
     "data": {
      "text/html": [
       "<div>\n",
       "<style scoped>\n",
       "    .dataframe tbody tr th:only-of-type {\n",
       "        vertical-align: middle;\n",
       "    }\n",
       "\n",
       "    .dataframe tbody tr th {\n",
       "        vertical-align: top;\n",
       "    }\n",
       "\n",
       "    .dataframe thead th {\n",
       "        text-align: right;\n",
       "    }\n",
       "</style>\n",
       "<table border=\"1\" class=\"dataframe\">\n",
       "  <thead>\n",
       "    <tr style=\"text-align: right;\">\n",
       "      <th></th>\n",
       "      <th>CPT Code</th>\n",
       "      <th>Procedure</th>\n",
       "      <th>Average Charge</th>\n",
       "    </tr>\n",
       "    <tr>\n",
       "      <th>Hospital</th>\n",
       "      <th></th>\n",
       "      <th></th>\n",
       "      <th></th>\n",
       "    </tr>\n",
       "  </thead>\n",
       "  <tbody>\n",
       "  </tbody>\n",
       "</table>\n",
       "</div>"
      ],
      "text/plain": [
       "Empty DataFrame\n",
       "Columns: [CPT Code, Procedure, Average Charge]\n",
       "Index: []"
      ]
     },
     "metadata": {},
     "output_type": "display_data"
    },
    {
     "name": "stdout",
     "output_type": "stream",
     "text": [
      "Parsing  chargemaster-cdm-2021/BHC Alhambra Hospital/106190020_CDM_All_2021.xlsx\n",
      "Failed to read data from hospital BHC Alhambra Hospital\n",
      "Parsing  chargemaster-cdm-2021/BHC Fremont Hospital/106014034_CDM_All_2021.xlsx\n",
      "Failed to read data from hospital BHC Fremont Hospital\n",
      "Parsing  chargemaster-cdm-2021/Bakersfield Behavioral Healthcare Hospital/106154044_CDM_All_2021.xlsx\n",
      "Hospital Bakersfield Behavioral Healthcare Hospital seems to contain no reported procedures\n"
     ]
    },
    {
     "data": {
      "text/html": [
       "<div>\n",
       "<style scoped>\n",
       "    .dataframe tbody tr th:only-of-type {\n",
       "        vertical-align: middle;\n",
       "    }\n",
       "\n",
       "    .dataframe tbody tr th {\n",
       "        vertical-align: top;\n",
       "    }\n",
       "\n",
       "    .dataframe thead th {\n",
       "        text-align: right;\n",
       "    }\n",
       "</style>\n",
       "<table border=\"1\" class=\"dataframe\">\n",
       "  <thead>\n",
       "    <tr style=\"text-align: right;\">\n",
       "      <th></th>\n",
       "      <th>CPT Code</th>\n",
       "      <th>Procedure</th>\n",
       "      <th>Average Charge</th>\n",
       "    </tr>\n",
       "    <tr>\n",
       "      <th>Hospital</th>\n",
       "      <th></th>\n",
       "      <th></th>\n",
       "      <th></th>\n",
       "    </tr>\n",
       "  </thead>\n",
       "  <tbody>\n",
       "  </tbody>\n",
       "</table>\n",
       "</div>"
      ],
      "text/plain": [
       "Empty DataFrame\n",
       "Columns: [CPT Code, Procedure, Average Charge]\n",
       "Index: []"
      ]
     },
     "metadata": {},
     "output_type": "display_data"
    },
    {
     "name": "stdout",
     "output_type": "stream",
     "text": [
      "Parsing  chargemaster-cdm-2021/Bakersfield Memorial Hospital/106150722_CDM_All_2021.xlsx\n"
     ]
    },
    {
     "name": "stderr",
     "output_type": "stream",
     "text": [
      "/var/folders/yv/3zzm4_cs25v74y31mq6j8_mh0000gr/T/ipykernel_60607/3297213217.py:14: SettingWithCopyWarning: \n",
      "A value is trying to be set on a copy of a slice from a DataFrame.\n",
      "Try using .loc[row_indexer,col_indexer] = value instead\n",
      "\n",
      "See the caveats in the documentation: https://pandas.pydata.org/pandas-docs/stable/user_guide/indexing.html#returning-a-view-versus-a-copy\n",
      "  reported_procedures[\"Hospital\"] = hospital_series\n",
      "/var/folders/yv/3zzm4_cs25v74y31mq6j8_mh0000gr/T/ipykernel_60607/3297213217.py:19: SettingWithCopyWarning: \n",
      "A value is trying to be set on a copy of a slice from a DataFrame.\n",
      "Try using .loc[row_indexer,col_indexer] = value instead\n",
      "\n",
      "See the caveats in the documentation: https://pandas.pydata.org/pandas-docs/stable/user_guide/indexing.html#returning-a-view-versus-a-copy\n",
      "  reported_procedures[\"CPT Code\"] = reported_procedures[\"CPT Code\"].apply(np.int64)\n",
      "/var/folders/yv/3zzm4_cs25v74y31mq6j8_mh0000gr/T/ipykernel_60607/3297213217.py:21: SettingWithCopyWarning: \n",
      "A value is trying to be set on a copy of a slice from a DataFrame.\n",
      "Try using .loc[row_indexer,col_indexer] = value instead\n",
      "\n",
      "See the caveats in the documentation: https://pandas.pydata.org/pandas-docs/stable/user_guide/indexing.html#returning-a-view-versus-a-copy\n",
      "  reported_procedures[\"Average Charge\"] = (reported_procedures[\"Average Charge\"] * 100).astype(np.int64)\n"
     ]
    },
    {
     "name": "stdout",
     "output_type": "stream",
     "text": [
      "Writing reported procedures to reported_procedures/Bakersfield Memorial Hospital_reported_procedures.csv\n",
      "Parsing  chargemaster-cdm-2021/Ballard Rehabilitation Hospital/106364121_CDM_All_2021.xls\n"
     ]
    },
    {
     "name": "stderr",
     "output_type": "stream",
     "text": [
      "/var/folders/yv/3zzm4_cs25v74y31mq6j8_mh0000gr/T/ipykernel_60607/3297213217.py:14: SettingWithCopyWarning: \n",
      "A value is trying to be set on a copy of a slice from a DataFrame.\n",
      "Try using .loc[row_indexer,col_indexer] = value instead\n",
      "\n",
      "See the caveats in the documentation: https://pandas.pydata.org/pandas-docs/stable/user_guide/indexing.html#returning-a-view-versus-a-copy\n",
      "  reported_procedures[\"Hospital\"] = hospital_series\n",
      "/var/folders/yv/3zzm4_cs25v74y31mq6j8_mh0000gr/T/ipykernel_60607/3297213217.py:19: SettingWithCopyWarning: \n",
      "A value is trying to be set on a copy of a slice from a DataFrame.\n",
      "Try using .loc[row_indexer,col_indexer] = value instead\n",
      "\n",
      "See the caveats in the documentation: https://pandas.pydata.org/pandas-docs/stable/user_guide/indexing.html#returning-a-view-versus-a-copy\n",
      "  reported_procedures[\"CPT Code\"] = reported_procedures[\"CPT Code\"].apply(np.int64)\n",
      "/var/folders/yv/3zzm4_cs25v74y31mq6j8_mh0000gr/T/ipykernel_60607/3297213217.py:21: SettingWithCopyWarning: \n",
      "A value is trying to be set on a copy of a slice from a DataFrame.\n",
      "Try using .loc[row_indexer,col_indexer] = value instead\n",
      "\n",
      "See the caveats in the documentation: https://pandas.pydata.org/pandas-docs/stable/user_guide/indexing.html#returning-a-view-versus-a-copy\n",
      "  reported_procedures[\"Average Charge\"] = (reported_procedures[\"Average Charge\"] * 100).astype(np.int64)\n"
     ]
    },
    {
     "name": "stdout",
     "output_type": "stream",
     "text": [
      "Writing reported procedures to reported_procedures/Ballard Rehabilitation Hospital_reported_procedures.csv\n",
      "Parsing  chargemaster-cdm-2021/Banner Lassen Medical Center/106184008_CDM_All_2021.xlsx\n"
     ]
    },
    {
     "name": "stderr",
     "output_type": "stream",
     "text": [
      "/var/folders/yv/3zzm4_cs25v74y31mq6j8_mh0000gr/T/ipykernel_60607/3297213217.py:14: SettingWithCopyWarning: \n",
      "A value is trying to be set on a copy of a slice from a DataFrame.\n",
      "Try using .loc[row_indexer,col_indexer] = value instead\n",
      "\n",
      "See the caveats in the documentation: https://pandas.pydata.org/pandas-docs/stable/user_guide/indexing.html#returning-a-view-versus-a-copy\n",
      "  reported_procedures[\"Hospital\"] = hospital_series\n",
      "/var/folders/yv/3zzm4_cs25v74y31mq6j8_mh0000gr/T/ipykernel_60607/3297213217.py:19: SettingWithCopyWarning: \n",
      "A value is trying to be set on a copy of a slice from a DataFrame.\n",
      "Try using .loc[row_indexer,col_indexer] = value instead\n",
      "\n",
      "See the caveats in the documentation: https://pandas.pydata.org/pandas-docs/stable/user_guide/indexing.html#returning-a-view-versus-a-copy\n",
      "  reported_procedures[\"CPT Code\"] = reported_procedures[\"CPT Code\"].apply(np.int64)\n",
      "/var/folders/yv/3zzm4_cs25v74y31mq6j8_mh0000gr/T/ipykernel_60607/3297213217.py:21: SettingWithCopyWarning: \n",
      "A value is trying to be set on a copy of a slice from a DataFrame.\n",
      "Try using .loc[row_indexer,col_indexer] = value instead\n",
      "\n",
      "See the caveats in the documentation: https://pandas.pydata.org/pandas-docs/stable/user_guide/indexing.html#returning-a-view-versus-a-copy\n",
      "  reported_procedures[\"Average Charge\"] = (reported_procedures[\"Average Charge\"] * 100).astype(np.int64)\n",
      "/var/folders/yv/3zzm4_cs25v74y31mq6j8_mh0000gr/T/ipykernel_60607/3297213217.py:14: SettingWithCopyWarning: \n",
      "A value is trying to be set on a copy of a slice from a DataFrame.\n",
      "Try using .loc[row_indexer,col_indexer] = value instead\n",
      "\n",
      "See the caveats in the documentation: https://pandas.pydata.org/pandas-docs/stable/user_guide/indexing.html#returning-a-view-versus-a-copy\n",
      "  reported_procedures[\"Hospital\"] = hospital_series\n",
      "/var/folders/yv/3zzm4_cs25v74y31mq6j8_mh0000gr/T/ipykernel_60607/3297213217.py:19: SettingWithCopyWarning: \n",
      "A value is trying to be set on a copy of a slice from a DataFrame.\n",
      "Try using .loc[row_indexer,col_indexer] = value instead\n",
      "\n",
      "See the caveats in the documentation: https://pandas.pydata.org/pandas-docs/stable/user_guide/indexing.html#returning-a-view-versus-a-copy\n",
      "  reported_procedures[\"CPT Code\"] = reported_procedures[\"CPT Code\"].apply(np.int64)\n",
      "/var/folders/yv/3zzm4_cs25v74y31mq6j8_mh0000gr/T/ipykernel_60607/3297213217.py:21: SettingWithCopyWarning: \n",
      "A value is trying to be set on a copy of a slice from a DataFrame.\n",
      "Try using .loc[row_indexer,col_indexer] = value instead\n",
      "\n",
      "See the caveats in the documentation: https://pandas.pydata.org/pandas-docs/stable/user_guide/indexing.html#returning-a-view-versus-a-copy\n",
      "  reported_procedures[\"Average Charge\"] = (reported_procedures[\"Average Charge\"] * 100).astype(np.int64)\n"
     ]
    },
    {
     "name": "stdout",
     "output_type": "stream",
     "text": [
      "Writing reported procedures to reported_procedures/Banner Lassen Medical Center_reported_procedures.csv\n",
      "Parsing  chargemaster-cdm-2021/Bear Valley Community Hospital/106361110_Common25_2021.xlsx\n",
      "Writing reported procedures to reported_procedures/Bear Valley Community Hospital_reported_procedures.csv\n",
      "Parsing  chargemaster-cdm-2021/Beverly Hospital/106190081_CDM_All_2021.xlsx\n"
     ]
    },
    {
     "name": "stderr",
     "output_type": "stream",
     "text": [
      "/var/folders/yv/3zzm4_cs25v74y31mq6j8_mh0000gr/T/ipykernel_60607/3297213217.py:14: SettingWithCopyWarning: \n",
      "A value is trying to be set on a copy of a slice from a DataFrame.\n",
      "Try using .loc[row_indexer,col_indexer] = value instead\n",
      "\n",
      "See the caveats in the documentation: https://pandas.pydata.org/pandas-docs/stable/user_guide/indexing.html#returning-a-view-versus-a-copy\n",
      "  reported_procedures[\"Hospital\"] = hospital_series\n",
      "/var/folders/yv/3zzm4_cs25v74y31mq6j8_mh0000gr/T/ipykernel_60607/3297213217.py:19: SettingWithCopyWarning: \n",
      "A value is trying to be set on a copy of a slice from a DataFrame.\n",
      "Try using .loc[row_indexer,col_indexer] = value instead\n",
      "\n",
      "See the caveats in the documentation: https://pandas.pydata.org/pandas-docs/stable/user_guide/indexing.html#returning-a-view-versus-a-copy\n",
      "  reported_procedures[\"CPT Code\"] = reported_procedures[\"CPT Code\"].apply(np.int64)\n",
      "/var/folders/yv/3zzm4_cs25v74y31mq6j8_mh0000gr/T/ipykernel_60607/3297213217.py:21: SettingWithCopyWarning: \n",
      "A value is trying to be set on a copy of a slice from a DataFrame.\n",
      "Try using .loc[row_indexer,col_indexer] = value instead\n",
      "\n",
      "See the caveats in the documentation: https://pandas.pydata.org/pandas-docs/stable/user_guide/indexing.html#returning-a-view-versus-a-copy\n",
      "  reported_procedures[\"Average Charge\"] = (reported_procedures[\"Average Charge\"] * 100).astype(np.int64)\n"
     ]
    },
    {
     "name": "stdout",
     "output_type": "stream",
     "text": [
      "Writing reported procedures to reported_procedures/Beverly Hospital_reported_procedures.csv\n",
      "Parsing  chargemaster-cdm-2021/California Hospital Medical Center/106190125_CDM_All_2021.xlsx\n"
     ]
    },
    {
     "name": "stderr",
     "output_type": "stream",
     "text": [
      "/var/folders/yv/3zzm4_cs25v74y31mq6j8_mh0000gr/T/ipykernel_60607/3297213217.py:14: SettingWithCopyWarning: \n",
      "A value is trying to be set on a copy of a slice from a DataFrame.\n",
      "Try using .loc[row_indexer,col_indexer] = value instead\n",
      "\n",
      "See the caveats in the documentation: https://pandas.pydata.org/pandas-docs/stable/user_guide/indexing.html#returning-a-view-versus-a-copy\n",
      "  reported_procedures[\"Hospital\"] = hospital_series\n",
      "/var/folders/yv/3zzm4_cs25v74y31mq6j8_mh0000gr/T/ipykernel_60607/3297213217.py:19: SettingWithCopyWarning: \n",
      "A value is trying to be set on a copy of a slice from a DataFrame.\n",
      "Try using .loc[row_indexer,col_indexer] = value instead\n",
      "\n",
      "See the caveats in the documentation: https://pandas.pydata.org/pandas-docs/stable/user_guide/indexing.html#returning-a-view-versus-a-copy\n",
      "  reported_procedures[\"CPT Code\"] = reported_procedures[\"CPT Code\"].apply(np.int64)\n",
      "/var/folders/yv/3zzm4_cs25v74y31mq6j8_mh0000gr/T/ipykernel_60607/3297213217.py:21: SettingWithCopyWarning: \n",
      "A value is trying to be set on a copy of a slice from a DataFrame.\n",
      "Try using .loc[row_indexer,col_indexer] = value instead\n",
      "\n",
      "See the caveats in the documentation: https://pandas.pydata.org/pandas-docs/stable/user_guide/indexing.html#returning-a-view-versus-a-copy\n",
      "  reported_procedures[\"Average Charge\"] = (reported_procedures[\"Average Charge\"] * 100).astype(np.int64)\n"
     ]
    },
    {
     "name": "stdout",
     "output_type": "stream",
     "text": [
      "Writing reported procedures to reported_procedures/California Hospital Medical Center_reported_procedures.csv\n",
      "Parsing  chargemaster-cdm-2021/California Pacific Medical Center - Mission Bernal Campus/106384202_CDM_All_2021.xlsx\n"
     ]
    },
    {
     "name": "stderr",
     "output_type": "stream",
     "text": [
      "/var/folders/yv/3zzm4_cs25v74y31mq6j8_mh0000gr/T/ipykernel_60607/3297213217.py:14: SettingWithCopyWarning: \n",
      "A value is trying to be set on a copy of a slice from a DataFrame.\n",
      "Try using .loc[row_indexer,col_indexer] = value instead\n",
      "\n",
      "See the caveats in the documentation: https://pandas.pydata.org/pandas-docs/stable/user_guide/indexing.html#returning-a-view-versus-a-copy\n",
      "  reported_procedures[\"Hospital\"] = hospital_series\n",
      "/var/folders/yv/3zzm4_cs25v74y31mq6j8_mh0000gr/T/ipykernel_60607/3297213217.py:19: SettingWithCopyWarning: \n",
      "A value is trying to be set on a copy of a slice from a DataFrame.\n",
      "Try using .loc[row_indexer,col_indexer] = value instead\n",
      "\n",
      "See the caveats in the documentation: https://pandas.pydata.org/pandas-docs/stable/user_guide/indexing.html#returning-a-view-versus-a-copy\n",
      "  reported_procedures[\"CPT Code\"] = reported_procedures[\"CPT Code\"].apply(np.int64)\n",
      "/var/folders/yv/3zzm4_cs25v74y31mq6j8_mh0000gr/T/ipykernel_60607/3297213217.py:21: SettingWithCopyWarning: \n",
      "A value is trying to be set on a copy of a slice from a DataFrame.\n",
      "Try using .loc[row_indexer,col_indexer] = value instead\n",
      "\n",
      "See the caveats in the documentation: https://pandas.pydata.org/pandas-docs/stable/user_guide/indexing.html#returning-a-view-versus-a-copy\n",
      "  reported_procedures[\"Average Charge\"] = (reported_procedures[\"Average Charge\"] * 100).astype(np.int64)\n"
     ]
    },
    {
     "name": "stdout",
     "output_type": "stream",
     "text": [
      "Writing reported procedures to reported_procedures/California Pacific Medical Center - Mission Bernal Campus_reported_procedures.csv\n",
      "Parsing  chargemaster-cdm-2021/California Pacific Medical Center - Pacific Campus/106380929_CDM_All_2021.xlsx\n",
      "Failed to read data from hospital California Pacific Medical Center - Pacific Campus\n",
      "Parsing  chargemaster-cdm-2021/Casa Colina Hospital and Centers for Health Care/106190137_CDM_All_2021.xlsx\n",
      "Failed to read data from hospital Casa Colina Hospital and Centers for Health Care\n",
      "Parsing  chargemaster-cdm-2021/Catalina Island Medical Center/106190045_CDM_All_2021.xlsx\n"
     ]
    },
    {
     "name": "stderr",
     "output_type": "stream",
     "text": [
      "/var/folders/yv/3zzm4_cs25v74y31mq6j8_mh0000gr/T/ipykernel_60607/3297213217.py:14: SettingWithCopyWarning: \n",
      "A value is trying to be set on a copy of a slice from a DataFrame.\n",
      "Try using .loc[row_indexer,col_indexer] = value instead\n",
      "\n",
      "See the caveats in the documentation: https://pandas.pydata.org/pandas-docs/stable/user_guide/indexing.html#returning-a-view-versus-a-copy\n",
      "  reported_procedures[\"Hospital\"] = hospital_series\n",
      "/var/folders/yv/3zzm4_cs25v74y31mq6j8_mh0000gr/T/ipykernel_60607/3297213217.py:19: SettingWithCopyWarning: \n",
      "A value is trying to be set on a copy of a slice from a DataFrame.\n",
      "Try using .loc[row_indexer,col_indexer] = value instead\n",
      "\n",
      "See the caveats in the documentation: https://pandas.pydata.org/pandas-docs/stable/user_guide/indexing.html#returning-a-view-versus-a-copy\n",
      "  reported_procedures[\"CPT Code\"] = reported_procedures[\"CPT Code\"].apply(np.int64)\n",
      "/var/folders/yv/3zzm4_cs25v74y31mq6j8_mh0000gr/T/ipykernel_60607/3297213217.py:21: SettingWithCopyWarning: \n",
      "A value is trying to be set on a copy of a slice from a DataFrame.\n",
      "Try using .loc[row_indexer,col_indexer] = value instead\n",
      "\n",
      "See the caveats in the documentation: https://pandas.pydata.org/pandas-docs/stable/user_guide/indexing.html#returning-a-view-versus-a-copy\n",
      "  reported_procedures[\"Average Charge\"] = (reported_procedures[\"Average Charge\"] * 100).astype(np.int64)\n"
     ]
    },
    {
     "name": "stdout",
     "output_type": "stream",
     "text": [
      "Writing reported procedures to reported_procedures/Catalina Island Medical Center_reported_procedures.csv\n",
      "Parsing  chargemaster-cdm-2021/Centinela Hospital Medical Center/106190148_CDM_All_2021.xlsx\n"
     ]
    },
    {
     "name": "stderr",
     "output_type": "stream",
     "text": [
      "/var/folders/yv/3zzm4_cs25v74y31mq6j8_mh0000gr/T/ipykernel_60607/3297213217.py:14: SettingWithCopyWarning: \n",
      "A value is trying to be set on a copy of a slice from a DataFrame.\n",
      "Try using .loc[row_indexer,col_indexer] = value instead\n",
      "\n",
      "See the caveats in the documentation: https://pandas.pydata.org/pandas-docs/stable/user_guide/indexing.html#returning-a-view-versus-a-copy\n",
      "  reported_procedures[\"Hospital\"] = hospital_series\n",
      "/var/folders/yv/3zzm4_cs25v74y31mq6j8_mh0000gr/T/ipykernel_60607/3297213217.py:19: SettingWithCopyWarning: \n",
      "A value is trying to be set on a copy of a slice from a DataFrame.\n",
      "Try using .loc[row_indexer,col_indexer] = value instead\n",
      "\n",
      "See the caveats in the documentation: https://pandas.pydata.org/pandas-docs/stable/user_guide/indexing.html#returning-a-view-versus-a-copy\n",
      "  reported_procedures[\"CPT Code\"] = reported_procedures[\"CPT Code\"].apply(np.int64)\n",
      "/var/folders/yv/3zzm4_cs25v74y31mq6j8_mh0000gr/T/ipykernel_60607/3297213217.py:21: SettingWithCopyWarning: \n",
      "A value is trying to be set on a copy of a slice from a DataFrame.\n",
      "Try using .loc[row_indexer,col_indexer] = value instead\n",
      "\n",
      "See the caveats in the documentation: https://pandas.pydata.org/pandas-docs/stable/user_guide/indexing.html#returning-a-view-versus-a-copy\n",
      "  reported_procedures[\"Average Charge\"] = (reported_procedures[\"Average Charge\"] * 100).astype(np.int64)\n"
     ]
    },
    {
     "name": "stdout",
     "output_type": "stream",
     "text": [
      "Writing reported procedures to reported_procedures/Centinela Hospital Medical Center_reported_procedures.csv\n",
      "Parsing  chargemaster-cdm-2021/Children's Hospital & Research Center at Oakland/106010776_CDM_All_2021.xlsx\n"
     ]
    },
    {
     "name": "stderr",
     "output_type": "stream",
     "text": [
      "/var/folders/yv/3zzm4_cs25v74y31mq6j8_mh0000gr/T/ipykernel_60607/3297213217.py:14: SettingWithCopyWarning: \n",
      "A value is trying to be set on a copy of a slice from a DataFrame.\n",
      "Try using .loc[row_indexer,col_indexer] = value instead\n",
      "\n",
      "See the caveats in the documentation: https://pandas.pydata.org/pandas-docs/stable/user_guide/indexing.html#returning-a-view-versus-a-copy\n",
      "  reported_procedures[\"Hospital\"] = hospital_series\n",
      "/var/folders/yv/3zzm4_cs25v74y31mq6j8_mh0000gr/T/ipykernel_60607/3297213217.py:19: SettingWithCopyWarning: \n",
      "A value is trying to be set on a copy of a slice from a DataFrame.\n",
      "Try using .loc[row_indexer,col_indexer] = value instead\n",
      "\n",
      "See the caveats in the documentation: https://pandas.pydata.org/pandas-docs/stable/user_guide/indexing.html#returning-a-view-versus-a-copy\n",
      "  reported_procedures[\"CPT Code\"] = reported_procedures[\"CPT Code\"].apply(np.int64)\n",
      "/var/folders/yv/3zzm4_cs25v74y31mq6j8_mh0000gr/T/ipykernel_60607/3297213217.py:21: SettingWithCopyWarning: \n",
      "A value is trying to be set on a copy of a slice from a DataFrame.\n",
      "Try using .loc[row_indexer,col_indexer] = value instead\n",
      "\n",
      "See the caveats in the documentation: https://pandas.pydata.org/pandas-docs/stable/user_guide/indexing.html#returning-a-view-versus-a-copy\n",
      "  reported_procedures[\"Average Charge\"] = (reported_procedures[\"Average Charge\"] * 100).astype(np.int64)\n",
      "/var/folders/yv/3zzm4_cs25v74y31mq6j8_mh0000gr/T/ipykernel_60607/3297213217.py:14: SettingWithCopyWarning: \n",
      "A value is trying to be set on a copy of a slice from a DataFrame.\n",
      "Try using .loc[row_indexer,col_indexer] = value instead\n",
      "\n",
      "See the caveats in the documentation: https://pandas.pydata.org/pandas-docs/stable/user_guide/indexing.html#returning-a-view-versus-a-copy\n",
      "  reported_procedures[\"Hospital\"] = hospital_series\n",
      "/var/folders/yv/3zzm4_cs25v74y31mq6j8_mh0000gr/T/ipykernel_60607/3297213217.py:19: SettingWithCopyWarning: \n",
      "A value is trying to be set on a copy of a slice from a DataFrame.\n",
      "Try using .loc[row_indexer,col_indexer] = value instead\n",
      "\n",
      "See the caveats in the documentation: https://pandas.pydata.org/pandas-docs/stable/user_guide/indexing.html#returning-a-view-versus-a-copy\n",
      "  reported_procedures[\"CPT Code\"] = reported_procedures[\"CPT Code\"].apply(np.int64)\n",
      "/var/folders/yv/3zzm4_cs25v74y31mq6j8_mh0000gr/T/ipykernel_60607/3297213217.py:21: SettingWithCopyWarning: \n",
      "A value is trying to be set on a copy of a slice from a DataFrame.\n",
      "Try using .loc[row_indexer,col_indexer] = value instead\n",
      "\n",
      "See the caveats in the documentation: https://pandas.pydata.org/pandas-docs/stable/user_guide/indexing.html#returning-a-view-versus-a-copy\n",
      "  reported_procedures[\"Average Charge\"] = (reported_procedures[\"Average Charge\"] * 100).astype(np.int64)\n"
     ]
    },
    {
     "name": "stdout",
     "output_type": "stream",
     "text": [
      "Writing reported procedures to reported_procedures/Children's Hospital & Research Center at Oakland_reported_procedures.csv\n",
      "Parsing  chargemaster-cdm-2021/Childrens Hospital at Mission/106304113_CDM_All_2021.xlsx\n",
      "Writing reported procedures to reported_procedures/Childrens Hospital at Mission_reported_procedures.csv\n",
      "Parsing  chargemaster-cdm-2021/Childrens Hospital of Orange County/106300032_CDM_All_2021.xlsx\n"
     ]
    },
    {
     "name": "stderr",
     "output_type": "stream",
     "text": [
      "/var/folders/yv/3zzm4_cs25v74y31mq6j8_mh0000gr/T/ipykernel_60607/3297213217.py:14: SettingWithCopyWarning: \n",
      "A value is trying to be set on a copy of a slice from a DataFrame.\n",
      "Try using .loc[row_indexer,col_indexer] = value instead\n",
      "\n",
      "See the caveats in the documentation: https://pandas.pydata.org/pandas-docs/stable/user_guide/indexing.html#returning-a-view-versus-a-copy\n",
      "  reported_procedures[\"Hospital\"] = hospital_series\n",
      "/var/folders/yv/3zzm4_cs25v74y31mq6j8_mh0000gr/T/ipykernel_60607/3297213217.py:19: SettingWithCopyWarning: \n",
      "A value is trying to be set on a copy of a slice from a DataFrame.\n",
      "Try using .loc[row_indexer,col_indexer] = value instead\n",
      "\n",
      "See the caveats in the documentation: https://pandas.pydata.org/pandas-docs/stable/user_guide/indexing.html#returning-a-view-versus-a-copy\n",
      "  reported_procedures[\"CPT Code\"] = reported_procedures[\"CPT Code\"].apply(np.int64)\n",
      "/var/folders/yv/3zzm4_cs25v74y31mq6j8_mh0000gr/T/ipykernel_60607/3297213217.py:21: SettingWithCopyWarning: \n",
      "A value is trying to be set on a copy of a slice from a DataFrame.\n",
      "Try using .loc[row_indexer,col_indexer] = value instead\n",
      "\n",
      "See the caveats in the documentation: https://pandas.pydata.org/pandas-docs/stable/user_guide/indexing.html#returning-a-view-versus-a-copy\n",
      "  reported_procedures[\"Average Charge\"] = (reported_procedures[\"Average Charge\"] * 100).astype(np.int64)\n"
     ]
    },
    {
     "name": "stdout",
     "output_type": "stream",
     "text": [
      "Writing reported procedures to reported_procedures/Childrens Hospital of Orange County_reported_procedures.csv\n",
      "Parsing  chargemaster-cdm-2021/Chinese Hospital/106382715_CDM_All_2021.xlsx\n"
     ]
    },
    {
     "name": "stderr",
     "output_type": "stream",
     "text": [
      "/var/folders/yv/3zzm4_cs25v74y31mq6j8_mh0000gr/T/ipykernel_60607/3297213217.py:14: SettingWithCopyWarning: \n",
      "A value is trying to be set on a copy of a slice from a DataFrame.\n",
      "Try using .loc[row_indexer,col_indexer] = value instead\n",
      "\n",
      "See the caveats in the documentation: https://pandas.pydata.org/pandas-docs/stable/user_guide/indexing.html#returning-a-view-versus-a-copy\n",
      "  reported_procedures[\"Hospital\"] = hospital_series\n",
      "/var/folders/yv/3zzm4_cs25v74y31mq6j8_mh0000gr/T/ipykernel_60607/3297213217.py:19: SettingWithCopyWarning: \n",
      "A value is trying to be set on a copy of a slice from a DataFrame.\n",
      "Try using .loc[row_indexer,col_indexer] = value instead\n",
      "\n",
      "See the caveats in the documentation: https://pandas.pydata.org/pandas-docs/stable/user_guide/indexing.html#returning-a-view-versus-a-copy\n",
      "  reported_procedures[\"CPT Code\"] = reported_procedures[\"CPT Code\"].apply(np.int64)\n",
      "/var/folders/yv/3zzm4_cs25v74y31mq6j8_mh0000gr/T/ipykernel_60607/3297213217.py:21: SettingWithCopyWarning: \n",
      "A value is trying to be set on a copy of a slice from a DataFrame.\n",
      "Try using .loc[row_indexer,col_indexer] = value instead\n",
      "\n",
      "See the caveats in the documentation: https://pandas.pydata.org/pandas-docs/stable/user_guide/indexing.html#returning-a-view-versus-a-copy\n",
      "  reported_procedures[\"Average Charge\"] = (reported_procedures[\"Average Charge\"] * 100).astype(np.int64)\n"
     ]
    },
    {
     "name": "stdout",
     "output_type": "stream",
     "text": [
      "Writing reported procedures to reported_procedures/Chinese Hospital_reported_procedures.csv\n",
      "Parsing  chargemaster-cdm-2021/Chino Valley Medical Center/106361144_CDM_All_2021.xlsx\n"
     ]
    },
    {
     "name": "stderr",
     "output_type": "stream",
     "text": [
      "/var/folders/yv/3zzm4_cs25v74y31mq6j8_mh0000gr/T/ipykernel_60607/3297213217.py:14: SettingWithCopyWarning: \n",
      "A value is trying to be set on a copy of a slice from a DataFrame.\n",
      "Try using .loc[row_indexer,col_indexer] = value instead\n",
      "\n",
      "See the caveats in the documentation: https://pandas.pydata.org/pandas-docs/stable/user_guide/indexing.html#returning-a-view-versus-a-copy\n",
      "  reported_procedures[\"Hospital\"] = hospital_series\n",
      "/var/folders/yv/3zzm4_cs25v74y31mq6j8_mh0000gr/T/ipykernel_60607/3297213217.py:19: SettingWithCopyWarning: \n",
      "A value is trying to be set on a copy of a slice from a DataFrame.\n",
      "Try using .loc[row_indexer,col_indexer] = value instead\n",
      "\n",
      "See the caveats in the documentation: https://pandas.pydata.org/pandas-docs/stable/user_guide/indexing.html#returning-a-view-versus-a-copy\n",
      "  reported_procedures[\"CPT Code\"] = reported_procedures[\"CPT Code\"].apply(np.int64)\n",
      "/var/folders/yv/3zzm4_cs25v74y31mq6j8_mh0000gr/T/ipykernel_60607/3297213217.py:21: SettingWithCopyWarning: \n",
      "A value is trying to be set on a copy of a slice from a DataFrame.\n",
      "Try using .loc[row_indexer,col_indexer] = value instead\n",
      "\n",
      "See the caveats in the documentation: https://pandas.pydata.org/pandas-docs/stable/user_guide/indexing.html#returning-a-view-versus-a-copy\n",
      "  reported_procedures[\"Average Charge\"] = (reported_procedures[\"Average Charge\"] * 100).astype(np.int64)\n"
     ]
    },
    {
     "name": "stdout",
     "output_type": "stream",
     "text": [
      "Writing reported procedures to reported_procedures/Chino Valley Medical Center_reported_procedures.csv\n",
      "Parsing  chargemaster-cdm-2021/City of Hope Helford Clinical Research Hospital/106190176_CDM_All_2021.xlsx\n"
     ]
    },
    {
     "name": "stderr",
     "output_type": "stream",
     "text": [
      "/var/folders/yv/3zzm4_cs25v74y31mq6j8_mh0000gr/T/ipykernel_60607/3297213217.py:14: SettingWithCopyWarning: \n",
      "A value is trying to be set on a copy of a slice from a DataFrame.\n",
      "Try using .loc[row_indexer,col_indexer] = value instead\n",
      "\n",
      "See the caveats in the documentation: https://pandas.pydata.org/pandas-docs/stable/user_guide/indexing.html#returning-a-view-versus-a-copy\n",
      "  reported_procedures[\"Hospital\"] = hospital_series\n",
      "/var/folders/yv/3zzm4_cs25v74y31mq6j8_mh0000gr/T/ipykernel_60607/3297213217.py:19: SettingWithCopyWarning: \n",
      "A value is trying to be set on a copy of a slice from a DataFrame.\n",
      "Try using .loc[row_indexer,col_indexer] = value instead\n",
      "\n",
      "See the caveats in the documentation: https://pandas.pydata.org/pandas-docs/stable/user_guide/indexing.html#returning-a-view-versus-a-copy\n",
      "  reported_procedures[\"CPT Code\"] = reported_procedures[\"CPT Code\"].apply(np.int64)\n",
      "/var/folders/yv/3zzm4_cs25v74y31mq6j8_mh0000gr/T/ipykernel_60607/3297213217.py:21: SettingWithCopyWarning: \n",
      "A value is trying to be set on a copy of a slice from a DataFrame.\n",
      "Try using .loc[row_indexer,col_indexer] = value instead\n",
      "\n",
      "See the caveats in the documentation: https://pandas.pydata.org/pandas-docs/stable/user_guide/indexing.html#returning-a-view-versus-a-copy\n",
      "  reported_procedures[\"Average Charge\"] = (reported_procedures[\"Average Charge\"] * 100).astype(np.int64)\n"
     ]
    },
    {
     "name": "stdout",
     "output_type": "stream",
     "text": [
      "Writing reported procedures to reported_procedures/City of Hope Helford Clinical Research Hospital_reported_procedures.csv\n",
      "Parsing  chargemaster-cdm-2021/Clovis Commuity Medical Center/106100005_CDM_All_2021.xlsx\n",
      "Failed to read data from hospital Clovis Commuity Medical Center\n",
      "Parsing  chargemaster-cdm-2021/Coalinga State Hospital/160105051_CDM_All_2021.xlsx\n"
     ]
    },
    {
     "name": "stderr",
     "output_type": "stream",
     "text": [
      "/var/folders/yv/3zzm4_cs25v74y31mq6j8_mh0000gr/T/ipykernel_60607/3297213217.py:14: SettingWithCopyWarning: \n",
      "A value is trying to be set on a copy of a slice from a DataFrame.\n",
      "Try using .loc[row_indexer,col_indexer] = value instead\n",
      "\n",
      "See the caveats in the documentation: https://pandas.pydata.org/pandas-docs/stable/user_guide/indexing.html#returning-a-view-versus-a-copy\n",
      "  reported_procedures[\"Hospital\"] = hospital_series\n",
      "/var/folders/yv/3zzm4_cs25v74y31mq6j8_mh0000gr/T/ipykernel_60607/3297213217.py:19: SettingWithCopyWarning: \n",
      "A value is trying to be set on a copy of a slice from a DataFrame.\n",
      "Try using .loc[row_indexer,col_indexer] = value instead\n",
      "\n",
      "See the caveats in the documentation: https://pandas.pydata.org/pandas-docs/stable/user_guide/indexing.html#returning-a-view-versus-a-copy\n",
      "  reported_procedures[\"CPT Code\"] = reported_procedures[\"CPT Code\"].apply(np.int64)\n",
      "/var/folders/yv/3zzm4_cs25v74y31mq6j8_mh0000gr/T/ipykernel_60607/3297213217.py:21: SettingWithCopyWarning: \n",
      "A value is trying to be set on a copy of a slice from a DataFrame.\n",
      "Try using .loc[row_indexer,col_indexer] = value instead\n",
      "\n",
      "See the caveats in the documentation: https://pandas.pydata.org/pandas-docs/stable/user_guide/indexing.html#returning-a-view-versus-a-copy\n",
      "  reported_procedures[\"Average Charge\"] = (reported_procedures[\"Average Charge\"] * 100).astype(np.int64)\n"
     ]
    },
    {
     "name": "stdout",
     "output_type": "stream",
     "text": [
      "Writing reported procedures to reported_procedures/Coalinga State Hospital_reported_procedures.csv\n",
      "Parsing  chargemaster-cdm-2021/College Medical Center/106190587_CDM_All_2021.xlsx\n"
     ]
    },
    {
     "name": "stderr",
     "output_type": "stream",
     "text": [
      "/var/folders/yv/3zzm4_cs25v74y31mq6j8_mh0000gr/T/ipykernel_60607/3297213217.py:14: SettingWithCopyWarning: \n",
      "A value is trying to be set on a copy of a slice from a DataFrame.\n",
      "Try using .loc[row_indexer,col_indexer] = value instead\n",
      "\n",
      "See the caveats in the documentation: https://pandas.pydata.org/pandas-docs/stable/user_guide/indexing.html#returning-a-view-versus-a-copy\n",
      "  reported_procedures[\"Hospital\"] = hospital_series\n",
      "/var/folders/yv/3zzm4_cs25v74y31mq6j8_mh0000gr/T/ipykernel_60607/3297213217.py:19: SettingWithCopyWarning: \n",
      "A value is trying to be set on a copy of a slice from a DataFrame.\n",
      "Try using .loc[row_indexer,col_indexer] = value instead\n",
      "\n",
      "See the caveats in the documentation: https://pandas.pydata.org/pandas-docs/stable/user_guide/indexing.html#returning-a-view-versus-a-copy\n",
      "  reported_procedures[\"CPT Code\"] = reported_procedures[\"CPT Code\"].apply(np.int64)\n",
      "/var/folders/yv/3zzm4_cs25v74y31mq6j8_mh0000gr/T/ipykernel_60607/3297213217.py:21: SettingWithCopyWarning: \n",
      "A value is trying to be set on a copy of a slice from a DataFrame.\n",
      "Try using .loc[row_indexer,col_indexer] = value instead\n",
      "\n",
      "See the caveats in the documentation: https://pandas.pydata.org/pandas-docs/stable/user_guide/indexing.html#returning-a-view-versus-a-copy\n",
      "  reported_procedures[\"Average Charge\"] = (reported_procedures[\"Average Charge\"] * 100).astype(np.int64)\n"
     ]
    },
    {
     "name": "stdout",
     "output_type": "stream",
     "text": [
      "Writing reported procedures to reported_procedures/College Medical Center_reported_procedures.csv\n",
      "Parsing  chargemaster-cdm-2021/Community Hospital of San Bernardino/106361323_CDM_All_2021.xlsx\n"
     ]
    },
    {
     "name": "stderr",
     "output_type": "stream",
     "text": [
      "/var/folders/yv/3zzm4_cs25v74y31mq6j8_mh0000gr/T/ipykernel_60607/3297213217.py:14: SettingWithCopyWarning: \n",
      "A value is trying to be set on a copy of a slice from a DataFrame.\n",
      "Try using .loc[row_indexer,col_indexer] = value instead\n",
      "\n",
      "See the caveats in the documentation: https://pandas.pydata.org/pandas-docs/stable/user_guide/indexing.html#returning-a-view-versus-a-copy\n",
      "  reported_procedures[\"Hospital\"] = hospital_series\n",
      "/var/folders/yv/3zzm4_cs25v74y31mq6j8_mh0000gr/T/ipykernel_60607/3297213217.py:19: SettingWithCopyWarning: \n",
      "A value is trying to be set on a copy of a slice from a DataFrame.\n",
      "Try using .loc[row_indexer,col_indexer] = value instead\n",
      "\n",
      "See the caveats in the documentation: https://pandas.pydata.org/pandas-docs/stable/user_guide/indexing.html#returning-a-view-versus-a-copy\n",
      "  reported_procedures[\"CPT Code\"] = reported_procedures[\"CPT Code\"].apply(np.int64)\n",
      "/var/folders/yv/3zzm4_cs25v74y31mq6j8_mh0000gr/T/ipykernel_60607/3297213217.py:21: SettingWithCopyWarning: \n",
      "A value is trying to be set on a copy of a slice from a DataFrame.\n",
      "Try using .loc[row_indexer,col_indexer] = value instead\n",
      "\n",
      "See the caveats in the documentation: https://pandas.pydata.org/pandas-docs/stable/user_guide/indexing.html#returning-a-view-versus-a-copy\n",
      "  reported_procedures[\"Average Charge\"] = (reported_procedures[\"Average Charge\"] * 100).astype(np.int64)\n"
     ]
    },
    {
     "name": "stdout",
     "output_type": "stream",
     "text": [
      "Writing reported procedures to reported_procedures/Community Hospital of San Bernardino_reported_procedures.csv\n",
      "Parsing  chargemaster-cdm-2021/Community Hospital of the Monterey Peninsula/106270744_CDM_All_2021.xlsx\n"
     ]
    },
    {
     "name": "stderr",
     "output_type": "stream",
     "text": [
      "/var/folders/yv/3zzm4_cs25v74y31mq6j8_mh0000gr/T/ipykernel_60607/3297213217.py:14: SettingWithCopyWarning: \n",
      "A value is trying to be set on a copy of a slice from a DataFrame.\n",
      "Try using .loc[row_indexer,col_indexer] = value instead\n",
      "\n",
      "See the caveats in the documentation: https://pandas.pydata.org/pandas-docs/stable/user_guide/indexing.html#returning-a-view-versus-a-copy\n",
      "  reported_procedures[\"Hospital\"] = hospital_series\n",
      "/var/folders/yv/3zzm4_cs25v74y31mq6j8_mh0000gr/T/ipykernel_60607/3297213217.py:19: SettingWithCopyWarning: \n",
      "A value is trying to be set on a copy of a slice from a DataFrame.\n",
      "Try using .loc[row_indexer,col_indexer] = value instead\n",
      "\n",
      "See the caveats in the documentation: https://pandas.pydata.org/pandas-docs/stable/user_guide/indexing.html#returning-a-view-versus-a-copy\n",
      "  reported_procedures[\"CPT Code\"] = reported_procedures[\"CPT Code\"].apply(np.int64)\n",
      "/var/folders/yv/3zzm4_cs25v74y31mq6j8_mh0000gr/T/ipykernel_60607/3297213217.py:21: SettingWithCopyWarning: \n",
      "A value is trying to be set on a copy of a slice from a DataFrame.\n",
      "Try using .loc[row_indexer,col_indexer] = value instead\n",
      "\n",
      "See the caveats in the documentation: https://pandas.pydata.org/pandas-docs/stable/user_guide/indexing.html#returning-a-view-versus-a-copy\n",
      "  reported_procedures[\"Average Charge\"] = (reported_procedures[\"Average Charge\"] * 100).astype(np.int64)\n"
     ]
    },
    {
     "name": "stdout",
     "output_type": "stream",
     "text": [
      "Writing reported procedures to reported_procedures/Community Hospital of the Monterey Peninsula_reported_procedures.csv\n",
      "Parsing  chargemaster-cdm-2021/Community Memorial Hospital San Buenaventura/106560473_CDM_All_2021.xlsx\n"
     ]
    },
    {
     "name": "stderr",
     "output_type": "stream",
     "text": [
      "/var/folders/yv/3zzm4_cs25v74y31mq6j8_mh0000gr/T/ipykernel_60607/3297213217.py:14: SettingWithCopyWarning: \n",
      "A value is trying to be set on a copy of a slice from a DataFrame.\n",
      "Try using .loc[row_indexer,col_indexer] = value instead\n",
      "\n",
      "See the caveats in the documentation: https://pandas.pydata.org/pandas-docs/stable/user_guide/indexing.html#returning-a-view-versus-a-copy\n",
      "  reported_procedures[\"Hospital\"] = hospital_series\n",
      "/var/folders/yv/3zzm4_cs25v74y31mq6j8_mh0000gr/T/ipykernel_60607/3297213217.py:19: SettingWithCopyWarning: \n",
      "A value is trying to be set on a copy of a slice from a DataFrame.\n",
      "Try using .loc[row_indexer,col_indexer] = value instead\n",
      "\n",
      "See the caveats in the documentation: https://pandas.pydata.org/pandas-docs/stable/user_guide/indexing.html#returning-a-view-versus-a-copy\n",
      "  reported_procedures[\"CPT Code\"] = reported_procedures[\"CPT Code\"].apply(np.int64)\n",
      "/var/folders/yv/3zzm4_cs25v74y31mq6j8_mh0000gr/T/ipykernel_60607/3297213217.py:21: SettingWithCopyWarning: \n",
      "A value is trying to be set on a copy of a slice from a DataFrame.\n",
      "Try using .loc[row_indexer,col_indexer] = value instead\n",
      "\n",
      "See the caveats in the documentation: https://pandas.pydata.org/pandas-docs/stable/user_guide/indexing.html#returning-a-view-versus-a-copy\n",
      "  reported_procedures[\"Average Charge\"] = (reported_procedures[\"Average Charge\"] * 100).astype(np.int64)\n"
     ]
    },
    {
     "name": "stdout",
     "output_type": "stream",
     "text": [
      "Writing reported procedures to reported_procedures/Community Memorial Hospital San Buenaventura_reported_procedures.csv\n",
      "Parsing  chargemaster-cdm-2021/Community Regional Medical Center - Fresno/106100717_CDM_All_2021.xlsx\n",
      "Failed to read data from hospital Community Regional Medical Center - Fresno\n",
      "Parsing  chargemaster-cdm-2021/Dameron Hospital/106390846_CDM_All_2021.xlsx\n"
     ]
    },
    {
     "name": "stderr",
     "output_type": "stream",
     "text": [
      "/var/folders/yv/3zzm4_cs25v74y31mq6j8_mh0000gr/T/ipykernel_60607/3297213217.py:14: SettingWithCopyWarning: \n",
      "A value is trying to be set on a copy of a slice from a DataFrame.\n",
      "Try using .loc[row_indexer,col_indexer] = value instead\n",
      "\n",
      "See the caveats in the documentation: https://pandas.pydata.org/pandas-docs/stable/user_guide/indexing.html#returning-a-view-versus-a-copy\n",
      "  reported_procedures[\"Hospital\"] = hospital_series\n",
      "/var/folders/yv/3zzm4_cs25v74y31mq6j8_mh0000gr/T/ipykernel_60607/3297213217.py:19: SettingWithCopyWarning: \n",
      "A value is trying to be set on a copy of a slice from a DataFrame.\n",
      "Try using .loc[row_indexer,col_indexer] = value instead\n",
      "\n",
      "See the caveats in the documentation: https://pandas.pydata.org/pandas-docs/stable/user_guide/indexing.html#returning-a-view-versus-a-copy\n",
      "  reported_procedures[\"CPT Code\"] = reported_procedures[\"CPT Code\"].apply(np.int64)\n",
      "/var/folders/yv/3zzm4_cs25v74y31mq6j8_mh0000gr/T/ipykernel_60607/3297213217.py:21: SettingWithCopyWarning: \n",
      "A value is trying to be set on a copy of a slice from a DataFrame.\n",
      "Try using .loc[row_indexer,col_indexer] = value instead\n",
      "\n",
      "See the caveats in the documentation: https://pandas.pydata.org/pandas-docs/stable/user_guide/indexing.html#returning-a-view-versus-a-copy\n",
      "  reported_procedures[\"Average Charge\"] = (reported_procedures[\"Average Charge\"] * 100).astype(np.int64)\n"
     ]
    },
    {
     "name": "stdout",
     "output_type": "stream",
     "text": [
      "Writing reported procedures to reported_procedures/Dameron Hospital_reported_procedures.csv\n",
      "Parsing  chargemaster-cdm-2021/Desert Regional Medical Center/106331164_CDM_All_2021.xlsx\n",
      "Failed to read data from hospital Desert Regional Medical Center\n",
      "Parsing  chargemaster-cdm-2021/Desert Valley Hospital/106364144_CDM_All_2021.xlsx\n"
     ]
    },
    {
     "name": "stderr",
     "output_type": "stream",
     "text": [
      "/var/folders/yv/3zzm4_cs25v74y31mq6j8_mh0000gr/T/ipykernel_60607/3297213217.py:14: SettingWithCopyWarning: \n",
      "A value is trying to be set on a copy of a slice from a DataFrame.\n",
      "Try using .loc[row_indexer,col_indexer] = value instead\n",
      "\n",
      "See the caveats in the documentation: https://pandas.pydata.org/pandas-docs/stable/user_guide/indexing.html#returning-a-view-versus-a-copy\n",
      "  reported_procedures[\"Hospital\"] = hospital_series\n",
      "/var/folders/yv/3zzm4_cs25v74y31mq6j8_mh0000gr/T/ipykernel_60607/3297213217.py:19: SettingWithCopyWarning: \n",
      "A value is trying to be set on a copy of a slice from a DataFrame.\n",
      "Try using .loc[row_indexer,col_indexer] = value instead\n",
      "\n",
      "See the caveats in the documentation: https://pandas.pydata.org/pandas-docs/stable/user_guide/indexing.html#returning-a-view-versus-a-copy\n",
      "  reported_procedures[\"CPT Code\"] = reported_procedures[\"CPT Code\"].apply(np.int64)\n",
      "/var/folders/yv/3zzm4_cs25v74y31mq6j8_mh0000gr/T/ipykernel_60607/3297213217.py:21: SettingWithCopyWarning: \n",
      "A value is trying to be set on a copy of a slice from a DataFrame.\n",
      "Try using .loc[row_indexer,col_indexer] = value instead\n",
      "\n",
      "See the caveats in the documentation: https://pandas.pydata.org/pandas-docs/stable/user_guide/indexing.html#returning-a-view-versus-a-copy\n",
      "  reported_procedures[\"Average Charge\"] = (reported_procedures[\"Average Charge\"] * 100).astype(np.int64)\n"
     ]
    },
    {
     "name": "stdout",
     "output_type": "stream",
     "text": [
      "Writing reported procedures to reported_procedures/Desert Valley Hospital_reported_procedures.csv\n",
      "Parsing  chargemaster-cdm-2021/Doctors Hospital of Manteca/106392287_CDM_All_2021.xlsx\n",
      "Failed to read data from hospital Doctors Hospital of Manteca\n",
      "Parsing  chargemaster-cdm-2021/Doctors Hospital of Riverside/106331293_CDM_All_2021.xlsx\n"
     ]
    },
    {
     "name": "stderr",
     "output_type": "stream",
     "text": [
      "/var/folders/yv/3zzm4_cs25v74y31mq6j8_mh0000gr/T/ipykernel_60607/3297213217.py:14: SettingWithCopyWarning: \n",
      "A value is trying to be set on a copy of a slice from a DataFrame.\n",
      "Try using .loc[row_indexer,col_indexer] = value instead\n",
      "\n",
      "See the caveats in the documentation: https://pandas.pydata.org/pandas-docs/stable/user_guide/indexing.html#returning-a-view-versus-a-copy\n",
      "  reported_procedures[\"Hospital\"] = hospital_series\n",
      "/var/folders/yv/3zzm4_cs25v74y31mq6j8_mh0000gr/T/ipykernel_60607/3297213217.py:19: SettingWithCopyWarning: \n",
      "A value is trying to be set on a copy of a slice from a DataFrame.\n",
      "Try using .loc[row_indexer,col_indexer] = value instead\n",
      "\n",
      "See the caveats in the documentation: https://pandas.pydata.org/pandas-docs/stable/user_guide/indexing.html#returning-a-view-versus-a-copy\n",
      "  reported_procedures[\"CPT Code\"] = reported_procedures[\"CPT Code\"].apply(np.int64)\n",
      "/var/folders/yv/3zzm4_cs25v74y31mq6j8_mh0000gr/T/ipykernel_60607/3297213217.py:21: SettingWithCopyWarning: \n",
      "A value is trying to be set on a copy of a slice from a DataFrame.\n",
      "Try using .loc[row_indexer,col_indexer] = value instead\n",
      "\n",
      "See the caveats in the documentation: https://pandas.pydata.org/pandas-docs/stable/user_guide/indexing.html#returning-a-view-versus-a-copy\n",
      "  reported_procedures[\"Average Charge\"] = (reported_procedures[\"Average Charge\"] * 100).astype(np.int64)\n"
     ]
    },
    {
     "name": "stdout",
     "output_type": "stream",
     "text": [
      "Writing reported procedures to reported_procedures/Doctors Hospital of Riverside_reported_procedures.csv\n",
      "Parsing  chargemaster-cdm-2021/Doctors Medical Center - Modesto/106500852_CDM_All_2021.xlsx\n",
      "Failed to read data from hospital Doctors Medical Center - Modesto\n",
      "Parsing  chargemaster-cdm-2021/Dominican Hospital/106440755_CDM_All_2021.xlsx\n"
     ]
    },
    {
     "name": "stderr",
     "output_type": "stream",
     "text": [
      "/var/folders/yv/3zzm4_cs25v74y31mq6j8_mh0000gr/T/ipykernel_60607/3297213217.py:14: SettingWithCopyWarning: \n",
      "A value is trying to be set on a copy of a slice from a DataFrame.\n",
      "Try using .loc[row_indexer,col_indexer] = value instead\n",
      "\n",
      "See the caveats in the documentation: https://pandas.pydata.org/pandas-docs/stable/user_guide/indexing.html#returning-a-view-versus-a-copy\n",
      "  reported_procedures[\"Hospital\"] = hospital_series\n",
      "/var/folders/yv/3zzm4_cs25v74y31mq6j8_mh0000gr/T/ipykernel_60607/3297213217.py:19: SettingWithCopyWarning: \n",
      "A value is trying to be set on a copy of a slice from a DataFrame.\n",
      "Try using .loc[row_indexer,col_indexer] = value instead\n",
      "\n",
      "See the caveats in the documentation: https://pandas.pydata.org/pandas-docs/stable/user_guide/indexing.html#returning-a-view-versus-a-copy\n",
      "  reported_procedures[\"CPT Code\"] = reported_procedures[\"CPT Code\"].apply(np.int64)\n",
      "/var/folders/yv/3zzm4_cs25v74y31mq6j8_mh0000gr/T/ipykernel_60607/3297213217.py:21: SettingWithCopyWarning: \n",
      "A value is trying to be set on a copy of a slice from a DataFrame.\n",
      "Try using .loc[row_indexer,col_indexer] = value instead\n",
      "\n",
      "See the caveats in the documentation: https://pandas.pydata.org/pandas-docs/stable/user_guide/indexing.html#returning-a-view-versus-a-copy\n",
      "  reported_procedures[\"Average Charge\"] = (reported_procedures[\"Average Charge\"] * 100).astype(np.int64)\n"
     ]
    },
    {
     "name": "stdout",
     "output_type": "stream",
     "text": [
      "Writing reported procedures to reported_procedures/Dominican Hospital_reported_procedures.csv\n",
      "Parsing  chargemaster-cdm-2021/Eden Medical Center/106014233_CDM_All_2021.xlsx\n"
     ]
    },
    {
     "name": "stderr",
     "output_type": "stream",
     "text": [
      "/var/folders/yv/3zzm4_cs25v74y31mq6j8_mh0000gr/T/ipykernel_60607/3297213217.py:14: SettingWithCopyWarning: \n",
      "A value is trying to be set on a copy of a slice from a DataFrame.\n",
      "Try using .loc[row_indexer,col_indexer] = value instead\n",
      "\n",
      "See the caveats in the documentation: https://pandas.pydata.org/pandas-docs/stable/user_guide/indexing.html#returning-a-view-versus-a-copy\n",
      "  reported_procedures[\"Hospital\"] = hospital_series\n",
      "/var/folders/yv/3zzm4_cs25v74y31mq6j8_mh0000gr/T/ipykernel_60607/3297213217.py:19: SettingWithCopyWarning: \n",
      "A value is trying to be set on a copy of a slice from a DataFrame.\n",
      "Try using .loc[row_indexer,col_indexer] = value instead\n",
      "\n",
      "See the caveats in the documentation: https://pandas.pydata.org/pandas-docs/stable/user_guide/indexing.html#returning-a-view-versus-a-copy\n",
      "  reported_procedures[\"CPT Code\"] = reported_procedures[\"CPT Code\"].apply(np.int64)\n",
      "/var/folders/yv/3zzm4_cs25v74y31mq6j8_mh0000gr/T/ipykernel_60607/3297213217.py:21: SettingWithCopyWarning: \n",
      "A value is trying to be set on a copy of a slice from a DataFrame.\n",
      "Try using .loc[row_indexer,col_indexer] = value instead\n",
      "\n",
      "See the caveats in the documentation: https://pandas.pydata.org/pandas-docs/stable/user_guide/indexing.html#returning-a-view-versus-a-copy\n",
      "  reported_procedures[\"Average Charge\"] = (reported_procedures[\"Average Charge\"] * 100).astype(np.int64)\n"
     ]
    },
    {
     "name": "stdout",
     "output_type": "stream",
     "text": [
      "Writing reported procedures to reported_procedures/Eden Medical Center_reported_procedures.csv\n",
      "Parsing  chargemaster-cdm-2021/Emanuel Medical Center/106500867_CDM_All_2021.xlsx\n",
      "Failed to read data from hospital Emanuel Medical Center\n",
      "Parsing  chargemaster-cdm-2021/Encino Hospital Medical Center/106190280_CDM_All_2021.xlsx\n"
     ]
    },
    {
     "name": "stderr",
     "output_type": "stream",
     "text": [
      "/var/folders/yv/3zzm4_cs25v74y31mq6j8_mh0000gr/T/ipykernel_60607/3297213217.py:14: SettingWithCopyWarning: \n",
      "A value is trying to be set on a copy of a slice from a DataFrame.\n",
      "Try using .loc[row_indexer,col_indexer] = value instead\n",
      "\n",
      "See the caveats in the documentation: https://pandas.pydata.org/pandas-docs/stable/user_guide/indexing.html#returning-a-view-versus-a-copy\n",
      "  reported_procedures[\"Hospital\"] = hospital_series\n",
      "/var/folders/yv/3zzm4_cs25v74y31mq6j8_mh0000gr/T/ipykernel_60607/3297213217.py:19: SettingWithCopyWarning: \n",
      "A value is trying to be set on a copy of a slice from a DataFrame.\n",
      "Try using .loc[row_indexer,col_indexer] = value instead\n",
      "\n",
      "See the caveats in the documentation: https://pandas.pydata.org/pandas-docs/stable/user_guide/indexing.html#returning-a-view-versus-a-copy\n",
      "  reported_procedures[\"CPT Code\"] = reported_procedures[\"CPT Code\"].apply(np.int64)\n",
      "/var/folders/yv/3zzm4_cs25v74y31mq6j8_mh0000gr/T/ipykernel_60607/3297213217.py:21: SettingWithCopyWarning: \n",
      "A value is trying to be set on a copy of a slice from a DataFrame.\n",
      "Try using .loc[row_indexer,col_indexer] = value instead\n",
      "\n",
      "See the caveats in the documentation: https://pandas.pydata.org/pandas-docs/stable/user_guide/indexing.html#returning-a-view-versus-a-copy\n",
      "  reported_procedures[\"Average Charge\"] = (reported_procedures[\"Average Charge\"] * 100).astype(np.int64)\n"
     ]
    },
    {
     "name": "stdout",
     "output_type": "stream",
     "text": [
      "Writing reported procedures to reported_procedures/Encino Hospital Medical Center_reported_procedures.csv\n",
      "Parsing  chargemaster-cdm-2021/Encompass Health Rehabilitation Hospital of Modesto/106504079_CDM_All_2021.xls\n",
      "Failed to read data from hospital Encompass Health Rehabilitation Hospital of Modesto\n",
      "Parsing  chargemaster-cdm-2021/Encompass Health Rehabilitation Hospital of Tustin/106304079_CDM_All_2021.xls\n",
      "Failed to read data from hospital Encompass Health Rehabilitation Hospital of Tustin\n",
      "Parsing  chargemaster-cdm-2021/Enloe Medical Center/106040962_CDM_All_2021.xlsx\n",
      "Failed to read data from hospital Enloe Medical Center\n",
      "Parsing  chargemaster-cdm-2021/Fountain Valley Regional Hospital & Medical Center - Euclid/106301175_CDM_All_2021.xlsx\n",
      "Failed to read data from hospital Fountain Valley Regional Hospital & Medical Center - Euclid\n",
      "Parsing  chargemaster-cdm-2021/French Hospital Medical Center - San Luis Obispo/106400480_CDM_All_2021.xlsx\n"
     ]
    },
    {
     "name": "stderr",
     "output_type": "stream",
     "text": [
      "/var/folders/yv/3zzm4_cs25v74y31mq6j8_mh0000gr/T/ipykernel_60607/3297213217.py:14: SettingWithCopyWarning: \n",
      "A value is trying to be set on a copy of a slice from a DataFrame.\n",
      "Try using .loc[row_indexer,col_indexer] = value instead\n",
      "\n",
      "See the caveats in the documentation: https://pandas.pydata.org/pandas-docs/stable/user_guide/indexing.html#returning-a-view-versus-a-copy\n",
      "  reported_procedures[\"Hospital\"] = hospital_series\n",
      "/var/folders/yv/3zzm4_cs25v74y31mq6j8_mh0000gr/T/ipykernel_60607/3297213217.py:19: SettingWithCopyWarning: \n",
      "A value is trying to be set on a copy of a slice from a DataFrame.\n",
      "Try using .loc[row_indexer,col_indexer] = value instead\n",
      "\n",
      "See the caveats in the documentation: https://pandas.pydata.org/pandas-docs/stable/user_guide/indexing.html#returning-a-view-versus-a-copy\n",
      "  reported_procedures[\"CPT Code\"] = reported_procedures[\"CPT Code\"].apply(np.int64)\n",
      "/var/folders/yv/3zzm4_cs25v74y31mq6j8_mh0000gr/T/ipykernel_60607/3297213217.py:21: SettingWithCopyWarning: \n",
      "A value is trying to be set on a copy of a slice from a DataFrame.\n",
      "Try using .loc[row_indexer,col_indexer] = value instead\n",
      "\n",
      "See the caveats in the documentation: https://pandas.pydata.org/pandas-docs/stable/user_guide/indexing.html#returning-a-view-versus-a-copy\n",
      "  reported_procedures[\"Average Charge\"] = (reported_procedures[\"Average Charge\"] * 100).astype(np.int64)\n"
     ]
    },
    {
     "name": "stdout",
     "output_type": "stream",
     "text": [
      "Writing reported procedures to reported_procedures/French Hospital Medical Center - San Luis Obispo_reported_procedures.csv\n",
      "Parsing  chargemaster-cdm-2021/Fresno Surgical Hospital/106104047_CDM_All_2021.xlsx\n"
     ]
    },
    {
     "name": "stderr",
     "output_type": "stream",
     "text": [
      "/var/folders/yv/3zzm4_cs25v74y31mq6j8_mh0000gr/T/ipykernel_60607/3297213217.py:14: SettingWithCopyWarning: \n",
      "A value is trying to be set on a copy of a slice from a DataFrame.\n",
      "Try using .loc[row_indexer,col_indexer] = value instead\n",
      "\n",
      "See the caveats in the documentation: https://pandas.pydata.org/pandas-docs/stable/user_guide/indexing.html#returning-a-view-versus-a-copy\n",
      "  reported_procedures[\"Hospital\"] = hospital_series\n",
      "/var/folders/yv/3zzm4_cs25v74y31mq6j8_mh0000gr/T/ipykernel_60607/3297213217.py:19: SettingWithCopyWarning: \n",
      "A value is trying to be set on a copy of a slice from a DataFrame.\n",
      "Try using .loc[row_indexer,col_indexer] = value instead\n",
      "\n",
      "See the caveats in the documentation: https://pandas.pydata.org/pandas-docs/stable/user_guide/indexing.html#returning-a-view-versus-a-copy\n",
      "  reported_procedures[\"CPT Code\"] = reported_procedures[\"CPT Code\"].apply(np.int64)\n",
      "/var/folders/yv/3zzm4_cs25v74y31mq6j8_mh0000gr/T/ipykernel_60607/3297213217.py:21: SettingWithCopyWarning: \n",
      "A value is trying to be set on a copy of a slice from a DataFrame.\n",
      "Try using .loc[row_indexer,col_indexer] = value instead\n",
      "\n",
      "See the caveats in the documentation: https://pandas.pydata.org/pandas-docs/stable/user_guide/indexing.html#returning-a-view-versus-a-copy\n",
      "  reported_procedures[\"Average Charge\"] = (reported_procedures[\"Average Charge\"] * 100).astype(np.int64)\n"
     ]
    },
    {
     "name": "stdout",
     "output_type": "stream",
     "text": [
      "Writing reported procedures to reported_procedures/Fresno Surgical Hospital_reported_procedures.csv\n",
      "Parsing  chargemaster-cdm-2021/Garden Grove Hospital & Medical Center/106301283_CDM_All_2021.xlsx\n"
     ]
    },
    {
     "name": "stderr",
     "output_type": "stream",
     "text": [
      "/var/folders/yv/3zzm4_cs25v74y31mq6j8_mh0000gr/T/ipykernel_60607/3297213217.py:14: SettingWithCopyWarning: \n",
      "A value is trying to be set on a copy of a slice from a DataFrame.\n",
      "Try using .loc[row_indexer,col_indexer] = value instead\n",
      "\n",
      "See the caveats in the documentation: https://pandas.pydata.org/pandas-docs/stable/user_guide/indexing.html#returning-a-view-versus-a-copy\n",
      "  reported_procedures[\"Hospital\"] = hospital_series\n",
      "/var/folders/yv/3zzm4_cs25v74y31mq6j8_mh0000gr/T/ipykernel_60607/3297213217.py:19: SettingWithCopyWarning: \n",
      "A value is trying to be set on a copy of a slice from a DataFrame.\n",
      "Try using .loc[row_indexer,col_indexer] = value instead\n",
      "\n",
      "See the caveats in the documentation: https://pandas.pydata.org/pandas-docs/stable/user_guide/indexing.html#returning-a-view-versus-a-copy\n",
      "  reported_procedures[\"CPT Code\"] = reported_procedures[\"CPT Code\"].apply(np.int64)\n",
      "/var/folders/yv/3zzm4_cs25v74y31mq6j8_mh0000gr/T/ipykernel_60607/3297213217.py:21: SettingWithCopyWarning: \n",
      "A value is trying to be set on a copy of a slice from a DataFrame.\n",
      "Try using .loc[row_indexer,col_indexer] = value instead\n",
      "\n",
      "See the caveats in the documentation: https://pandas.pydata.org/pandas-docs/stable/user_guide/indexing.html#returning-a-view-versus-a-copy\n",
      "  reported_procedures[\"Average Charge\"] = (reported_procedures[\"Average Charge\"] * 100).astype(np.int64)\n"
     ]
    },
    {
     "name": "stdout",
     "output_type": "stream",
     "text": [
      "Writing reported procedures to reported_procedures/Garden Grove Hospital & Medical Center_reported_procedures.csv\n",
      "Parsing  chargemaster-cdm-2021/Garfield Medical Center/106190315_CDM_All_2021.xlsx\n"
     ]
    },
    {
     "name": "stderr",
     "output_type": "stream",
     "text": [
      "/var/folders/yv/3zzm4_cs25v74y31mq6j8_mh0000gr/T/ipykernel_60607/3297213217.py:14: SettingWithCopyWarning: \n",
      "A value is trying to be set on a copy of a slice from a DataFrame.\n",
      "Try using .loc[row_indexer,col_indexer] = value instead\n",
      "\n",
      "See the caveats in the documentation: https://pandas.pydata.org/pandas-docs/stable/user_guide/indexing.html#returning-a-view-versus-a-copy\n",
      "  reported_procedures[\"Hospital\"] = hospital_series\n",
      "/var/folders/yv/3zzm4_cs25v74y31mq6j8_mh0000gr/T/ipykernel_60607/3297213217.py:19: SettingWithCopyWarning: \n",
      "A value is trying to be set on a copy of a slice from a DataFrame.\n",
      "Try using .loc[row_indexer,col_indexer] = value instead\n",
      "\n",
      "See the caveats in the documentation: https://pandas.pydata.org/pandas-docs/stable/user_guide/indexing.html#returning-a-view-versus-a-copy\n",
      "  reported_procedures[\"CPT Code\"] = reported_procedures[\"CPT Code\"].apply(np.int64)\n",
      "/var/folders/yv/3zzm4_cs25v74y31mq6j8_mh0000gr/T/ipykernel_60607/3297213217.py:21: SettingWithCopyWarning: \n",
      "A value is trying to be set on a copy of a slice from a DataFrame.\n",
      "Try using .loc[row_indexer,col_indexer] = value instead\n",
      "\n",
      "See the caveats in the documentation: https://pandas.pydata.org/pandas-docs/stable/user_guide/indexing.html#returning-a-view-versus-a-copy\n",
      "  reported_procedures[\"Average Charge\"] = (reported_procedures[\"Average Charge\"] * 100).astype(np.int64)\n"
     ]
    },
    {
     "name": "stdout",
     "output_type": "stream",
     "text": [
      "Writing reported procedures to reported_procedures/Garfield Medical Center_reported_procedures.csv\n",
      "Parsing  chargemaster-cdm-2021/George L Mee Memorial Hospital/106270777_CDM_All_2021.xlsx\n"
     ]
    },
    {
     "name": "stderr",
     "output_type": "stream",
     "text": [
      "/var/folders/yv/3zzm4_cs25v74y31mq6j8_mh0000gr/T/ipykernel_60607/3297213217.py:14: SettingWithCopyWarning: \n",
      "A value is trying to be set on a copy of a slice from a DataFrame.\n",
      "Try using .loc[row_indexer,col_indexer] = value instead\n",
      "\n",
      "See the caveats in the documentation: https://pandas.pydata.org/pandas-docs/stable/user_guide/indexing.html#returning-a-view-versus-a-copy\n",
      "  reported_procedures[\"Hospital\"] = hospital_series\n",
      "/var/folders/yv/3zzm4_cs25v74y31mq6j8_mh0000gr/T/ipykernel_60607/3297213217.py:19: SettingWithCopyWarning: \n",
      "A value is trying to be set on a copy of a slice from a DataFrame.\n",
      "Try using .loc[row_indexer,col_indexer] = value instead\n",
      "\n",
      "See the caveats in the documentation: https://pandas.pydata.org/pandas-docs/stable/user_guide/indexing.html#returning-a-view-versus-a-copy\n",
      "  reported_procedures[\"CPT Code\"] = reported_procedures[\"CPT Code\"].apply(np.int64)\n",
      "/var/folders/yv/3zzm4_cs25v74y31mq6j8_mh0000gr/T/ipykernel_60607/3297213217.py:21: SettingWithCopyWarning: \n",
      "A value is trying to be set on a copy of a slice from a DataFrame.\n",
      "Try using .loc[row_indexer,col_indexer] = value instead\n",
      "\n",
      "See the caveats in the documentation: https://pandas.pydata.org/pandas-docs/stable/user_guide/indexing.html#returning-a-view-versus-a-copy\n",
      "  reported_procedures[\"Average Charge\"] = (reported_procedures[\"Average Charge\"] * 100).astype(np.int64)\n"
     ]
    },
    {
     "name": "stdout",
     "output_type": "stream",
     "text": [
      "Writing reported procedures to reported_procedures/George L Mee Memorial Hospital_reported_procedures.csv\n",
      "Parsing  chargemaster-cdm-2021/Glendale Memorial Hospital and Health Center/106190522_CDM_All_2021.xlsx\n"
     ]
    },
    {
     "name": "stderr",
     "output_type": "stream",
     "text": [
      "/var/folders/yv/3zzm4_cs25v74y31mq6j8_mh0000gr/T/ipykernel_60607/3297213217.py:14: SettingWithCopyWarning: \n",
      "A value is trying to be set on a copy of a slice from a DataFrame.\n",
      "Try using .loc[row_indexer,col_indexer] = value instead\n",
      "\n",
      "See the caveats in the documentation: https://pandas.pydata.org/pandas-docs/stable/user_guide/indexing.html#returning-a-view-versus-a-copy\n",
      "  reported_procedures[\"Hospital\"] = hospital_series\n",
      "/var/folders/yv/3zzm4_cs25v74y31mq6j8_mh0000gr/T/ipykernel_60607/3297213217.py:19: SettingWithCopyWarning: \n",
      "A value is trying to be set on a copy of a slice from a DataFrame.\n",
      "Try using .loc[row_indexer,col_indexer] = value instead\n",
      "\n",
      "See the caveats in the documentation: https://pandas.pydata.org/pandas-docs/stable/user_guide/indexing.html#returning-a-view-versus-a-copy\n",
      "  reported_procedures[\"CPT Code\"] = reported_procedures[\"CPT Code\"].apply(np.int64)\n",
      "/var/folders/yv/3zzm4_cs25v74y31mq6j8_mh0000gr/T/ipykernel_60607/3297213217.py:21: SettingWithCopyWarning: \n",
      "A value is trying to be set on a copy of a slice from a DataFrame.\n",
      "Try using .loc[row_indexer,col_indexer] = value instead\n",
      "\n",
      "See the caveats in the documentation: https://pandas.pydata.org/pandas-docs/stable/user_guide/indexing.html#returning-a-view-versus-a-copy\n",
      "  reported_procedures[\"Average Charge\"] = (reported_procedures[\"Average Charge\"] * 100).astype(np.int64)\n"
     ]
    },
    {
     "name": "stdout",
     "output_type": "stream",
     "text": [
      "Writing reported procedures to reported_procedures/Glendale Memorial Hospital and Health Center_reported_procedures.csv\n",
      "Parsing  chargemaster-cdm-2021/Glendora Oaks Behavioral Health Hospital/106190328_CDM_All_2021.xlsx\n",
      "Failed to transform data from hospital Glendora Oaks Behavioral Health Hospital\n",
      "Parsing  chargemaster-cdm-2021/Goleta Valley Cottage Hospital/106420483_CDM_All_2021.xlsx\n",
      "Writing reported procedures to reported_procedures/Goleta Valley Cottage Hospital_reported_procedures.csv\n",
      "Parsing  chargemaster-cdm-2021/Greater El Monte Community Hospital/106190352_CDM_All_2021.xlsx\n"
     ]
    },
    {
     "name": "stderr",
     "output_type": "stream",
     "text": [
      "/var/folders/yv/3zzm4_cs25v74y31mq6j8_mh0000gr/T/ipykernel_60607/3297213217.py:14: SettingWithCopyWarning: \n",
      "A value is trying to be set on a copy of a slice from a DataFrame.\n",
      "Try using .loc[row_indexer,col_indexer] = value instead\n",
      "\n",
      "See the caveats in the documentation: https://pandas.pydata.org/pandas-docs/stable/user_guide/indexing.html#returning-a-view-versus-a-copy\n",
      "  reported_procedures[\"Hospital\"] = hospital_series\n",
      "/var/folders/yv/3zzm4_cs25v74y31mq6j8_mh0000gr/T/ipykernel_60607/3297213217.py:19: SettingWithCopyWarning: \n",
      "A value is trying to be set on a copy of a slice from a DataFrame.\n",
      "Try using .loc[row_indexer,col_indexer] = value instead\n",
      "\n",
      "See the caveats in the documentation: https://pandas.pydata.org/pandas-docs/stable/user_guide/indexing.html#returning-a-view-versus-a-copy\n",
      "  reported_procedures[\"CPT Code\"] = reported_procedures[\"CPT Code\"].apply(np.int64)\n",
      "/var/folders/yv/3zzm4_cs25v74y31mq6j8_mh0000gr/T/ipykernel_60607/3297213217.py:21: SettingWithCopyWarning: \n",
      "A value is trying to be set on a copy of a slice from a DataFrame.\n",
      "Try using .loc[row_indexer,col_indexer] = value instead\n",
      "\n",
      "See the caveats in the documentation: https://pandas.pydata.org/pandas-docs/stable/user_guide/indexing.html#returning-a-view-versus-a-copy\n",
      "  reported_procedures[\"Average Charge\"] = (reported_procedures[\"Average Charge\"] * 100).astype(np.int64)\n",
      "/var/folders/yv/3zzm4_cs25v74y31mq6j8_mh0000gr/T/ipykernel_60607/3297213217.py:14: SettingWithCopyWarning: \n",
      "A value is trying to be set on a copy of a slice from a DataFrame.\n",
      "Try using .loc[row_indexer,col_indexer] = value instead\n",
      "\n",
      "See the caveats in the documentation: https://pandas.pydata.org/pandas-docs/stable/user_guide/indexing.html#returning-a-view-versus-a-copy\n",
      "  reported_procedures[\"Hospital\"] = hospital_series\n",
      "/var/folders/yv/3zzm4_cs25v74y31mq6j8_mh0000gr/T/ipykernel_60607/3297213217.py:19: SettingWithCopyWarning: \n",
      "A value is trying to be set on a copy of a slice from a DataFrame.\n",
      "Try using .loc[row_indexer,col_indexer] = value instead\n",
      "\n",
      "See the caveats in the documentation: https://pandas.pydata.org/pandas-docs/stable/user_guide/indexing.html#returning-a-view-versus-a-copy\n",
      "  reported_procedures[\"CPT Code\"] = reported_procedures[\"CPT Code\"].apply(np.int64)\n",
      "/var/folders/yv/3zzm4_cs25v74y31mq6j8_mh0000gr/T/ipykernel_60607/3297213217.py:21: SettingWithCopyWarning: \n",
      "A value is trying to be set on a copy of a slice from a DataFrame.\n",
      "Try using .loc[row_indexer,col_indexer] = value instead\n",
      "\n",
      "See the caveats in the documentation: https://pandas.pydata.org/pandas-docs/stable/user_guide/indexing.html#returning-a-view-versus-a-copy\n",
      "  reported_procedures[\"Average Charge\"] = (reported_procedures[\"Average Charge\"] * 100).astype(np.int64)\n"
     ]
    },
    {
     "name": "stdout",
     "output_type": "stream",
     "text": [
      "Writing reported procedures to reported_procedures/Greater El Monte Community Hospital_reported_procedures.csv\n",
      "Parsing  chargemaster-cdm-2021/Hazel Hawkins Memorial Hospital/106350784_CDM_All_2021.xlsx\n",
      "Failed to read data from hospital Hazel Hawkins Memorial Hospital\n",
      "Parsing  chargemaster-cdm-2021/Healdsburg District Hospital/106490964_CDM_All_2021.xlsx\n"
     ]
    },
    {
     "name": "stderr",
     "output_type": "stream",
     "text": [
      "/var/folders/yv/3zzm4_cs25v74y31mq6j8_mh0000gr/T/ipykernel_60607/3297213217.py:14: SettingWithCopyWarning: \n",
      "A value is trying to be set on a copy of a slice from a DataFrame.\n",
      "Try using .loc[row_indexer,col_indexer] = value instead\n",
      "\n",
      "See the caveats in the documentation: https://pandas.pydata.org/pandas-docs/stable/user_guide/indexing.html#returning-a-view-versus-a-copy\n",
      "  reported_procedures[\"Hospital\"] = hospital_series\n",
      "/var/folders/yv/3zzm4_cs25v74y31mq6j8_mh0000gr/T/ipykernel_60607/3297213217.py:19: SettingWithCopyWarning: \n",
      "A value is trying to be set on a copy of a slice from a DataFrame.\n",
      "Try using .loc[row_indexer,col_indexer] = value instead\n",
      "\n",
      "See the caveats in the documentation: https://pandas.pydata.org/pandas-docs/stable/user_guide/indexing.html#returning-a-view-versus-a-copy\n",
      "  reported_procedures[\"CPT Code\"] = reported_procedures[\"CPT Code\"].apply(np.int64)\n",
      "/var/folders/yv/3zzm4_cs25v74y31mq6j8_mh0000gr/T/ipykernel_60607/3297213217.py:21: SettingWithCopyWarning: \n",
      "A value is trying to be set on a copy of a slice from a DataFrame.\n",
      "Try using .loc[row_indexer,col_indexer] = value instead\n",
      "\n",
      "See the caveats in the documentation: https://pandas.pydata.org/pandas-docs/stable/user_guide/indexing.html#returning-a-view-versus-a-copy\n",
      "  reported_procedures[\"Average Charge\"] = (reported_procedures[\"Average Charge\"] * 100).astype(np.int64)\n"
     ]
    },
    {
     "name": "stdout",
     "output_type": "stream",
     "text": [
      "Writing reported procedures to reported_procedures/Healdsburg District Hospital_reported_procedures.csv\n",
      "Parsing  chargemaster-cdm-2021/Healthbridge Children's Hospital - Orange/106304159_CDM_2021.xlsx\n",
      "Failed to read data from hospital Healthbridge Children's Hospital - Orange\n",
      "Parsing  chargemaster-cdm-2021/Henry Mayo Newhall Hospital/106190949_CDM_All_2021.xlsx\n",
      "Failed to read data from hospital Henry Mayo Newhall Hospital\n",
      "Parsing  chargemaster-cdm-2021/Hi Desert Medical Center/106362041_CDM_All_2021.xlsx\n",
      "Failed to read data from hospital Hi Desert Medical Center\n",
      "Parsing  chargemaster-cdm-2021/Hoag Memorial Hospital Presbyterian/106301205_CDM_All_2021.xlsx\n"
     ]
    },
    {
     "name": "stderr",
     "output_type": "stream",
     "text": [
      "/var/folders/yv/3zzm4_cs25v74y31mq6j8_mh0000gr/T/ipykernel_60607/3297213217.py:14: SettingWithCopyWarning: \n",
      "A value is trying to be set on a copy of a slice from a DataFrame.\n",
      "Try using .loc[row_indexer,col_indexer] = value instead\n",
      "\n",
      "See the caveats in the documentation: https://pandas.pydata.org/pandas-docs/stable/user_guide/indexing.html#returning-a-view-versus-a-copy\n",
      "  reported_procedures[\"Hospital\"] = hospital_series\n",
      "/var/folders/yv/3zzm4_cs25v74y31mq6j8_mh0000gr/T/ipykernel_60607/3297213217.py:19: SettingWithCopyWarning: \n",
      "A value is trying to be set on a copy of a slice from a DataFrame.\n",
      "Try using .loc[row_indexer,col_indexer] = value instead\n",
      "\n",
      "See the caveats in the documentation: https://pandas.pydata.org/pandas-docs/stable/user_guide/indexing.html#returning-a-view-versus-a-copy\n",
      "  reported_procedures[\"CPT Code\"] = reported_procedures[\"CPT Code\"].apply(np.int64)\n",
      "/var/folders/yv/3zzm4_cs25v74y31mq6j8_mh0000gr/T/ipykernel_60607/3297213217.py:21: SettingWithCopyWarning: \n",
      "A value is trying to be set on a copy of a slice from a DataFrame.\n",
      "Try using .loc[row_indexer,col_indexer] = value instead\n",
      "\n",
      "See the caveats in the documentation: https://pandas.pydata.org/pandas-docs/stable/user_guide/indexing.html#returning-a-view-versus-a-copy\n",
      "  reported_procedures[\"Average Charge\"] = (reported_procedures[\"Average Charge\"] * 100).astype(np.int64)\n"
     ]
    },
    {
     "name": "stdout",
     "output_type": "stream",
     "text": [
      "Writing reported procedures to reported_procedures/Hoag Memorial Hospital Presbyterian_reported_procedures.csv\n",
      "Parsing  chargemaster-cdm-2021/Hoag Orthopedic Institute/106304460_CDM_All_2021.xlsx\n"
     ]
    },
    {
     "name": "stderr",
     "output_type": "stream",
     "text": [
      "/var/folders/yv/3zzm4_cs25v74y31mq6j8_mh0000gr/T/ipykernel_60607/3297213217.py:14: SettingWithCopyWarning: \n",
      "A value is trying to be set on a copy of a slice from a DataFrame.\n",
      "Try using .loc[row_indexer,col_indexer] = value instead\n",
      "\n",
      "See the caveats in the documentation: https://pandas.pydata.org/pandas-docs/stable/user_guide/indexing.html#returning-a-view-versus-a-copy\n",
      "  reported_procedures[\"Hospital\"] = hospital_series\n",
      "/var/folders/yv/3zzm4_cs25v74y31mq6j8_mh0000gr/T/ipykernel_60607/3297213217.py:19: SettingWithCopyWarning: \n",
      "A value is trying to be set on a copy of a slice from a DataFrame.\n",
      "Try using .loc[row_indexer,col_indexer] = value instead\n",
      "\n",
      "See the caveats in the documentation: https://pandas.pydata.org/pandas-docs/stable/user_guide/indexing.html#returning-a-view-versus-a-copy\n",
      "  reported_procedures[\"CPT Code\"] = reported_procedures[\"CPT Code\"].apply(np.int64)\n",
      "/var/folders/yv/3zzm4_cs25v74y31mq6j8_mh0000gr/T/ipykernel_60607/3297213217.py:21: SettingWithCopyWarning: \n",
      "A value is trying to be set on a copy of a slice from a DataFrame.\n",
      "Try using .loc[row_indexer,col_indexer] = value instead\n",
      "\n",
      "See the caveats in the documentation: https://pandas.pydata.org/pandas-docs/stable/user_guide/indexing.html#returning-a-view-versus-a-copy\n",
      "  reported_procedures[\"Average Charge\"] = (reported_procedures[\"Average Charge\"] * 100).astype(np.int64)\n"
     ]
    },
    {
     "name": "stdout",
     "output_type": "stream",
     "text": [
      "Writing reported procedures to reported_procedures/Hoag Orthopedic Institute_reported_procedures.csv\n",
      "Parsing  chargemaster-cdm-2021/Huntington Beach Hospital/106301209_CDM_All_2021.xlsx\n"
     ]
    },
    {
     "name": "stderr",
     "output_type": "stream",
     "text": [
      "/var/folders/yv/3zzm4_cs25v74y31mq6j8_mh0000gr/T/ipykernel_60607/3297213217.py:14: SettingWithCopyWarning: \n",
      "A value is trying to be set on a copy of a slice from a DataFrame.\n",
      "Try using .loc[row_indexer,col_indexer] = value instead\n",
      "\n",
      "See the caveats in the documentation: https://pandas.pydata.org/pandas-docs/stable/user_guide/indexing.html#returning-a-view-versus-a-copy\n",
      "  reported_procedures[\"Hospital\"] = hospital_series\n",
      "/var/folders/yv/3zzm4_cs25v74y31mq6j8_mh0000gr/T/ipykernel_60607/3297213217.py:19: SettingWithCopyWarning: \n",
      "A value is trying to be set on a copy of a slice from a DataFrame.\n",
      "Try using .loc[row_indexer,col_indexer] = value instead\n",
      "\n",
      "See the caveats in the documentation: https://pandas.pydata.org/pandas-docs/stable/user_guide/indexing.html#returning-a-view-versus-a-copy\n",
      "  reported_procedures[\"CPT Code\"] = reported_procedures[\"CPT Code\"].apply(np.int64)\n",
      "/var/folders/yv/3zzm4_cs25v74y31mq6j8_mh0000gr/T/ipykernel_60607/3297213217.py:21: SettingWithCopyWarning: \n",
      "A value is trying to be set on a copy of a slice from a DataFrame.\n",
      "Try using .loc[row_indexer,col_indexer] = value instead\n",
      "\n",
      "See the caveats in the documentation: https://pandas.pydata.org/pandas-docs/stable/user_guide/indexing.html#returning-a-view-versus-a-copy\n",
      "  reported_procedures[\"Average Charge\"] = (reported_procedures[\"Average Charge\"] * 100).astype(np.int64)\n"
     ]
    },
    {
     "name": "stdout",
     "output_type": "stream",
     "text": [
      "Writing reported procedures to reported_procedures/Huntington Beach Hospital_reported_procedures.csv\n",
      "Parsing  chargemaster-cdm-2021/Huntington Memorial Hospital/106190400_CDM_All_2021.xlsx\n",
      "Failed to read data from hospital Huntington Memorial Hospital\n",
      "Parsing  chargemaster-cdm-2021/Jewish Home/106380842_CDM_All_2021.xlsx\n",
      "Failed to read data from hospital Jewish Home\n",
      "Parsing  chargemaster-cdm-2021/John C Fremont Healthcare District/106220733_Common25_2021.xlsx\n",
      "Writing reported procedures to reported_procedures/John C Fremont Healthcare District_reported_procedures.csv\n",
      "Parsing  chargemaster-cdm-2021/John F Kennedy Memorial Hospital/106331216_CDM_All_2021.xlsx\n"
     ]
    },
    {
     "name": "stderr",
     "output_type": "stream",
     "text": [
      "/var/folders/yv/3zzm4_cs25v74y31mq6j8_mh0000gr/T/ipykernel_60607/3297213217.py:14: SettingWithCopyWarning: \n",
      "A value is trying to be set on a copy of a slice from a DataFrame.\n",
      "Try using .loc[row_indexer,col_indexer] = value instead\n",
      "\n",
      "See the caveats in the documentation: https://pandas.pydata.org/pandas-docs/stable/user_guide/indexing.html#returning-a-view-versus-a-copy\n",
      "  reported_procedures[\"Hospital\"] = hospital_series\n",
      "/var/folders/yv/3zzm4_cs25v74y31mq6j8_mh0000gr/T/ipykernel_60607/3297213217.py:19: SettingWithCopyWarning: \n",
      "A value is trying to be set on a copy of a slice from a DataFrame.\n",
      "Try using .loc[row_indexer,col_indexer] = value instead\n",
      "\n",
      "See the caveats in the documentation: https://pandas.pydata.org/pandas-docs/stable/user_guide/indexing.html#returning-a-view-versus-a-copy\n",
      "  reported_procedures[\"CPT Code\"] = reported_procedures[\"CPT Code\"].apply(np.int64)\n",
      "/var/folders/yv/3zzm4_cs25v74y31mq6j8_mh0000gr/T/ipykernel_60607/3297213217.py:21: SettingWithCopyWarning: \n",
      "A value is trying to be set on a copy of a slice from a DataFrame.\n",
      "Try using .loc[row_indexer,col_indexer] = value instead\n",
      "\n",
      "See the caveats in the documentation: https://pandas.pydata.org/pandas-docs/stable/user_guide/indexing.html#returning-a-view-versus-a-copy\n",
      "  reported_procedures[\"Average Charge\"] = (reported_procedures[\"Average Charge\"] * 100).astype(np.int64)\n"
     ]
    },
    {
     "name": "stdout",
     "output_type": "stream",
     "text": [
      "Failed to read data from hospital John F Kennedy Memorial Hospital\n",
      "Parsing  chargemaster-cdm-2021/Keck Hospital of USC/106194219_CDM_All_2021.xlsx\n"
     ]
    },
    {
     "name": "stderr",
     "output_type": "stream",
     "text": [
      "/var/folders/yv/3zzm4_cs25v74y31mq6j8_mh0000gr/T/ipykernel_60607/3297213217.py:14: SettingWithCopyWarning: \n",
      "A value is trying to be set on a copy of a slice from a DataFrame.\n",
      "Try using .loc[row_indexer,col_indexer] = value instead\n",
      "\n",
      "See the caveats in the documentation: https://pandas.pydata.org/pandas-docs/stable/user_guide/indexing.html#returning-a-view-versus-a-copy\n",
      "  reported_procedures[\"Hospital\"] = hospital_series\n",
      "/var/folders/yv/3zzm4_cs25v74y31mq6j8_mh0000gr/T/ipykernel_60607/3297213217.py:19: SettingWithCopyWarning: \n",
      "A value is trying to be set on a copy of a slice from a DataFrame.\n",
      "Try using .loc[row_indexer,col_indexer] = value instead\n",
      "\n",
      "See the caveats in the documentation: https://pandas.pydata.org/pandas-docs/stable/user_guide/indexing.html#returning-a-view-versus-a-copy\n",
      "  reported_procedures[\"CPT Code\"] = reported_procedures[\"CPT Code\"].apply(np.int64)\n",
      "/var/folders/yv/3zzm4_cs25v74y31mq6j8_mh0000gr/T/ipykernel_60607/3297213217.py:21: SettingWithCopyWarning: \n",
      "A value is trying to be set on a copy of a slice from a DataFrame.\n",
      "Try using .loc[row_indexer,col_indexer] = value instead\n",
      "\n",
      "See the caveats in the documentation: https://pandas.pydata.org/pandas-docs/stable/user_guide/indexing.html#returning-a-view-versus-a-copy\n",
      "  reported_procedures[\"Average Charge\"] = (reported_procedures[\"Average Charge\"] * 100).astype(np.int64)\n"
     ]
    },
    {
     "name": "stdout",
     "output_type": "stream",
     "text": [
      "Writing reported procedures to reported_procedures/Keck Hospital of USC_reported_procedures.csv\n",
      "Parsing  chargemaster-cdm-2021/Kern Valley Hospital/106150737_CDM_All_2021.xlsx\n"
     ]
    },
    {
     "name": "stderr",
     "output_type": "stream",
     "text": [
      "/var/folders/yv/3zzm4_cs25v74y31mq6j8_mh0000gr/T/ipykernel_60607/3297213217.py:14: SettingWithCopyWarning: \n",
      "A value is trying to be set on a copy of a slice from a DataFrame.\n",
      "Try using .loc[row_indexer,col_indexer] = value instead\n",
      "\n",
      "See the caveats in the documentation: https://pandas.pydata.org/pandas-docs/stable/user_guide/indexing.html#returning-a-view-versus-a-copy\n",
      "  reported_procedures[\"Hospital\"] = hospital_series\n",
      "/var/folders/yv/3zzm4_cs25v74y31mq6j8_mh0000gr/T/ipykernel_60607/3297213217.py:19: SettingWithCopyWarning: \n",
      "A value is trying to be set on a copy of a slice from a DataFrame.\n",
      "Try using .loc[row_indexer,col_indexer] = value instead\n",
      "\n",
      "See the caveats in the documentation: https://pandas.pydata.org/pandas-docs/stable/user_guide/indexing.html#returning-a-view-versus-a-copy\n",
      "  reported_procedures[\"CPT Code\"] = reported_procedures[\"CPT Code\"].apply(np.int64)\n",
      "/var/folders/yv/3zzm4_cs25v74y31mq6j8_mh0000gr/T/ipykernel_60607/3297213217.py:21: SettingWithCopyWarning: \n",
      "A value is trying to be set on a copy of a slice from a DataFrame.\n",
      "Try using .loc[row_indexer,col_indexer] = value instead\n",
      "\n",
      "See the caveats in the documentation: https://pandas.pydata.org/pandas-docs/stable/user_guide/indexing.html#returning-a-view-versus-a-copy\n",
      "  reported_procedures[\"Average Charge\"] = (reported_procedures[\"Average Charge\"] * 100).astype(np.int64)\n"
     ]
    },
    {
     "name": "stdout",
     "output_type": "stream",
     "text": [
      "Writing reported procedures to reported_procedures/Kern Valley Hospital_reported_procedures.csv\n",
      "Parsing  chargemaster-cdm-2021/Kindred Hospital - Ontario/106361274_CDM_2021.xlsx\n",
      "Failed to read data from hospital Kindred Hospital - Ontario\n",
      "Parsing  chargemaster-cdm-2021/L.A. Co. - Harbor-UCLA Medical Center/106191227_CDM_All_2021.xlsx\n",
      "Failed to read data from hospital L.A. Co. - Harbor-UCLA Medical Center\n",
      "Parsing  chargemaster-cdm-2021/L.A. Co. - Olive View Medical Center/106191231_CDM_All_2021.xlsx\n",
      "Failed to read data from hospital L.A. Co. - Olive View Medical Center\n",
      "Parsing  chargemaster-cdm-2021/L.A. Co. - Rancho Los Amigos Hospital/106191306_CDM_All_2021.xlsx\n",
      "Failed to read data from hospital L.A. Co. - Rancho Los Amigos Hospital\n",
      "Parsing  chargemaster-cdm-2021/L.A. Co. - USC Medical Center/106191228_CDM_All_2021.xlsx\n",
      "Failed to read data from hospital L.A. Co. - USC Medical Center\n",
      "Parsing  chargemaster-cdm-2021/La Palma Intercommunity Hospital/106301234_CDM_All_2021.xlsx\n"
     ]
    },
    {
     "name": "stderr",
     "output_type": "stream",
     "text": [
      "/var/folders/yv/3zzm4_cs25v74y31mq6j8_mh0000gr/T/ipykernel_60607/3297213217.py:14: SettingWithCopyWarning: \n",
      "A value is trying to be set on a copy of a slice from a DataFrame.\n",
      "Try using .loc[row_indexer,col_indexer] = value instead\n",
      "\n",
      "See the caveats in the documentation: https://pandas.pydata.org/pandas-docs/stable/user_guide/indexing.html#returning-a-view-versus-a-copy\n",
      "  reported_procedures[\"Hospital\"] = hospital_series\n",
      "/var/folders/yv/3zzm4_cs25v74y31mq6j8_mh0000gr/T/ipykernel_60607/3297213217.py:19: SettingWithCopyWarning: \n",
      "A value is trying to be set on a copy of a slice from a DataFrame.\n",
      "Try using .loc[row_indexer,col_indexer] = value instead\n",
      "\n",
      "See the caveats in the documentation: https://pandas.pydata.org/pandas-docs/stable/user_guide/indexing.html#returning-a-view-versus-a-copy\n",
      "  reported_procedures[\"CPT Code\"] = reported_procedures[\"CPT Code\"].apply(np.int64)\n",
      "/var/folders/yv/3zzm4_cs25v74y31mq6j8_mh0000gr/T/ipykernel_60607/3297213217.py:21: SettingWithCopyWarning: \n",
      "A value is trying to be set on a copy of a slice from a DataFrame.\n",
      "Try using .loc[row_indexer,col_indexer] = value instead\n",
      "\n",
      "See the caveats in the documentation: https://pandas.pydata.org/pandas-docs/stable/user_guide/indexing.html#returning-a-view-versus-a-copy\n",
      "  reported_procedures[\"Average Charge\"] = (reported_procedures[\"Average Charge\"] * 100).astype(np.int64)\n"
     ]
    },
    {
     "name": "stdout",
     "output_type": "stream",
     "text": [
      "Writing reported procedures to reported_procedures/La Palma Intercommunity Hospital_reported_procedures.csv\n",
      "Parsing  chargemaster-cdm-2021/Laguna Honda Hospital and Rehabilitation Center/106380865_CDM_All_2021.xlsx\n"
     ]
    },
    {
     "name": "stderr",
     "output_type": "stream",
     "text": [
      "/var/folders/yv/3zzm4_cs25v74y31mq6j8_mh0000gr/T/ipykernel_60607/3297213217.py:14: SettingWithCopyWarning: \n",
      "A value is trying to be set on a copy of a slice from a DataFrame.\n",
      "Try using .loc[row_indexer,col_indexer] = value instead\n",
      "\n",
      "See the caveats in the documentation: https://pandas.pydata.org/pandas-docs/stable/user_guide/indexing.html#returning-a-view-versus-a-copy\n",
      "  reported_procedures[\"Hospital\"] = hospital_series\n",
      "/var/folders/yv/3zzm4_cs25v74y31mq6j8_mh0000gr/T/ipykernel_60607/3297213217.py:19: SettingWithCopyWarning: \n",
      "A value is trying to be set on a copy of a slice from a DataFrame.\n",
      "Try using .loc[row_indexer,col_indexer] = value instead\n",
      "\n",
      "See the caveats in the documentation: https://pandas.pydata.org/pandas-docs/stable/user_guide/indexing.html#returning-a-view-versus-a-copy\n",
      "  reported_procedures[\"CPT Code\"] = reported_procedures[\"CPT Code\"].apply(np.int64)\n",
      "/var/folders/yv/3zzm4_cs25v74y31mq6j8_mh0000gr/T/ipykernel_60607/3297213217.py:21: SettingWithCopyWarning: \n",
      "A value is trying to be set on a copy of a slice from a DataFrame.\n",
      "Try using .loc[row_indexer,col_indexer] = value instead\n",
      "\n",
      "See the caveats in the documentation: https://pandas.pydata.org/pandas-docs/stable/user_guide/indexing.html#returning-a-view-versus-a-copy\n",
      "  reported_procedures[\"Average Charge\"] = (reported_procedures[\"Average Charge\"] * 100).astype(np.int64)\n"
     ]
    },
    {
     "name": "stdout",
     "output_type": "stream",
     "text": [
      "Writing reported procedures to reported_procedures/Laguna Honda Hospital and Rehabilitation Center_reported_procedures.csv\n",
      "Parsing  chargemaster-cdm-2021/Lakewood Regional Medical Center/106190240_CDM_All_2021.xlsx\n",
      "Failed to read data from hospital Lakewood Regional Medical Center\n",
      "Parsing  chargemaster-cdm-2021/Langley Porter Psychiatric Institute/106380868_CDM_All_2021.xlsx\n",
      "Failed to read data from hospital Langley Porter Psychiatric Institute\n",
      "Parsing  chargemaster-cdm-2021/Los Alamitos Medical Center/106301248_CDM_All_2021.xlsx\n",
      "Failed to read data from hospital Los Alamitos Medical Center\n",
      "Parsing  chargemaster-cdm-2021/Mark Twain Medical Center/106050932_CDM_All_2021.xlsx\n",
      "Failed to transform data from hospital Mark Twain Medical Center\n",
      "Parsing  chargemaster-cdm-2021/Martin Luther King, Jr. Community Hospital/106191230_CDM_All_2021.xlsx\n"
     ]
    },
    {
     "name": "stderr",
     "output_type": "stream",
     "text": [
      "/var/folders/yv/3zzm4_cs25v74y31mq6j8_mh0000gr/T/ipykernel_60607/3297213217.py:14: SettingWithCopyWarning: \n",
      "A value is trying to be set on a copy of a slice from a DataFrame.\n",
      "Try using .loc[row_indexer,col_indexer] = value instead\n",
      "\n",
      "See the caveats in the documentation: https://pandas.pydata.org/pandas-docs/stable/user_guide/indexing.html#returning-a-view-versus-a-copy\n",
      "  reported_procedures[\"Hospital\"] = hospital_series\n",
      "/var/folders/yv/3zzm4_cs25v74y31mq6j8_mh0000gr/T/ipykernel_60607/3297213217.py:19: SettingWithCopyWarning: \n",
      "A value is trying to be set on a copy of a slice from a DataFrame.\n",
      "Try using .loc[row_indexer,col_indexer] = value instead\n",
      "\n",
      "See the caveats in the documentation: https://pandas.pydata.org/pandas-docs/stable/user_guide/indexing.html#returning-a-view-versus-a-copy\n",
      "  reported_procedures[\"CPT Code\"] = reported_procedures[\"CPT Code\"].apply(np.int64)\n",
      "/var/folders/yv/3zzm4_cs25v74y31mq6j8_mh0000gr/T/ipykernel_60607/3297213217.py:21: SettingWithCopyWarning: \n",
      "A value is trying to be set on a copy of a slice from a DataFrame.\n",
      "Try using .loc[row_indexer,col_indexer] = value instead\n",
      "\n",
      "See the caveats in the documentation: https://pandas.pydata.org/pandas-docs/stable/user_guide/indexing.html#returning-a-view-versus-a-copy\n",
      "  reported_procedures[\"Average Charge\"] = (reported_procedures[\"Average Charge\"] * 100).astype(np.int64)\n"
     ]
    },
    {
     "name": "stdout",
     "output_type": "stream",
     "text": [
      "Writing reported procedures to reported_procedures/Martin Luther King, Jr. Community Hospital_reported_procedures.csv\n",
      "Parsing  chargemaster-cdm-2021/Mayers Memorial Hospital/106450936_CDM_All_2021.xlsx\n"
     ]
    },
    {
     "name": "stderr",
     "output_type": "stream",
     "text": [
      "/var/folders/yv/3zzm4_cs25v74y31mq6j8_mh0000gr/T/ipykernel_60607/3297213217.py:14: SettingWithCopyWarning: \n",
      "A value is trying to be set on a copy of a slice from a DataFrame.\n",
      "Try using .loc[row_indexer,col_indexer] = value instead\n",
      "\n",
      "See the caveats in the documentation: https://pandas.pydata.org/pandas-docs/stable/user_guide/indexing.html#returning-a-view-versus-a-copy\n",
      "  reported_procedures[\"Hospital\"] = hospital_series\n",
      "/var/folders/yv/3zzm4_cs25v74y31mq6j8_mh0000gr/T/ipykernel_60607/3297213217.py:19: SettingWithCopyWarning: \n",
      "A value is trying to be set on a copy of a slice from a DataFrame.\n",
      "Try using .loc[row_indexer,col_indexer] = value instead\n",
      "\n",
      "See the caveats in the documentation: https://pandas.pydata.org/pandas-docs/stable/user_guide/indexing.html#returning-a-view-versus-a-copy\n",
      "  reported_procedures[\"CPT Code\"] = reported_procedures[\"CPT Code\"].apply(np.int64)\n",
      "/var/folders/yv/3zzm4_cs25v74y31mq6j8_mh0000gr/T/ipykernel_60607/3297213217.py:21: SettingWithCopyWarning: \n",
      "A value is trying to be set on a copy of a slice from a DataFrame.\n",
      "Try using .loc[row_indexer,col_indexer] = value instead\n",
      "\n",
      "See the caveats in the documentation: https://pandas.pydata.org/pandas-docs/stable/user_guide/indexing.html#returning-a-view-versus-a-copy\n",
      "  reported_procedures[\"Average Charge\"] = (reported_procedures[\"Average Charge\"] * 100).astype(np.int64)\n",
      "/var/folders/yv/3zzm4_cs25v74y31mq6j8_mh0000gr/T/ipykernel_60607/3297213217.py:14: SettingWithCopyWarning: \n",
      "A value is trying to be set on a copy of a slice from a DataFrame.\n",
      "Try using .loc[row_indexer,col_indexer] = value instead\n",
      "\n",
      "See the caveats in the documentation: https://pandas.pydata.org/pandas-docs/stable/user_guide/indexing.html#returning-a-view-versus-a-copy\n",
      "  reported_procedures[\"Hospital\"] = hospital_series\n",
      "/var/folders/yv/3zzm4_cs25v74y31mq6j8_mh0000gr/T/ipykernel_60607/3297213217.py:19: SettingWithCopyWarning: \n",
      "A value is trying to be set on a copy of a slice from a DataFrame.\n",
      "Try using .loc[row_indexer,col_indexer] = value instead\n",
      "\n",
      "See the caveats in the documentation: https://pandas.pydata.org/pandas-docs/stable/user_guide/indexing.html#returning-a-view-versus-a-copy\n",
      "  reported_procedures[\"CPT Code\"] = reported_procedures[\"CPT Code\"].apply(np.int64)\n",
      "/var/folders/yv/3zzm4_cs25v74y31mq6j8_mh0000gr/T/ipykernel_60607/3297213217.py:21: SettingWithCopyWarning: \n",
      "A value is trying to be set on a copy of a slice from a DataFrame.\n",
      "Try using .loc[row_indexer,col_indexer] = value instead\n",
      "\n",
      "See the caveats in the documentation: https://pandas.pydata.org/pandas-docs/stable/user_guide/indexing.html#returning-a-view-versus-a-copy\n",
      "  reported_procedures[\"Average Charge\"] = (reported_procedures[\"Average Charge\"] * 100).astype(np.int64)\n"
     ]
    },
    {
     "name": "stdout",
     "output_type": "stream",
     "text": [
      "Writing reported procedures to reported_procedures/Mayers Memorial Hospital_reported_procedures.csv\n",
      "Parsing  chargemaster-cdm-2021/Memorial Hospital - Los Banos/106240924_CDM_All_2021.xlsx\n",
      "Writing reported procedures to reported_procedures/Memorial Hospital - Los Banos_reported_procedures.csv\n",
      "Parsing  chargemaster-cdm-2021/Memorial Hospital - Modesto/106500939_CDM_All_2021.xlsx\n"
     ]
    },
    {
     "name": "stderr",
     "output_type": "stream",
     "text": [
      "/var/folders/yv/3zzm4_cs25v74y31mq6j8_mh0000gr/T/ipykernel_60607/3297213217.py:14: SettingWithCopyWarning: \n",
      "A value is trying to be set on a copy of a slice from a DataFrame.\n",
      "Try using .loc[row_indexer,col_indexer] = value instead\n",
      "\n",
      "See the caveats in the documentation: https://pandas.pydata.org/pandas-docs/stable/user_guide/indexing.html#returning-a-view-versus-a-copy\n",
      "  reported_procedures[\"Hospital\"] = hospital_series\n",
      "/var/folders/yv/3zzm4_cs25v74y31mq6j8_mh0000gr/T/ipykernel_60607/3297213217.py:19: SettingWithCopyWarning: \n",
      "A value is trying to be set on a copy of a slice from a DataFrame.\n",
      "Try using .loc[row_indexer,col_indexer] = value instead\n",
      "\n",
      "See the caveats in the documentation: https://pandas.pydata.org/pandas-docs/stable/user_guide/indexing.html#returning-a-view-versus-a-copy\n",
      "  reported_procedures[\"CPT Code\"] = reported_procedures[\"CPT Code\"].apply(np.int64)\n",
      "/var/folders/yv/3zzm4_cs25v74y31mq6j8_mh0000gr/T/ipykernel_60607/3297213217.py:21: SettingWithCopyWarning: \n",
      "A value is trying to be set on a copy of a slice from a DataFrame.\n",
      "Try using .loc[row_indexer,col_indexer] = value instead\n",
      "\n",
      "See the caveats in the documentation: https://pandas.pydata.org/pandas-docs/stable/user_guide/indexing.html#returning-a-view-versus-a-copy\n",
      "  reported_procedures[\"Average Charge\"] = (reported_procedures[\"Average Charge\"] * 100).astype(np.int64)\n"
     ]
    },
    {
     "name": "stdout",
     "output_type": "stream",
     "text": [
      "Writing reported procedures to reported_procedures/Memorial Hospital - Modesto_reported_procedures.csv\n",
      "Parsing  chargemaster-cdm-2021/Memorialcare Long Beach Medical Center/106190525_CDM_All_2021.xlsx\n"
     ]
    },
    {
     "name": "stderr",
     "output_type": "stream",
     "text": [
      "/var/folders/yv/3zzm4_cs25v74y31mq6j8_mh0000gr/T/ipykernel_60607/3297213217.py:14: SettingWithCopyWarning: \n",
      "A value is trying to be set on a copy of a slice from a DataFrame.\n",
      "Try using .loc[row_indexer,col_indexer] = value instead\n",
      "\n",
      "See the caveats in the documentation: https://pandas.pydata.org/pandas-docs/stable/user_guide/indexing.html#returning-a-view-versus-a-copy\n",
      "  reported_procedures[\"Hospital\"] = hospital_series\n",
      "/var/folders/yv/3zzm4_cs25v74y31mq6j8_mh0000gr/T/ipykernel_60607/3297213217.py:19: SettingWithCopyWarning: \n",
      "A value is trying to be set on a copy of a slice from a DataFrame.\n",
      "Try using .loc[row_indexer,col_indexer] = value instead\n",
      "\n",
      "See the caveats in the documentation: https://pandas.pydata.org/pandas-docs/stable/user_guide/indexing.html#returning-a-view-versus-a-copy\n",
      "  reported_procedures[\"CPT Code\"] = reported_procedures[\"CPT Code\"].apply(np.int64)\n",
      "/var/folders/yv/3zzm4_cs25v74y31mq6j8_mh0000gr/T/ipykernel_60607/3297213217.py:21: SettingWithCopyWarning: \n",
      "A value is trying to be set on a copy of a slice from a DataFrame.\n",
      "Try using .loc[row_indexer,col_indexer] = value instead\n",
      "\n",
      "See the caveats in the documentation: https://pandas.pydata.org/pandas-docs/stable/user_guide/indexing.html#returning-a-view-versus-a-copy\n",
      "  reported_procedures[\"Average Charge\"] = (reported_procedures[\"Average Charge\"] * 100).astype(np.int64)\n"
     ]
    },
    {
     "name": "stdout",
     "output_type": "stream",
     "text": [
      "Writing reported procedures to reported_procedures/Memorialcare Long Beach Medical Center_reported_procedures.csv\n",
      "Parsing  chargemaster-cdm-2021/Memorialcare Miller Children's & Women's Hospital Long Beach/106196168_CDM_All_2021.xlsx\n"
     ]
    },
    {
     "name": "stderr",
     "output_type": "stream",
     "text": [
      "/var/folders/yv/3zzm4_cs25v74y31mq6j8_mh0000gr/T/ipykernel_60607/3297213217.py:14: SettingWithCopyWarning: \n",
      "A value is trying to be set on a copy of a slice from a DataFrame.\n",
      "Try using .loc[row_indexer,col_indexer] = value instead\n",
      "\n",
      "See the caveats in the documentation: https://pandas.pydata.org/pandas-docs/stable/user_guide/indexing.html#returning-a-view-versus-a-copy\n",
      "  reported_procedures[\"Hospital\"] = hospital_series\n",
      "/var/folders/yv/3zzm4_cs25v74y31mq6j8_mh0000gr/T/ipykernel_60607/3297213217.py:19: SettingWithCopyWarning: \n",
      "A value is trying to be set on a copy of a slice from a DataFrame.\n",
      "Try using .loc[row_indexer,col_indexer] = value instead\n",
      "\n",
      "See the caveats in the documentation: https://pandas.pydata.org/pandas-docs/stable/user_guide/indexing.html#returning-a-view-versus-a-copy\n",
      "  reported_procedures[\"CPT Code\"] = reported_procedures[\"CPT Code\"].apply(np.int64)\n",
      "/var/folders/yv/3zzm4_cs25v74y31mq6j8_mh0000gr/T/ipykernel_60607/3297213217.py:21: SettingWithCopyWarning: \n",
      "A value is trying to be set on a copy of a slice from a DataFrame.\n",
      "Try using .loc[row_indexer,col_indexer] = value instead\n",
      "\n",
      "See the caveats in the documentation: https://pandas.pydata.org/pandas-docs/stable/user_guide/indexing.html#returning-a-view-versus-a-copy\n",
      "  reported_procedures[\"Average Charge\"] = (reported_procedures[\"Average Charge\"] * 100).astype(np.int64)\n"
     ]
    },
    {
     "name": "stdout",
     "output_type": "stream",
     "text": [
      "Writing reported procedures to reported_procedures/Memorialcare Miller Children's & Women's Hospital Long Beach_reported_procedures.csv\n",
      "Parsing  chargemaster-cdm-2021/Memorialcare Orange Coast Medical Center/106300225_CDM_All_2021.xlsx\n"
     ]
    },
    {
     "name": "stderr",
     "output_type": "stream",
     "text": [
      "/var/folders/yv/3zzm4_cs25v74y31mq6j8_mh0000gr/T/ipykernel_60607/3297213217.py:14: SettingWithCopyWarning: \n",
      "A value is trying to be set on a copy of a slice from a DataFrame.\n",
      "Try using .loc[row_indexer,col_indexer] = value instead\n",
      "\n",
      "See the caveats in the documentation: https://pandas.pydata.org/pandas-docs/stable/user_guide/indexing.html#returning-a-view-versus-a-copy\n",
      "  reported_procedures[\"Hospital\"] = hospital_series\n",
      "/var/folders/yv/3zzm4_cs25v74y31mq6j8_mh0000gr/T/ipykernel_60607/3297213217.py:19: SettingWithCopyWarning: \n",
      "A value is trying to be set on a copy of a slice from a DataFrame.\n",
      "Try using .loc[row_indexer,col_indexer] = value instead\n",
      "\n",
      "See the caveats in the documentation: https://pandas.pydata.org/pandas-docs/stable/user_guide/indexing.html#returning-a-view-versus-a-copy\n",
      "  reported_procedures[\"CPT Code\"] = reported_procedures[\"CPT Code\"].apply(np.int64)\n",
      "/var/folders/yv/3zzm4_cs25v74y31mq6j8_mh0000gr/T/ipykernel_60607/3297213217.py:21: SettingWithCopyWarning: \n",
      "A value is trying to be set on a copy of a slice from a DataFrame.\n",
      "Try using .loc[row_indexer,col_indexer] = value instead\n",
      "\n",
      "See the caveats in the documentation: https://pandas.pydata.org/pandas-docs/stable/user_guide/indexing.html#returning-a-view-versus-a-copy\n",
      "  reported_procedures[\"Average Charge\"] = (reported_procedures[\"Average Charge\"] * 100).astype(np.int64)\n"
     ]
    },
    {
     "name": "stdout",
     "output_type": "stream",
     "text": [
      "Writing reported procedures to reported_procedures/Memorialcare Orange Coast Medical Center_reported_procedures.csv\n",
      "Parsing  chargemaster-cdm-2021/Memorialcare Saddleback Medical Center/106301317_CDM_All_2021.xlsx\n"
     ]
    },
    {
     "name": "stderr",
     "output_type": "stream",
     "text": [
      "/var/folders/yv/3zzm4_cs25v74y31mq6j8_mh0000gr/T/ipykernel_60607/3297213217.py:14: SettingWithCopyWarning: \n",
      "A value is trying to be set on a copy of a slice from a DataFrame.\n",
      "Try using .loc[row_indexer,col_indexer] = value instead\n",
      "\n",
      "See the caveats in the documentation: https://pandas.pydata.org/pandas-docs/stable/user_guide/indexing.html#returning-a-view-versus-a-copy\n",
      "  reported_procedures[\"Hospital\"] = hospital_series\n",
      "/var/folders/yv/3zzm4_cs25v74y31mq6j8_mh0000gr/T/ipykernel_60607/3297213217.py:19: SettingWithCopyWarning: \n",
      "A value is trying to be set on a copy of a slice from a DataFrame.\n",
      "Try using .loc[row_indexer,col_indexer] = value instead\n",
      "\n",
      "See the caveats in the documentation: https://pandas.pydata.org/pandas-docs/stable/user_guide/indexing.html#returning-a-view-versus-a-copy\n",
      "  reported_procedures[\"CPT Code\"] = reported_procedures[\"CPT Code\"].apply(np.int64)\n",
      "/var/folders/yv/3zzm4_cs25v74y31mq6j8_mh0000gr/T/ipykernel_60607/3297213217.py:21: SettingWithCopyWarning: \n",
      "A value is trying to be set on a copy of a slice from a DataFrame.\n",
      "Try using .loc[row_indexer,col_indexer] = value instead\n",
      "\n",
      "See the caveats in the documentation: https://pandas.pydata.org/pandas-docs/stable/user_guide/indexing.html#returning-a-view-versus-a-copy\n",
      "  reported_procedures[\"Average Charge\"] = (reported_procedures[\"Average Charge\"] * 100).astype(np.int64)\n"
     ]
    },
    {
     "name": "stdout",
     "output_type": "stream",
     "text": [
      "Writing reported procedures to reported_procedures/Memorialcare Saddleback Medical Center_reported_procedures.csv\n",
      "Parsing  chargemaster-cdm-2021/Mercy General Hospital/106340947_CDM_All_2021.xlsx\n"
     ]
    },
    {
     "name": "stderr",
     "output_type": "stream",
     "text": [
      "/var/folders/yv/3zzm4_cs25v74y31mq6j8_mh0000gr/T/ipykernel_60607/3297213217.py:14: SettingWithCopyWarning: \n",
      "A value is trying to be set on a copy of a slice from a DataFrame.\n",
      "Try using .loc[row_indexer,col_indexer] = value instead\n",
      "\n",
      "See the caveats in the documentation: https://pandas.pydata.org/pandas-docs/stable/user_guide/indexing.html#returning-a-view-versus-a-copy\n",
      "  reported_procedures[\"Hospital\"] = hospital_series\n",
      "/var/folders/yv/3zzm4_cs25v74y31mq6j8_mh0000gr/T/ipykernel_60607/3297213217.py:19: SettingWithCopyWarning: \n",
      "A value is trying to be set on a copy of a slice from a DataFrame.\n",
      "Try using .loc[row_indexer,col_indexer] = value instead\n",
      "\n",
      "See the caveats in the documentation: https://pandas.pydata.org/pandas-docs/stable/user_guide/indexing.html#returning-a-view-versus-a-copy\n",
      "  reported_procedures[\"CPT Code\"] = reported_procedures[\"CPT Code\"].apply(np.int64)\n",
      "/var/folders/yv/3zzm4_cs25v74y31mq6j8_mh0000gr/T/ipykernel_60607/3297213217.py:21: SettingWithCopyWarning: \n",
      "A value is trying to be set on a copy of a slice from a DataFrame.\n",
      "Try using .loc[row_indexer,col_indexer] = value instead\n",
      "\n",
      "See the caveats in the documentation: https://pandas.pydata.org/pandas-docs/stable/user_guide/indexing.html#returning-a-view-versus-a-copy\n",
      "  reported_procedures[\"Average Charge\"] = (reported_procedures[\"Average Charge\"] * 100).astype(np.int64)\n"
     ]
    },
    {
     "name": "stdout",
     "output_type": "stream",
     "text": [
      "Writing reported procedures to reported_procedures/Mercy General Hospital_reported_procedures.csv\n",
      "Parsing  chargemaster-cdm-2021/Mercy Hospital - Bakersfield/106150761_CDM_All_2021.xlsx\n"
     ]
    },
    {
     "name": "stderr",
     "output_type": "stream",
     "text": [
      "/var/folders/yv/3zzm4_cs25v74y31mq6j8_mh0000gr/T/ipykernel_60607/3297213217.py:14: SettingWithCopyWarning: \n",
      "A value is trying to be set on a copy of a slice from a DataFrame.\n",
      "Try using .loc[row_indexer,col_indexer] = value instead\n",
      "\n",
      "See the caveats in the documentation: https://pandas.pydata.org/pandas-docs/stable/user_guide/indexing.html#returning-a-view-versus-a-copy\n",
      "  reported_procedures[\"Hospital\"] = hospital_series\n",
      "/var/folders/yv/3zzm4_cs25v74y31mq6j8_mh0000gr/T/ipykernel_60607/3297213217.py:19: SettingWithCopyWarning: \n",
      "A value is trying to be set on a copy of a slice from a DataFrame.\n",
      "Try using .loc[row_indexer,col_indexer] = value instead\n",
      "\n",
      "See the caveats in the documentation: https://pandas.pydata.org/pandas-docs/stable/user_guide/indexing.html#returning-a-view-versus-a-copy\n",
      "  reported_procedures[\"CPT Code\"] = reported_procedures[\"CPT Code\"].apply(np.int64)\n",
      "/var/folders/yv/3zzm4_cs25v74y31mq6j8_mh0000gr/T/ipykernel_60607/3297213217.py:21: SettingWithCopyWarning: \n",
      "A value is trying to be set on a copy of a slice from a DataFrame.\n",
      "Try using .loc[row_indexer,col_indexer] = value instead\n",
      "\n",
      "See the caveats in the documentation: https://pandas.pydata.org/pandas-docs/stable/user_guide/indexing.html#returning-a-view-versus-a-copy\n",
      "  reported_procedures[\"Average Charge\"] = (reported_procedures[\"Average Charge\"] * 100).astype(np.int64)\n"
     ]
    },
    {
     "name": "stdout",
     "output_type": "stream",
     "text": [
      "Writing reported procedures to reported_procedures/Mercy Hospital - Bakersfield_reported_procedures.csv\n",
      "Parsing  chargemaster-cdm-2021/Mercy Hospital - Folsom/106344029_CDM_All_2021.xlsx\n"
     ]
    },
    {
     "name": "stderr",
     "output_type": "stream",
     "text": [
      "/var/folders/yv/3zzm4_cs25v74y31mq6j8_mh0000gr/T/ipykernel_60607/3297213217.py:14: SettingWithCopyWarning: \n",
      "A value is trying to be set on a copy of a slice from a DataFrame.\n",
      "Try using .loc[row_indexer,col_indexer] = value instead\n",
      "\n",
      "See the caveats in the documentation: https://pandas.pydata.org/pandas-docs/stable/user_guide/indexing.html#returning-a-view-versus-a-copy\n",
      "  reported_procedures[\"Hospital\"] = hospital_series\n",
      "/var/folders/yv/3zzm4_cs25v74y31mq6j8_mh0000gr/T/ipykernel_60607/3297213217.py:19: SettingWithCopyWarning: \n",
      "A value is trying to be set on a copy of a slice from a DataFrame.\n",
      "Try using .loc[row_indexer,col_indexer] = value instead\n",
      "\n",
      "See the caveats in the documentation: https://pandas.pydata.org/pandas-docs/stable/user_guide/indexing.html#returning-a-view-versus-a-copy\n",
      "  reported_procedures[\"CPT Code\"] = reported_procedures[\"CPT Code\"].apply(np.int64)\n",
      "/var/folders/yv/3zzm4_cs25v74y31mq6j8_mh0000gr/T/ipykernel_60607/3297213217.py:21: SettingWithCopyWarning: \n",
      "A value is trying to be set on a copy of a slice from a DataFrame.\n",
      "Try using .loc[row_indexer,col_indexer] = value instead\n",
      "\n",
      "See the caveats in the documentation: https://pandas.pydata.org/pandas-docs/stable/user_guide/indexing.html#returning-a-view-versus-a-copy\n",
      "  reported_procedures[\"Average Charge\"] = (reported_procedures[\"Average Charge\"] * 100).astype(np.int64)\n"
     ]
    },
    {
     "name": "stdout",
     "output_type": "stream",
     "text": [
      "Writing reported procedures to reported_procedures/Mercy Hospital - Folsom_reported_procedures.csv\n",
      "Parsing  chargemaster-cdm-2021/Mercy Hospital - Mt Shasta/106470871_CDM_All_2021.xlsx\n"
     ]
    },
    {
     "name": "stderr",
     "output_type": "stream",
     "text": [
      "/var/folders/yv/3zzm4_cs25v74y31mq6j8_mh0000gr/T/ipykernel_60607/3297213217.py:14: SettingWithCopyWarning: \n",
      "A value is trying to be set on a copy of a slice from a DataFrame.\n",
      "Try using .loc[row_indexer,col_indexer] = value instead\n",
      "\n",
      "See the caveats in the documentation: https://pandas.pydata.org/pandas-docs/stable/user_guide/indexing.html#returning-a-view-versus-a-copy\n",
      "  reported_procedures[\"Hospital\"] = hospital_series\n",
      "/var/folders/yv/3zzm4_cs25v74y31mq6j8_mh0000gr/T/ipykernel_60607/3297213217.py:19: SettingWithCopyWarning: \n",
      "A value is trying to be set on a copy of a slice from a DataFrame.\n",
      "Try using .loc[row_indexer,col_indexer] = value instead\n",
      "\n",
      "See the caveats in the documentation: https://pandas.pydata.org/pandas-docs/stable/user_guide/indexing.html#returning-a-view-versus-a-copy\n",
      "  reported_procedures[\"CPT Code\"] = reported_procedures[\"CPT Code\"].apply(np.int64)\n",
      "/var/folders/yv/3zzm4_cs25v74y31mq6j8_mh0000gr/T/ipykernel_60607/3297213217.py:21: SettingWithCopyWarning: \n",
      "A value is trying to be set on a copy of a slice from a DataFrame.\n",
      "Try using .loc[row_indexer,col_indexer] = value instead\n",
      "\n",
      "See the caveats in the documentation: https://pandas.pydata.org/pandas-docs/stable/user_guide/indexing.html#returning-a-view-versus-a-copy\n",
      "  reported_procedures[\"Average Charge\"] = (reported_procedures[\"Average Charge\"] * 100).astype(np.int64)\n"
     ]
    },
    {
     "name": "stdout",
     "output_type": "stream",
     "text": [
      "Writing reported procedures to reported_procedures/Mercy Hospital - Mt Shasta_reported_procedures.csv\n",
      "Parsing  chargemaster-cdm-2021/Mercy Medical Center - Merced/106240942_CDM_All_2021.xlsx\n"
     ]
    },
    {
     "name": "stderr",
     "output_type": "stream",
     "text": [
      "/var/folders/yv/3zzm4_cs25v74y31mq6j8_mh0000gr/T/ipykernel_60607/3297213217.py:14: SettingWithCopyWarning: \n",
      "A value is trying to be set on a copy of a slice from a DataFrame.\n",
      "Try using .loc[row_indexer,col_indexer] = value instead\n",
      "\n",
      "See the caveats in the documentation: https://pandas.pydata.org/pandas-docs/stable/user_guide/indexing.html#returning-a-view-versus-a-copy\n",
      "  reported_procedures[\"Hospital\"] = hospital_series\n",
      "/var/folders/yv/3zzm4_cs25v74y31mq6j8_mh0000gr/T/ipykernel_60607/3297213217.py:19: SettingWithCopyWarning: \n",
      "A value is trying to be set on a copy of a slice from a DataFrame.\n",
      "Try using .loc[row_indexer,col_indexer] = value instead\n",
      "\n",
      "See the caveats in the documentation: https://pandas.pydata.org/pandas-docs/stable/user_guide/indexing.html#returning-a-view-versus-a-copy\n",
      "  reported_procedures[\"CPT Code\"] = reported_procedures[\"CPT Code\"].apply(np.int64)\n",
      "/var/folders/yv/3zzm4_cs25v74y31mq6j8_mh0000gr/T/ipykernel_60607/3297213217.py:21: SettingWithCopyWarning: \n",
      "A value is trying to be set on a copy of a slice from a DataFrame.\n",
      "Try using .loc[row_indexer,col_indexer] = value instead\n",
      "\n",
      "See the caveats in the documentation: https://pandas.pydata.org/pandas-docs/stable/user_guide/indexing.html#returning-a-view-versus-a-copy\n",
      "  reported_procedures[\"Average Charge\"] = (reported_procedures[\"Average Charge\"] * 100).astype(np.int64)\n"
     ]
    },
    {
     "name": "stdout",
     "output_type": "stream",
     "text": [
      "Writing reported procedures to reported_procedures/Mercy Medical Center - Merced_reported_procedures.csv\n",
      "Parsing  chargemaster-cdm-2021/Mercy Medical Center - Redding/106450949_CDM_All_2021.xlsx\n"
     ]
    },
    {
     "name": "stderr",
     "output_type": "stream",
     "text": [
      "/var/folders/yv/3zzm4_cs25v74y31mq6j8_mh0000gr/T/ipykernel_60607/3297213217.py:14: SettingWithCopyWarning: \n",
      "A value is trying to be set on a copy of a slice from a DataFrame.\n",
      "Try using .loc[row_indexer,col_indexer] = value instead\n",
      "\n",
      "See the caveats in the documentation: https://pandas.pydata.org/pandas-docs/stable/user_guide/indexing.html#returning-a-view-versus-a-copy\n",
      "  reported_procedures[\"Hospital\"] = hospital_series\n",
      "/var/folders/yv/3zzm4_cs25v74y31mq6j8_mh0000gr/T/ipykernel_60607/3297213217.py:19: SettingWithCopyWarning: \n",
      "A value is trying to be set on a copy of a slice from a DataFrame.\n",
      "Try using .loc[row_indexer,col_indexer] = value instead\n",
      "\n",
      "See the caveats in the documentation: https://pandas.pydata.org/pandas-docs/stable/user_guide/indexing.html#returning-a-view-versus-a-copy\n",
      "  reported_procedures[\"CPT Code\"] = reported_procedures[\"CPT Code\"].apply(np.int64)\n",
      "/var/folders/yv/3zzm4_cs25v74y31mq6j8_mh0000gr/T/ipykernel_60607/3297213217.py:21: SettingWithCopyWarning: \n",
      "A value is trying to be set on a copy of a slice from a DataFrame.\n",
      "Try using .loc[row_indexer,col_indexer] = value instead\n",
      "\n",
      "See the caveats in the documentation: https://pandas.pydata.org/pandas-docs/stable/user_guide/indexing.html#returning-a-view-versus-a-copy\n",
      "  reported_procedures[\"Average Charge\"] = (reported_procedures[\"Average Charge\"] * 100).astype(np.int64)\n"
     ]
    },
    {
     "name": "stdout",
     "output_type": "stream",
     "text": [
      "Writing reported procedures to reported_procedures/Mercy Medical Center - Redding_reported_procedures.csv\n",
      "Parsing  chargemaster-cdm-2021/Mercy San Juan Hospital/106340950_CDM_All_2021.xlsx\n"
     ]
    },
    {
     "name": "stderr",
     "output_type": "stream",
     "text": [
      "/var/folders/yv/3zzm4_cs25v74y31mq6j8_mh0000gr/T/ipykernel_60607/3297213217.py:14: SettingWithCopyWarning: \n",
      "A value is trying to be set on a copy of a slice from a DataFrame.\n",
      "Try using .loc[row_indexer,col_indexer] = value instead\n",
      "\n",
      "See the caveats in the documentation: https://pandas.pydata.org/pandas-docs/stable/user_guide/indexing.html#returning-a-view-versus-a-copy\n",
      "  reported_procedures[\"Hospital\"] = hospital_series\n",
      "/var/folders/yv/3zzm4_cs25v74y31mq6j8_mh0000gr/T/ipykernel_60607/3297213217.py:19: SettingWithCopyWarning: \n",
      "A value is trying to be set on a copy of a slice from a DataFrame.\n",
      "Try using .loc[row_indexer,col_indexer] = value instead\n",
      "\n",
      "See the caveats in the documentation: https://pandas.pydata.org/pandas-docs/stable/user_guide/indexing.html#returning-a-view-versus-a-copy\n",
      "  reported_procedures[\"CPT Code\"] = reported_procedures[\"CPT Code\"].apply(np.int64)\n",
      "/var/folders/yv/3zzm4_cs25v74y31mq6j8_mh0000gr/T/ipykernel_60607/3297213217.py:21: SettingWithCopyWarning: \n",
      "A value is trying to be set on a copy of a slice from a DataFrame.\n",
      "Try using .loc[row_indexer,col_indexer] = value instead\n",
      "\n",
      "See the caveats in the documentation: https://pandas.pydata.org/pandas-docs/stable/user_guide/indexing.html#returning-a-view-versus-a-copy\n",
      "  reported_procedures[\"Average Charge\"] = (reported_procedures[\"Average Charge\"] * 100).astype(np.int64)\n"
     ]
    },
    {
     "name": "stdout",
     "output_type": "stream",
     "text": [
      "Writing reported procedures to reported_procedures/Mercy San Juan Hospital_reported_procedures.csv\n",
      "Parsing  chargemaster-cdm-2021/Methodist Hospital - Sacramento/106340951_CDM_All_2021.xlsx\n"
     ]
    },
    {
     "name": "stderr",
     "output_type": "stream",
     "text": [
      "/var/folders/yv/3zzm4_cs25v74y31mq6j8_mh0000gr/T/ipykernel_60607/3297213217.py:14: SettingWithCopyWarning: \n",
      "A value is trying to be set on a copy of a slice from a DataFrame.\n",
      "Try using .loc[row_indexer,col_indexer] = value instead\n",
      "\n",
      "See the caveats in the documentation: https://pandas.pydata.org/pandas-docs/stable/user_guide/indexing.html#returning-a-view-versus-a-copy\n",
      "  reported_procedures[\"Hospital\"] = hospital_series\n",
      "/var/folders/yv/3zzm4_cs25v74y31mq6j8_mh0000gr/T/ipykernel_60607/3297213217.py:19: SettingWithCopyWarning: \n",
      "A value is trying to be set on a copy of a slice from a DataFrame.\n",
      "Try using .loc[row_indexer,col_indexer] = value instead\n",
      "\n",
      "See the caveats in the documentation: https://pandas.pydata.org/pandas-docs/stable/user_guide/indexing.html#returning-a-view-versus-a-copy\n",
      "  reported_procedures[\"CPT Code\"] = reported_procedures[\"CPT Code\"].apply(np.int64)\n",
      "/var/folders/yv/3zzm4_cs25v74y31mq6j8_mh0000gr/T/ipykernel_60607/3297213217.py:21: SettingWithCopyWarning: \n",
      "A value is trying to be set on a copy of a slice from a DataFrame.\n",
      "Try using .loc[row_indexer,col_indexer] = value instead\n",
      "\n",
      "See the caveats in the documentation: https://pandas.pydata.org/pandas-docs/stable/user_guide/indexing.html#returning-a-view-versus-a-copy\n",
      "  reported_procedures[\"Average Charge\"] = (reported_procedures[\"Average Charge\"] * 100).astype(np.int64)\n"
     ]
    },
    {
     "name": "stdout",
     "output_type": "stream",
     "text": [
      "Writing reported procedures to reported_procedures/Methodist Hospital - Sacramento_reported_procedures.csv\n",
      "Parsing  chargemaster-cdm-2021/Metropolitan State Hospital/106190958_CDM_All_2021.xlsx\n"
     ]
    },
    {
     "name": "stderr",
     "output_type": "stream",
     "text": [
      "/var/folders/yv/3zzm4_cs25v74y31mq6j8_mh0000gr/T/ipykernel_60607/3297213217.py:14: SettingWithCopyWarning: \n",
      "A value is trying to be set on a copy of a slice from a DataFrame.\n",
      "Try using .loc[row_indexer,col_indexer] = value instead\n",
      "\n",
      "See the caveats in the documentation: https://pandas.pydata.org/pandas-docs/stable/user_guide/indexing.html#returning-a-view-versus-a-copy\n",
      "  reported_procedures[\"Hospital\"] = hospital_series\n",
      "/var/folders/yv/3zzm4_cs25v74y31mq6j8_mh0000gr/T/ipykernel_60607/3297213217.py:19: SettingWithCopyWarning: \n",
      "A value is trying to be set on a copy of a slice from a DataFrame.\n",
      "Try using .loc[row_indexer,col_indexer] = value instead\n",
      "\n",
      "See the caveats in the documentation: https://pandas.pydata.org/pandas-docs/stable/user_guide/indexing.html#returning-a-view-versus-a-copy\n",
      "  reported_procedures[\"CPT Code\"] = reported_procedures[\"CPT Code\"].apply(np.int64)\n",
      "/var/folders/yv/3zzm4_cs25v74y31mq6j8_mh0000gr/T/ipykernel_60607/3297213217.py:21: SettingWithCopyWarning: \n",
      "A value is trying to be set on a copy of a slice from a DataFrame.\n",
      "Try using .loc[row_indexer,col_indexer] = value instead\n",
      "\n",
      "See the caveats in the documentation: https://pandas.pydata.org/pandas-docs/stable/user_guide/indexing.html#returning-a-view-versus-a-copy\n",
      "  reported_procedures[\"Average Charge\"] = (reported_procedures[\"Average Charge\"] * 100).astype(np.int64)\n"
     ]
    },
    {
     "name": "stdout",
     "output_type": "stream",
     "text": [
      "Writing reported procedures to reported_procedures/Metropolitan State Hospital_reported_procedures.csv\n",
      "Parsing  chargemaster-cdm-2021/Mills-Peninsula Medical Center/106410852_CDM_All_2021.xlsx\n"
     ]
    },
    {
     "name": "stderr",
     "output_type": "stream",
     "text": [
      "/var/folders/yv/3zzm4_cs25v74y31mq6j8_mh0000gr/T/ipykernel_60607/3297213217.py:14: SettingWithCopyWarning: \n",
      "A value is trying to be set on a copy of a slice from a DataFrame.\n",
      "Try using .loc[row_indexer,col_indexer] = value instead\n",
      "\n",
      "See the caveats in the documentation: https://pandas.pydata.org/pandas-docs/stable/user_guide/indexing.html#returning-a-view-versus-a-copy\n",
      "  reported_procedures[\"Hospital\"] = hospital_series\n",
      "/var/folders/yv/3zzm4_cs25v74y31mq6j8_mh0000gr/T/ipykernel_60607/3297213217.py:19: SettingWithCopyWarning: \n",
      "A value is trying to be set on a copy of a slice from a DataFrame.\n",
      "Try using .loc[row_indexer,col_indexer] = value instead\n",
      "\n",
      "See the caveats in the documentation: https://pandas.pydata.org/pandas-docs/stable/user_guide/indexing.html#returning-a-view-versus-a-copy\n",
      "  reported_procedures[\"CPT Code\"] = reported_procedures[\"CPT Code\"].apply(np.int64)\n",
      "/var/folders/yv/3zzm4_cs25v74y31mq6j8_mh0000gr/T/ipykernel_60607/3297213217.py:21: SettingWithCopyWarning: \n",
      "A value is trying to be set on a copy of a slice from a DataFrame.\n",
      "Try using .loc[row_indexer,col_indexer] = value instead\n",
      "\n",
      "See the caveats in the documentation: https://pandas.pydata.org/pandas-docs/stable/user_guide/indexing.html#returning-a-view-versus-a-copy\n",
      "  reported_procedures[\"Average Charge\"] = (reported_procedures[\"Average Charge\"] * 100).astype(np.int64)\n"
     ]
    },
    {
     "name": "stdout",
     "output_type": "stream",
     "text": [
      "Writing reported procedures to reported_procedures/Mills-Peninsula Medical Center_reported_procedures.csv\n",
      "Parsing  chargemaster-cdm-2021/Mission Hospital Regional Medical Center/106301262_CDM_All_2021.xlsx\n"
     ]
    },
    {
     "name": "stderr",
     "output_type": "stream",
     "text": [
      "/var/folders/yv/3zzm4_cs25v74y31mq6j8_mh0000gr/T/ipykernel_60607/3297213217.py:14: SettingWithCopyWarning: \n",
      "A value is trying to be set on a copy of a slice from a DataFrame.\n",
      "Try using .loc[row_indexer,col_indexer] = value instead\n",
      "\n",
      "See the caveats in the documentation: https://pandas.pydata.org/pandas-docs/stable/user_guide/indexing.html#returning-a-view-versus-a-copy\n",
      "  reported_procedures[\"Hospital\"] = hospital_series\n",
      "/var/folders/yv/3zzm4_cs25v74y31mq6j8_mh0000gr/T/ipykernel_60607/3297213217.py:19: SettingWithCopyWarning: \n",
      "A value is trying to be set on a copy of a slice from a DataFrame.\n",
      "Try using .loc[row_indexer,col_indexer] = value instead\n",
      "\n",
      "See the caveats in the documentation: https://pandas.pydata.org/pandas-docs/stable/user_guide/indexing.html#returning-a-view-versus-a-copy\n",
      "  reported_procedures[\"CPT Code\"] = reported_procedures[\"CPT Code\"].apply(np.int64)\n",
      "/var/folders/yv/3zzm4_cs25v74y31mq6j8_mh0000gr/T/ipykernel_60607/3297213217.py:21: SettingWithCopyWarning: \n",
      "A value is trying to be set on a copy of a slice from a DataFrame.\n",
      "Try using .loc[row_indexer,col_indexer] = value instead\n",
      "\n",
      "See the caveats in the documentation: https://pandas.pydata.org/pandas-docs/stable/user_guide/indexing.html#returning-a-view-versus-a-copy\n",
      "  reported_procedures[\"Average Charge\"] = (reported_procedures[\"Average Charge\"] * 100).astype(np.int64)\n"
     ]
    },
    {
     "name": "stdout",
     "output_type": "stream",
     "text": [
      "Writing reported procedures to reported_procedures/Mission Hospital Regional Medical Center_reported_procedures.csv\n",
      "Parsing  chargemaster-cdm-2021/Montclair Hospital Medical Center/106361166_CDM_All_2021.xlsx\n"
     ]
    },
    {
     "name": "stderr",
     "output_type": "stream",
     "text": [
      "/var/folders/yv/3zzm4_cs25v74y31mq6j8_mh0000gr/T/ipykernel_60607/3297213217.py:14: SettingWithCopyWarning: \n",
      "A value is trying to be set on a copy of a slice from a DataFrame.\n",
      "Try using .loc[row_indexer,col_indexer] = value instead\n",
      "\n",
      "See the caveats in the documentation: https://pandas.pydata.org/pandas-docs/stable/user_guide/indexing.html#returning-a-view-versus-a-copy\n",
      "  reported_procedures[\"Hospital\"] = hospital_series\n",
      "/var/folders/yv/3zzm4_cs25v74y31mq6j8_mh0000gr/T/ipykernel_60607/3297213217.py:19: SettingWithCopyWarning: \n",
      "A value is trying to be set on a copy of a slice from a DataFrame.\n",
      "Try using .loc[row_indexer,col_indexer] = value instead\n",
      "\n",
      "See the caveats in the documentation: https://pandas.pydata.org/pandas-docs/stable/user_guide/indexing.html#returning-a-view-versus-a-copy\n",
      "  reported_procedures[\"CPT Code\"] = reported_procedures[\"CPT Code\"].apply(np.int64)\n",
      "/var/folders/yv/3zzm4_cs25v74y31mq6j8_mh0000gr/T/ipykernel_60607/3297213217.py:21: SettingWithCopyWarning: \n",
      "A value is trying to be set on a copy of a slice from a DataFrame.\n",
      "Try using .loc[row_indexer,col_indexer] = value instead\n",
      "\n",
      "See the caveats in the documentation: https://pandas.pydata.org/pandas-docs/stable/user_guide/indexing.html#returning-a-view-versus-a-copy\n",
      "  reported_procedures[\"Average Charge\"] = (reported_procedures[\"Average Charge\"] * 100).astype(np.int64)\n"
     ]
    },
    {
     "name": "stdout",
     "output_type": "stream",
     "text": [
      "Writing reported procedures to reported_procedures/Montclair Hospital Medical Center_reported_procedures.csv\n",
      "Parsing  chargemaster-cdm-2021/Monterey Park Hospital/106190547_CDM_All_2021.xlsx\n"
     ]
    },
    {
     "name": "stderr",
     "output_type": "stream",
     "text": [
      "/var/folders/yv/3zzm4_cs25v74y31mq6j8_mh0000gr/T/ipykernel_60607/3297213217.py:14: SettingWithCopyWarning: \n",
      "A value is trying to be set on a copy of a slice from a DataFrame.\n",
      "Try using .loc[row_indexer,col_indexer] = value instead\n",
      "\n",
      "See the caveats in the documentation: https://pandas.pydata.org/pandas-docs/stable/user_guide/indexing.html#returning-a-view-versus-a-copy\n",
      "  reported_procedures[\"Hospital\"] = hospital_series\n",
      "/var/folders/yv/3zzm4_cs25v74y31mq6j8_mh0000gr/T/ipykernel_60607/3297213217.py:19: SettingWithCopyWarning: \n",
      "A value is trying to be set on a copy of a slice from a DataFrame.\n",
      "Try using .loc[row_indexer,col_indexer] = value instead\n",
      "\n",
      "See the caveats in the documentation: https://pandas.pydata.org/pandas-docs/stable/user_guide/indexing.html#returning-a-view-versus-a-copy\n",
      "  reported_procedures[\"CPT Code\"] = reported_procedures[\"CPT Code\"].apply(np.int64)\n",
      "/var/folders/yv/3zzm4_cs25v74y31mq6j8_mh0000gr/T/ipykernel_60607/3297213217.py:21: SettingWithCopyWarning: \n",
      "A value is trying to be set on a copy of a slice from a DataFrame.\n",
      "Try using .loc[row_indexer,col_indexer] = value instead\n",
      "\n",
      "See the caveats in the documentation: https://pandas.pydata.org/pandas-docs/stable/user_guide/indexing.html#returning-a-view-versus-a-copy\n",
      "  reported_procedures[\"Average Charge\"] = (reported_procedures[\"Average Charge\"] * 100).astype(np.int64)\n"
     ]
    },
    {
     "name": "stdout",
     "output_type": "stream",
     "text": [
      "Writing reported procedures to reported_procedures/Monterey Park Hospital_reported_procedures.csv\n",
      "Parsing  chargemaster-cdm-2021/Motion Picture & Television Fund Hospital/106190552_CDM_All_2021.xlsx\n",
      "Failed to read data from hospital Motion Picture & Television Fund Hospital\n",
      "Parsing  chargemaster-cdm-2021/Mountains Community Hospital/106361266_CDM_All_2021.xls\n",
      "Failed to read data from hospital Mountains Community Hospital\n",
      "Parsing  chargemaster-cdm-2021/Napa State Hospital/160281266_CDM_All_2021.xlsx\n"
     ]
    },
    {
     "name": "stderr",
     "output_type": "stream",
     "text": [
      "/var/folders/yv/3zzm4_cs25v74y31mq6j8_mh0000gr/T/ipykernel_60607/3297213217.py:14: SettingWithCopyWarning: \n",
      "A value is trying to be set on a copy of a slice from a DataFrame.\n",
      "Try using .loc[row_indexer,col_indexer] = value instead\n",
      "\n",
      "See the caveats in the documentation: https://pandas.pydata.org/pandas-docs/stable/user_guide/indexing.html#returning-a-view-versus-a-copy\n",
      "  reported_procedures[\"Hospital\"] = hospital_series\n",
      "/var/folders/yv/3zzm4_cs25v74y31mq6j8_mh0000gr/T/ipykernel_60607/3297213217.py:19: SettingWithCopyWarning: \n",
      "A value is trying to be set on a copy of a slice from a DataFrame.\n",
      "Try using .loc[row_indexer,col_indexer] = value instead\n",
      "\n",
      "See the caveats in the documentation: https://pandas.pydata.org/pandas-docs/stable/user_guide/indexing.html#returning-a-view-versus-a-copy\n",
      "  reported_procedures[\"CPT Code\"] = reported_procedures[\"CPT Code\"].apply(np.int64)\n",
      "/var/folders/yv/3zzm4_cs25v74y31mq6j8_mh0000gr/T/ipykernel_60607/3297213217.py:21: SettingWithCopyWarning: \n",
      "A value is trying to be set on a copy of a slice from a DataFrame.\n",
      "Try using .loc[row_indexer,col_indexer] = value instead\n",
      "\n",
      "See the caveats in the documentation: https://pandas.pydata.org/pandas-docs/stable/user_guide/indexing.html#returning-a-view-versus-a-copy\n",
      "  reported_procedures[\"Average Charge\"] = (reported_procedures[\"Average Charge\"] * 100).astype(np.int64)\n"
     ]
    },
    {
     "name": "stdout",
     "output_type": "stream",
     "text": [
      "Writing reported procedures to reported_procedures/Napa State Hospital_reported_procedures.csv\n",
      "Parsing  chargemaster-cdm-2021/Natividad Medical Center/106274043_CDM_All_2021.xlsx\n"
     ]
    },
    {
     "name": "stderr",
     "output_type": "stream",
     "text": [
      "/var/folders/yv/3zzm4_cs25v74y31mq6j8_mh0000gr/T/ipykernel_60607/3297213217.py:14: SettingWithCopyWarning: \n",
      "A value is trying to be set on a copy of a slice from a DataFrame.\n",
      "Try using .loc[row_indexer,col_indexer] = value instead\n",
      "\n",
      "See the caveats in the documentation: https://pandas.pydata.org/pandas-docs/stable/user_guide/indexing.html#returning-a-view-versus-a-copy\n",
      "  reported_procedures[\"Hospital\"] = hospital_series\n",
      "/var/folders/yv/3zzm4_cs25v74y31mq6j8_mh0000gr/T/ipykernel_60607/3297213217.py:19: SettingWithCopyWarning: \n",
      "A value is trying to be set on a copy of a slice from a DataFrame.\n",
      "Try using .loc[row_indexer,col_indexer] = value instead\n",
      "\n",
      "See the caveats in the documentation: https://pandas.pydata.org/pandas-docs/stable/user_guide/indexing.html#returning-a-view-versus-a-copy\n",
      "  reported_procedures[\"CPT Code\"] = reported_procedures[\"CPT Code\"].apply(np.int64)\n",
      "/var/folders/yv/3zzm4_cs25v74y31mq6j8_mh0000gr/T/ipykernel_60607/3297213217.py:21: SettingWithCopyWarning: \n",
      "A value is trying to be set on a copy of a slice from a DataFrame.\n",
      "Try using .loc[row_indexer,col_indexer] = value instead\n",
      "\n",
      "See the caveats in the documentation: https://pandas.pydata.org/pandas-docs/stable/user_guide/indexing.html#returning-a-view-versus-a-copy\n",
      "  reported_procedures[\"Average Charge\"] = (reported_procedures[\"Average Charge\"] * 100).astype(np.int64)\n"
     ]
    },
    {
     "name": "stdout",
     "output_type": "stream",
     "text": [
      "Writing reported procedures to reported_procedures/Natividad Medical Center_reported_procedures.csv\n",
      "Parsing  chargemaster-cdm-2021/North Bay Medical Center/106481357_CDM_All_2021.xlsx\n"
     ]
    },
    {
     "name": "stderr",
     "output_type": "stream",
     "text": [
      "/var/folders/yv/3zzm4_cs25v74y31mq6j8_mh0000gr/T/ipykernel_60607/3297213217.py:14: SettingWithCopyWarning: \n",
      "A value is trying to be set on a copy of a slice from a DataFrame.\n",
      "Try using .loc[row_indexer,col_indexer] = value instead\n",
      "\n",
      "See the caveats in the documentation: https://pandas.pydata.org/pandas-docs/stable/user_guide/indexing.html#returning-a-view-versus-a-copy\n",
      "  reported_procedures[\"Hospital\"] = hospital_series\n",
      "/var/folders/yv/3zzm4_cs25v74y31mq6j8_mh0000gr/T/ipykernel_60607/3297213217.py:19: SettingWithCopyWarning: \n",
      "A value is trying to be set on a copy of a slice from a DataFrame.\n",
      "Try using .loc[row_indexer,col_indexer] = value instead\n",
      "\n",
      "See the caveats in the documentation: https://pandas.pydata.org/pandas-docs/stable/user_guide/indexing.html#returning-a-view-versus-a-copy\n",
      "  reported_procedures[\"CPT Code\"] = reported_procedures[\"CPT Code\"].apply(np.int64)\n",
      "/var/folders/yv/3zzm4_cs25v74y31mq6j8_mh0000gr/T/ipykernel_60607/3297213217.py:21: SettingWithCopyWarning: \n",
      "A value is trying to be set on a copy of a slice from a DataFrame.\n",
      "Try using .loc[row_indexer,col_indexer] = value instead\n",
      "\n",
      "See the caveats in the documentation: https://pandas.pydata.org/pandas-docs/stable/user_guide/indexing.html#returning-a-view-versus-a-copy\n",
      "  reported_procedures[\"Average Charge\"] = (reported_procedures[\"Average Charge\"] * 100).astype(np.int64)\n"
     ]
    },
    {
     "name": "stdout",
     "output_type": "stream",
     "text": [
      "Writing reported procedures to reported_procedures/North Bay Medical Center_reported_procedures.csv\n",
      "Parsing  chargemaster-cdm-2021/Northridge Hospital Medical Center/106190568_CDM_All_2021.xlsx\n"
     ]
    },
    {
     "name": "stderr",
     "output_type": "stream",
     "text": [
      "/var/folders/yv/3zzm4_cs25v74y31mq6j8_mh0000gr/T/ipykernel_60607/3297213217.py:14: SettingWithCopyWarning: \n",
      "A value is trying to be set on a copy of a slice from a DataFrame.\n",
      "Try using .loc[row_indexer,col_indexer] = value instead\n",
      "\n",
      "See the caveats in the documentation: https://pandas.pydata.org/pandas-docs/stable/user_guide/indexing.html#returning-a-view-versus-a-copy\n",
      "  reported_procedures[\"Hospital\"] = hospital_series\n",
      "/var/folders/yv/3zzm4_cs25v74y31mq6j8_mh0000gr/T/ipykernel_60607/3297213217.py:19: SettingWithCopyWarning: \n",
      "A value is trying to be set on a copy of a slice from a DataFrame.\n",
      "Try using .loc[row_indexer,col_indexer] = value instead\n",
      "\n",
      "See the caveats in the documentation: https://pandas.pydata.org/pandas-docs/stable/user_guide/indexing.html#returning-a-view-versus-a-copy\n",
      "  reported_procedures[\"CPT Code\"] = reported_procedures[\"CPT Code\"].apply(np.int64)\n",
      "/var/folders/yv/3zzm4_cs25v74y31mq6j8_mh0000gr/T/ipykernel_60607/3297213217.py:21: SettingWithCopyWarning: \n",
      "A value is trying to be set on a copy of a slice from a DataFrame.\n",
      "Try using .loc[row_indexer,col_indexer] = value instead\n",
      "\n",
      "See the caveats in the documentation: https://pandas.pydata.org/pandas-docs/stable/user_guide/indexing.html#returning-a-view-versus-a-copy\n",
      "  reported_procedures[\"Average Charge\"] = (reported_procedures[\"Average Charge\"] * 100).astype(np.int64)\n"
     ]
    },
    {
     "name": "stdout",
     "output_type": "stream",
     "text": [
      "Writing reported procedures to reported_procedures/Northridge Hospital Medical Center_reported_procedures.csv\n",
      "Parsing  chargemaster-cdm-2021/Novato Community Hospital/106214034_CDM_All_2021.xlsx\n"
     ]
    },
    {
     "name": "stderr",
     "output_type": "stream",
     "text": [
      "/var/folders/yv/3zzm4_cs25v74y31mq6j8_mh0000gr/T/ipykernel_60607/3297213217.py:14: SettingWithCopyWarning: \n",
      "A value is trying to be set on a copy of a slice from a DataFrame.\n",
      "Try using .loc[row_indexer,col_indexer] = value instead\n",
      "\n",
      "See the caveats in the documentation: https://pandas.pydata.org/pandas-docs/stable/user_guide/indexing.html#returning-a-view-versus-a-copy\n",
      "  reported_procedures[\"Hospital\"] = hospital_series\n",
      "/var/folders/yv/3zzm4_cs25v74y31mq6j8_mh0000gr/T/ipykernel_60607/3297213217.py:19: SettingWithCopyWarning: \n",
      "A value is trying to be set on a copy of a slice from a DataFrame.\n",
      "Try using .loc[row_indexer,col_indexer] = value instead\n",
      "\n",
      "See the caveats in the documentation: https://pandas.pydata.org/pandas-docs/stable/user_guide/indexing.html#returning-a-view-versus-a-copy\n",
      "  reported_procedures[\"CPT Code\"] = reported_procedures[\"CPT Code\"].apply(np.int64)\n",
      "/var/folders/yv/3zzm4_cs25v74y31mq6j8_mh0000gr/T/ipykernel_60607/3297213217.py:21: SettingWithCopyWarning: \n",
      "A value is trying to be set on a copy of a slice from a DataFrame.\n",
      "Try using .loc[row_indexer,col_indexer] = value instead\n",
      "\n",
      "See the caveats in the documentation: https://pandas.pydata.org/pandas-docs/stable/user_guide/indexing.html#returning-a-view-versus-a-copy\n",
      "  reported_procedures[\"Average Charge\"] = (reported_procedures[\"Average Charge\"] * 100).astype(np.int64)\n"
     ]
    },
    {
     "name": "stdout",
     "output_type": "stream",
     "text": [
      "Writing reported procedures to reported_procedures/Novato Community Hospital_reported_procedures.csv\n",
      "Parsing  chargemaster-cdm-2021/O'Connor Hospital/106430837_CDM_All_2019.xlsx\n"
     ]
    },
    {
     "name": "stderr",
     "output_type": "stream",
     "text": [
      "/var/folders/yv/3zzm4_cs25v74y31mq6j8_mh0000gr/T/ipykernel_60607/3297213217.py:14: SettingWithCopyWarning: \n",
      "A value is trying to be set on a copy of a slice from a DataFrame.\n",
      "Try using .loc[row_indexer,col_indexer] = value instead\n",
      "\n",
      "See the caveats in the documentation: https://pandas.pydata.org/pandas-docs/stable/user_guide/indexing.html#returning-a-view-versus-a-copy\n",
      "  reported_procedures[\"Hospital\"] = hospital_series\n",
      "/var/folders/yv/3zzm4_cs25v74y31mq6j8_mh0000gr/T/ipykernel_60607/3297213217.py:19: SettingWithCopyWarning: \n",
      "A value is trying to be set on a copy of a slice from a DataFrame.\n",
      "Try using .loc[row_indexer,col_indexer] = value instead\n",
      "\n",
      "See the caveats in the documentation: https://pandas.pydata.org/pandas-docs/stable/user_guide/indexing.html#returning-a-view-versus-a-copy\n",
      "  reported_procedures[\"CPT Code\"] = reported_procedures[\"CPT Code\"].apply(np.int64)\n",
      "/var/folders/yv/3zzm4_cs25v74y31mq6j8_mh0000gr/T/ipykernel_60607/3297213217.py:21: SettingWithCopyWarning: \n",
      "A value is trying to be set on a copy of a slice from a DataFrame.\n",
      "Try using .loc[row_indexer,col_indexer] = value instead\n",
      "\n",
      "See the caveats in the documentation: https://pandas.pydata.org/pandas-docs/stable/user_guide/indexing.html#returning-a-view-versus-a-copy\n",
      "  reported_procedures[\"Average Charge\"] = (reported_procedures[\"Average Charge\"] * 100).astype(np.int64)\n",
      "/var/folders/yv/3zzm4_cs25v74y31mq6j8_mh0000gr/T/ipykernel_60607/3297213217.py:14: SettingWithCopyWarning: \n",
      "A value is trying to be set on a copy of a slice from a DataFrame.\n",
      "Try using .loc[row_indexer,col_indexer] = value instead\n",
      "\n",
      "See the caveats in the documentation: https://pandas.pydata.org/pandas-docs/stable/user_guide/indexing.html#returning-a-view-versus-a-copy\n",
      "  reported_procedures[\"Hospital\"] = hospital_series\n",
      "/var/folders/yv/3zzm4_cs25v74y31mq6j8_mh0000gr/T/ipykernel_60607/3297213217.py:19: SettingWithCopyWarning: \n",
      "A value is trying to be set on a copy of a slice from a DataFrame.\n",
      "Try using .loc[row_indexer,col_indexer] = value instead\n",
      "\n",
      "See the caveats in the documentation: https://pandas.pydata.org/pandas-docs/stable/user_guide/indexing.html#returning-a-view-versus-a-copy\n",
      "  reported_procedures[\"CPT Code\"] = reported_procedures[\"CPT Code\"].apply(np.int64)\n",
      "/var/folders/yv/3zzm4_cs25v74y31mq6j8_mh0000gr/T/ipykernel_60607/3297213217.py:21: SettingWithCopyWarning: \n",
      "A value is trying to be set on a copy of a slice from a DataFrame.\n",
      "Try using .loc[row_indexer,col_indexer] = value instead\n",
      "\n",
      "See the caveats in the documentation: https://pandas.pydata.org/pandas-docs/stable/user_guide/indexing.html#returning-a-view-versus-a-copy\n",
      "  reported_procedures[\"Average Charge\"] = (reported_procedures[\"Average Charge\"] * 100).astype(np.int64)\n"
     ]
    },
    {
     "name": "stdout",
     "output_type": "stream",
     "text": [
      "Writing reported procedures to reported_procedures/O'Connor Hospital_reported_procedures.csv\n",
      "Parsing  chargemaster-cdm-2021/Oak Valley District Hospital/106500967_CDM_All_2021.xlsx\n",
      "Writing reported procedures to reported_procedures/Oak Valley District Hospital_reported_procedures.csv\n",
      "Parsing  chargemaster-cdm-2021/Ojai Valley Community Hospital/106560501_CDM_All_2021.xlsx\n"
     ]
    },
    {
     "name": "stderr",
     "output_type": "stream",
     "text": [
      "/var/folders/yv/3zzm4_cs25v74y31mq6j8_mh0000gr/T/ipykernel_60607/3297213217.py:14: SettingWithCopyWarning: \n",
      "A value is trying to be set on a copy of a slice from a DataFrame.\n",
      "Try using .loc[row_indexer,col_indexer] = value instead\n",
      "\n",
      "See the caveats in the documentation: https://pandas.pydata.org/pandas-docs/stable/user_guide/indexing.html#returning-a-view-versus-a-copy\n",
      "  reported_procedures[\"Hospital\"] = hospital_series\n",
      "/var/folders/yv/3zzm4_cs25v74y31mq6j8_mh0000gr/T/ipykernel_60607/3297213217.py:19: SettingWithCopyWarning: \n",
      "A value is trying to be set on a copy of a slice from a DataFrame.\n",
      "Try using .loc[row_indexer,col_indexer] = value instead\n",
      "\n",
      "See the caveats in the documentation: https://pandas.pydata.org/pandas-docs/stable/user_guide/indexing.html#returning-a-view-versus-a-copy\n",
      "  reported_procedures[\"CPT Code\"] = reported_procedures[\"CPT Code\"].apply(np.int64)\n",
      "/var/folders/yv/3zzm4_cs25v74y31mq6j8_mh0000gr/T/ipykernel_60607/3297213217.py:21: SettingWithCopyWarning: \n",
      "A value is trying to be set on a copy of a slice from a DataFrame.\n",
      "Try using .loc[row_indexer,col_indexer] = value instead\n",
      "\n",
      "See the caveats in the documentation: https://pandas.pydata.org/pandas-docs/stable/user_guide/indexing.html#returning-a-view-versus-a-copy\n",
      "  reported_procedures[\"Average Charge\"] = (reported_procedures[\"Average Charge\"] * 100).astype(np.int64)\n"
     ]
    },
    {
     "name": "stdout",
     "output_type": "stream",
     "text": [
      "Writing reported procedures to reported_procedures/Ojai Valley Community Hospital_reported_procedures.csv\n",
      "Parsing  chargemaster-cdm-2021/Pacifica Hospital of the Valley/106190696_CDM_All_2021.xlsx\n"
     ]
    },
    {
     "name": "stderr",
     "output_type": "stream",
     "text": [
      "/var/folders/yv/3zzm4_cs25v74y31mq6j8_mh0000gr/T/ipykernel_60607/3297213217.py:14: SettingWithCopyWarning: \n",
      "A value is trying to be set on a copy of a slice from a DataFrame.\n",
      "Try using .loc[row_indexer,col_indexer] = value instead\n",
      "\n",
      "See the caveats in the documentation: https://pandas.pydata.org/pandas-docs/stable/user_guide/indexing.html#returning-a-view-versus-a-copy\n",
      "  reported_procedures[\"Hospital\"] = hospital_series\n",
      "/var/folders/yv/3zzm4_cs25v74y31mq6j8_mh0000gr/T/ipykernel_60607/3297213217.py:19: SettingWithCopyWarning: \n",
      "A value is trying to be set on a copy of a slice from a DataFrame.\n",
      "Try using .loc[row_indexer,col_indexer] = value instead\n",
      "\n",
      "See the caveats in the documentation: https://pandas.pydata.org/pandas-docs/stable/user_guide/indexing.html#returning-a-view-versus-a-copy\n",
      "  reported_procedures[\"CPT Code\"] = reported_procedures[\"CPT Code\"].apply(np.int64)\n",
      "/var/folders/yv/3zzm4_cs25v74y31mq6j8_mh0000gr/T/ipykernel_60607/3297213217.py:21: SettingWithCopyWarning: \n",
      "A value is trying to be set on a copy of a slice from a DataFrame.\n",
      "Try using .loc[row_indexer,col_indexer] = value instead\n",
      "\n",
      "See the caveats in the documentation: https://pandas.pydata.org/pandas-docs/stable/user_guide/indexing.html#returning-a-view-versus-a-copy\n",
      "  reported_procedures[\"Average Charge\"] = (reported_procedures[\"Average Charge\"] * 100).astype(np.int64)\n"
     ]
    },
    {
     "name": "stdout",
     "output_type": "stream",
     "text": [
      "Writing reported procedures to reported_procedures/Pacifica Hospital of the Valley_reported_procedures.csv\n",
      "Parsing  chargemaster-cdm-2021/Palomar Health Downtown Campus/106370755_CDM_All_2021.xlsx\n"
     ]
    },
    {
     "name": "stderr",
     "output_type": "stream",
     "text": [
      "/var/folders/yv/3zzm4_cs25v74y31mq6j8_mh0000gr/T/ipykernel_60607/3297213217.py:14: SettingWithCopyWarning: \n",
      "A value is trying to be set on a copy of a slice from a DataFrame.\n",
      "Try using .loc[row_indexer,col_indexer] = value instead\n",
      "\n",
      "See the caveats in the documentation: https://pandas.pydata.org/pandas-docs/stable/user_guide/indexing.html#returning-a-view-versus-a-copy\n",
      "  reported_procedures[\"Hospital\"] = hospital_series\n",
      "/var/folders/yv/3zzm4_cs25v74y31mq6j8_mh0000gr/T/ipykernel_60607/3297213217.py:19: SettingWithCopyWarning: \n",
      "A value is trying to be set on a copy of a slice from a DataFrame.\n",
      "Try using .loc[row_indexer,col_indexer] = value instead\n",
      "\n",
      "See the caveats in the documentation: https://pandas.pydata.org/pandas-docs/stable/user_guide/indexing.html#returning-a-view-versus-a-copy\n",
      "  reported_procedures[\"CPT Code\"] = reported_procedures[\"CPT Code\"].apply(np.int64)\n",
      "/var/folders/yv/3zzm4_cs25v74y31mq6j8_mh0000gr/T/ipykernel_60607/3297213217.py:21: SettingWithCopyWarning: \n",
      "A value is trying to be set on a copy of a slice from a DataFrame.\n",
      "Try using .loc[row_indexer,col_indexer] = value instead\n",
      "\n",
      "See the caveats in the documentation: https://pandas.pydata.org/pandas-docs/stable/user_guide/indexing.html#returning-a-view-versus-a-copy\n",
      "  reported_procedures[\"Average Charge\"] = (reported_procedures[\"Average Charge\"] * 100).astype(np.int64)\n"
     ]
    },
    {
     "name": "stdout",
     "output_type": "stream",
     "text": [
      "Writing reported procedures to reported_procedures/Palomar Health Downtown Campus_reported_procedures.csv\n",
      "Parsing  chargemaster-cdm-2021/Palomar Medical Center Poway/106370977_CDM_All_2021.xlsx\n"
     ]
    },
    {
     "name": "stderr",
     "output_type": "stream",
     "text": [
      "/var/folders/yv/3zzm4_cs25v74y31mq6j8_mh0000gr/T/ipykernel_60607/3297213217.py:14: SettingWithCopyWarning: \n",
      "A value is trying to be set on a copy of a slice from a DataFrame.\n",
      "Try using .loc[row_indexer,col_indexer] = value instead\n",
      "\n",
      "See the caveats in the documentation: https://pandas.pydata.org/pandas-docs/stable/user_guide/indexing.html#returning-a-view-versus-a-copy\n",
      "  reported_procedures[\"Hospital\"] = hospital_series\n",
      "/var/folders/yv/3zzm4_cs25v74y31mq6j8_mh0000gr/T/ipykernel_60607/3297213217.py:19: SettingWithCopyWarning: \n",
      "A value is trying to be set on a copy of a slice from a DataFrame.\n",
      "Try using .loc[row_indexer,col_indexer] = value instead\n",
      "\n",
      "See the caveats in the documentation: https://pandas.pydata.org/pandas-docs/stable/user_guide/indexing.html#returning-a-view-versus-a-copy\n",
      "  reported_procedures[\"CPT Code\"] = reported_procedures[\"CPT Code\"].apply(np.int64)\n",
      "/var/folders/yv/3zzm4_cs25v74y31mq6j8_mh0000gr/T/ipykernel_60607/3297213217.py:21: SettingWithCopyWarning: \n",
      "A value is trying to be set on a copy of a slice from a DataFrame.\n",
      "Try using .loc[row_indexer,col_indexer] = value instead\n",
      "\n",
      "See the caveats in the documentation: https://pandas.pydata.org/pandas-docs/stable/user_guide/indexing.html#returning-a-view-versus-a-copy\n",
      "  reported_procedures[\"Average Charge\"] = (reported_procedures[\"Average Charge\"] * 100).astype(np.int64)\n"
     ]
    },
    {
     "name": "stdout",
     "output_type": "stream",
     "text": [
      "Writing reported procedures to reported_procedures/Palomar Medical Center Poway_reported_procedures.csv\n",
      "Parsing  chargemaster-cdm-2021/Paradise Valley Hospital/106370759_CDM_All_2021.xlsx\n"
     ]
    },
    {
     "name": "stderr",
     "output_type": "stream",
     "text": [
      "/var/folders/yv/3zzm4_cs25v74y31mq6j8_mh0000gr/T/ipykernel_60607/3297213217.py:14: SettingWithCopyWarning: \n",
      "A value is trying to be set on a copy of a slice from a DataFrame.\n",
      "Try using .loc[row_indexer,col_indexer] = value instead\n",
      "\n",
      "See the caveats in the documentation: https://pandas.pydata.org/pandas-docs/stable/user_guide/indexing.html#returning-a-view-versus-a-copy\n",
      "  reported_procedures[\"Hospital\"] = hospital_series\n",
      "/var/folders/yv/3zzm4_cs25v74y31mq6j8_mh0000gr/T/ipykernel_60607/3297213217.py:19: SettingWithCopyWarning: \n",
      "A value is trying to be set on a copy of a slice from a DataFrame.\n",
      "Try using .loc[row_indexer,col_indexer] = value instead\n",
      "\n",
      "See the caveats in the documentation: https://pandas.pydata.org/pandas-docs/stable/user_guide/indexing.html#returning-a-view-versus-a-copy\n",
      "  reported_procedures[\"CPT Code\"] = reported_procedures[\"CPT Code\"].apply(np.int64)\n",
      "/var/folders/yv/3zzm4_cs25v74y31mq6j8_mh0000gr/T/ipykernel_60607/3297213217.py:21: SettingWithCopyWarning: \n",
      "A value is trying to be set on a copy of a slice from a DataFrame.\n",
      "Try using .loc[row_indexer,col_indexer] = value instead\n",
      "\n",
      "See the caveats in the documentation: https://pandas.pydata.org/pandas-docs/stable/user_guide/indexing.html#returning-a-view-versus-a-copy\n",
      "  reported_procedures[\"Average Charge\"] = (reported_procedures[\"Average Charge\"] * 100).astype(np.int64)\n"
     ]
    },
    {
     "name": "stdout",
     "output_type": "stream",
     "text": [
      "Writing reported procedures to reported_procedures/Paradise Valley Hospital_reported_procedures.csv\n",
      "Parsing  chargemaster-cdm-2021/Patients Hospital of Redding/106454013_CDM_All_2021.xlsx\n"
     ]
    },
    {
     "name": "stderr",
     "output_type": "stream",
     "text": [
      "/var/folders/yv/3zzm4_cs25v74y31mq6j8_mh0000gr/T/ipykernel_60607/3297213217.py:14: SettingWithCopyWarning: \n",
      "A value is trying to be set on a copy of a slice from a DataFrame.\n",
      "Try using .loc[row_indexer,col_indexer] = value instead\n",
      "\n",
      "See the caveats in the documentation: https://pandas.pydata.org/pandas-docs/stable/user_guide/indexing.html#returning-a-view-versus-a-copy\n",
      "  reported_procedures[\"Hospital\"] = hospital_series\n",
      "/var/folders/yv/3zzm4_cs25v74y31mq6j8_mh0000gr/T/ipykernel_60607/3297213217.py:19: SettingWithCopyWarning: \n",
      "A value is trying to be set on a copy of a slice from a DataFrame.\n",
      "Try using .loc[row_indexer,col_indexer] = value instead\n",
      "\n",
      "See the caveats in the documentation: https://pandas.pydata.org/pandas-docs/stable/user_guide/indexing.html#returning-a-view-versus-a-copy\n",
      "  reported_procedures[\"CPT Code\"] = reported_procedures[\"CPT Code\"].apply(np.int64)\n",
      "/var/folders/yv/3zzm4_cs25v74y31mq6j8_mh0000gr/T/ipykernel_60607/3297213217.py:21: SettingWithCopyWarning: \n",
      "A value is trying to be set on a copy of a slice from a DataFrame.\n",
      "Try using .loc[row_indexer,col_indexer] = value instead\n",
      "\n",
      "See the caveats in the documentation: https://pandas.pydata.org/pandas-docs/stable/user_guide/indexing.html#returning-a-view-versus-a-copy\n",
      "  reported_procedures[\"Average Charge\"] = (reported_procedures[\"Average Charge\"] * 100).astype(np.int64)\n"
     ]
    },
    {
     "name": "stdout",
     "output_type": "stream",
     "text": [
      "Writing reported procedures to reported_procedures/Patients Hospital of Redding_reported_procedures.csv\n",
      "Parsing  chargemaster-cdm-2021/Patton State Hospital/106361768_CDM_All_2021.xlsx\n"
     ]
    },
    {
     "name": "stderr",
     "output_type": "stream",
     "text": [
      "/var/folders/yv/3zzm4_cs25v74y31mq6j8_mh0000gr/T/ipykernel_60607/3297213217.py:14: SettingWithCopyWarning: \n",
      "A value is trying to be set on a copy of a slice from a DataFrame.\n",
      "Try using .loc[row_indexer,col_indexer] = value instead\n",
      "\n",
      "See the caveats in the documentation: https://pandas.pydata.org/pandas-docs/stable/user_guide/indexing.html#returning-a-view-versus-a-copy\n",
      "  reported_procedures[\"Hospital\"] = hospital_series\n",
      "/var/folders/yv/3zzm4_cs25v74y31mq6j8_mh0000gr/T/ipykernel_60607/3297213217.py:19: SettingWithCopyWarning: \n",
      "A value is trying to be set on a copy of a slice from a DataFrame.\n",
      "Try using .loc[row_indexer,col_indexer] = value instead\n",
      "\n",
      "See the caveats in the documentation: https://pandas.pydata.org/pandas-docs/stable/user_guide/indexing.html#returning-a-view-versus-a-copy\n",
      "  reported_procedures[\"CPT Code\"] = reported_procedures[\"CPT Code\"].apply(np.int64)\n",
      "/var/folders/yv/3zzm4_cs25v74y31mq6j8_mh0000gr/T/ipykernel_60607/3297213217.py:21: SettingWithCopyWarning: \n",
      "A value is trying to be set on a copy of a slice from a DataFrame.\n",
      "Try using .loc[row_indexer,col_indexer] = value instead\n",
      "\n",
      "See the caveats in the documentation: https://pandas.pydata.org/pandas-docs/stable/user_guide/indexing.html#returning-a-view-versus-a-copy\n",
      "  reported_procedures[\"Average Charge\"] = (reported_procedures[\"Average Charge\"] * 100).astype(np.int64)\n"
     ]
    },
    {
     "name": "stdout",
     "output_type": "stream",
     "text": [
      "Writing reported procedures to reported_procedures/Patton State Hospital_reported_procedures.csv\n",
      "Parsing  chargemaster-cdm-2021/Petaluma Valley Hospital/106491001_CDM_All_2021.xlsx\n"
     ]
    },
    {
     "name": "stderr",
     "output_type": "stream",
     "text": [
      "/var/folders/yv/3zzm4_cs25v74y31mq6j8_mh0000gr/T/ipykernel_60607/3297213217.py:14: SettingWithCopyWarning: \n",
      "A value is trying to be set on a copy of a slice from a DataFrame.\n",
      "Try using .loc[row_indexer,col_indexer] = value instead\n",
      "\n",
      "See the caveats in the documentation: https://pandas.pydata.org/pandas-docs/stable/user_guide/indexing.html#returning-a-view-versus-a-copy\n",
      "  reported_procedures[\"Hospital\"] = hospital_series\n",
      "/var/folders/yv/3zzm4_cs25v74y31mq6j8_mh0000gr/T/ipykernel_60607/3297213217.py:19: SettingWithCopyWarning: \n",
      "A value is trying to be set on a copy of a slice from a DataFrame.\n",
      "Try using .loc[row_indexer,col_indexer] = value instead\n",
      "\n",
      "See the caveats in the documentation: https://pandas.pydata.org/pandas-docs/stable/user_guide/indexing.html#returning-a-view-versus-a-copy\n",
      "  reported_procedures[\"CPT Code\"] = reported_procedures[\"CPT Code\"].apply(np.int64)\n",
      "/var/folders/yv/3zzm4_cs25v74y31mq6j8_mh0000gr/T/ipykernel_60607/3297213217.py:21: SettingWithCopyWarning: \n",
      "A value is trying to be set on a copy of a slice from a DataFrame.\n",
      "Try using .loc[row_indexer,col_indexer] = value instead\n",
      "\n",
      "See the caveats in the documentation: https://pandas.pydata.org/pandas-docs/stable/user_guide/indexing.html#returning-a-view-versus-a-copy\n",
      "  reported_procedures[\"Average Charge\"] = (reported_procedures[\"Average Charge\"] * 100).astype(np.int64)\n"
     ]
    },
    {
     "name": "stdout",
     "output_type": "stream",
     "text": [
      "Writing reported procedures to reported_procedures/Petaluma Valley Hospital_reported_procedures.csv\n",
      "Parsing  chargemaster-cdm-2021/Placentia Linda Hospital/106301297_CDM_All_2021.xlsx\n",
      "Failed to read data from hospital Placentia Linda Hospital\n",
      "Parsing  chargemaster-cdm-2021/Plumas District Hospital/106320986_CDM_All_2021.xlsx\n"
     ]
    },
    {
     "name": "stderr",
     "output_type": "stream",
     "text": [
      "/var/folders/yv/3zzm4_cs25v74y31mq6j8_mh0000gr/T/ipykernel_60607/3297213217.py:14: SettingWithCopyWarning: \n",
      "A value is trying to be set on a copy of a slice from a DataFrame.\n",
      "Try using .loc[row_indexer,col_indexer] = value instead\n",
      "\n",
      "See the caveats in the documentation: https://pandas.pydata.org/pandas-docs/stable/user_guide/indexing.html#returning-a-view-versus-a-copy\n",
      "  reported_procedures[\"Hospital\"] = hospital_series\n",
      "/var/folders/yv/3zzm4_cs25v74y31mq6j8_mh0000gr/T/ipykernel_60607/3297213217.py:19: SettingWithCopyWarning: \n",
      "A value is trying to be set on a copy of a slice from a DataFrame.\n",
      "Try using .loc[row_indexer,col_indexer] = value instead\n",
      "\n",
      "See the caveats in the documentation: https://pandas.pydata.org/pandas-docs/stable/user_guide/indexing.html#returning-a-view-versus-a-copy\n",
      "  reported_procedures[\"CPT Code\"] = reported_procedures[\"CPT Code\"].apply(np.int64)\n",
      "/var/folders/yv/3zzm4_cs25v74y31mq6j8_mh0000gr/T/ipykernel_60607/3297213217.py:21: SettingWithCopyWarning: \n",
      "A value is trying to be set on a copy of a slice from a DataFrame.\n",
      "Try using .loc[row_indexer,col_indexer] = value instead\n",
      "\n",
      "See the caveats in the documentation: https://pandas.pydata.org/pandas-docs/stable/user_guide/indexing.html#returning-a-view-versus-a-copy\n",
      "  reported_procedures[\"Average Charge\"] = (reported_procedures[\"Average Charge\"] * 100).astype(np.int64)\n"
     ]
    },
    {
     "name": "stdout",
     "output_type": "stream",
     "text": [
      "Writing reported procedures to reported_procedures/Plumas District Hospital_reported_procedures.csv\n",
      "Parsing  chargemaster-cdm-2021/Providence Holy Cross Medical Center/106190385_CDM_All_2021.xlsx\n"
     ]
    },
    {
     "name": "stderr",
     "output_type": "stream",
     "text": [
      "/var/folders/yv/3zzm4_cs25v74y31mq6j8_mh0000gr/T/ipykernel_60607/3297213217.py:14: SettingWithCopyWarning: \n",
      "A value is trying to be set on a copy of a slice from a DataFrame.\n",
      "Try using .loc[row_indexer,col_indexer] = value instead\n",
      "\n",
      "See the caveats in the documentation: https://pandas.pydata.org/pandas-docs/stable/user_guide/indexing.html#returning-a-view-versus-a-copy\n",
      "  reported_procedures[\"Hospital\"] = hospital_series\n",
      "/var/folders/yv/3zzm4_cs25v74y31mq6j8_mh0000gr/T/ipykernel_60607/3297213217.py:19: SettingWithCopyWarning: \n",
      "A value is trying to be set on a copy of a slice from a DataFrame.\n",
      "Try using .loc[row_indexer,col_indexer] = value instead\n",
      "\n",
      "See the caveats in the documentation: https://pandas.pydata.org/pandas-docs/stable/user_guide/indexing.html#returning-a-view-versus-a-copy\n",
      "  reported_procedures[\"CPT Code\"] = reported_procedures[\"CPT Code\"].apply(np.int64)\n",
      "/var/folders/yv/3zzm4_cs25v74y31mq6j8_mh0000gr/T/ipykernel_60607/3297213217.py:21: SettingWithCopyWarning: \n",
      "A value is trying to be set on a copy of a slice from a DataFrame.\n",
      "Try using .loc[row_indexer,col_indexer] = value instead\n",
      "\n",
      "See the caveats in the documentation: https://pandas.pydata.org/pandas-docs/stable/user_guide/indexing.html#returning-a-view-versus-a-copy\n",
      "  reported_procedures[\"Average Charge\"] = (reported_procedures[\"Average Charge\"] * 100).astype(np.int64)\n"
     ]
    },
    {
     "name": "stdout",
     "output_type": "stream",
     "text": [
      "Writing reported procedures to reported_procedures/Providence Holy Cross Medical Center_reported_procedures.csv\n",
      "Parsing  chargemaster-cdm-2021/Providence Little Co. of Mary Med Ctr - San Pedro/106190680_CDM_All_2021.xlsx\n"
     ]
    },
    {
     "name": "stderr",
     "output_type": "stream",
     "text": [
      "/var/folders/yv/3zzm4_cs25v74y31mq6j8_mh0000gr/T/ipykernel_60607/3297213217.py:14: SettingWithCopyWarning: \n",
      "A value is trying to be set on a copy of a slice from a DataFrame.\n",
      "Try using .loc[row_indexer,col_indexer] = value instead\n",
      "\n",
      "See the caveats in the documentation: https://pandas.pydata.org/pandas-docs/stable/user_guide/indexing.html#returning-a-view-versus-a-copy\n",
      "  reported_procedures[\"Hospital\"] = hospital_series\n",
      "/var/folders/yv/3zzm4_cs25v74y31mq6j8_mh0000gr/T/ipykernel_60607/3297213217.py:19: SettingWithCopyWarning: \n",
      "A value is trying to be set on a copy of a slice from a DataFrame.\n",
      "Try using .loc[row_indexer,col_indexer] = value instead\n",
      "\n",
      "See the caveats in the documentation: https://pandas.pydata.org/pandas-docs/stable/user_guide/indexing.html#returning-a-view-versus-a-copy\n",
      "  reported_procedures[\"CPT Code\"] = reported_procedures[\"CPT Code\"].apply(np.int64)\n",
      "/var/folders/yv/3zzm4_cs25v74y31mq6j8_mh0000gr/T/ipykernel_60607/3297213217.py:21: SettingWithCopyWarning: \n",
      "A value is trying to be set on a copy of a slice from a DataFrame.\n",
      "Try using .loc[row_indexer,col_indexer] = value instead\n",
      "\n",
      "See the caveats in the documentation: https://pandas.pydata.org/pandas-docs/stable/user_guide/indexing.html#returning-a-view-versus-a-copy\n",
      "  reported_procedures[\"Average Charge\"] = (reported_procedures[\"Average Charge\"] * 100).astype(np.int64)\n"
     ]
    },
    {
     "name": "stdout",
     "output_type": "stream",
     "text": [
      "Writing reported procedures to reported_procedures/Providence Little Co. of Mary Med Ctr - San Pedro_reported_procedures.csv\n",
      "Parsing  chargemaster-cdm-2021/Providence Little Co. of Mary Med Ctr - Torrance/106190470_CDM_All_2021.xlsx\n"
     ]
    },
    {
     "name": "stderr",
     "output_type": "stream",
     "text": [
      "/var/folders/yv/3zzm4_cs25v74y31mq6j8_mh0000gr/T/ipykernel_60607/3297213217.py:14: SettingWithCopyWarning: \n",
      "A value is trying to be set on a copy of a slice from a DataFrame.\n",
      "Try using .loc[row_indexer,col_indexer] = value instead\n",
      "\n",
      "See the caveats in the documentation: https://pandas.pydata.org/pandas-docs/stable/user_guide/indexing.html#returning-a-view-versus-a-copy\n",
      "  reported_procedures[\"Hospital\"] = hospital_series\n",
      "/var/folders/yv/3zzm4_cs25v74y31mq6j8_mh0000gr/T/ipykernel_60607/3297213217.py:19: SettingWithCopyWarning: \n",
      "A value is trying to be set on a copy of a slice from a DataFrame.\n",
      "Try using .loc[row_indexer,col_indexer] = value instead\n",
      "\n",
      "See the caveats in the documentation: https://pandas.pydata.org/pandas-docs/stable/user_guide/indexing.html#returning-a-view-versus-a-copy\n",
      "  reported_procedures[\"CPT Code\"] = reported_procedures[\"CPT Code\"].apply(np.int64)\n",
      "/var/folders/yv/3zzm4_cs25v74y31mq6j8_mh0000gr/T/ipykernel_60607/3297213217.py:21: SettingWithCopyWarning: \n",
      "A value is trying to be set on a copy of a slice from a DataFrame.\n",
      "Try using .loc[row_indexer,col_indexer] = value instead\n",
      "\n",
      "See the caveats in the documentation: https://pandas.pydata.org/pandas-docs/stable/user_guide/indexing.html#returning-a-view-versus-a-copy\n",
      "  reported_procedures[\"Average Charge\"] = (reported_procedures[\"Average Charge\"] * 100).astype(np.int64)\n"
     ]
    },
    {
     "name": "stdout",
     "output_type": "stream",
     "text": [
      "Writing reported procedures to reported_procedures/Providence Little Co. of Mary Med Ctr - Torrance_reported_procedures.csv\n",
      "Parsing  chargemaster-cdm-2021/Providence Queen of the Valley Medical Center/106281047_CDM_All_2021.xlsx\n"
     ]
    },
    {
     "name": "stderr",
     "output_type": "stream",
     "text": [
      "/var/folders/yv/3zzm4_cs25v74y31mq6j8_mh0000gr/T/ipykernel_60607/3297213217.py:14: SettingWithCopyWarning: \n",
      "A value is trying to be set on a copy of a slice from a DataFrame.\n",
      "Try using .loc[row_indexer,col_indexer] = value instead\n",
      "\n",
      "See the caveats in the documentation: https://pandas.pydata.org/pandas-docs/stable/user_guide/indexing.html#returning-a-view-versus-a-copy\n",
      "  reported_procedures[\"Hospital\"] = hospital_series\n",
      "/var/folders/yv/3zzm4_cs25v74y31mq6j8_mh0000gr/T/ipykernel_60607/3297213217.py:19: SettingWithCopyWarning: \n",
      "A value is trying to be set on a copy of a slice from a DataFrame.\n",
      "Try using .loc[row_indexer,col_indexer] = value instead\n",
      "\n",
      "See the caveats in the documentation: https://pandas.pydata.org/pandas-docs/stable/user_guide/indexing.html#returning-a-view-versus-a-copy\n",
      "  reported_procedures[\"CPT Code\"] = reported_procedures[\"CPT Code\"].apply(np.int64)\n",
      "/var/folders/yv/3zzm4_cs25v74y31mq6j8_mh0000gr/T/ipykernel_60607/3297213217.py:21: SettingWithCopyWarning: \n",
      "A value is trying to be set on a copy of a slice from a DataFrame.\n",
      "Try using .loc[row_indexer,col_indexer] = value instead\n",
      "\n",
      "See the caveats in the documentation: https://pandas.pydata.org/pandas-docs/stable/user_guide/indexing.html#returning-a-view-versus-a-copy\n",
      "  reported_procedures[\"Average Charge\"] = (reported_procedures[\"Average Charge\"] * 100).astype(np.int64)\n"
     ]
    },
    {
     "name": "stdout",
     "output_type": "stream",
     "text": [
      "Writing reported procedures to reported_procedures/Providence Queen of the Valley Medical Center_reported_procedures.csv\n",
      "Parsing  chargemaster-cdm-2021/Providence Redwood Memorial Hospital/106121051_CDM_All_2021.xlsx\n"
     ]
    },
    {
     "name": "stderr",
     "output_type": "stream",
     "text": [
      "/var/folders/yv/3zzm4_cs25v74y31mq6j8_mh0000gr/T/ipykernel_60607/3297213217.py:14: SettingWithCopyWarning: \n",
      "A value is trying to be set on a copy of a slice from a DataFrame.\n",
      "Try using .loc[row_indexer,col_indexer] = value instead\n",
      "\n",
      "See the caveats in the documentation: https://pandas.pydata.org/pandas-docs/stable/user_guide/indexing.html#returning-a-view-versus-a-copy\n",
      "  reported_procedures[\"Hospital\"] = hospital_series\n",
      "/var/folders/yv/3zzm4_cs25v74y31mq6j8_mh0000gr/T/ipykernel_60607/3297213217.py:19: SettingWithCopyWarning: \n",
      "A value is trying to be set on a copy of a slice from a DataFrame.\n",
      "Try using .loc[row_indexer,col_indexer] = value instead\n",
      "\n",
      "See the caveats in the documentation: https://pandas.pydata.org/pandas-docs/stable/user_guide/indexing.html#returning-a-view-versus-a-copy\n",
      "  reported_procedures[\"CPT Code\"] = reported_procedures[\"CPT Code\"].apply(np.int64)\n",
      "/var/folders/yv/3zzm4_cs25v74y31mq6j8_mh0000gr/T/ipykernel_60607/3297213217.py:21: SettingWithCopyWarning: \n",
      "A value is trying to be set on a copy of a slice from a DataFrame.\n",
      "Try using .loc[row_indexer,col_indexer] = value instead\n",
      "\n",
      "See the caveats in the documentation: https://pandas.pydata.org/pandas-docs/stable/user_guide/indexing.html#returning-a-view-versus-a-copy\n",
      "  reported_procedures[\"Average Charge\"] = (reported_procedures[\"Average Charge\"] * 100).astype(np.int64)\n"
     ]
    },
    {
     "name": "stdout",
     "output_type": "stream",
     "text": [
      "Writing reported procedures to reported_procedures/Providence Redwood Memorial Hospital_reported_procedures.csv\n",
      "Parsing  chargemaster-cdm-2021/Providence ST. Joseph Hospital/106301340_CDM_All_2021.xlsx\n"
     ]
    },
    {
     "name": "stderr",
     "output_type": "stream",
     "text": [
      "/var/folders/yv/3zzm4_cs25v74y31mq6j8_mh0000gr/T/ipykernel_60607/3297213217.py:14: SettingWithCopyWarning: \n",
      "A value is trying to be set on a copy of a slice from a DataFrame.\n",
      "Try using .loc[row_indexer,col_indexer] = value instead\n",
      "\n",
      "See the caveats in the documentation: https://pandas.pydata.org/pandas-docs/stable/user_guide/indexing.html#returning-a-view-versus-a-copy\n",
      "  reported_procedures[\"Hospital\"] = hospital_series\n",
      "/var/folders/yv/3zzm4_cs25v74y31mq6j8_mh0000gr/T/ipykernel_60607/3297213217.py:19: SettingWithCopyWarning: \n",
      "A value is trying to be set on a copy of a slice from a DataFrame.\n",
      "Try using .loc[row_indexer,col_indexer] = value instead\n",
      "\n",
      "See the caveats in the documentation: https://pandas.pydata.org/pandas-docs/stable/user_guide/indexing.html#returning-a-view-versus-a-copy\n",
      "  reported_procedures[\"CPT Code\"] = reported_procedures[\"CPT Code\"].apply(np.int64)\n",
      "/var/folders/yv/3zzm4_cs25v74y31mq6j8_mh0000gr/T/ipykernel_60607/3297213217.py:21: SettingWithCopyWarning: \n",
      "A value is trying to be set on a copy of a slice from a DataFrame.\n",
      "Try using .loc[row_indexer,col_indexer] = value instead\n",
      "\n",
      "See the caveats in the documentation: https://pandas.pydata.org/pandas-docs/stable/user_guide/indexing.html#returning-a-view-versus-a-copy\n",
      "  reported_procedures[\"Average Charge\"] = (reported_procedures[\"Average Charge\"] * 100).astype(np.int64)\n"
     ]
    },
    {
     "name": "stdout",
     "output_type": "stream",
     "text": [
      "Writing reported procedures to reported_procedures/Providence ST. Joseph Hospital_reported_procedures.csv\n",
      "Parsing  chargemaster-cdm-2021/Providence Santa Rosa Memorial Hospital/106491064_CDM_All_2021.xlsx\n"
     ]
    },
    {
     "name": "stderr",
     "output_type": "stream",
     "text": [
      "/var/folders/yv/3zzm4_cs25v74y31mq6j8_mh0000gr/T/ipykernel_60607/3297213217.py:14: SettingWithCopyWarning: \n",
      "A value is trying to be set on a copy of a slice from a DataFrame.\n",
      "Try using .loc[row_indexer,col_indexer] = value instead\n",
      "\n",
      "See the caveats in the documentation: https://pandas.pydata.org/pandas-docs/stable/user_guide/indexing.html#returning-a-view-versus-a-copy\n",
      "  reported_procedures[\"Hospital\"] = hospital_series\n",
      "/var/folders/yv/3zzm4_cs25v74y31mq6j8_mh0000gr/T/ipykernel_60607/3297213217.py:19: SettingWithCopyWarning: \n",
      "A value is trying to be set on a copy of a slice from a DataFrame.\n",
      "Try using .loc[row_indexer,col_indexer] = value instead\n",
      "\n",
      "See the caveats in the documentation: https://pandas.pydata.org/pandas-docs/stable/user_guide/indexing.html#returning-a-view-versus-a-copy\n",
      "  reported_procedures[\"CPT Code\"] = reported_procedures[\"CPT Code\"].apply(np.int64)\n",
      "/var/folders/yv/3zzm4_cs25v74y31mq6j8_mh0000gr/T/ipykernel_60607/3297213217.py:21: SettingWithCopyWarning: \n",
      "A value is trying to be set on a copy of a slice from a DataFrame.\n",
      "Try using .loc[row_indexer,col_indexer] = value instead\n",
      "\n",
      "See the caveats in the documentation: https://pandas.pydata.org/pandas-docs/stable/user_guide/indexing.html#returning-a-view-versus-a-copy\n",
      "  reported_procedures[\"Average Charge\"] = (reported_procedures[\"Average Charge\"] * 100).astype(np.int64)\n"
     ]
    },
    {
     "name": "stdout",
     "output_type": "stream",
     "text": [
      "Writing reported procedures to reported_procedures/Providence Santa Rosa Memorial Hospital_reported_procedures.csv\n",
      "Parsing  chargemaster-cdm-2021/Providence St John's Health Center/106190756_CDM_All_2021.xlsx\n"
     ]
    },
    {
     "name": "stderr",
     "output_type": "stream",
     "text": [
      "/var/folders/yv/3zzm4_cs25v74y31mq6j8_mh0000gr/T/ipykernel_60607/3297213217.py:14: SettingWithCopyWarning: \n",
      "A value is trying to be set on a copy of a slice from a DataFrame.\n",
      "Try using .loc[row_indexer,col_indexer] = value instead\n",
      "\n",
      "See the caveats in the documentation: https://pandas.pydata.org/pandas-docs/stable/user_guide/indexing.html#returning-a-view-versus-a-copy\n",
      "  reported_procedures[\"Hospital\"] = hospital_series\n",
      "/var/folders/yv/3zzm4_cs25v74y31mq6j8_mh0000gr/T/ipykernel_60607/3297213217.py:19: SettingWithCopyWarning: \n",
      "A value is trying to be set on a copy of a slice from a DataFrame.\n",
      "Try using .loc[row_indexer,col_indexer] = value instead\n",
      "\n",
      "See the caveats in the documentation: https://pandas.pydata.org/pandas-docs/stable/user_guide/indexing.html#returning-a-view-versus-a-copy\n",
      "  reported_procedures[\"CPT Code\"] = reported_procedures[\"CPT Code\"].apply(np.int64)\n",
      "/var/folders/yv/3zzm4_cs25v74y31mq6j8_mh0000gr/T/ipykernel_60607/3297213217.py:21: SettingWithCopyWarning: \n",
      "A value is trying to be set on a copy of a slice from a DataFrame.\n",
      "Try using .loc[row_indexer,col_indexer] = value instead\n",
      "\n",
      "See the caveats in the documentation: https://pandas.pydata.org/pandas-docs/stable/user_guide/indexing.html#returning-a-view-versus-a-copy\n",
      "  reported_procedures[\"Average Charge\"] = (reported_procedures[\"Average Charge\"] * 100).astype(np.int64)\n"
     ]
    },
    {
     "name": "stdout",
     "output_type": "stream",
     "text": [
      "Writing reported procedures to reported_procedures/Providence St John's Health Center_reported_procedures.csv\n",
      "Parsing  chargemaster-cdm-2021/Providence St Joseph Medical Center/106190758_CDM_All_2021.xlsx\n"
     ]
    },
    {
     "name": "stderr",
     "output_type": "stream",
     "text": [
      "/var/folders/yv/3zzm4_cs25v74y31mq6j8_mh0000gr/T/ipykernel_60607/3297213217.py:14: SettingWithCopyWarning: \n",
      "A value is trying to be set on a copy of a slice from a DataFrame.\n",
      "Try using .loc[row_indexer,col_indexer] = value instead\n",
      "\n",
      "See the caveats in the documentation: https://pandas.pydata.org/pandas-docs/stable/user_guide/indexing.html#returning-a-view-versus-a-copy\n",
      "  reported_procedures[\"Hospital\"] = hospital_series\n",
      "/var/folders/yv/3zzm4_cs25v74y31mq6j8_mh0000gr/T/ipykernel_60607/3297213217.py:19: SettingWithCopyWarning: \n",
      "A value is trying to be set on a copy of a slice from a DataFrame.\n",
      "Try using .loc[row_indexer,col_indexer] = value instead\n",
      "\n",
      "See the caveats in the documentation: https://pandas.pydata.org/pandas-docs/stable/user_guide/indexing.html#returning-a-view-versus-a-copy\n",
      "  reported_procedures[\"CPT Code\"] = reported_procedures[\"CPT Code\"].apply(np.int64)\n",
      "/var/folders/yv/3zzm4_cs25v74y31mq6j8_mh0000gr/T/ipykernel_60607/3297213217.py:21: SettingWithCopyWarning: \n",
      "A value is trying to be set on a copy of a slice from a DataFrame.\n",
      "Try using .loc[row_indexer,col_indexer] = value instead\n",
      "\n",
      "See the caveats in the documentation: https://pandas.pydata.org/pandas-docs/stable/user_guide/indexing.html#returning-a-view-versus-a-copy\n",
      "  reported_procedures[\"Average Charge\"] = (reported_procedures[\"Average Charge\"] * 100).astype(np.int64)\n"
     ]
    },
    {
     "name": "stdout",
     "output_type": "stream",
     "text": [
      "Writing reported procedures to reported_procedures/Providence St Joseph Medical Center_reported_procedures.csv\n",
      "Parsing  chargemaster-cdm-2021/Providence Tarzana Medical Center/106190517_CDM_All_2021.xlsx\n"
     ]
    },
    {
     "name": "stderr",
     "output_type": "stream",
     "text": [
      "/var/folders/yv/3zzm4_cs25v74y31mq6j8_mh0000gr/T/ipykernel_60607/3297213217.py:14: SettingWithCopyWarning: \n",
      "A value is trying to be set on a copy of a slice from a DataFrame.\n",
      "Try using .loc[row_indexer,col_indexer] = value instead\n",
      "\n",
      "See the caveats in the documentation: https://pandas.pydata.org/pandas-docs/stable/user_guide/indexing.html#returning-a-view-versus-a-copy\n",
      "  reported_procedures[\"Hospital\"] = hospital_series\n",
      "/var/folders/yv/3zzm4_cs25v74y31mq6j8_mh0000gr/T/ipykernel_60607/3297213217.py:19: SettingWithCopyWarning: \n",
      "A value is trying to be set on a copy of a slice from a DataFrame.\n",
      "Try using .loc[row_indexer,col_indexer] = value instead\n",
      "\n",
      "See the caveats in the documentation: https://pandas.pydata.org/pandas-docs/stable/user_guide/indexing.html#returning-a-view-versus-a-copy\n",
      "  reported_procedures[\"CPT Code\"] = reported_procedures[\"CPT Code\"].apply(np.int64)\n",
      "/var/folders/yv/3zzm4_cs25v74y31mq6j8_mh0000gr/T/ipykernel_60607/3297213217.py:21: SettingWithCopyWarning: \n",
      "A value is trying to be set on a copy of a slice from a DataFrame.\n",
      "Try using .loc[row_indexer,col_indexer] = value instead\n",
      "\n",
      "See the caveats in the documentation: https://pandas.pydata.org/pandas-docs/stable/user_guide/indexing.html#returning-a-view-versus-a-copy\n",
      "  reported_procedures[\"Average Charge\"] = (reported_procedures[\"Average Charge\"] * 100).astype(np.int64)\n"
     ]
    },
    {
     "name": "stdout",
     "output_type": "stream",
     "text": [
      "Writing reported procedures to reported_procedures/Providence Tarzana Medical Center_reported_procedures.csv\n",
      "Parsing  chargemaster-cdm-2021/Redlands Community Hospital/106361308_CDM_All_2021.xlsx\n"
     ]
    },
    {
     "name": "stderr",
     "output_type": "stream",
     "text": [
      "/var/folders/yv/3zzm4_cs25v74y31mq6j8_mh0000gr/T/ipykernel_60607/3297213217.py:14: SettingWithCopyWarning: \n",
      "A value is trying to be set on a copy of a slice from a DataFrame.\n",
      "Try using .loc[row_indexer,col_indexer] = value instead\n",
      "\n",
      "See the caveats in the documentation: https://pandas.pydata.org/pandas-docs/stable/user_guide/indexing.html#returning-a-view-versus-a-copy\n",
      "  reported_procedures[\"Hospital\"] = hospital_series\n",
      "/var/folders/yv/3zzm4_cs25v74y31mq6j8_mh0000gr/T/ipykernel_60607/3297213217.py:19: SettingWithCopyWarning: \n",
      "A value is trying to be set on a copy of a slice from a DataFrame.\n",
      "Try using .loc[row_indexer,col_indexer] = value instead\n",
      "\n",
      "See the caveats in the documentation: https://pandas.pydata.org/pandas-docs/stable/user_guide/indexing.html#returning-a-view-versus-a-copy\n",
      "  reported_procedures[\"CPT Code\"] = reported_procedures[\"CPT Code\"].apply(np.int64)\n",
      "/var/folders/yv/3zzm4_cs25v74y31mq6j8_mh0000gr/T/ipykernel_60607/3297213217.py:21: SettingWithCopyWarning: \n",
      "A value is trying to be set on a copy of a slice from a DataFrame.\n",
      "Try using .loc[row_indexer,col_indexer] = value instead\n",
      "\n",
      "See the caveats in the documentation: https://pandas.pydata.org/pandas-docs/stable/user_guide/indexing.html#returning-a-view-versus-a-copy\n",
      "  reported_procedures[\"Average Charge\"] = (reported_procedures[\"Average Charge\"] * 100).astype(np.int64)\n"
     ]
    },
    {
     "name": "stdout",
     "output_type": "stream",
     "text": [
      "Writing reported procedures to reported_procedures/Redlands Community Hospital_reported_procedures.csv\n",
      "Parsing  chargemaster-cdm-2021/Regional Medical Center of San Jose/106430705_CDM_All_2021.xlsx\n"
     ]
    },
    {
     "name": "stderr",
     "output_type": "stream",
     "text": [
      "/var/folders/yv/3zzm4_cs25v74y31mq6j8_mh0000gr/T/ipykernel_60607/3297213217.py:14: SettingWithCopyWarning: \n",
      "A value is trying to be set on a copy of a slice from a DataFrame.\n",
      "Try using .loc[row_indexer,col_indexer] = value instead\n",
      "\n",
      "See the caveats in the documentation: https://pandas.pydata.org/pandas-docs/stable/user_guide/indexing.html#returning-a-view-versus-a-copy\n",
      "  reported_procedures[\"Hospital\"] = hospital_series\n",
      "/var/folders/yv/3zzm4_cs25v74y31mq6j8_mh0000gr/T/ipykernel_60607/3297213217.py:19: SettingWithCopyWarning: \n",
      "A value is trying to be set on a copy of a slice from a DataFrame.\n",
      "Try using .loc[row_indexer,col_indexer] = value instead\n",
      "\n",
      "See the caveats in the documentation: https://pandas.pydata.org/pandas-docs/stable/user_guide/indexing.html#returning-a-view-versus-a-copy\n",
      "  reported_procedures[\"CPT Code\"] = reported_procedures[\"CPT Code\"].apply(np.int64)\n",
      "/var/folders/yv/3zzm4_cs25v74y31mq6j8_mh0000gr/T/ipykernel_60607/3297213217.py:21: SettingWithCopyWarning: \n",
      "A value is trying to be set on a copy of a slice from a DataFrame.\n",
      "Try using .loc[row_indexer,col_indexer] = value instead\n",
      "\n",
      "See the caveats in the documentation: https://pandas.pydata.org/pandas-docs/stable/user_guide/indexing.html#returning-a-view-versus-a-copy\n",
      "  reported_procedures[\"Average Charge\"] = (reported_procedures[\"Average Charge\"] * 100).astype(np.int64)\n"
     ]
    },
    {
     "name": "stdout",
     "output_type": "stream",
     "text": [
      "Writing reported procedures to reported_procedures/Regional Medical Center of San Jose_reported_procedures.csv\n",
      "Parsing  chargemaster-cdm-2021/Riverside University Health System Medical Center/106334487_CDM_All_2021.xls\n",
      "Failed to read data from hospital Riverside University Health System Medical Center\n",
      "Parsing  chargemaster-cdm-2021/ST. Agnes Medical Center/106100899_CDM_All_2021.xlsx\n"
     ]
    },
    {
     "name": "stderr",
     "output_type": "stream",
     "text": [
      "/var/folders/yv/3zzm4_cs25v74y31mq6j8_mh0000gr/T/ipykernel_60607/3297213217.py:14: SettingWithCopyWarning: \n",
      "A value is trying to be set on a copy of a slice from a DataFrame.\n",
      "Try using .loc[row_indexer,col_indexer] = value instead\n",
      "\n",
      "See the caveats in the documentation: https://pandas.pydata.org/pandas-docs/stable/user_guide/indexing.html#returning-a-view-versus-a-copy\n",
      "  reported_procedures[\"Hospital\"] = hospital_series\n",
      "/var/folders/yv/3zzm4_cs25v74y31mq6j8_mh0000gr/T/ipykernel_60607/3297213217.py:19: SettingWithCopyWarning: \n",
      "A value is trying to be set on a copy of a slice from a DataFrame.\n",
      "Try using .loc[row_indexer,col_indexer] = value instead\n",
      "\n",
      "See the caveats in the documentation: https://pandas.pydata.org/pandas-docs/stable/user_guide/indexing.html#returning-a-view-versus-a-copy\n",
      "  reported_procedures[\"CPT Code\"] = reported_procedures[\"CPT Code\"].apply(np.int64)\n",
      "/var/folders/yv/3zzm4_cs25v74y31mq6j8_mh0000gr/T/ipykernel_60607/3297213217.py:21: SettingWithCopyWarning: \n",
      "A value is trying to be set on a copy of a slice from a DataFrame.\n",
      "Try using .loc[row_indexer,col_indexer] = value instead\n",
      "\n",
      "See the caveats in the documentation: https://pandas.pydata.org/pandas-docs/stable/user_guide/indexing.html#returning-a-view-versus-a-copy\n",
      "  reported_procedures[\"Average Charge\"] = (reported_procedures[\"Average Charge\"] * 100).astype(np.int64)\n"
     ]
    },
    {
     "name": "stdout",
     "output_type": "stream",
     "text": [
      "Writing reported procedures to reported_procedures/ST. Agnes Medical Center_reported_procedures.csv\n",
      "Parsing  chargemaster-cdm-2021/ST. Bernardine Medical Center/106361339_CDM_All_2021.xlsx\n"
     ]
    },
    {
     "name": "stderr",
     "output_type": "stream",
     "text": [
      "/var/folders/yv/3zzm4_cs25v74y31mq6j8_mh0000gr/T/ipykernel_60607/3297213217.py:14: SettingWithCopyWarning: \n",
      "A value is trying to be set on a copy of a slice from a DataFrame.\n",
      "Try using .loc[row_indexer,col_indexer] = value instead\n",
      "\n",
      "See the caveats in the documentation: https://pandas.pydata.org/pandas-docs/stable/user_guide/indexing.html#returning-a-view-versus-a-copy\n",
      "  reported_procedures[\"Hospital\"] = hospital_series\n",
      "/var/folders/yv/3zzm4_cs25v74y31mq6j8_mh0000gr/T/ipykernel_60607/3297213217.py:19: SettingWithCopyWarning: \n",
      "A value is trying to be set on a copy of a slice from a DataFrame.\n",
      "Try using .loc[row_indexer,col_indexer] = value instead\n",
      "\n",
      "See the caveats in the documentation: https://pandas.pydata.org/pandas-docs/stable/user_guide/indexing.html#returning-a-view-versus-a-copy\n",
      "  reported_procedures[\"CPT Code\"] = reported_procedures[\"CPT Code\"].apply(np.int64)\n",
      "/var/folders/yv/3zzm4_cs25v74y31mq6j8_mh0000gr/T/ipykernel_60607/3297213217.py:21: SettingWithCopyWarning: \n",
      "A value is trying to be set on a copy of a slice from a DataFrame.\n",
      "Try using .loc[row_indexer,col_indexer] = value instead\n",
      "\n",
      "See the caveats in the documentation: https://pandas.pydata.org/pandas-docs/stable/user_guide/indexing.html#returning-a-view-versus-a-copy\n",
      "  reported_procedures[\"Average Charge\"] = (reported_procedures[\"Average Charge\"] * 100).astype(np.int64)\n"
     ]
    },
    {
     "name": "stdout",
     "output_type": "stream",
     "text": [
      "Writing reported procedures to reported_procedures/ST. Bernardine Medical Center_reported_procedures.csv\n",
      "Parsing  chargemaster-cdm-2021/ST. Elizabeth Community Hospital/106521041_CDM_All_2021.xlsx\n"
     ]
    },
    {
     "name": "stderr",
     "output_type": "stream",
     "text": [
      "/var/folders/yv/3zzm4_cs25v74y31mq6j8_mh0000gr/T/ipykernel_60607/3297213217.py:14: SettingWithCopyWarning: \n",
      "A value is trying to be set on a copy of a slice from a DataFrame.\n",
      "Try using .loc[row_indexer,col_indexer] = value instead\n",
      "\n",
      "See the caveats in the documentation: https://pandas.pydata.org/pandas-docs/stable/user_guide/indexing.html#returning-a-view-versus-a-copy\n",
      "  reported_procedures[\"Hospital\"] = hospital_series\n",
      "/var/folders/yv/3zzm4_cs25v74y31mq6j8_mh0000gr/T/ipykernel_60607/3297213217.py:19: SettingWithCopyWarning: \n",
      "A value is trying to be set on a copy of a slice from a DataFrame.\n",
      "Try using .loc[row_indexer,col_indexer] = value instead\n",
      "\n",
      "See the caveats in the documentation: https://pandas.pydata.org/pandas-docs/stable/user_guide/indexing.html#returning-a-view-versus-a-copy\n",
      "  reported_procedures[\"CPT Code\"] = reported_procedures[\"CPT Code\"].apply(np.int64)\n",
      "/var/folders/yv/3zzm4_cs25v74y31mq6j8_mh0000gr/T/ipykernel_60607/3297213217.py:21: SettingWithCopyWarning: \n",
      "A value is trying to be set on a copy of a slice from a DataFrame.\n",
      "Try using .loc[row_indexer,col_indexer] = value instead\n",
      "\n",
      "See the caveats in the documentation: https://pandas.pydata.org/pandas-docs/stable/user_guide/indexing.html#returning-a-view-versus-a-copy\n",
      "  reported_procedures[\"Average Charge\"] = (reported_procedures[\"Average Charge\"] * 100).astype(np.int64)\n"
     ]
    },
    {
     "name": "stdout",
     "output_type": "stream",
     "text": [
      "Writing reported procedures to reported_procedures/ST. Elizabeth Community Hospital_reported_procedures.csv\n",
      "Parsing  chargemaster-cdm-2021/ST. Francis Medical Center/106190754_CDM_All_2021.xlsx\n"
     ]
    },
    {
     "name": "stderr",
     "output_type": "stream",
     "text": [
      "/var/folders/yv/3zzm4_cs25v74y31mq6j8_mh0000gr/T/ipykernel_60607/3297213217.py:14: SettingWithCopyWarning: \n",
      "A value is trying to be set on a copy of a slice from a DataFrame.\n",
      "Try using .loc[row_indexer,col_indexer] = value instead\n",
      "\n",
      "See the caveats in the documentation: https://pandas.pydata.org/pandas-docs/stable/user_guide/indexing.html#returning-a-view-versus-a-copy\n",
      "  reported_procedures[\"Hospital\"] = hospital_series\n",
      "/var/folders/yv/3zzm4_cs25v74y31mq6j8_mh0000gr/T/ipykernel_60607/3297213217.py:19: SettingWithCopyWarning: \n",
      "A value is trying to be set on a copy of a slice from a DataFrame.\n",
      "Try using .loc[row_indexer,col_indexer] = value instead\n",
      "\n",
      "See the caveats in the documentation: https://pandas.pydata.org/pandas-docs/stable/user_guide/indexing.html#returning-a-view-versus-a-copy\n",
      "  reported_procedures[\"CPT Code\"] = reported_procedures[\"CPT Code\"].apply(np.int64)\n",
      "/var/folders/yv/3zzm4_cs25v74y31mq6j8_mh0000gr/T/ipykernel_60607/3297213217.py:21: SettingWithCopyWarning: \n",
      "A value is trying to be set on a copy of a slice from a DataFrame.\n",
      "Try using .loc[row_indexer,col_indexer] = value instead\n",
      "\n",
      "See the caveats in the documentation: https://pandas.pydata.org/pandas-docs/stable/user_guide/indexing.html#returning-a-view-versus-a-copy\n",
      "  reported_procedures[\"Average Charge\"] = (reported_procedures[\"Average Charge\"] * 100).astype(np.int64)\n"
     ]
    },
    {
     "name": "stdout",
     "output_type": "stream",
     "text": [
      "Writing reported procedures to reported_procedures/ST. Francis Medical Center_reported_procedures.csv\n",
      "Parsing  chargemaster-cdm-2021/ST. Francis Memorial Hospital/106380960_CDM_All_2021.xlsx\n"
     ]
    },
    {
     "name": "stderr",
     "output_type": "stream",
     "text": [
      "/var/folders/yv/3zzm4_cs25v74y31mq6j8_mh0000gr/T/ipykernel_60607/3297213217.py:14: SettingWithCopyWarning: \n",
      "A value is trying to be set on a copy of a slice from a DataFrame.\n",
      "Try using .loc[row_indexer,col_indexer] = value instead\n",
      "\n",
      "See the caveats in the documentation: https://pandas.pydata.org/pandas-docs/stable/user_guide/indexing.html#returning-a-view-versus-a-copy\n",
      "  reported_procedures[\"Hospital\"] = hospital_series\n",
      "/var/folders/yv/3zzm4_cs25v74y31mq6j8_mh0000gr/T/ipykernel_60607/3297213217.py:19: SettingWithCopyWarning: \n",
      "A value is trying to be set on a copy of a slice from a DataFrame.\n",
      "Try using .loc[row_indexer,col_indexer] = value instead\n",
      "\n",
      "See the caveats in the documentation: https://pandas.pydata.org/pandas-docs/stable/user_guide/indexing.html#returning-a-view-versus-a-copy\n",
      "  reported_procedures[\"CPT Code\"] = reported_procedures[\"CPT Code\"].apply(np.int64)\n",
      "/var/folders/yv/3zzm4_cs25v74y31mq6j8_mh0000gr/T/ipykernel_60607/3297213217.py:21: SettingWithCopyWarning: \n",
      "A value is trying to be set on a copy of a slice from a DataFrame.\n",
      "Try using .loc[row_indexer,col_indexer] = value instead\n",
      "\n",
      "See the caveats in the documentation: https://pandas.pydata.org/pandas-docs/stable/user_guide/indexing.html#returning-a-view-versus-a-copy\n",
      "  reported_procedures[\"Average Charge\"] = (reported_procedures[\"Average Charge\"] * 100).astype(np.int64)\n"
     ]
    },
    {
     "name": "stdout",
     "output_type": "stream",
     "text": [
      "Writing reported procedures to reported_procedures/ST. Francis Memorial Hospital_reported_procedures.csv\n",
      "Parsing  chargemaster-cdm-2021/ST. John's Pleasant Valley Hospital/106560508_CDM_All_2021.xlsx\n"
     ]
    },
    {
     "name": "stderr",
     "output_type": "stream",
     "text": [
      "/var/folders/yv/3zzm4_cs25v74y31mq6j8_mh0000gr/T/ipykernel_60607/3297213217.py:14: SettingWithCopyWarning: \n",
      "A value is trying to be set on a copy of a slice from a DataFrame.\n",
      "Try using .loc[row_indexer,col_indexer] = value instead\n",
      "\n",
      "See the caveats in the documentation: https://pandas.pydata.org/pandas-docs/stable/user_guide/indexing.html#returning-a-view-versus-a-copy\n",
      "  reported_procedures[\"Hospital\"] = hospital_series\n",
      "/var/folders/yv/3zzm4_cs25v74y31mq6j8_mh0000gr/T/ipykernel_60607/3297213217.py:19: SettingWithCopyWarning: \n",
      "A value is trying to be set on a copy of a slice from a DataFrame.\n",
      "Try using .loc[row_indexer,col_indexer] = value instead\n",
      "\n",
      "See the caveats in the documentation: https://pandas.pydata.org/pandas-docs/stable/user_guide/indexing.html#returning-a-view-versus-a-copy\n",
      "  reported_procedures[\"CPT Code\"] = reported_procedures[\"CPT Code\"].apply(np.int64)\n",
      "/var/folders/yv/3zzm4_cs25v74y31mq6j8_mh0000gr/T/ipykernel_60607/3297213217.py:21: SettingWithCopyWarning: \n",
      "A value is trying to be set on a copy of a slice from a DataFrame.\n",
      "Try using .loc[row_indexer,col_indexer] = value instead\n",
      "\n",
      "See the caveats in the documentation: https://pandas.pydata.org/pandas-docs/stable/user_guide/indexing.html#returning-a-view-versus-a-copy\n",
      "  reported_procedures[\"Average Charge\"] = (reported_procedures[\"Average Charge\"] * 100).astype(np.int64)\n"
     ]
    },
    {
     "name": "stdout",
     "output_type": "stream",
     "text": [
      "Writing reported procedures to reported_procedures/ST. John's Pleasant Valley Hospital_reported_procedures.csv\n",
      "Parsing  chargemaster-cdm-2021/ST. John's Regional Medical Center/106560529_CDM_All_2021.xlsx\n"
     ]
    },
    {
     "name": "stderr",
     "output_type": "stream",
     "text": [
      "/var/folders/yv/3zzm4_cs25v74y31mq6j8_mh0000gr/T/ipykernel_60607/3297213217.py:14: SettingWithCopyWarning: \n",
      "A value is trying to be set on a copy of a slice from a DataFrame.\n",
      "Try using .loc[row_indexer,col_indexer] = value instead\n",
      "\n",
      "See the caveats in the documentation: https://pandas.pydata.org/pandas-docs/stable/user_guide/indexing.html#returning-a-view-versus-a-copy\n",
      "  reported_procedures[\"Hospital\"] = hospital_series\n",
      "/var/folders/yv/3zzm4_cs25v74y31mq6j8_mh0000gr/T/ipykernel_60607/3297213217.py:19: SettingWithCopyWarning: \n",
      "A value is trying to be set on a copy of a slice from a DataFrame.\n",
      "Try using .loc[row_indexer,col_indexer] = value instead\n",
      "\n",
      "See the caveats in the documentation: https://pandas.pydata.org/pandas-docs/stable/user_guide/indexing.html#returning-a-view-versus-a-copy\n",
      "  reported_procedures[\"CPT Code\"] = reported_procedures[\"CPT Code\"].apply(np.int64)\n",
      "/var/folders/yv/3zzm4_cs25v74y31mq6j8_mh0000gr/T/ipykernel_60607/3297213217.py:21: SettingWithCopyWarning: \n",
      "A value is trying to be set on a copy of a slice from a DataFrame.\n",
      "Try using .loc[row_indexer,col_indexer] = value instead\n",
      "\n",
      "See the caveats in the documentation: https://pandas.pydata.org/pandas-docs/stable/user_guide/indexing.html#returning-a-view-versus-a-copy\n",
      "  reported_procedures[\"Average Charge\"] = (reported_procedures[\"Average Charge\"] * 100).astype(np.int64)\n"
     ]
    },
    {
     "name": "stdout",
     "output_type": "stream",
     "text": [
      "Writing reported procedures to reported_procedures/ST. John's Regional Medical Center_reported_procedures.csv\n",
      "Parsing  chargemaster-cdm-2021/ST. Joseph Hospital - Eureka/106121080_CDM_All_2021.xlsx\n"
     ]
    },
    {
     "name": "stderr",
     "output_type": "stream",
     "text": [
      "/var/folders/yv/3zzm4_cs25v74y31mq6j8_mh0000gr/T/ipykernel_60607/3297213217.py:14: SettingWithCopyWarning: \n",
      "A value is trying to be set on a copy of a slice from a DataFrame.\n",
      "Try using .loc[row_indexer,col_indexer] = value instead\n",
      "\n",
      "See the caveats in the documentation: https://pandas.pydata.org/pandas-docs/stable/user_guide/indexing.html#returning-a-view-versus-a-copy\n",
      "  reported_procedures[\"Hospital\"] = hospital_series\n",
      "/var/folders/yv/3zzm4_cs25v74y31mq6j8_mh0000gr/T/ipykernel_60607/3297213217.py:19: SettingWithCopyWarning: \n",
      "A value is trying to be set on a copy of a slice from a DataFrame.\n",
      "Try using .loc[row_indexer,col_indexer] = value instead\n",
      "\n",
      "See the caveats in the documentation: https://pandas.pydata.org/pandas-docs/stable/user_guide/indexing.html#returning-a-view-versus-a-copy\n",
      "  reported_procedures[\"CPT Code\"] = reported_procedures[\"CPT Code\"].apply(np.int64)\n",
      "/var/folders/yv/3zzm4_cs25v74y31mq6j8_mh0000gr/T/ipykernel_60607/3297213217.py:21: SettingWithCopyWarning: \n",
      "A value is trying to be set on a copy of a slice from a DataFrame.\n",
      "Try using .loc[row_indexer,col_indexer] = value instead\n",
      "\n",
      "See the caveats in the documentation: https://pandas.pydata.org/pandas-docs/stable/user_guide/indexing.html#returning-a-view-versus-a-copy\n",
      "  reported_procedures[\"Average Charge\"] = (reported_procedures[\"Average Charge\"] * 100).astype(np.int64)\n"
     ]
    },
    {
     "name": "stdout",
     "output_type": "stream",
     "text": [
      "Writing reported procedures to reported_procedures/ST. Joseph Hospital - Eureka_reported_procedures.csv\n",
      "Parsing  chargemaster-cdm-2021/ST. Joseph's Medical Center of Stockton/106391042_CDM_All_2021.xlsx\n"
     ]
    },
    {
     "name": "stderr",
     "output_type": "stream",
     "text": [
      "/var/folders/yv/3zzm4_cs25v74y31mq6j8_mh0000gr/T/ipykernel_60607/3297213217.py:14: SettingWithCopyWarning: \n",
      "A value is trying to be set on a copy of a slice from a DataFrame.\n",
      "Try using .loc[row_indexer,col_indexer] = value instead\n",
      "\n",
      "See the caveats in the documentation: https://pandas.pydata.org/pandas-docs/stable/user_guide/indexing.html#returning-a-view-versus-a-copy\n",
      "  reported_procedures[\"Hospital\"] = hospital_series\n",
      "/var/folders/yv/3zzm4_cs25v74y31mq6j8_mh0000gr/T/ipykernel_60607/3297213217.py:19: SettingWithCopyWarning: \n",
      "A value is trying to be set on a copy of a slice from a DataFrame.\n",
      "Try using .loc[row_indexer,col_indexer] = value instead\n",
      "\n",
      "See the caveats in the documentation: https://pandas.pydata.org/pandas-docs/stable/user_guide/indexing.html#returning-a-view-versus-a-copy\n",
      "  reported_procedures[\"CPT Code\"] = reported_procedures[\"CPT Code\"].apply(np.int64)\n",
      "/var/folders/yv/3zzm4_cs25v74y31mq6j8_mh0000gr/T/ipykernel_60607/3297213217.py:21: SettingWithCopyWarning: \n",
      "A value is trying to be set on a copy of a slice from a DataFrame.\n",
      "Try using .loc[row_indexer,col_indexer] = value instead\n",
      "\n",
      "See the caveats in the documentation: https://pandas.pydata.org/pandas-docs/stable/user_guide/indexing.html#returning-a-view-versus-a-copy\n",
      "  reported_procedures[\"Average Charge\"] = (reported_procedures[\"Average Charge\"] * 100).astype(np.int64)\n"
     ]
    },
    {
     "name": "stdout",
     "output_type": "stream",
     "text": [
      "Writing reported procedures to reported_procedures/ST. Joseph's Medical Center of Stockton_reported_procedures.csv\n",
      "Parsing  chargemaster-cdm-2021/ST. Jude Medical Center/106301342_CDM_All_2021.xlsx\n"
     ]
    },
    {
     "name": "stderr",
     "output_type": "stream",
     "text": [
      "/var/folders/yv/3zzm4_cs25v74y31mq6j8_mh0000gr/T/ipykernel_60607/3297213217.py:14: SettingWithCopyWarning: \n",
      "A value is trying to be set on a copy of a slice from a DataFrame.\n",
      "Try using .loc[row_indexer,col_indexer] = value instead\n",
      "\n",
      "See the caveats in the documentation: https://pandas.pydata.org/pandas-docs/stable/user_guide/indexing.html#returning-a-view-versus-a-copy\n",
      "  reported_procedures[\"Hospital\"] = hospital_series\n",
      "/var/folders/yv/3zzm4_cs25v74y31mq6j8_mh0000gr/T/ipykernel_60607/3297213217.py:19: SettingWithCopyWarning: \n",
      "A value is trying to be set on a copy of a slice from a DataFrame.\n",
      "Try using .loc[row_indexer,col_indexer] = value instead\n",
      "\n",
      "See the caveats in the documentation: https://pandas.pydata.org/pandas-docs/stable/user_guide/indexing.html#returning-a-view-versus-a-copy\n",
      "  reported_procedures[\"CPT Code\"] = reported_procedures[\"CPT Code\"].apply(np.int64)\n",
      "/var/folders/yv/3zzm4_cs25v74y31mq6j8_mh0000gr/T/ipykernel_60607/3297213217.py:21: SettingWithCopyWarning: \n",
      "A value is trying to be set on a copy of a slice from a DataFrame.\n",
      "Try using .loc[row_indexer,col_indexer] = value instead\n",
      "\n",
      "See the caveats in the documentation: https://pandas.pydata.org/pandas-docs/stable/user_guide/indexing.html#returning-a-view-versus-a-copy\n",
      "  reported_procedures[\"Average Charge\"] = (reported_procedures[\"Average Charge\"] * 100).astype(np.int64)\n"
     ]
    },
    {
     "name": "stdout",
     "output_type": "stream",
     "text": [
      "Writing reported procedures to reported_procedures/ST. Jude Medical Center_reported_procedures.csv\n",
      "Parsing  chargemaster-cdm-2021/ST. Mary Medical Center - Apple Valley/106361343_CDM_All_2021.xlsx\n"
     ]
    },
    {
     "name": "stderr",
     "output_type": "stream",
     "text": [
      "/var/folders/yv/3zzm4_cs25v74y31mq6j8_mh0000gr/T/ipykernel_60607/3297213217.py:14: SettingWithCopyWarning: \n",
      "A value is trying to be set on a copy of a slice from a DataFrame.\n",
      "Try using .loc[row_indexer,col_indexer] = value instead\n",
      "\n",
      "See the caveats in the documentation: https://pandas.pydata.org/pandas-docs/stable/user_guide/indexing.html#returning-a-view-versus-a-copy\n",
      "  reported_procedures[\"Hospital\"] = hospital_series\n",
      "/var/folders/yv/3zzm4_cs25v74y31mq6j8_mh0000gr/T/ipykernel_60607/3297213217.py:19: SettingWithCopyWarning: \n",
      "A value is trying to be set on a copy of a slice from a DataFrame.\n",
      "Try using .loc[row_indexer,col_indexer] = value instead\n",
      "\n",
      "See the caveats in the documentation: https://pandas.pydata.org/pandas-docs/stable/user_guide/indexing.html#returning-a-view-versus-a-copy\n",
      "  reported_procedures[\"CPT Code\"] = reported_procedures[\"CPT Code\"].apply(np.int64)\n",
      "/var/folders/yv/3zzm4_cs25v74y31mq6j8_mh0000gr/T/ipykernel_60607/3297213217.py:21: SettingWithCopyWarning: \n",
      "A value is trying to be set on a copy of a slice from a DataFrame.\n",
      "Try using .loc[row_indexer,col_indexer] = value instead\n",
      "\n",
      "See the caveats in the documentation: https://pandas.pydata.org/pandas-docs/stable/user_guide/indexing.html#returning-a-view-versus-a-copy\n",
      "  reported_procedures[\"Average Charge\"] = (reported_procedures[\"Average Charge\"] * 100).astype(np.int64)\n"
     ]
    },
    {
     "name": "stdout",
     "output_type": "stream",
     "text": [
      "Writing reported procedures to reported_procedures/ST. Mary Medical Center - Apple Valley_reported_procedures.csv\n",
      "Parsing  chargemaster-cdm-2021/ST. Mary's Medical Center - San Francisco/106380965_CDM_All_2021.xlsx\n"
     ]
    },
    {
     "name": "stderr",
     "output_type": "stream",
     "text": [
      "/var/folders/yv/3zzm4_cs25v74y31mq6j8_mh0000gr/T/ipykernel_60607/3297213217.py:14: SettingWithCopyWarning: \n",
      "A value is trying to be set on a copy of a slice from a DataFrame.\n",
      "Try using .loc[row_indexer,col_indexer] = value instead\n",
      "\n",
      "See the caveats in the documentation: https://pandas.pydata.org/pandas-docs/stable/user_guide/indexing.html#returning-a-view-versus-a-copy\n",
      "  reported_procedures[\"Hospital\"] = hospital_series\n",
      "/var/folders/yv/3zzm4_cs25v74y31mq6j8_mh0000gr/T/ipykernel_60607/3297213217.py:19: SettingWithCopyWarning: \n",
      "A value is trying to be set on a copy of a slice from a DataFrame.\n",
      "Try using .loc[row_indexer,col_indexer] = value instead\n",
      "\n",
      "See the caveats in the documentation: https://pandas.pydata.org/pandas-docs/stable/user_guide/indexing.html#returning-a-view-versus-a-copy\n",
      "  reported_procedures[\"CPT Code\"] = reported_procedures[\"CPT Code\"].apply(np.int64)\n",
      "/var/folders/yv/3zzm4_cs25v74y31mq6j8_mh0000gr/T/ipykernel_60607/3297213217.py:21: SettingWithCopyWarning: \n",
      "A value is trying to be set on a copy of a slice from a DataFrame.\n",
      "Try using .loc[row_indexer,col_indexer] = value instead\n",
      "\n",
      "See the caveats in the documentation: https://pandas.pydata.org/pandas-docs/stable/user_guide/indexing.html#returning-a-view-versus-a-copy\n",
      "  reported_procedures[\"Average Charge\"] = (reported_procedures[\"Average Charge\"] * 100).astype(np.int64)\n"
     ]
    },
    {
     "name": "stdout",
     "output_type": "stream",
     "text": [
      "Writing reported procedures to reported_procedures/ST. Mary's Medical Center - San Francisco_reported_procedures.csv\n",
      "Parsing  chargemaster-cdm-2021/San Antonio Regional Hospital/106361318_CDM_All_2021.xlsx\n"
     ]
    },
    {
     "name": "stderr",
     "output_type": "stream",
     "text": [
      "/var/folders/yv/3zzm4_cs25v74y31mq6j8_mh0000gr/T/ipykernel_60607/3297213217.py:14: SettingWithCopyWarning: \n",
      "A value is trying to be set on a copy of a slice from a DataFrame.\n",
      "Try using .loc[row_indexer,col_indexer] = value instead\n",
      "\n",
      "See the caveats in the documentation: https://pandas.pydata.org/pandas-docs/stable/user_guide/indexing.html#returning-a-view-versus-a-copy\n",
      "  reported_procedures[\"Hospital\"] = hospital_series\n",
      "/var/folders/yv/3zzm4_cs25v74y31mq6j8_mh0000gr/T/ipykernel_60607/3297213217.py:19: SettingWithCopyWarning: \n",
      "A value is trying to be set on a copy of a slice from a DataFrame.\n",
      "Try using .loc[row_indexer,col_indexer] = value instead\n",
      "\n",
      "See the caveats in the documentation: https://pandas.pydata.org/pandas-docs/stable/user_guide/indexing.html#returning-a-view-versus-a-copy\n",
      "  reported_procedures[\"CPT Code\"] = reported_procedures[\"CPT Code\"].apply(np.int64)\n",
      "/var/folders/yv/3zzm4_cs25v74y31mq6j8_mh0000gr/T/ipykernel_60607/3297213217.py:21: SettingWithCopyWarning: \n",
      "A value is trying to be set on a copy of a slice from a DataFrame.\n",
      "Try using .loc[row_indexer,col_indexer] = value instead\n",
      "\n",
      "See the caveats in the documentation: https://pandas.pydata.org/pandas-docs/stable/user_guide/indexing.html#returning-a-view-versus-a-copy\n",
      "  reported_procedures[\"Average Charge\"] = (reported_procedures[\"Average Charge\"] * 100).astype(np.int64)\n"
     ]
    },
    {
     "name": "stdout",
     "output_type": "stream",
     "text": [
      "Writing reported procedures to reported_procedures/San Antonio Regional Hospital_reported_procedures.csv\n",
      "Parsing  chargemaster-cdm-2021/San Dimas Community Hospital/106190673_CDM_All_2021.xlsx\n"
     ]
    },
    {
     "name": "stderr",
     "output_type": "stream",
     "text": [
      "/var/folders/yv/3zzm4_cs25v74y31mq6j8_mh0000gr/T/ipykernel_60607/3297213217.py:14: SettingWithCopyWarning: \n",
      "A value is trying to be set on a copy of a slice from a DataFrame.\n",
      "Try using .loc[row_indexer,col_indexer] = value instead\n",
      "\n",
      "See the caveats in the documentation: https://pandas.pydata.org/pandas-docs/stable/user_guide/indexing.html#returning-a-view-versus-a-copy\n",
      "  reported_procedures[\"Hospital\"] = hospital_series\n",
      "/var/folders/yv/3zzm4_cs25v74y31mq6j8_mh0000gr/T/ipykernel_60607/3297213217.py:19: SettingWithCopyWarning: \n",
      "A value is trying to be set on a copy of a slice from a DataFrame.\n",
      "Try using .loc[row_indexer,col_indexer] = value instead\n",
      "\n",
      "See the caveats in the documentation: https://pandas.pydata.org/pandas-docs/stable/user_guide/indexing.html#returning-a-view-versus-a-copy\n",
      "  reported_procedures[\"CPT Code\"] = reported_procedures[\"CPT Code\"].apply(np.int64)\n",
      "/var/folders/yv/3zzm4_cs25v74y31mq6j8_mh0000gr/T/ipykernel_60607/3297213217.py:21: SettingWithCopyWarning: \n",
      "A value is trying to be set on a copy of a slice from a DataFrame.\n",
      "Try using .loc[row_indexer,col_indexer] = value instead\n",
      "\n",
      "See the caveats in the documentation: https://pandas.pydata.org/pandas-docs/stable/user_guide/indexing.html#returning-a-view-versus-a-copy\n",
      "  reported_procedures[\"Average Charge\"] = (reported_procedures[\"Average Charge\"] * 100).astype(np.int64)\n"
     ]
    },
    {
     "name": "stdout",
     "output_type": "stream",
     "text": [
      "Writing reported procedures to reported_procedures/San Dimas Community Hospital_reported_procedures.csv\n",
      "Parsing  chargemaster-cdm-2021/San Gabriel Valley Medical Center/106190200_CDM_All_2021.xlsx\n"
     ]
    },
    {
     "name": "stderr",
     "output_type": "stream",
     "text": [
      "/var/folders/yv/3zzm4_cs25v74y31mq6j8_mh0000gr/T/ipykernel_60607/3297213217.py:14: SettingWithCopyWarning: \n",
      "A value is trying to be set on a copy of a slice from a DataFrame.\n",
      "Try using .loc[row_indexer,col_indexer] = value instead\n",
      "\n",
      "See the caveats in the documentation: https://pandas.pydata.org/pandas-docs/stable/user_guide/indexing.html#returning-a-view-versus-a-copy\n",
      "  reported_procedures[\"Hospital\"] = hospital_series\n",
      "/var/folders/yv/3zzm4_cs25v74y31mq6j8_mh0000gr/T/ipykernel_60607/3297213217.py:19: SettingWithCopyWarning: \n",
      "A value is trying to be set on a copy of a slice from a DataFrame.\n",
      "Try using .loc[row_indexer,col_indexer] = value instead\n",
      "\n",
      "See the caveats in the documentation: https://pandas.pydata.org/pandas-docs/stable/user_guide/indexing.html#returning-a-view-versus-a-copy\n",
      "  reported_procedures[\"CPT Code\"] = reported_procedures[\"CPT Code\"].apply(np.int64)\n",
      "/var/folders/yv/3zzm4_cs25v74y31mq6j8_mh0000gr/T/ipykernel_60607/3297213217.py:21: SettingWithCopyWarning: \n",
      "A value is trying to be set on a copy of a slice from a DataFrame.\n",
      "Try using .loc[row_indexer,col_indexer] = value instead\n",
      "\n",
      "See the caveats in the documentation: https://pandas.pydata.org/pandas-docs/stable/user_guide/indexing.html#returning-a-view-versus-a-copy\n",
      "  reported_procedures[\"Average Charge\"] = (reported_procedures[\"Average Charge\"] * 100).astype(np.int64)\n"
     ]
    },
    {
     "name": "stdout",
     "output_type": "stream",
     "text": [
      "Writing reported procedures to reported_procedures/San Gabriel Valley Medical Center_reported_procedures.csv\n",
      "Parsing  chargemaster-cdm-2021/San Gorgonia Memorial Hospital/106331326_CDM_All_2021.xlsx\n",
      "Failed to read data from hospital San Gorgonia Memorial Hospital\n",
      "Parsing  chargemaster-cdm-2021/San Joaquin Valley Rehabilitation Hospital/106104023_CDM_All_2021.xls\n"
     ]
    },
    {
     "name": "stderr",
     "output_type": "stream",
     "text": [
      "/var/folders/yv/3zzm4_cs25v74y31mq6j8_mh0000gr/T/ipykernel_60607/3297213217.py:14: SettingWithCopyWarning: \n",
      "A value is trying to be set on a copy of a slice from a DataFrame.\n",
      "Try using .loc[row_indexer,col_indexer] = value instead\n",
      "\n",
      "See the caveats in the documentation: https://pandas.pydata.org/pandas-docs/stable/user_guide/indexing.html#returning-a-view-versus-a-copy\n",
      "  reported_procedures[\"Hospital\"] = hospital_series\n",
      "/var/folders/yv/3zzm4_cs25v74y31mq6j8_mh0000gr/T/ipykernel_60607/3297213217.py:19: SettingWithCopyWarning: \n",
      "A value is trying to be set on a copy of a slice from a DataFrame.\n",
      "Try using .loc[row_indexer,col_indexer] = value instead\n",
      "\n",
      "See the caveats in the documentation: https://pandas.pydata.org/pandas-docs/stable/user_guide/indexing.html#returning-a-view-versus-a-copy\n",
      "  reported_procedures[\"CPT Code\"] = reported_procedures[\"CPT Code\"].apply(np.int64)\n",
      "/var/folders/yv/3zzm4_cs25v74y31mq6j8_mh0000gr/T/ipykernel_60607/3297213217.py:21: SettingWithCopyWarning: \n",
      "A value is trying to be set on a copy of a slice from a DataFrame.\n",
      "Try using .loc[row_indexer,col_indexer] = value instead\n",
      "\n",
      "See the caveats in the documentation: https://pandas.pydata.org/pandas-docs/stable/user_guide/indexing.html#returning-a-view-versus-a-copy\n",
      "  reported_procedures[\"Average Charge\"] = (reported_procedures[\"Average Charge\"] * 100).astype(np.int64)\n"
     ]
    },
    {
     "name": "stdout",
     "output_type": "stream",
     "text": [
      "Writing reported procedures to reported_procedures/San Joaquin Valley Rehabilitation Hospital_reported_procedures.csv\n",
      "Parsing  chargemaster-cdm-2021/San Ramon Regional Medical Center/106074017_CDM_All_2021.xlsx\n",
      "Failed to read data from hospital San Ramon Regional Medical Center\n",
      "Parsing  chargemaster-cdm-2021/Santa Barbara Cottage Hospital/106420514_CDM_All_2021.xlsx\n"
     ]
    },
    {
     "name": "stderr",
     "output_type": "stream",
     "text": [
      "/var/folders/yv/3zzm4_cs25v74y31mq6j8_mh0000gr/T/ipykernel_60607/3297213217.py:14: SettingWithCopyWarning: \n",
      "A value is trying to be set on a copy of a slice from a DataFrame.\n",
      "Try using .loc[row_indexer,col_indexer] = value instead\n",
      "\n",
      "See the caveats in the documentation: https://pandas.pydata.org/pandas-docs/stable/user_guide/indexing.html#returning-a-view-versus-a-copy\n",
      "  reported_procedures[\"Hospital\"] = hospital_series\n",
      "/var/folders/yv/3zzm4_cs25v74y31mq6j8_mh0000gr/T/ipykernel_60607/3297213217.py:19: SettingWithCopyWarning: \n",
      "A value is trying to be set on a copy of a slice from a DataFrame.\n",
      "Try using .loc[row_indexer,col_indexer] = value instead\n",
      "\n",
      "See the caveats in the documentation: https://pandas.pydata.org/pandas-docs/stable/user_guide/indexing.html#returning-a-view-versus-a-copy\n",
      "  reported_procedures[\"CPT Code\"] = reported_procedures[\"CPT Code\"].apply(np.int64)\n",
      "/var/folders/yv/3zzm4_cs25v74y31mq6j8_mh0000gr/T/ipykernel_60607/3297213217.py:21: SettingWithCopyWarning: \n",
      "A value is trying to be set on a copy of a slice from a DataFrame.\n",
      "Try using .loc[row_indexer,col_indexer] = value instead\n",
      "\n",
      "See the caveats in the documentation: https://pandas.pydata.org/pandas-docs/stable/user_guide/indexing.html#returning-a-view-versus-a-copy\n",
      "  reported_procedures[\"Average Charge\"] = (reported_procedures[\"Average Charge\"] * 100).astype(np.int64)\n",
      "/var/folders/yv/3zzm4_cs25v74y31mq6j8_mh0000gr/T/ipykernel_60607/3297213217.py:14: SettingWithCopyWarning: \n",
      "A value is trying to be set on a copy of a slice from a DataFrame.\n",
      "Try using .loc[row_indexer,col_indexer] = value instead\n",
      "\n",
      "See the caveats in the documentation: https://pandas.pydata.org/pandas-docs/stable/user_guide/indexing.html#returning-a-view-versus-a-copy\n",
      "  reported_procedures[\"Hospital\"] = hospital_series\n",
      "/var/folders/yv/3zzm4_cs25v74y31mq6j8_mh0000gr/T/ipykernel_60607/3297213217.py:19: SettingWithCopyWarning: \n",
      "A value is trying to be set on a copy of a slice from a DataFrame.\n",
      "Try using .loc[row_indexer,col_indexer] = value instead\n",
      "\n",
      "See the caveats in the documentation: https://pandas.pydata.org/pandas-docs/stable/user_guide/indexing.html#returning-a-view-versus-a-copy\n",
      "  reported_procedures[\"CPT Code\"] = reported_procedures[\"CPT Code\"].apply(np.int64)\n",
      "/var/folders/yv/3zzm4_cs25v74y31mq6j8_mh0000gr/T/ipykernel_60607/3297213217.py:21: SettingWithCopyWarning: \n",
      "A value is trying to be set on a copy of a slice from a DataFrame.\n",
      "Try using .loc[row_indexer,col_indexer] = value instead\n",
      "\n",
      "See the caveats in the documentation: https://pandas.pydata.org/pandas-docs/stable/user_guide/indexing.html#returning-a-view-versus-a-copy\n",
      "  reported_procedures[\"Average Charge\"] = (reported_procedures[\"Average Charge\"] * 100).astype(np.int64)\n"
     ]
    },
    {
     "name": "stdout",
     "output_type": "stream",
     "text": [
      "Writing reported procedures to reported_procedures/Santa Barbara Cottage Hospital_reported_procedures.csv\n",
      "Parsing  chargemaster-cdm-2021/Santa Ynez Valley Cottage Hospital/106420522_CDM_All_2021.xlsx\n",
      "Writing reported procedures to reported_procedures/Santa Ynez Valley Cottage Hospital_reported_procedures.csv\n",
      "Parsing  chargemaster-cdm-2021/Scripps Green Hospital/106371256_CDM_All_2021.xlsx\n"
     ]
    },
    {
     "name": "stderr",
     "output_type": "stream",
     "text": [
      "/var/folders/yv/3zzm4_cs25v74y31mq6j8_mh0000gr/T/ipykernel_60607/3297213217.py:14: SettingWithCopyWarning: \n",
      "A value is trying to be set on a copy of a slice from a DataFrame.\n",
      "Try using .loc[row_indexer,col_indexer] = value instead\n",
      "\n",
      "See the caveats in the documentation: https://pandas.pydata.org/pandas-docs/stable/user_guide/indexing.html#returning-a-view-versus-a-copy\n",
      "  reported_procedures[\"Hospital\"] = hospital_series\n",
      "/var/folders/yv/3zzm4_cs25v74y31mq6j8_mh0000gr/T/ipykernel_60607/3297213217.py:19: SettingWithCopyWarning: \n",
      "A value is trying to be set on a copy of a slice from a DataFrame.\n",
      "Try using .loc[row_indexer,col_indexer] = value instead\n",
      "\n",
      "See the caveats in the documentation: https://pandas.pydata.org/pandas-docs/stable/user_guide/indexing.html#returning-a-view-versus-a-copy\n",
      "  reported_procedures[\"CPT Code\"] = reported_procedures[\"CPT Code\"].apply(np.int64)\n",
      "/var/folders/yv/3zzm4_cs25v74y31mq6j8_mh0000gr/T/ipykernel_60607/3297213217.py:21: SettingWithCopyWarning: \n",
      "A value is trying to be set on a copy of a slice from a DataFrame.\n",
      "Try using .loc[row_indexer,col_indexer] = value instead\n",
      "\n",
      "See the caveats in the documentation: https://pandas.pydata.org/pandas-docs/stable/user_guide/indexing.html#returning-a-view-versus-a-copy\n",
      "  reported_procedures[\"Average Charge\"] = (reported_procedures[\"Average Charge\"] * 100).astype(np.int64)\n"
     ]
    },
    {
     "name": "stdout",
     "output_type": "stream",
     "text": [
      "Writing reported procedures to reported_procedures/Scripps Green Hospital_reported_procedures.csv\n",
      "Parsing  chargemaster-cdm-2021/Scripps Memorial Hospital - Encinitas/106371394_CDM_All_2021.xlsx\n"
     ]
    },
    {
     "name": "stderr",
     "output_type": "stream",
     "text": [
      "/var/folders/yv/3zzm4_cs25v74y31mq6j8_mh0000gr/T/ipykernel_60607/3297213217.py:14: SettingWithCopyWarning: \n",
      "A value is trying to be set on a copy of a slice from a DataFrame.\n",
      "Try using .loc[row_indexer,col_indexer] = value instead\n",
      "\n",
      "See the caveats in the documentation: https://pandas.pydata.org/pandas-docs/stable/user_guide/indexing.html#returning-a-view-versus-a-copy\n",
      "  reported_procedures[\"Hospital\"] = hospital_series\n",
      "/var/folders/yv/3zzm4_cs25v74y31mq6j8_mh0000gr/T/ipykernel_60607/3297213217.py:19: SettingWithCopyWarning: \n",
      "A value is trying to be set on a copy of a slice from a DataFrame.\n",
      "Try using .loc[row_indexer,col_indexer] = value instead\n",
      "\n",
      "See the caveats in the documentation: https://pandas.pydata.org/pandas-docs/stable/user_guide/indexing.html#returning-a-view-versus-a-copy\n",
      "  reported_procedures[\"CPT Code\"] = reported_procedures[\"CPT Code\"].apply(np.int64)\n",
      "/var/folders/yv/3zzm4_cs25v74y31mq6j8_mh0000gr/T/ipykernel_60607/3297213217.py:21: SettingWithCopyWarning: \n",
      "A value is trying to be set on a copy of a slice from a DataFrame.\n",
      "Try using .loc[row_indexer,col_indexer] = value instead\n",
      "\n",
      "See the caveats in the documentation: https://pandas.pydata.org/pandas-docs/stable/user_guide/indexing.html#returning-a-view-versus-a-copy\n",
      "  reported_procedures[\"Average Charge\"] = (reported_procedures[\"Average Charge\"] * 100).astype(np.int64)\n"
     ]
    },
    {
     "name": "stdout",
     "output_type": "stream",
     "text": [
      "Writing reported procedures to reported_procedures/Scripps Memorial Hospital - Encinitas_reported_procedures.csv\n",
      "Parsing  chargemaster-cdm-2021/Scripps Memorial Hospital - La Jolla/106370771_CDM_All_2021.xlsx\n"
     ]
    },
    {
     "name": "stderr",
     "output_type": "stream",
     "text": [
      "/var/folders/yv/3zzm4_cs25v74y31mq6j8_mh0000gr/T/ipykernel_60607/3297213217.py:14: SettingWithCopyWarning: \n",
      "A value is trying to be set on a copy of a slice from a DataFrame.\n",
      "Try using .loc[row_indexer,col_indexer] = value instead\n",
      "\n",
      "See the caveats in the documentation: https://pandas.pydata.org/pandas-docs/stable/user_guide/indexing.html#returning-a-view-versus-a-copy\n",
      "  reported_procedures[\"Hospital\"] = hospital_series\n",
      "/var/folders/yv/3zzm4_cs25v74y31mq6j8_mh0000gr/T/ipykernel_60607/3297213217.py:19: SettingWithCopyWarning: \n",
      "A value is trying to be set on a copy of a slice from a DataFrame.\n",
      "Try using .loc[row_indexer,col_indexer] = value instead\n",
      "\n",
      "See the caveats in the documentation: https://pandas.pydata.org/pandas-docs/stable/user_guide/indexing.html#returning-a-view-versus-a-copy\n",
      "  reported_procedures[\"CPT Code\"] = reported_procedures[\"CPT Code\"].apply(np.int64)\n",
      "/var/folders/yv/3zzm4_cs25v74y31mq6j8_mh0000gr/T/ipykernel_60607/3297213217.py:21: SettingWithCopyWarning: \n",
      "A value is trying to be set on a copy of a slice from a DataFrame.\n",
      "Try using .loc[row_indexer,col_indexer] = value instead\n",
      "\n",
      "See the caveats in the documentation: https://pandas.pydata.org/pandas-docs/stable/user_guide/indexing.html#returning-a-view-versus-a-copy\n",
      "  reported_procedures[\"Average Charge\"] = (reported_procedures[\"Average Charge\"] * 100).astype(np.int64)\n"
     ]
    },
    {
     "name": "stdout",
     "output_type": "stream",
     "text": [
      "Writing reported procedures to reported_procedures/Scripps Memorial Hospital - La Jolla_reported_procedures.csv\n",
      "Parsing  chargemaster-cdm-2021/Scripps Mercy Hospital/106370744_CDM_All_2021.xlsx\n"
     ]
    },
    {
     "name": "stderr",
     "output_type": "stream",
     "text": [
      "/var/folders/yv/3zzm4_cs25v74y31mq6j8_mh0000gr/T/ipykernel_60607/3297213217.py:14: SettingWithCopyWarning: \n",
      "A value is trying to be set on a copy of a slice from a DataFrame.\n",
      "Try using .loc[row_indexer,col_indexer] = value instead\n",
      "\n",
      "See the caveats in the documentation: https://pandas.pydata.org/pandas-docs/stable/user_guide/indexing.html#returning-a-view-versus-a-copy\n",
      "  reported_procedures[\"Hospital\"] = hospital_series\n",
      "/var/folders/yv/3zzm4_cs25v74y31mq6j8_mh0000gr/T/ipykernel_60607/3297213217.py:19: SettingWithCopyWarning: \n",
      "A value is trying to be set on a copy of a slice from a DataFrame.\n",
      "Try using .loc[row_indexer,col_indexer] = value instead\n",
      "\n",
      "See the caveats in the documentation: https://pandas.pydata.org/pandas-docs/stable/user_guide/indexing.html#returning-a-view-versus-a-copy\n",
      "  reported_procedures[\"CPT Code\"] = reported_procedures[\"CPT Code\"].apply(np.int64)\n",
      "/var/folders/yv/3zzm4_cs25v74y31mq6j8_mh0000gr/T/ipykernel_60607/3297213217.py:21: SettingWithCopyWarning: \n",
      "A value is trying to be set on a copy of a slice from a DataFrame.\n",
      "Try using .loc[row_indexer,col_indexer] = value instead\n",
      "\n",
      "See the caveats in the documentation: https://pandas.pydata.org/pandas-docs/stable/user_guide/indexing.html#returning-a-view-versus-a-copy\n",
      "  reported_procedures[\"Average Charge\"] = (reported_procedures[\"Average Charge\"] * 100).astype(np.int64)\n"
     ]
    },
    {
     "name": "stdout",
     "output_type": "stream",
     "text": [
      "Writing reported procedures to reported_procedures/Scripps Mercy Hospital_reported_procedures.csv\n",
      "Parsing  chargemaster-cdm-2021/Sequoia Hospital/106410891_CDM_All_2021.xlsx\n"
     ]
    },
    {
     "name": "stderr",
     "output_type": "stream",
     "text": [
      "/var/folders/yv/3zzm4_cs25v74y31mq6j8_mh0000gr/T/ipykernel_60607/3297213217.py:14: SettingWithCopyWarning: \n",
      "A value is trying to be set on a copy of a slice from a DataFrame.\n",
      "Try using .loc[row_indexer,col_indexer] = value instead\n",
      "\n",
      "See the caveats in the documentation: https://pandas.pydata.org/pandas-docs/stable/user_guide/indexing.html#returning-a-view-versus-a-copy\n",
      "  reported_procedures[\"Hospital\"] = hospital_series\n",
      "/var/folders/yv/3zzm4_cs25v74y31mq6j8_mh0000gr/T/ipykernel_60607/3297213217.py:19: SettingWithCopyWarning: \n",
      "A value is trying to be set on a copy of a slice from a DataFrame.\n",
      "Try using .loc[row_indexer,col_indexer] = value instead\n",
      "\n",
      "See the caveats in the documentation: https://pandas.pydata.org/pandas-docs/stable/user_guide/indexing.html#returning-a-view-versus-a-copy\n",
      "  reported_procedures[\"CPT Code\"] = reported_procedures[\"CPT Code\"].apply(np.int64)\n",
      "/var/folders/yv/3zzm4_cs25v74y31mq6j8_mh0000gr/T/ipykernel_60607/3297213217.py:21: SettingWithCopyWarning: \n",
      "A value is trying to be set on a copy of a slice from a DataFrame.\n",
      "Try using .loc[row_indexer,col_indexer] = value instead\n",
      "\n",
      "See the caveats in the documentation: https://pandas.pydata.org/pandas-docs/stable/user_guide/indexing.html#returning-a-view-versus-a-copy\n",
      "  reported_procedures[\"Average Charge\"] = (reported_procedures[\"Average Charge\"] * 100).astype(np.int64)\n"
     ]
    },
    {
     "name": "stdout",
     "output_type": "stream",
     "text": [
      "Writing reported procedures to reported_procedures/Sequoia Hospital_reported_procedures.csv\n",
      "Parsing  chargemaster-cdm-2021/Shasta Regional Medical Center/106450940_CDM_All_2021.xlsx\n"
     ]
    },
    {
     "name": "stderr",
     "output_type": "stream",
     "text": [
      "/var/folders/yv/3zzm4_cs25v74y31mq6j8_mh0000gr/T/ipykernel_60607/3297213217.py:14: SettingWithCopyWarning: \n",
      "A value is trying to be set on a copy of a slice from a DataFrame.\n",
      "Try using .loc[row_indexer,col_indexer] = value instead\n",
      "\n",
      "See the caveats in the documentation: https://pandas.pydata.org/pandas-docs/stable/user_guide/indexing.html#returning-a-view-versus-a-copy\n",
      "  reported_procedures[\"Hospital\"] = hospital_series\n",
      "/var/folders/yv/3zzm4_cs25v74y31mq6j8_mh0000gr/T/ipykernel_60607/3297213217.py:19: SettingWithCopyWarning: \n",
      "A value is trying to be set on a copy of a slice from a DataFrame.\n",
      "Try using .loc[row_indexer,col_indexer] = value instead\n",
      "\n",
      "See the caveats in the documentation: https://pandas.pydata.org/pandas-docs/stable/user_guide/indexing.html#returning-a-view-versus-a-copy\n",
      "  reported_procedures[\"CPT Code\"] = reported_procedures[\"CPT Code\"].apply(np.int64)\n",
      "/var/folders/yv/3zzm4_cs25v74y31mq6j8_mh0000gr/T/ipykernel_60607/3297213217.py:21: SettingWithCopyWarning: \n",
      "A value is trying to be set on a copy of a slice from a DataFrame.\n",
      "Try using .loc[row_indexer,col_indexer] = value instead\n",
      "\n",
      "See the caveats in the documentation: https://pandas.pydata.org/pandas-docs/stable/user_guide/indexing.html#returning-a-view-versus-a-copy\n",
      "  reported_procedures[\"Average Charge\"] = (reported_procedures[\"Average Charge\"] * 100).astype(np.int64)\n"
     ]
    },
    {
     "name": "stdout",
     "output_type": "stream",
     "text": [
      "Writing reported procedures to reported_procedures/Shasta Regional Medical Center_reported_procedures.csv\n",
      "Parsing  chargemaster-cdm-2021/Sherman Oaks Hospital/106190708_CDM_All_2021.xlsx\n"
     ]
    },
    {
     "name": "stderr",
     "output_type": "stream",
     "text": [
      "/var/folders/yv/3zzm4_cs25v74y31mq6j8_mh0000gr/T/ipykernel_60607/3297213217.py:14: SettingWithCopyWarning: \n",
      "A value is trying to be set on a copy of a slice from a DataFrame.\n",
      "Try using .loc[row_indexer,col_indexer] = value instead\n",
      "\n",
      "See the caveats in the documentation: https://pandas.pydata.org/pandas-docs/stable/user_guide/indexing.html#returning-a-view-versus-a-copy\n",
      "  reported_procedures[\"Hospital\"] = hospital_series\n",
      "/var/folders/yv/3zzm4_cs25v74y31mq6j8_mh0000gr/T/ipykernel_60607/3297213217.py:19: SettingWithCopyWarning: \n",
      "A value is trying to be set on a copy of a slice from a DataFrame.\n",
      "Try using .loc[row_indexer,col_indexer] = value instead\n",
      "\n",
      "See the caveats in the documentation: https://pandas.pydata.org/pandas-docs/stable/user_guide/indexing.html#returning-a-view-versus-a-copy\n",
      "  reported_procedures[\"CPT Code\"] = reported_procedures[\"CPT Code\"].apply(np.int64)\n",
      "/var/folders/yv/3zzm4_cs25v74y31mq6j8_mh0000gr/T/ipykernel_60607/3297213217.py:21: SettingWithCopyWarning: \n",
      "A value is trying to be set on a copy of a slice from a DataFrame.\n",
      "Try using .loc[row_indexer,col_indexer] = value instead\n",
      "\n",
      "See the caveats in the documentation: https://pandas.pydata.org/pandas-docs/stable/user_guide/indexing.html#returning-a-view-versus-a-copy\n",
      "  reported_procedures[\"Average Charge\"] = (reported_procedures[\"Average Charge\"] * 100).astype(np.int64)\n"
     ]
    },
    {
     "name": "stdout",
     "output_type": "stream",
     "text": [
      "Writing reported procedures to reported_procedures/Sherman Oaks Hospital_reported_procedures.csv\n",
      "Parsing  chargemaster-cdm-2021/Sierra Nevada Memorial Hospital/106291023_CDM_All_2021.xlsx\n"
     ]
    },
    {
     "name": "stderr",
     "output_type": "stream",
     "text": [
      "/var/folders/yv/3zzm4_cs25v74y31mq6j8_mh0000gr/T/ipykernel_60607/3297213217.py:14: SettingWithCopyWarning: \n",
      "A value is trying to be set on a copy of a slice from a DataFrame.\n",
      "Try using .loc[row_indexer,col_indexer] = value instead\n",
      "\n",
      "See the caveats in the documentation: https://pandas.pydata.org/pandas-docs/stable/user_guide/indexing.html#returning-a-view-versus-a-copy\n",
      "  reported_procedures[\"Hospital\"] = hospital_series\n",
      "/var/folders/yv/3zzm4_cs25v74y31mq6j8_mh0000gr/T/ipykernel_60607/3297213217.py:19: SettingWithCopyWarning: \n",
      "A value is trying to be set on a copy of a slice from a DataFrame.\n",
      "Try using .loc[row_indexer,col_indexer] = value instead\n",
      "\n",
      "See the caveats in the documentation: https://pandas.pydata.org/pandas-docs/stable/user_guide/indexing.html#returning-a-view-versus-a-copy\n",
      "  reported_procedures[\"CPT Code\"] = reported_procedures[\"CPT Code\"].apply(np.int64)\n",
      "/var/folders/yv/3zzm4_cs25v74y31mq6j8_mh0000gr/T/ipykernel_60607/3297213217.py:21: SettingWithCopyWarning: \n",
      "A value is trying to be set on a copy of a slice from a DataFrame.\n",
      "Try using .loc[row_indexer,col_indexer] = value instead\n",
      "\n",
      "See the caveats in the documentation: https://pandas.pydata.org/pandas-docs/stable/user_guide/indexing.html#returning-a-view-versus-a-copy\n",
      "  reported_procedures[\"Average Charge\"] = (reported_procedures[\"Average Charge\"] * 100).astype(np.int64)\n",
      "/var/folders/yv/3zzm4_cs25v74y31mq6j8_mh0000gr/T/ipykernel_60607/3297213217.py:14: SettingWithCopyWarning: \n",
      "A value is trying to be set on a copy of a slice from a DataFrame.\n",
      "Try using .loc[row_indexer,col_indexer] = value instead\n",
      "\n",
      "See the caveats in the documentation: https://pandas.pydata.org/pandas-docs/stable/user_guide/indexing.html#returning-a-view-versus-a-copy\n",
      "  reported_procedures[\"Hospital\"] = hospital_series\n",
      "/var/folders/yv/3zzm4_cs25v74y31mq6j8_mh0000gr/T/ipykernel_60607/3297213217.py:19: SettingWithCopyWarning: \n",
      "A value is trying to be set on a copy of a slice from a DataFrame.\n",
      "Try using .loc[row_indexer,col_indexer] = value instead\n",
      "\n",
      "See the caveats in the documentation: https://pandas.pydata.org/pandas-docs/stable/user_guide/indexing.html#returning-a-view-versus-a-copy\n",
      "  reported_procedures[\"CPT Code\"] = reported_procedures[\"CPT Code\"].apply(np.int64)\n",
      "/var/folders/yv/3zzm4_cs25v74y31mq6j8_mh0000gr/T/ipykernel_60607/3297213217.py:21: SettingWithCopyWarning: \n",
      "A value is trying to be set on a copy of a slice from a DataFrame.\n",
      "Try using .loc[row_indexer,col_indexer] = value instead\n",
      "\n",
      "See the caveats in the documentation: https://pandas.pydata.org/pandas-docs/stable/user_guide/indexing.html#returning-a-view-versus-a-copy\n",
      "  reported_procedures[\"Average Charge\"] = (reported_procedures[\"Average Charge\"] * 100).astype(np.int64)\n"
     ]
    },
    {
     "name": "stdout",
     "output_type": "stream",
     "text": [
      "Writing reported procedures to reported_procedures/Sierra Nevada Memorial Hospital_reported_procedures.csv\n",
      "Parsing  chargemaster-cdm-2021/Sierra Vista Hospital/106342392_CDM_All_2021.xlsx\n",
      "Writing reported procedures to reported_procedures/Sierra Vista Hospital_reported_procedures.csv\n",
      "Parsing  chargemaster-cdm-2021/Sierra Vista Regional Medical Center/106400524_CDM_All_2021.xlsx\n",
      "Failed to read data from hospital Sierra Vista Regional Medical Center\n",
      "Parsing  chargemaster-cdm-2021/Sonoma Valley Hospital/106491076_CDM_All_2021.xlsx\n"
     ]
    },
    {
     "name": "stderr",
     "output_type": "stream",
     "text": [
      "/var/folders/yv/3zzm4_cs25v74y31mq6j8_mh0000gr/T/ipykernel_60607/3297213217.py:14: SettingWithCopyWarning: \n",
      "A value is trying to be set on a copy of a slice from a DataFrame.\n",
      "Try using .loc[row_indexer,col_indexer] = value instead\n",
      "\n",
      "See the caveats in the documentation: https://pandas.pydata.org/pandas-docs/stable/user_guide/indexing.html#returning-a-view-versus-a-copy\n",
      "  reported_procedures[\"Hospital\"] = hospital_series\n",
      "/var/folders/yv/3zzm4_cs25v74y31mq6j8_mh0000gr/T/ipykernel_60607/3297213217.py:19: SettingWithCopyWarning: \n",
      "A value is trying to be set on a copy of a slice from a DataFrame.\n",
      "Try using .loc[row_indexer,col_indexer] = value instead\n",
      "\n",
      "See the caveats in the documentation: https://pandas.pydata.org/pandas-docs/stable/user_guide/indexing.html#returning-a-view-versus-a-copy\n",
      "  reported_procedures[\"CPT Code\"] = reported_procedures[\"CPT Code\"].apply(np.int64)\n",
      "/var/folders/yv/3zzm4_cs25v74y31mq6j8_mh0000gr/T/ipykernel_60607/3297213217.py:21: SettingWithCopyWarning: \n",
      "A value is trying to be set on a copy of a slice from a DataFrame.\n",
      "Try using .loc[row_indexer,col_indexer] = value instead\n",
      "\n",
      "See the caveats in the documentation: https://pandas.pydata.org/pandas-docs/stable/user_guide/indexing.html#returning-a-view-versus-a-copy\n",
      "  reported_procedures[\"Average Charge\"] = (reported_procedures[\"Average Charge\"] * 100).astype(np.int64)\n"
     ]
    },
    {
     "name": "stdout",
     "output_type": "stream",
     "text": [
      "Writing reported procedures to reported_procedures/Sonoma Valley Hospital_reported_procedures.csv\n",
      "Parsing  chargemaster-cdm-2021/St Joseph's Behavioral Health Center/106392232_CDM_All_2021.xlsx\n"
     ]
    },
    {
     "name": "stderr",
     "output_type": "stream",
     "text": [
      "/var/folders/yv/3zzm4_cs25v74y31mq6j8_mh0000gr/T/ipykernel_60607/3297213217.py:14: SettingWithCopyWarning: \n",
      "A value is trying to be set on a copy of a slice from a DataFrame.\n",
      "Try using .loc[row_indexer,col_indexer] = value instead\n",
      "\n",
      "See the caveats in the documentation: https://pandas.pydata.org/pandas-docs/stable/user_guide/indexing.html#returning-a-view-versus-a-copy\n",
      "  reported_procedures[\"Hospital\"] = hospital_series\n",
      "/var/folders/yv/3zzm4_cs25v74y31mq6j8_mh0000gr/T/ipykernel_60607/3297213217.py:19: SettingWithCopyWarning: \n",
      "A value is trying to be set on a copy of a slice from a DataFrame.\n",
      "Try using .loc[row_indexer,col_indexer] = value instead\n",
      "\n",
      "See the caveats in the documentation: https://pandas.pydata.org/pandas-docs/stable/user_guide/indexing.html#returning-a-view-versus-a-copy\n",
      "  reported_procedures[\"CPT Code\"] = reported_procedures[\"CPT Code\"].apply(np.int64)\n",
      "/var/folders/yv/3zzm4_cs25v74y31mq6j8_mh0000gr/T/ipykernel_60607/3297213217.py:21: SettingWithCopyWarning: \n",
      "A value is trying to be set on a copy of a slice from a DataFrame.\n",
      "Try using .loc[row_indexer,col_indexer] = value instead\n",
      "\n",
      "See the caveats in the documentation: https://pandas.pydata.org/pandas-docs/stable/user_guide/indexing.html#returning-a-view-versus-a-copy\n",
      "  reported_procedures[\"Average Charge\"] = (reported_procedures[\"Average Charge\"] * 100).astype(np.int64)\n"
     ]
    },
    {
     "name": "stdout",
     "output_type": "stream",
     "text": [
      "Writing reported procedures to reported_procedures/St Joseph's Behavioral Health Center_reported_procedures.csv\n",
      "Parsing  chargemaster-cdm-2021/St Mary Medical Center - Long Beach/106190053_CDM_All_2021.xlsx\n"
     ]
    },
    {
     "name": "stderr",
     "output_type": "stream",
     "text": [
      "/var/folders/yv/3zzm4_cs25v74y31mq6j8_mh0000gr/T/ipykernel_60607/3297213217.py:14: SettingWithCopyWarning: \n",
      "A value is trying to be set on a copy of a slice from a DataFrame.\n",
      "Try using .loc[row_indexer,col_indexer] = value instead\n",
      "\n",
      "See the caveats in the documentation: https://pandas.pydata.org/pandas-docs/stable/user_guide/indexing.html#returning-a-view-versus-a-copy\n",
      "  reported_procedures[\"Hospital\"] = hospital_series\n",
      "/var/folders/yv/3zzm4_cs25v74y31mq6j8_mh0000gr/T/ipykernel_60607/3297213217.py:19: SettingWithCopyWarning: \n",
      "A value is trying to be set on a copy of a slice from a DataFrame.\n",
      "Try using .loc[row_indexer,col_indexer] = value instead\n",
      "\n",
      "See the caveats in the documentation: https://pandas.pydata.org/pandas-docs/stable/user_guide/indexing.html#returning-a-view-versus-a-copy\n",
      "  reported_procedures[\"CPT Code\"] = reported_procedures[\"CPT Code\"].apply(np.int64)\n",
      "/var/folders/yv/3zzm4_cs25v74y31mq6j8_mh0000gr/T/ipykernel_60607/3297213217.py:21: SettingWithCopyWarning: \n",
      "A value is trying to be set on a copy of a slice from a DataFrame.\n",
      "Try using .loc[row_indexer,col_indexer] = value instead\n",
      "\n",
      "See the caveats in the documentation: https://pandas.pydata.org/pandas-docs/stable/user_guide/indexing.html#returning-a-view-versus-a-copy\n",
      "  reported_procedures[\"Average Charge\"] = (reported_procedures[\"Average Charge\"] * 100).astype(np.int64)\n"
     ]
    },
    {
     "name": "stdout",
     "output_type": "stream",
     "text": [
      "Writing reported procedures to reported_procedures/St Mary Medical Center - Long Beach_reported_procedures.csv\n",
      "Parsing  chargemaster-cdm-2021/Stanford University Hospital/106430905_CDM_All_2021.xlsx\n"
     ]
    },
    {
     "name": "stderr",
     "output_type": "stream",
     "text": [
      "/var/folders/yv/3zzm4_cs25v74y31mq6j8_mh0000gr/T/ipykernel_60607/3297213217.py:14: SettingWithCopyWarning: \n",
      "A value is trying to be set on a copy of a slice from a DataFrame.\n",
      "Try using .loc[row_indexer,col_indexer] = value instead\n",
      "\n",
      "See the caveats in the documentation: https://pandas.pydata.org/pandas-docs/stable/user_guide/indexing.html#returning-a-view-versus-a-copy\n",
      "  reported_procedures[\"Hospital\"] = hospital_series\n",
      "/var/folders/yv/3zzm4_cs25v74y31mq6j8_mh0000gr/T/ipykernel_60607/3297213217.py:19: SettingWithCopyWarning: \n",
      "A value is trying to be set on a copy of a slice from a DataFrame.\n",
      "Try using .loc[row_indexer,col_indexer] = value instead\n",
      "\n",
      "See the caveats in the documentation: https://pandas.pydata.org/pandas-docs/stable/user_guide/indexing.html#returning-a-view-versus-a-copy\n",
      "  reported_procedures[\"CPT Code\"] = reported_procedures[\"CPT Code\"].apply(np.int64)\n",
      "/var/folders/yv/3zzm4_cs25v74y31mq6j8_mh0000gr/T/ipykernel_60607/3297213217.py:21: SettingWithCopyWarning: \n",
      "A value is trying to be set on a copy of a slice from a DataFrame.\n",
      "Try using .loc[row_indexer,col_indexer] = value instead\n",
      "\n",
      "See the caveats in the documentation: https://pandas.pydata.org/pandas-docs/stable/user_guide/indexing.html#returning-a-view-versus-a-copy\n",
      "  reported_procedures[\"Average Charge\"] = (reported_procedures[\"Average Charge\"] * 100).astype(np.int64)\n"
     ]
    },
    {
     "name": "stdout",
     "output_type": "stream",
     "text": [
      "Writing reported procedures to reported_procedures/Stanford University Hospital_reported_procedures.csv\n",
      "Parsing  chargemaster-cdm-2021/Stanislaus Surgical Center/106504038_CDM_All_2021.xlsx\n"
     ]
    },
    {
     "name": "stderr",
     "output_type": "stream",
     "text": [
      "/var/folders/yv/3zzm4_cs25v74y31mq6j8_mh0000gr/T/ipykernel_60607/3297213217.py:14: SettingWithCopyWarning: \n",
      "A value is trying to be set on a copy of a slice from a DataFrame.\n",
      "Try using .loc[row_indexer,col_indexer] = value instead\n",
      "\n",
      "See the caveats in the documentation: https://pandas.pydata.org/pandas-docs/stable/user_guide/indexing.html#returning-a-view-versus-a-copy\n",
      "  reported_procedures[\"Hospital\"] = hospital_series\n",
      "/var/folders/yv/3zzm4_cs25v74y31mq6j8_mh0000gr/T/ipykernel_60607/3297213217.py:19: SettingWithCopyWarning: \n",
      "A value is trying to be set on a copy of a slice from a DataFrame.\n",
      "Try using .loc[row_indexer,col_indexer] = value instead\n",
      "\n",
      "See the caveats in the documentation: https://pandas.pydata.org/pandas-docs/stable/user_guide/indexing.html#returning-a-view-versus-a-copy\n",
      "  reported_procedures[\"CPT Code\"] = reported_procedures[\"CPT Code\"].apply(np.int64)\n",
      "/var/folders/yv/3zzm4_cs25v74y31mq6j8_mh0000gr/T/ipykernel_60607/3297213217.py:21: SettingWithCopyWarning: \n",
      "A value is trying to be set on a copy of a slice from a DataFrame.\n",
      "Try using .loc[row_indexer,col_indexer] = value instead\n",
      "\n",
      "See the caveats in the documentation: https://pandas.pydata.org/pandas-docs/stable/user_guide/indexing.html#returning-a-view-versus-a-copy\n",
      "  reported_procedures[\"Average Charge\"] = (reported_procedures[\"Average Charge\"] * 100).astype(np.int64)\n"
     ]
    },
    {
     "name": "stdout",
     "output_type": "stream",
     "text": [
      "Writing reported procedures to reported_procedures/Stanislaus Surgical Center_reported_procedures.csv\n",
      "Parsing  chargemaster-cdm-2021/Sutter Amador Hospital/106034002_CDM_All_2021.xlsx\n"
     ]
    },
    {
     "name": "stderr",
     "output_type": "stream",
     "text": [
      "/var/folders/yv/3zzm4_cs25v74y31mq6j8_mh0000gr/T/ipykernel_60607/3297213217.py:14: SettingWithCopyWarning: \n",
      "A value is trying to be set on a copy of a slice from a DataFrame.\n",
      "Try using .loc[row_indexer,col_indexer] = value instead\n",
      "\n",
      "See the caveats in the documentation: https://pandas.pydata.org/pandas-docs/stable/user_guide/indexing.html#returning-a-view-versus-a-copy\n",
      "  reported_procedures[\"Hospital\"] = hospital_series\n",
      "/var/folders/yv/3zzm4_cs25v74y31mq6j8_mh0000gr/T/ipykernel_60607/3297213217.py:19: SettingWithCopyWarning: \n",
      "A value is trying to be set on a copy of a slice from a DataFrame.\n",
      "Try using .loc[row_indexer,col_indexer] = value instead\n",
      "\n",
      "See the caveats in the documentation: https://pandas.pydata.org/pandas-docs/stable/user_guide/indexing.html#returning-a-view-versus-a-copy\n",
      "  reported_procedures[\"CPT Code\"] = reported_procedures[\"CPT Code\"].apply(np.int64)\n",
      "/var/folders/yv/3zzm4_cs25v74y31mq6j8_mh0000gr/T/ipykernel_60607/3297213217.py:21: SettingWithCopyWarning: \n",
      "A value is trying to be set on a copy of a slice from a DataFrame.\n",
      "Try using .loc[row_indexer,col_indexer] = value instead\n",
      "\n",
      "See the caveats in the documentation: https://pandas.pydata.org/pandas-docs/stable/user_guide/indexing.html#returning-a-view-versus-a-copy\n",
      "  reported_procedures[\"Average Charge\"] = (reported_procedures[\"Average Charge\"] * 100).astype(np.int64)\n"
     ]
    },
    {
     "name": "stdout",
     "output_type": "stream",
     "text": [
      "Writing reported procedures to reported_procedures/Sutter Amador Hospital_reported_procedures.csv\n",
      "Parsing  chargemaster-cdm-2021/Sutter Auburn Faith Hospital/106310791_CDM_All_2021.xlsx\n"
     ]
    },
    {
     "name": "stderr",
     "output_type": "stream",
     "text": [
      "/var/folders/yv/3zzm4_cs25v74y31mq6j8_mh0000gr/T/ipykernel_60607/3297213217.py:14: SettingWithCopyWarning: \n",
      "A value is trying to be set on a copy of a slice from a DataFrame.\n",
      "Try using .loc[row_indexer,col_indexer] = value instead\n",
      "\n",
      "See the caveats in the documentation: https://pandas.pydata.org/pandas-docs/stable/user_guide/indexing.html#returning-a-view-versus-a-copy\n",
      "  reported_procedures[\"Hospital\"] = hospital_series\n",
      "/var/folders/yv/3zzm4_cs25v74y31mq6j8_mh0000gr/T/ipykernel_60607/3297213217.py:19: SettingWithCopyWarning: \n",
      "A value is trying to be set on a copy of a slice from a DataFrame.\n",
      "Try using .loc[row_indexer,col_indexer] = value instead\n",
      "\n",
      "See the caveats in the documentation: https://pandas.pydata.org/pandas-docs/stable/user_guide/indexing.html#returning-a-view-versus-a-copy\n",
      "  reported_procedures[\"CPT Code\"] = reported_procedures[\"CPT Code\"].apply(np.int64)\n",
      "/var/folders/yv/3zzm4_cs25v74y31mq6j8_mh0000gr/T/ipykernel_60607/3297213217.py:21: SettingWithCopyWarning: \n",
      "A value is trying to be set on a copy of a slice from a DataFrame.\n",
      "Try using .loc[row_indexer,col_indexer] = value instead\n",
      "\n",
      "See the caveats in the documentation: https://pandas.pydata.org/pandas-docs/stable/user_guide/indexing.html#returning-a-view-versus-a-copy\n",
      "  reported_procedures[\"Average Charge\"] = (reported_procedures[\"Average Charge\"] * 100).astype(np.int64)\n",
      "/var/folders/yv/3zzm4_cs25v74y31mq6j8_mh0000gr/T/ipykernel_60607/3297213217.py:14: SettingWithCopyWarning: \n",
      "A value is trying to be set on a copy of a slice from a DataFrame.\n",
      "Try using .loc[row_indexer,col_indexer] = value instead\n",
      "\n",
      "See the caveats in the documentation: https://pandas.pydata.org/pandas-docs/stable/user_guide/indexing.html#returning-a-view-versus-a-copy\n",
      "  reported_procedures[\"Hospital\"] = hospital_series\n",
      "/var/folders/yv/3zzm4_cs25v74y31mq6j8_mh0000gr/T/ipykernel_60607/3297213217.py:19: SettingWithCopyWarning: \n",
      "A value is trying to be set on a copy of a slice from a DataFrame.\n",
      "Try using .loc[row_indexer,col_indexer] = value instead\n",
      "\n",
      "See the caveats in the documentation: https://pandas.pydata.org/pandas-docs/stable/user_guide/indexing.html#returning-a-view-versus-a-copy\n",
      "  reported_procedures[\"CPT Code\"] = reported_procedures[\"CPT Code\"].apply(np.int64)\n",
      "/var/folders/yv/3zzm4_cs25v74y31mq6j8_mh0000gr/T/ipykernel_60607/3297213217.py:21: SettingWithCopyWarning: \n",
      "A value is trying to be set on a copy of a slice from a DataFrame.\n",
      "Try using .loc[row_indexer,col_indexer] = value instead\n",
      "\n",
      "See the caveats in the documentation: https://pandas.pydata.org/pandas-docs/stable/user_guide/indexing.html#returning-a-view-versus-a-copy\n",
      "  reported_procedures[\"Average Charge\"] = (reported_procedures[\"Average Charge\"] * 100).astype(np.int64)\n"
     ]
    },
    {
     "name": "stdout",
     "output_type": "stream",
     "text": [
      "Writing reported procedures to reported_procedures/Sutter Auburn Faith Hospital_reported_procedures.csv\n",
      "Parsing  chargemaster-cdm-2021/Sutter Center for Psychiatry/106344017_CDM_All_2021.xlsx\n",
      "Writing reported procedures to reported_procedures/Sutter Center for Psychiatry_reported_procedures.csv\n",
      "Parsing  chargemaster-cdm-2021/Sutter Coast Hospital/106084001_CDM_All_2021.xlsx\n"
     ]
    },
    {
     "name": "stderr",
     "output_type": "stream",
     "text": [
      "/var/folders/yv/3zzm4_cs25v74y31mq6j8_mh0000gr/T/ipykernel_60607/3297213217.py:14: SettingWithCopyWarning: \n",
      "A value is trying to be set on a copy of a slice from a DataFrame.\n",
      "Try using .loc[row_indexer,col_indexer] = value instead\n",
      "\n",
      "See the caveats in the documentation: https://pandas.pydata.org/pandas-docs/stable/user_guide/indexing.html#returning-a-view-versus-a-copy\n",
      "  reported_procedures[\"Hospital\"] = hospital_series\n",
      "/var/folders/yv/3zzm4_cs25v74y31mq6j8_mh0000gr/T/ipykernel_60607/3297213217.py:19: SettingWithCopyWarning: \n",
      "A value is trying to be set on a copy of a slice from a DataFrame.\n",
      "Try using .loc[row_indexer,col_indexer] = value instead\n",
      "\n",
      "See the caveats in the documentation: https://pandas.pydata.org/pandas-docs/stable/user_guide/indexing.html#returning-a-view-versus-a-copy\n",
      "  reported_procedures[\"CPT Code\"] = reported_procedures[\"CPT Code\"].apply(np.int64)\n",
      "/var/folders/yv/3zzm4_cs25v74y31mq6j8_mh0000gr/T/ipykernel_60607/3297213217.py:21: SettingWithCopyWarning: \n",
      "A value is trying to be set on a copy of a slice from a DataFrame.\n",
      "Try using .loc[row_indexer,col_indexer] = value instead\n",
      "\n",
      "See the caveats in the documentation: https://pandas.pydata.org/pandas-docs/stable/user_guide/indexing.html#returning-a-view-versus-a-copy\n",
      "  reported_procedures[\"Average Charge\"] = (reported_procedures[\"Average Charge\"] * 100).astype(np.int64)\n",
      "/var/folders/yv/3zzm4_cs25v74y31mq6j8_mh0000gr/T/ipykernel_60607/3297213217.py:14: SettingWithCopyWarning: \n",
      "A value is trying to be set on a copy of a slice from a DataFrame.\n",
      "Try using .loc[row_indexer,col_indexer] = value instead\n",
      "\n",
      "See the caveats in the documentation: https://pandas.pydata.org/pandas-docs/stable/user_guide/indexing.html#returning-a-view-versus-a-copy\n",
      "  reported_procedures[\"Hospital\"] = hospital_series\n",
      "/var/folders/yv/3zzm4_cs25v74y31mq6j8_mh0000gr/T/ipykernel_60607/3297213217.py:19: SettingWithCopyWarning: \n",
      "A value is trying to be set on a copy of a slice from a DataFrame.\n",
      "Try using .loc[row_indexer,col_indexer] = value instead\n",
      "\n",
      "See the caveats in the documentation: https://pandas.pydata.org/pandas-docs/stable/user_guide/indexing.html#returning-a-view-versus-a-copy\n",
      "  reported_procedures[\"CPT Code\"] = reported_procedures[\"CPT Code\"].apply(np.int64)\n"
     ]
    },
    {
     "name": "stdout",
     "output_type": "stream",
     "text": [
      "Writing reported procedures to reported_procedures/Sutter Coast Hospital_reported_procedures.csv\n",
      "Parsing  chargemaster-cdm-2021/Sutter Davis Hospital/106574010_CDM_All_2021.xlsx\n",
      "Writing reported procedures to reported_procedures/Sutter Davis Hospital_reported_procedures.csv\n"
     ]
    },
    {
     "name": "stderr",
     "output_type": "stream",
     "text": [
      "/var/folders/yv/3zzm4_cs25v74y31mq6j8_mh0000gr/T/ipykernel_60607/3297213217.py:21: SettingWithCopyWarning: \n",
      "A value is trying to be set on a copy of a slice from a DataFrame.\n",
      "Try using .loc[row_indexer,col_indexer] = value instead\n",
      "\n",
      "See the caveats in the documentation: https://pandas.pydata.org/pandas-docs/stable/user_guide/indexing.html#returning-a-view-versus-a-copy\n",
      "  reported_procedures[\"Average Charge\"] = (reported_procedures[\"Average Charge\"] * 100).astype(np.int64)\n",
      "/var/folders/yv/3zzm4_cs25v74y31mq6j8_mh0000gr/T/ipykernel_60607/3297213217.py:14: SettingWithCopyWarning: \n",
      "A value is trying to be set on a copy of a slice from a DataFrame.\n",
      "Try using .loc[row_indexer,col_indexer] = value instead\n",
      "\n",
      "See the caveats in the documentation: https://pandas.pydata.org/pandas-docs/stable/user_guide/indexing.html#returning-a-view-versus-a-copy\n",
      "  reported_procedures[\"Hospital\"] = hospital_series\n",
      "/var/folders/yv/3zzm4_cs25v74y31mq6j8_mh0000gr/T/ipykernel_60607/3297213217.py:19: SettingWithCopyWarning: \n",
      "A value is trying to be set on a copy of a slice from a DataFrame.\n",
      "Try using .loc[row_indexer,col_indexer] = value instead\n",
      "\n",
      "See the caveats in the documentation: https://pandas.pydata.org/pandas-docs/stable/user_guide/indexing.html#returning-a-view-versus-a-copy\n",
      "  reported_procedures[\"CPT Code\"] = reported_procedures[\"CPT Code\"].apply(np.int64)\n",
      "/var/folders/yv/3zzm4_cs25v74y31mq6j8_mh0000gr/T/ipykernel_60607/3297213217.py:21: SettingWithCopyWarning: \n",
      "A value is trying to be set on a copy of a slice from a DataFrame.\n",
      "Try using .loc[row_indexer,col_indexer] = value instead\n",
      "\n",
      "See the caveats in the documentation: https://pandas.pydata.org/pandas-docs/stable/user_guide/indexing.html#returning-a-view-versus-a-copy\n",
      "  reported_procedures[\"Average Charge\"] = (reported_procedures[\"Average Charge\"] * 100).astype(np.int64)\n"
     ]
    },
    {
     "name": "stdout",
     "output_type": "stream",
     "text": [
      "Parsing  chargemaster-cdm-2021/Sutter Delta Medical Center/106070934_CDM_All_2021.xlsx\n",
      "Writing reported procedures to reported_procedures/Sutter Delta Medical Center_reported_procedures.csv\n",
      "Parsing  chargemaster-cdm-2021/Sutter Lakeside Hospital/106171395_CDM_All_2021.xlsx\n",
      "Writing reported procedures to reported_procedures/Sutter Lakeside Hospital_reported_procedures.csv\n",
      "Parsing  chargemaster-cdm-2021/Sutter Maternity & Surgery Center of Santa Cruz/106444012_CDM_All_2021.xlsx\n"
     ]
    },
    {
     "name": "stderr",
     "output_type": "stream",
     "text": [
      "/var/folders/yv/3zzm4_cs25v74y31mq6j8_mh0000gr/T/ipykernel_60607/3297213217.py:14: SettingWithCopyWarning: \n",
      "A value is trying to be set on a copy of a slice from a DataFrame.\n",
      "Try using .loc[row_indexer,col_indexer] = value instead\n",
      "\n",
      "See the caveats in the documentation: https://pandas.pydata.org/pandas-docs/stable/user_guide/indexing.html#returning-a-view-versus-a-copy\n",
      "  reported_procedures[\"Hospital\"] = hospital_series\n",
      "/var/folders/yv/3zzm4_cs25v74y31mq6j8_mh0000gr/T/ipykernel_60607/3297213217.py:19: SettingWithCopyWarning: \n",
      "A value is trying to be set on a copy of a slice from a DataFrame.\n",
      "Try using .loc[row_indexer,col_indexer] = value instead\n",
      "\n",
      "See the caveats in the documentation: https://pandas.pydata.org/pandas-docs/stable/user_guide/indexing.html#returning-a-view-versus-a-copy\n",
      "  reported_procedures[\"CPT Code\"] = reported_procedures[\"CPT Code\"].apply(np.int64)\n",
      "/var/folders/yv/3zzm4_cs25v74y31mq6j8_mh0000gr/T/ipykernel_60607/3297213217.py:21: SettingWithCopyWarning: \n",
      "A value is trying to be set on a copy of a slice from a DataFrame.\n",
      "Try using .loc[row_indexer,col_indexer] = value instead\n",
      "\n",
      "See the caveats in the documentation: https://pandas.pydata.org/pandas-docs/stable/user_guide/indexing.html#returning-a-view-versus-a-copy\n",
      "  reported_procedures[\"Average Charge\"] = (reported_procedures[\"Average Charge\"] * 100).astype(np.int64)\n",
      "/var/folders/yv/3zzm4_cs25v74y31mq6j8_mh0000gr/T/ipykernel_60607/3297213217.py:14: SettingWithCopyWarning: \n",
      "A value is trying to be set on a copy of a slice from a DataFrame.\n",
      "Try using .loc[row_indexer,col_indexer] = value instead\n",
      "\n",
      "See the caveats in the documentation: https://pandas.pydata.org/pandas-docs/stable/user_guide/indexing.html#returning-a-view-versus-a-copy\n",
      "  reported_procedures[\"Hospital\"] = hospital_series\n",
      "/var/folders/yv/3zzm4_cs25v74y31mq6j8_mh0000gr/T/ipykernel_60607/3297213217.py:19: SettingWithCopyWarning: \n",
      "A value is trying to be set on a copy of a slice from a DataFrame.\n",
      "Try using .loc[row_indexer,col_indexer] = value instead\n",
      "\n",
      "See the caveats in the documentation: https://pandas.pydata.org/pandas-docs/stable/user_guide/indexing.html#returning-a-view-versus-a-copy\n",
      "  reported_procedures[\"CPT Code\"] = reported_procedures[\"CPT Code\"].apply(np.int64)\n",
      "/var/folders/yv/3zzm4_cs25v74y31mq6j8_mh0000gr/T/ipykernel_60607/3297213217.py:21: SettingWithCopyWarning: \n",
      "A value is trying to be set on a copy of a slice from a DataFrame.\n",
      "Try using .loc[row_indexer,col_indexer] = value instead\n",
      "\n",
      "See the caveats in the documentation: https://pandas.pydata.org/pandas-docs/stable/user_guide/indexing.html#returning-a-view-versus-a-copy\n",
      "  reported_procedures[\"Average Charge\"] = (reported_procedures[\"Average Charge\"] * 100).astype(np.int64)\n"
     ]
    },
    {
     "name": "stdout",
     "output_type": "stream",
     "text": [
      "Writing reported procedures to reported_procedures/Sutter Maternity & Surgery Center of Santa Cruz_reported_procedures.csv\n",
      "Parsing  chargemaster-cdm-2021/Sutter Medical Center - Sacramento/106341051_CDM_All_2021.xlsx\n"
     ]
    },
    {
     "name": "stderr",
     "output_type": "stream",
     "text": [
      "/var/folders/yv/3zzm4_cs25v74y31mq6j8_mh0000gr/T/ipykernel_60607/3297213217.py:14: SettingWithCopyWarning: \n",
      "A value is trying to be set on a copy of a slice from a DataFrame.\n",
      "Try using .loc[row_indexer,col_indexer] = value instead\n",
      "\n",
      "See the caveats in the documentation: https://pandas.pydata.org/pandas-docs/stable/user_guide/indexing.html#returning-a-view-versus-a-copy\n",
      "  reported_procedures[\"Hospital\"] = hospital_series\n",
      "/var/folders/yv/3zzm4_cs25v74y31mq6j8_mh0000gr/T/ipykernel_60607/3297213217.py:19: SettingWithCopyWarning: \n",
      "A value is trying to be set on a copy of a slice from a DataFrame.\n",
      "Try using .loc[row_indexer,col_indexer] = value instead\n",
      "\n",
      "See the caveats in the documentation: https://pandas.pydata.org/pandas-docs/stable/user_guide/indexing.html#returning-a-view-versus-a-copy\n",
      "  reported_procedures[\"CPT Code\"] = reported_procedures[\"CPT Code\"].apply(np.int64)\n",
      "/var/folders/yv/3zzm4_cs25v74y31mq6j8_mh0000gr/T/ipykernel_60607/3297213217.py:21: SettingWithCopyWarning: \n",
      "A value is trying to be set on a copy of a slice from a DataFrame.\n",
      "Try using .loc[row_indexer,col_indexer] = value instead\n",
      "\n",
      "See the caveats in the documentation: https://pandas.pydata.org/pandas-docs/stable/user_guide/indexing.html#returning-a-view-versus-a-copy\n",
      "  reported_procedures[\"Average Charge\"] = (reported_procedures[\"Average Charge\"] * 100).astype(np.int64)\n"
     ]
    },
    {
     "name": "stdout",
     "output_type": "stream",
     "text": [
      "Writing reported procedures to reported_procedures/Sutter Medical Center - Sacramento_reported_procedures.csv\n",
      "Parsing  chargemaster-cdm-2021/Sutter Roseville Medical Center/106311000_CDM_All_2021.xlsx\n"
     ]
    },
    {
     "name": "stderr",
     "output_type": "stream",
     "text": [
      "/var/folders/yv/3zzm4_cs25v74y31mq6j8_mh0000gr/T/ipykernel_60607/3297213217.py:14: SettingWithCopyWarning: \n",
      "A value is trying to be set on a copy of a slice from a DataFrame.\n",
      "Try using .loc[row_indexer,col_indexer] = value instead\n",
      "\n",
      "See the caveats in the documentation: https://pandas.pydata.org/pandas-docs/stable/user_guide/indexing.html#returning-a-view-versus-a-copy\n",
      "  reported_procedures[\"Hospital\"] = hospital_series\n",
      "/var/folders/yv/3zzm4_cs25v74y31mq6j8_mh0000gr/T/ipykernel_60607/3297213217.py:19: SettingWithCopyWarning: \n",
      "A value is trying to be set on a copy of a slice from a DataFrame.\n",
      "Try using .loc[row_indexer,col_indexer] = value instead\n",
      "\n",
      "See the caveats in the documentation: https://pandas.pydata.org/pandas-docs/stable/user_guide/indexing.html#returning-a-view-versus-a-copy\n",
      "  reported_procedures[\"CPT Code\"] = reported_procedures[\"CPT Code\"].apply(np.int64)\n",
      "/var/folders/yv/3zzm4_cs25v74y31mq6j8_mh0000gr/T/ipykernel_60607/3297213217.py:21: SettingWithCopyWarning: \n",
      "A value is trying to be set on a copy of a slice from a DataFrame.\n",
      "Try using .loc[row_indexer,col_indexer] = value instead\n",
      "\n",
      "See the caveats in the documentation: https://pandas.pydata.org/pandas-docs/stable/user_guide/indexing.html#returning-a-view-versus-a-copy\n",
      "  reported_procedures[\"Average Charge\"] = (reported_procedures[\"Average Charge\"] * 100).astype(np.int64)\n"
     ]
    },
    {
     "name": "stdout",
     "output_type": "stream",
     "text": [
      "Writing reported procedures to reported_procedures/Sutter Roseville Medical Center_reported_procedures.csv\n",
      "Parsing  chargemaster-cdm-2021/Sutter Santa Rosa Regional Hospital/106494106_CDM_All_2021.xlsx\n"
     ]
    },
    {
     "name": "stderr",
     "output_type": "stream",
     "text": [
      "/var/folders/yv/3zzm4_cs25v74y31mq6j8_mh0000gr/T/ipykernel_60607/3297213217.py:14: SettingWithCopyWarning: \n",
      "A value is trying to be set on a copy of a slice from a DataFrame.\n",
      "Try using .loc[row_indexer,col_indexer] = value instead\n",
      "\n",
      "See the caveats in the documentation: https://pandas.pydata.org/pandas-docs/stable/user_guide/indexing.html#returning-a-view-versus-a-copy\n",
      "  reported_procedures[\"Hospital\"] = hospital_series\n",
      "/var/folders/yv/3zzm4_cs25v74y31mq6j8_mh0000gr/T/ipykernel_60607/3297213217.py:19: SettingWithCopyWarning: \n",
      "A value is trying to be set on a copy of a slice from a DataFrame.\n",
      "Try using .loc[row_indexer,col_indexer] = value instead\n",
      "\n",
      "See the caveats in the documentation: https://pandas.pydata.org/pandas-docs/stable/user_guide/indexing.html#returning-a-view-versus-a-copy\n",
      "  reported_procedures[\"CPT Code\"] = reported_procedures[\"CPT Code\"].apply(np.int64)\n",
      "/var/folders/yv/3zzm4_cs25v74y31mq6j8_mh0000gr/T/ipykernel_60607/3297213217.py:21: SettingWithCopyWarning: \n",
      "A value is trying to be set on a copy of a slice from a DataFrame.\n",
      "Try using .loc[row_indexer,col_indexer] = value instead\n",
      "\n",
      "See the caveats in the documentation: https://pandas.pydata.org/pandas-docs/stable/user_guide/indexing.html#returning-a-view-versus-a-copy\n",
      "  reported_procedures[\"Average Charge\"] = (reported_procedures[\"Average Charge\"] * 100).astype(np.int64)\n"
     ]
    },
    {
     "name": "stdout",
     "output_type": "stream",
     "text": [
      "Writing reported procedures to reported_procedures/Sutter Santa Rosa Regional Hospital_reported_procedures.csv\n",
      "Parsing  chargemaster-cdm-2021/Sutter Solano Medical Center/106481094_CDM_All_2021.xlsx\n"
     ]
    },
    {
     "name": "stderr",
     "output_type": "stream",
     "text": [
      "/var/folders/yv/3zzm4_cs25v74y31mq6j8_mh0000gr/T/ipykernel_60607/3297213217.py:14: SettingWithCopyWarning: \n",
      "A value is trying to be set on a copy of a slice from a DataFrame.\n",
      "Try using .loc[row_indexer,col_indexer] = value instead\n",
      "\n",
      "See the caveats in the documentation: https://pandas.pydata.org/pandas-docs/stable/user_guide/indexing.html#returning-a-view-versus-a-copy\n",
      "  reported_procedures[\"Hospital\"] = hospital_series\n",
      "/var/folders/yv/3zzm4_cs25v74y31mq6j8_mh0000gr/T/ipykernel_60607/3297213217.py:19: SettingWithCopyWarning: \n",
      "A value is trying to be set on a copy of a slice from a DataFrame.\n",
      "Try using .loc[row_indexer,col_indexer] = value instead\n",
      "\n",
      "See the caveats in the documentation: https://pandas.pydata.org/pandas-docs/stable/user_guide/indexing.html#returning-a-view-versus-a-copy\n",
      "  reported_procedures[\"CPT Code\"] = reported_procedures[\"CPT Code\"].apply(np.int64)\n",
      "/var/folders/yv/3zzm4_cs25v74y31mq6j8_mh0000gr/T/ipykernel_60607/3297213217.py:21: SettingWithCopyWarning: \n",
      "A value is trying to be set on a copy of a slice from a DataFrame.\n",
      "Try using .loc[row_indexer,col_indexer] = value instead\n",
      "\n",
      "See the caveats in the documentation: https://pandas.pydata.org/pandas-docs/stable/user_guide/indexing.html#returning-a-view-versus-a-copy\n",
      "  reported_procedures[\"Average Charge\"] = (reported_procedures[\"Average Charge\"] * 100).astype(np.int64)\n",
      "/var/folders/yv/3zzm4_cs25v74y31mq6j8_mh0000gr/T/ipykernel_60607/3297213217.py:14: SettingWithCopyWarning: \n",
      "A value is trying to be set on a copy of a slice from a DataFrame.\n",
      "Try using .loc[row_indexer,col_indexer] = value instead\n",
      "\n",
      "See the caveats in the documentation: https://pandas.pydata.org/pandas-docs/stable/user_guide/indexing.html#returning-a-view-versus-a-copy\n",
      "  reported_procedures[\"Hospital\"] = hospital_series\n",
      "/var/folders/yv/3zzm4_cs25v74y31mq6j8_mh0000gr/T/ipykernel_60607/3297213217.py:19: SettingWithCopyWarning: \n",
      "A value is trying to be set on a copy of a slice from a DataFrame.\n",
      "Try using .loc[row_indexer,col_indexer] = value instead\n",
      "\n",
      "See the caveats in the documentation: https://pandas.pydata.org/pandas-docs/stable/user_guide/indexing.html#returning-a-view-versus-a-copy\n",
      "  reported_procedures[\"CPT Code\"] = reported_procedures[\"CPT Code\"].apply(np.int64)\n",
      "/var/folders/yv/3zzm4_cs25v74y31mq6j8_mh0000gr/T/ipykernel_60607/3297213217.py:21: SettingWithCopyWarning: \n",
      "A value is trying to be set on a copy of a slice from a DataFrame.\n",
      "Try using .loc[row_indexer,col_indexer] = value instead\n",
      "\n",
      "See the caveats in the documentation: https://pandas.pydata.org/pandas-docs/stable/user_guide/indexing.html#returning-a-view-versus-a-copy\n",
      "  reported_procedures[\"Average Charge\"] = (reported_procedures[\"Average Charge\"] * 100).astype(np.int64)\n"
     ]
    },
    {
     "name": "stdout",
     "output_type": "stream",
     "text": [
      "Writing reported procedures to reported_procedures/Sutter Solano Medical Center_reported_procedures.csv\n",
      "Parsing  chargemaster-cdm-2021/Sutter Surgical Hospital - North Valley/106514030_CDM_All_2021.xlsx\n",
      "Writing reported procedures to reported_procedures/Sutter Surgical Hospital - North Valley_reported_procedures.csv\n",
      "Parsing  chargemaster-cdm-2021/Sutter Tracy Community Hospital/106391056_CDM_All_2021.xlsx\n"
     ]
    },
    {
     "name": "stderr",
     "output_type": "stream",
     "text": [
      "/var/folders/yv/3zzm4_cs25v74y31mq6j8_mh0000gr/T/ipykernel_60607/3297213217.py:14: SettingWithCopyWarning: \n",
      "A value is trying to be set on a copy of a slice from a DataFrame.\n",
      "Try using .loc[row_indexer,col_indexer] = value instead\n",
      "\n",
      "See the caveats in the documentation: https://pandas.pydata.org/pandas-docs/stable/user_guide/indexing.html#returning-a-view-versus-a-copy\n",
      "  reported_procedures[\"Hospital\"] = hospital_series\n",
      "/var/folders/yv/3zzm4_cs25v74y31mq6j8_mh0000gr/T/ipykernel_60607/3297213217.py:19: SettingWithCopyWarning: \n",
      "A value is trying to be set on a copy of a slice from a DataFrame.\n",
      "Try using .loc[row_indexer,col_indexer] = value instead\n",
      "\n",
      "See the caveats in the documentation: https://pandas.pydata.org/pandas-docs/stable/user_guide/indexing.html#returning-a-view-versus-a-copy\n",
      "  reported_procedures[\"CPT Code\"] = reported_procedures[\"CPT Code\"].apply(np.int64)\n",
      "/var/folders/yv/3zzm4_cs25v74y31mq6j8_mh0000gr/T/ipykernel_60607/3297213217.py:21: SettingWithCopyWarning: \n",
      "A value is trying to be set on a copy of a slice from a DataFrame.\n",
      "Try using .loc[row_indexer,col_indexer] = value instead\n",
      "\n",
      "See the caveats in the documentation: https://pandas.pydata.org/pandas-docs/stable/user_guide/indexing.html#returning-a-view-versus-a-copy\n",
      "  reported_procedures[\"Average Charge\"] = (reported_procedures[\"Average Charge\"] * 100).astype(np.int64)\n"
     ]
    },
    {
     "name": "stdout",
     "output_type": "stream",
     "text": [
      "Writing reported procedures to reported_procedures/Sutter Tracy Community Hospital_reported_procedures.csv\n",
      "Parsing  chargemaster-cdm-2021/Tahoe Forest Hospital/106291053_CDM_All_2021.xlsx\n"
     ]
    },
    {
     "name": "stderr",
     "output_type": "stream",
     "text": [
      "/var/folders/yv/3zzm4_cs25v74y31mq6j8_mh0000gr/T/ipykernel_60607/3297213217.py:14: SettingWithCopyWarning: \n",
      "A value is trying to be set on a copy of a slice from a DataFrame.\n",
      "Try using .loc[row_indexer,col_indexer] = value instead\n",
      "\n",
      "See the caveats in the documentation: https://pandas.pydata.org/pandas-docs/stable/user_guide/indexing.html#returning-a-view-versus-a-copy\n",
      "  reported_procedures[\"Hospital\"] = hospital_series\n",
      "/var/folders/yv/3zzm4_cs25v74y31mq6j8_mh0000gr/T/ipykernel_60607/3297213217.py:19: SettingWithCopyWarning: \n",
      "A value is trying to be set on a copy of a slice from a DataFrame.\n",
      "Try using .loc[row_indexer,col_indexer] = value instead\n",
      "\n",
      "See the caveats in the documentation: https://pandas.pydata.org/pandas-docs/stable/user_guide/indexing.html#returning-a-view-versus-a-copy\n",
      "  reported_procedures[\"CPT Code\"] = reported_procedures[\"CPT Code\"].apply(np.int64)\n",
      "/var/folders/yv/3zzm4_cs25v74y31mq6j8_mh0000gr/T/ipykernel_60607/3297213217.py:21: SettingWithCopyWarning: \n",
      "A value is trying to be set on a copy of a slice from a DataFrame.\n",
      "Try using .loc[row_indexer,col_indexer] = value instead\n",
      "\n",
      "See the caveats in the documentation: https://pandas.pydata.org/pandas-docs/stable/user_guide/indexing.html#returning-a-view-versus-a-copy\n",
      "  reported_procedures[\"Average Charge\"] = (reported_procedures[\"Average Charge\"] * 100).astype(np.int64)\n"
     ]
    },
    {
     "name": "stdout",
     "output_type": "stream",
     "text": [
      "Writing reported procedures to reported_procedures/Tahoe Forest Hospital_reported_procedures.csv\n",
      "Parsing  chargemaster-cdm-2021/Tenet Health Central Coast Twin Cities Community Hospital/106400548_CDM_All_2021.xlsx\n",
      "Failed to read data from hospital Tenet Health Central Coast Twin Cities Community Hospital\n",
      "Parsing  chargemaster-cdm-2021/Tri-City Medical Center/106370780_CDM_All_2021.xlsx\n"
     ]
    },
    {
     "name": "stderr",
     "output_type": "stream",
     "text": [
      "/var/folders/yv/3zzm4_cs25v74y31mq6j8_mh0000gr/T/ipykernel_60607/3297213217.py:14: SettingWithCopyWarning: \n",
      "A value is trying to be set on a copy of a slice from a DataFrame.\n",
      "Try using .loc[row_indexer,col_indexer] = value instead\n",
      "\n",
      "See the caveats in the documentation: https://pandas.pydata.org/pandas-docs/stable/user_guide/indexing.html#returning-a-view-versus-a-copy\n",
      "  reported_procedures[\"Hospital\"] = hospital_series\n",
      "/var/folders/yv/3zzm4_cs25v74y31mq6j8_mh0000gr/T/ipykernel_60607/3297213217.py:19: SettingWithCopyWarning: \n",
      "A value is trying to be set on a copy of a slice from a DataFrame.\n",
      "Try using .loc[row_indexer,col_indexer] = value instead\n",
      "\n",
      "See the caveats in the documentation: https://pandas.pydata.org/pandas-docs/stable/user_guide/indexing.html#returning-a-view-versus-a-copy\n",
      "  reported_procedures[\"CPT Code\"] = reported_procedures[\"CPT Code\"].apply(np.int64)\n",
      "/var/folders/yv/3zzm4_cs25v74y31mq6j8_mh0000gr/T/ipykernel_60607/3297213217.py:21: SettingWithCopyWarning: \n",
      "A value is trying to be set on a copy of a slice from a DataFrame.\n",
      "Try using .loc[row_indexer,col_indexer] = value instead\n",
      "\n",
      "See the caveats in the documentation: https://pandas.pydata.org/pandas-docs/stable/user_guide/indexing.html#returning-a-view-versus-a-copy\n",
      "  reported_procedures[\"Average Charge\"] = (reported_procedures[\"Average Charge\"] * 100).astype(np.int64)\n"
     ]
    },
    {
     "name": "stdout",
     "output_type": "stream",
     "text": [
      "Writing reported procedures to reported_procedures/Tri-City Medical Center_reported_procedures.csv\n",
      "Parsing  chargemaster-cdm-2021/UCSF Medical Center/106381154_CDM_All_2021.xlsx\n"
     ]
    },
    {
     "name": "stderr",
     "output_type": "stream",
     "text": [
      "/var/folders/yv/3zzm4_cs25v74y31mq6j8_mh0000gr/T/ipykernel_60607/3297213217.py:14: SettingWithCopyWarning: \n",
      "A value is trying to be set on a copy of a slice from a DataFrame.\n",
      "Try using .loc[row_indexer,col_indexer] = value instead\n",
      "\n",
      "See the caveats in the documentation: https://pandas.pydata.org/pandas-docs/stable/user_guide/indexing.html#returning-a-view-versus-a-copy\n",
      "  reported_procedures[\"Hospital\"] = hospital_series\n",
      "/var/folders/yv/3zzm4_cs25v74y31mq6j8_mh0000gr/T/ipykernel_60607/3297213217.py:19: SettingWithCopyWarning: \n",
      "A value is trying to be set on a copy of a slice from a DataFrame.\n",
      "Try using .loc[row_indexer,col_indexer] = value instead\n",
      "\n",
      "See the caveats in the documentation: https://pandas.pydata.org/pandas-docs/stable/user_guide/indexing.html#returning-a-view-versus-a-copy\n",
      "  reported_procedures[\"CPT Code\"] = reported_procedures[\"CPT Code\"].apply(np.int64)\n",
      "/var/folders/yv/3zzm4_cs25v74y31mq6j8_mh0000gr/T/ipykernel_60607/3297213217.py:21: SettingWithCopyWarning: \n",
      "A value is trying to be set on a copy of a slice from a DataFrame.\n",
      "Try using .loc[row_indexer,col_indexer] = value instead\n",
      "\n",
      "See the caveats in the documentation: https://pandas.pydata.org/pandas-docs/stable/user_guide/indexing.html#returning-a-view-versus-a-copy\n",
      "  reported_procedures[\"Average Charge\"] = (reported_procedures[\"Average Charge\"] * 100).astype(np.int64)\n"
     ]
    },
    {
     "name": "stdout",
     "output_type": "stream",
     "text": [
      "Writing reported procedures to reported_procedures/UCSF Medical Center_reported_procedures.csv\n",
      "Parsing  chargemaster-cdm-2021/USC Kenneth Norris Cancer Hospital/106191216_CDM_All_2021.xlsx\n"
     ]
    },
    {
     "name": "stderr",
     "output_type": "stream",
     "text": [
      "/var/folders/yv/3zzm4_cs25v74y31mq6j8_mh0000gr/T/ipykernel_60607/3297213217.py:14: SettingWithCopyWarning: \n",
      "A value is trying to be set on a copy of a slice from a DataFrame.\n",
      "Try using .loc[row_indexer,col_indexer] = value instead\n",
      "\n",
      "See the caveats in the documentation: https://pandas.pydata.org/pandas-docs/stable/user_guide/indexing.html#returning-a-view-versus-a-copy\n",
      "  reported_procedures[\"Hospital\"] = hospital_series\n",
      "/var/folders/yv/3zzm4_cs25v74y31mq6j8_mh0000gr/T/ipykernel_60607/3297213217.py:19: SettingWithCopyWarning: \n",
      "A value is trying to be set on a copy of a slice from a DataFrame.\n",
      "Try using .loc[row_indexer,col_indexer] = value instead\n",
      "\n",
      "See the caveats in the documentation: https://pandas.pydata.org/pandas-docs/stable/user_guide/indexing.html#returning-a-view-versus-a-copy\n",
      "  reported_procedures[\"CPT Code\"] = reported_procedures[\"CPT Code\"].apply(np.int64)\n",
      "/var/folders/yv/3zzm4_cs25v74y31mq6j8_mh0000gr/T/ipykernel_60607/3297213217.py:21: SettingWithCopyWarning: \n",
      "A value is trying to be set on a copy of a slice from a DataFrame.\n",
      "Try using .loc[row_indexer,col_indexer] = value instead\n",
      "\n",
      "See the caveats in the documentation: https://pandas.pydata.org/pandas-docs/stable/user_guide/indexing.html#returning-a-view-versus-a-copy\n",
      "  reported_procedures[\"Average Charge\"] = (reported_procedures[\"Average Charge\"] * 100).astype(np.int64)\n"
     ]
    },
    {
     "name": "stdout",
     "output_type": "stream",
     "text": [
      "Writing reported procedures to reported_procedures/USC Kenneth Norris Cancer Hospital_reported_procedures.csv\n",
      "Parsing  chargemaster-cdm-2021/Valley Childrens Hospital/106204019_CDM_All_2021.xlsx\n"
     ]
    },
    {
     "name": "stderr",
     "output_type": "stream",
     "text": [
      "/var/folders/yv/3zzm4_cs25v74y31mq6j8_mh0000gr/T/ipykernel_60607/3297213217.py:14: SettingWithCopyWarning: \n",
      "A value is trying to be set on a copy of a slice from a DataFrame.\n",
      "Try using .loc[row_indexer,col_indexer] = value instead\n",
      "\n",
      "See the caveats in the documentation: https://pandas.pydata.org/pandas-docs/stable/user_guide/indexing.html#returning-a-view-versus-a-copy\n",
      "  reported_procedures[\"Hospital\"] = hospital_series\n",
      "/var/folders/yv/3zzm4_cs25v74y31mq6j8_mh0000gr/T/ipykernel_60607/3297213217.py:19: SettingWithCopyWarning: \n",
      "A value is trying to be set on a copy of a slice from a DataFrame.\n",
      "Try using .loc[row_indexer,col_indexer] = value instead\n",
      "\n",
      "See the caveats in the documentation: https://pandas.pydata.org/pandas-docs/stable/user_guide/indexing.html#returning-a-view-versus-a-copy\n",
      "  reported_procedures[\"CPT Code\"] = reported_procedures[\"CPT Code\"].apply(np.int64)\n",
      "/var/folders/yv/3zzm4_cs25v74y31mq6j8_mh0000gr/T/ipykernel_60607/3297213217.py:21: SettingWithCopyWarning: \n",
      "A value is trying to be set on a copy of a slice from a DataFrame.\n",
      "Try using .loc[row_indexer,col_indexer] = value instead\n",
      "\n",
      "See the caveats in the documentation: https://pandas.pydata.org/pandas-docs/stable/user_guide/indexing.html#returning-a-view-versus-a-copy\n",
      "  reported_procedures[\"Average Charge\"] = (reported_procedures[\"Average Charge\"] * 100).astype(np.int64)\n"
     ]
    },
    {
     "name": "stdout",
     "output_type": "stream",
     "text": [
      "Writing reported procedures to reported_procedures/Valley Childrens Hospital_reported_procedures.csv\n",
      "Parsing  chargemaster-cdm-2021/Valley Presbyterian Hospital/106190812_CDM_All_2021.xlsx\n",
      "Failed to read data from hospital Valley Presbyterian Hospital\n",
      "Parsing  chargemaster-cdm-2021/Valleycare Medical Center/106014050_CDM_All_2021.xlsx\n"
     ]
    },
    {
     "name": "stderr",
     "output_type": "stream",
     "text": [
      "/var/folders/yv/3zzm4_cs25v74y31mq6j8_mh0000gr/T/ipykernel_60607/3297213217.py:14: SettingWithCopyWarning: \n",
      "A value is trying to be set on a copy of a slice from a DataFrame.\n",
      "Try using .loc[row_indexer,col_indexer] = value instead\n",
      "\n",
      "See the caveats in the documentation: https://pandas.pydata.org/pandas-docs/stable/user_guide/indexing.html#returning-a-view-versus-a-copy\n",
      "  reported_procedures[\"Hospital\"] = hospital_series\n",
      "/var/folders/yv/3zzm4_cs25v74y31mq6j8_mh0000gr/T/ipykernel_60607/3297213217.py:19: SettingWithCopyWarning: \n",
      "A value is trying to be set on a copy of a slice from a DataFrame.\n",
      "Try using .loc[row_indexer,col_indexer] = value instead\n",
      "\n",
      "See the caveats in the documentation: https://pandas.pydata.org/pandas-docs/stable/user_guide/indexing.html#returning-a-view-versus-a-copy\n",
      "  reported_procedures[\"CPT Code\"] = reported_procedures[\"CPT Code\"].apply(np.int64)\n",
      "/var/folders/yv/3zzm4_cs25v74y31mq6j8_mh0000gr/T/ipykernel_60607/3297213217.py:21: SettingWithCopyWarning: \n",
      "A value is trying to be set on a copy of a slice from a DataFrame.\n",
      "Try using .loc[row_indexer,col_indexer] = value instead\n",
      "\n",
      "See the caveats in the documentation: https://pandas.pydata.org/pandas-docs/stable/user_guide/indexing.html#returning-a-view-versus-a-copy\n",
      "  reported_procedures[\"Average Charge\"] = (reported_procedures[\"Average Charge\"] * 100).astype(np.int64)\n"
     ]
    },
    {
     "name": "stdout",
     "output_type": "stream",
     "text": [
      "Writing reported procedures to reported_procedures/Valleycare Medical Center_reported_procedures.csv\n",
      "Parsing  chargemaster-cdm-2021/Vibra Rehabilitation Hospital of Rancho Mirage/106334533_CDM_All_2021.xls\n",
      "Hospital Vibra Rehabilitation Hospital of Rancho Mirage seems to contain no reported procedures\n"
     ]
    },
    {
     "data": {
      "text/html": [
       "<div>\n",
       "<style scoped>\n",
       "    .dataframe tbody tr th:only-of-type {\n",
       "        vertical-align: middle;\n",
       "    }\n",
       "\n",
       "    .dataframe tbody tr th {\n",
       "        vertical-align: top;\n",
       "    }\n",
       "\n",
       "    .dataframe thead th {\n",
       "        text-align: right;\n",
       "    }\n",
       "</style>\n",
       "<table border=\"1\" class=\"dataframe\">\n",
       "  <thead>\n",
       "    <tr style=\"text-align: right;\">\n",
       "      <th></th>\n",
       "      <th>CPT Code</th>\n",
       "      <th>Procedure</th>\n",
       "      <th>Average Charge</th>\n",
       "    </tr>\n",
       "    <tr>\n",
       "      <th>Hospital</th>\n",
       "      <th></th>\n",
       "      <th></th>\n",
       "      <th></th>\n",
       "    </tr>\n",
       "  </thead>\n",
       "  <tbody>\n",
       "  </tbody>\n",
       "</table>\n",
       "</div>"
      ],
      "text/plain": [
       "Empty DataFrame\n",
       "Columns: [CPT Code, Procedure, Average Charge]\n",
       "Index: []"
      ]
     },
     "metadata": {},
     "output_type": "display_data"
    },
    {
     "name": "stdout",
     "output_type": "stream",
     "text": [
      "Parsing  chargemaster-cdm-2021/Washington Hospital - Fremont/106010987_CDM_All_2021.xlsx\n"
     ]
    },
    {
     "name": "stderr",
     "output_type": "stream",
     "text": [
      "/var/folders/yv/3zzm4_cs25v74y31mq6j8_mh0000gr/T/ipykernel_60607/3297213217.py:14: SettingWithCopyWarning: \n",
      "A value is trying to be set on a copy of a slice from a DataFrame.\n",
      "Try using .loc[row_indexer,col_indexer] = value instead\n",
      "\n",
      "See the caveats in the documentation: https://pandas.pydata.org/pandas-docs/stable/user_guide/indexing.html#returning-a-view-versus-a-copy\n",
      "  reported_procedures[\"Hospital\"] = hospital_series\n",
      "/var/folders/yv/3zzm4_cs25v74y31mq6j8_mh0000gr/T/ipykernel_60607/3297213217.py:19: SettingWithCopyWarning: \n",
      "A value is trying to be set on a copy of a slice from a DataFrame.\n",
      "Try using .loc[row_indexer,col_indexer] = value instead\n",
      "\n",
      "See the caveats in the documentation: https://pandas.pydata.org/pandas-docs/stable/user_guide/indexing.html#returning-a-view-versus-a-copy\n",
      "  reported_procedures[\"CPT Code\"] = reported_procedures[\"CPT Code\"].apply(np.int64)\n",
      "/var/folders/yv/3zzm4_cs25v74y31mq6j8_mh0000gr/T/ipykernel_60607/3297213217.py:21: SettingWithCopyWarning: \n",
      "A value is trying to be set on a copy of a slice from a DataFrame.\n",
      "Try using .loc[row_indexer,col_indexer] = value instead\n",
      "\n",
      "See the caveats in the documentation: https://pandas.pydata.org/pandas-docs/stable/user_guide/indexing.html#returning-a-view-versus-a-copy\n",
      "  reported_procedures[\"Average Charge\"] = (reported_procedures[\"Average Charge\"] * 100).astype(np.int64)\n"
     ]
    },
    {
     "name": "stdout",
     "output_type": "stream",
     "text": [
      "Writing reported procedures to reported_procedures/Washington Hospital - Fremont_reported_procedures.csv\n",
      "Parsing  chargemaster-cdm-2021/Watsonville Community Hospital/106444013_CDM_All_2021.xlsx\n"
     ]
    },
    {
     "name": "stderr",
     "output_type": "stream",
     "text": [
      "/var/folders/yv/3zzm4_cs25v74y31mq6j8_mh0000gr/T/ipykernel_60607/3297213217.py:14: SettingWithCopyWarning: \n",
      "A value is trying to be set on a copy of a slice from a DataFrame.\n",
      "Try using .loc[row_indexer,col_indexer] = value instead\n",
      "\n",
      "See the caveats in the documentation: https://pandas.pydata.org/pandas-docs/stable/user_guide/indexing.html#returning-a-view-versus-a-copy\n",
      "  reported_procedures[\"Hospital\"] = hospital_series\n",
      "/var/folders/yv/3zzm4_cs25v74y31mq6j8_mh0000gr/T/ipykernel_60607/3297213217.py:19: SettingWithCopyWarning: \n",
      "A value is trying to be set on a copy of a slice from a DataFrame.\n",
      "Try using .loc[row_indexer,col_indexer] = value instead\n",
      "\n",
      "See the caveats in the documentation: https://pandas.pydata.org/pandas-docs/stable/user_guide/indexing.html#returning-a-view-versus-a-copy\n",
      "  reported_procedures[\"CPT Code\"] = reported_procedures[\"CPT Code\"].apply(np.int64)\n",
      "/var/folders/yv/3zzm4_cs25v74y31mq6j8_mh0000gr/T/ipykernel_60607/3297213217.py:21: SettingWithCopyWarning: \n",
      "A value is trying to be set on a copy of a slice from a DataFrame.\n",
      "Try using .loc[row_indexer,col_indexer] = value instead\n",
      "\n",
      "See the caveats in the documentation: https://pandas.pydata.org/pandas-docs/stable/user_guide/indexing.html#returning-a-view-versus-a-copy\n",
      "  reported_procedures[\"Average Charge\"] = (reported_procedures[\"Average Charge\"] * 100).astype(np.int64)\n"
     ]
    },
    {
     "name": "stdout",
     "output_type": "stream",
     "text": [
      "Writing reported procedures to reported_procedures/Watsonville Community Hospital_reported_procedures.csv\n",
      "Parsing  chargemaster-cdm-2021/West Anaheim Medical Center/106301379_CDM_All_2021.xlsx\n"
     ]
    },
    {
     "name": "stderr",
     "output_type": "stream",
     "text": [
      "/var/folders/yv/3zzm4_cs25v74y31mq6j8_mh0000gr/T/ipykernel_60607/3297213217.py:14: SettingWithCopyWarning: \n",
      "A value is trying to be set on a copy of a slice from a DataFrame.\n",
      "Try using .loc[row_indexer,col_indexer] = value instead\n",
      "\n",
      "See the caveats in the documentation: https://pandas.pydata.org/pandas-docs/stable/user_guide/indexing.html#returning-a-view-versus-a-copy\n",
      "  reported_procedures[\"Hospital\"] = hospital_series\n",
      "/var/folders/yv/3zzm4_cs25v74y31mq6j8_mh0000gr/T/ipykernel_60607/3297213217.py:19: SettingWithCopyWarning: \n",
      "A value is trying to be set on a copy of a slice from a DataFrame.\n",
      "Try using .loc[row_indexer,col_indexer] = value instead\n",
      "\n",
      "See the caveats in the documentation: https://pandas.pydata.org/pandas-docs/stable/user_guide/indexing.html#returning-a-view-versus-a-copy\n",
      "  reported_procedures[\"CPT Code\"] = reported_procedures[\"CPT Code\"].apply(np.int64)\n",
      "/var/folders/yv/3zzm4_cs25v74y31mq6j8_mh0000gr/T/ipykernel_60607/3297213217.py:21: SettingWithCopyWarning: \n",
      "A value is trying to be set on a copy of a slice from a DataFrame.\n",
      "Try using .loc[row_indexer,col_indexer] = value instead\n",
      "\n",
      "See the caveats in the documentation: https://pandas.pydata.org/pandas-docs/stable/user_guide/indexing.html#returning-a-view-versus-a-copy\n",
      "  reported_procedures[\"Average Charge\"] = (reported_procedures[\"Average Charge\"] * 100).astype(np.int64)\n"
     ]
    },
    {
     "name": "stdout",
     "output_type": "stream",
     "text": [
      "Writing reported procedures to reported_procedures/West Anaheim Medical Center_reported_procedures.csv\n",
      "Parsing  chargemaster-cdm-2021/Whittier Hospital Medical Center/106190883_CDM_All_2021.xlsx\n"
     ]
    },
    {
     "name": "stderr",
     "output_type": "stream",
     "text": [
      "/var/folders/yv/3zzm4_cs25v74y31mq6j8_mh0000gr/T/ipykernel_60607/3297213217.py:14: SettingWithCopyWarning: \n",
      "A value is trying to be set on a copy of a slice from a DataFrame.\n",
      "Try using .loc[row_indexer,col_indexer] = value instead\n",
      "\n",
      "See the caveats in the documentation: https://pandas.pydata.org/pandas-docs/stable/user_guide/indexing.html#returning-a-view-versus-a-copy\n",
      "  reported_procedures[\"Hospital\"] = hospital_series\n",
      "/var/folders/yv/3zzm4_cs25v74y31mq6j8_mh0000gr/T/ipykernel_60607/3297213217.py:19: SettingWithCopyWarning: \n",
      "A value is trying to be set on a copy of a slice from a DataFrame.\n",
      "Try using .loc[row_indexer,col_indexer] = value instead\n",
      "\n",
      "See the caveats in the documentation: https://pandas.pydata.org/pandas-docs/stable/user_guide/indexing.html#returning-a-view-versus-a-copy\n",
      "  reported_procedures[\"CPT Code\"] = reported_procedures[\"CPT Code\"].apply(np.int64)\n",
      "/var/folders/yv/3zzm4_cs25v74y31mq6j8_mh0000gr/T/ipykernel_60607/3297213217.py:21: SettingWithCopyWarning: \n",
      "A value is trying to be set on a copy of a slice from a DataFrame.\n",
      "Try using .loc[row_indexer,col_indexer] = value instead\n",
      "\n",
      "See the caveats in the documentation: https://pandas.pydata.org/pandas-docs/stable/user_guide/indexing.html#returning-a-view-versus-a-copy\n",
      "  reported_procedures[\"Average Charge\"] = (reported_procedures[\"Average Charge\"] * 100).astype(np.int64)\n"
     ]
    },
    {
     "name": "stdout",
     "output_type": "stream",
     "text": [
      "Writing reported procedures to reported_procedures/Whittier Hospital Medical Center_reported_procedures.csv\n",
      "Parsing  chargemaster-cdm-2021/Woodland Memorial Hospital/106571086_CDM_All_2021.xlsx\n"
     ]
    },
    {
     "name": "stderr",
     "output_type": "stream",
     "text": [
      "/var/folders/yv/3zzm4_cs25v74y31mq6j8_mh0000gr/T/ipykernel_60607/3297213217.py:14: SettingWithCopyWarning: \n",
      "A value is trying to be set on a copy of a slice from a DataFrame.\n",
      "Try using .loc[row_indexer,col_indexer] = value instead\n",
      "\n",
      "See the caveats in the documentation: https://pandas.pydata.org/pandas-docs/stable/user_guide/indexing.html#returning-a-view-versus-a-copy\n",
      "  reported_procedures[\"Hospital\"] = hospital_series\n",
      "/var/folders/yv/3zzm4_cs25v74y31mq6j8_mh0000gr/T/ipykernel_60607/3297213217.py:19: SettingWithCopyWarning: \n",
      "A value is trying to be set on a copy of a slice from a DataFrame.\n",
      "Try using .loc[row_indexer,col_indexer] = value instead\n",
      "\n",
      "See the caveats in the documentation: https://pandas.pydata.org/pandas-docs/stable/user_guide/indexing.html#returning-a-view-versus-a-copy\n",
      "  reported_procedures[\"CPT Code\"] = reported_procedures[\"CPT Code\"].apply(np.int64)\n",
      "/var/folders/yv/3zzm4_cs25v74y31mq6j8_mh0000gr/T/ipykernel_60607/3297213217.py:21: SettingWithCopyWarning: \n",
      "A value is trying to be set on a copy of a slice from a DataFrame.\n",
      "Try using .loc[row_indexer,col_indexer] = value instead\n",
      "\n",
      "See the caveats in the documentation: https://pandas.pydata.org/pandas-docs/stable/user_guide/indexing.html#returning-a-view-versus-a-copy\n",
      "  reported_procedures[\"Average Charge\"] = (reported_procedures[\"Average Charge\"] * 100).astype(np.int64)\n"
     ]
    },
    {
     "name": "stdout",
     "output_type": "stream",
     "text": [
      "Writing reported procedures to reported_procedures/Woodland Memorial Hospital_reported_procedures.csv\n",
      "Parsing  chargemaster-cdm-2021/Zuckerberg San Francisco General Hospital & Trauma Center/106380939_CDM_All_2021.xlsx\n",
      "Writing reported procedures to reported_procedures/Zuckerberg San Francisco General Hospital & Trauma Center_reported_procedures.csv\n"
     ]
    },
    {
     "name": "stderr",
     "output_type": "stream",
     "text": [
      "/var/folders/yv/3zzm4_cs25v74y31mq6j8_mh0000gr/T/ipykernel_60607/3297213217.py:14: SettingWithCopyWarning: \n",
      "A value is trying to be set on a copy of a slice from a DataFrame.\n",
      "Try using .loc[row_indexer,col_indexer] = value instead\n",
      "\n",
      "See the caveats in the documentation: https://pandas.pydata.org/pandas-docs/stable/user_guide/indexing.html#returning-a-view-versus-a-copy\n",
      "  reported_procedures[\"Hospital\"] = hospital_series\n",
      "/var/folders/yv/3zzm4_cs25v74y31mq6j8_mh0000gr/T/ipykernel_60607/3297213217.py:19: SettingWithCopyWarning: \n",
      "A value is trying to be set on a copy of a slice from a DataFrame.\n",
      "Try using .loc[row_indexer,col_indexer] = value instead\n",
      "\n",
      "See the caveats in the documentation: https://pandas.pydata.org/pandas-docs/stable/user_guide/indexing.html#returning-a-view-versus-a-copy\n",
      "  reported_procedures[\"CPT Code\"] = reported_procedures[\"CPT Code\"].apply(np.int64)\n",
      "/var/folders/yv/3zzm4_cs25v74y31mq6j8_mh0000gr/T/ipykernel_60607/3297213217.py:21: SettingWithCopyWarning: \n",
      "A value is trying to be set on a copy of a slice from a DataFrame.\n",
      "Try using .loc[row_indexer,col_indexer] = value instead\n",
      "\n",
      "See the caveats in the documentation: https://pandas.pydata.org/pandas-docs/stable/user_guide/indexing.html#returning-a-view-versus-a-copy\n",
      "  reported_procedures[\"Average Charge\"] = (reported_procedures[\"Average Charge\"] * 100).astype(np.int64)\n"
     ]
    }
   ],
   "source": [
    "NUM_FILES = 400\n",
    "DST_FOLDER = \"reported_procedures\"\n",
    "\n",
    "names_and_files = collect_name_and_excel_paths(NUM_FILES)\n",
    "for name, file in names_and_files:\n",
    "    print(\"Parsing \", file)\n",
    "    try: \n",
    "        data = data_from_excel(file)\n",
    "    except:\n",
    "        print(f\"Failed to read data from hospital {name}\")\n",
    "        continue\n",
    "        \n",
    "    try: \n",
    "        reported_procedures = transform_data(data, name)\n",
    "    except:\n",
    "        print(f\"Failed to transform data from hospital {name}\")\n",
    "        continue\n",
    "        \n",
    "    if len(reported_procedures) == 0:\n",
    "        print(f\"Hospital {name} seems to contain no reported procedures\")\n",
    "        display(reported_procedures)\n",
    "        continue\n",
    "    write_data(reported_procedures, DST_FOLDER, name)"
   ]
  },
  {
   "cell_type": "code",
   "execution_count": 15,
   "id": "9443900c-82d6-4252-9d8e-753c9e9dd0b1",
   "metadata": {},
   "outputs": [
    {
     "name": "stdout",
     "output_type": "stream",
     "text": [
      "Parsing  chargemaster-cdm-2021/Glendora Oaks Behavioral Health Hospital/106190328_CDM_All_2021.xlsx\n",
      "Failed to transform data from hospital GLENDORA\n"
     ]
    }
   ],
   "source": [
    "NUM_FILES = 400\n",
    "DST_FOLDER = \"reported_procedures\"\n",
    "\n",
    "names_and_files = [(\"GLENDORA\", Path(\"chargemaster-cdm-2021/Glendora Oaks Behavioral Health Hospital/106190328_CDM_All_2021.xlsx\"))]\n",
    "\n",
    "for name, file in names_and_files:\n",
    "    print(\"Parsing \", file)\n",
    "    try: \n",
    "        data = data_from_excel(file)\n",
    "    except:\n",
    "        print(f\"Failed to read data from hospital {name}\")\n",
    "        continue\n",
    "    try: \n",
    "        reported_procedures = transform_data(data, name)\n",
    "    except:\n",
    "        print(f\"Failed to transform data from hospital {name}\")\n",
    "        continue\n",
    "    reported_procedures = transform_data(data, name)\n",
    "    if len(reported_procedures) == 0:\n",
    "        print(f\"Hospital {name} seems to contain no reported procedures\")\n",
    "        display(reported_procedures)\n",
    "        continue\n",
    "    write_data(reported_procedures, DST_FOLDER, name)"
   ]
  },
  {
   "cell_type": "code",
   "execution_count": null,
   "id": "238c4f73-56c4-4e4c-bdd2-d74e2661745c",
   "metadata": {},
   "outputs": [],
   "source": []
  }
 ],
 "metadata": {
  "kernelspec": {
   "display_name": "Python 3 (ipykernel)",
   "language": "python",
   "name": "python3"
  },
  "language_info": {
   "codemirror_mode": {
    "name": "ipython",
    "version": 3
   },
   "file_extension": ".py",
   "mimetype": "text/x-python",
   "name": "python",
   "nbconvert_exporter": "python",
   "pygments_lexer": "ipython3",
   "version": "3.8.11"
  }
 },
 "nbformat": 4,
 "nbformat_minor": 5
}
