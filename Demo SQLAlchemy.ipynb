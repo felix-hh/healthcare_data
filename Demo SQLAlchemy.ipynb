{
 "cells": [
  {
   "cell_type": "code",
   "execution_count": 3,
   "id": "845067ab-2f98-4464-9a46-7747f4fa28ea",
   "metadata": {},
   "outputs": [],
   "source": [
    "from sqlalchemy import Column\n",
    "from sqlalchemy import ForeignKey\n",
    "from sqlalchemy import Integer\n",
    "from sqlalchemy import String\n",
    "from sqlalchemy.orm import declarative_base\n",
    "from sqlalchemy.orm import relationship\n",
    "\n",
    "Base = declarative_base()\n",
    "\n",
    "class User(Base):\n",
    "    __tablename__ = \"user_account\"\n",
    "    id = Column(Integer, primary_key=True)\n",
    "    name = Column(String(30))\n",
    "    fullname = Column(String)\n",
    "    addresses = relationship(\n",
    "        \"Address\", back_populates=\"user\", cascade=\"all, delete-orphan\"\n",
    "    )\n",
    "    def __repr__(self):\n",
    "        return f\"User(id={self.id!r}, name={self.name!r}, fullname={self.fullname!r})\"\n",
    "\n",
    "class Address(Base):\n",
    "    __tablename__ = \"address\"\n",
    "    id = Column(Integer, primary_key=True)\n",
    "    email_address = Column(String, nullable=False)\n",
    "    user_id = Column(Integer, ForeignKey(\"user_account.id\"), nullable=False)\n",
    "    user = relationship(\"User\", back_populates=\"addresses\")\n",
    "    def __repr__(self):\n",
    "        return f\"Address(id={self.id!r}, email_address={self.email_address!r})\""
   ]
  },
  {
   "cell_type": "code",
   "execution_count": 4,
   "id": "e62d1ca0-efe7-4f38-9189-f557ad086909",
   "metadata": {},
   "outputs": [],
   "source": [
    "from sqlalchemy import create_engine\n",
    "engine = create_engine(\"sqlite://\", echo=True, future=True)"
   ]
  },
  {
   "cell_type": "code",
   "execution_count": 6,
   "id": "4455a7ca-6adc-4ef4-b1fa-5d70d71e5a63",
   "metadata": {},
   "outputs": [
    {
     "name": "stdout",
     "output_type": "stream",
     "text": [
      "2022-05-15 19:33:08,291 INFO sqlalchemy.engine.Engine BEGIN (implicit)\n",
      "2022-05-15 19:33:08,293 INFO sqlalchemy.engine.Engine PRAGMA main.table_info(\"user_account\")\n",
      "2022-05-15 19:33:08,293 INFO sqlalchemy.engine.Engine [raw sql] ()\n",
      "2022-05-15 19:33:08,294 INFO sqlalchemy.engine.Engine PRAGMA main.table_info(\"address\")\n",
      "2022-05-15 19:33:08,295 INFO sqlalchemy.engine.Engine [raw sql] ()\n",
      "2022-05-15 19:33:08,296 INFO sqlalchemy.engine.Engine COMMIT\n"
     ]
    }
   ],
   "source": [
    "Base.metadata.create_all(engine)"
   ]
  },
  {
   "cell_type": "code",
   "execution_count": 7,
   "id": "bad989d5-60d8-4eef-a07d-5490ae62b9aa",
   "metadata": {},
   "outputs": [
    {
     "name": "stdout",
     "output_type": "stream",
     "text": [
      "2022-05-15 19:33:23,309 INFO sqlalchemy.engine.Engine BEGIN (implicit)\n",
      "2022-05-15 19:33:23,311 INFO sqlalchemy.engine.Engine INSERT INTO user_account (name, fullname) VALUES (?, ?)\n",
      "2022-05-15 19:33:23,312 INFO sqlalchemy.engine.Engine [generated in 0.00112s] ('spongebob', 'Spongebob Squarepants')\n",
      "2022-05-15 19:33:23,313 INFO sqlalchemy.engine.Engine INSERT INTO user_account (name, fullname) VALUES (?, ?)\n",
      "2022-05-15 19:33:23,314 INFO sqlalchemy.engine.Engine [cached since 0.002834s ago] ('sandy', 'Sandy Cheeks')\n",
      "2022-05-15 19:33:23,315 INFO sqlalchemy.engine.Engine INSERT INTO user_account (name, fullname) VALUES (?, ?)\n",
      "2022-05-15 19:33:23,316 INFO sqlalchemy.engine.Engine [cached since 0.004454s ago] ('patrick', 'Patrick Star')\n",
      "2022-05-15 19:33:23,318 INFO sqlalchemy.engine.Engine INSERT INTO address (email_address, user_id) VALUES (?, ?)\n",
      "2022-05-15 19:33:23,318 INFO sqlalchemy.engine.Engine [generated in 0.00074s] ('spongebob@sqlalchemy.org', 1)\n",
      "2022-05-15 19:33:23,319 INFO sqlalchemy.engine.Engine INSERT INTO address (email_address, user_id) VALUES (?, ?)\n",
      "2022-05-15 19:33:23,320 INFO sqlalchemy.engine.Engine [cached since 0.002701s ago] ('sandy@sqlalchemy.org', 2)\n",
      "2022-05-15 19:33:23,321 INFO sqlalchemy.engine.Engine INSERT INTO address (email_address, user_id) VALUES (?, ?)\n",
      "2022-05-15 19:33:23,322 INFO sqlalchemy.engine.Engine [cached since 0.004207s ago] ('sandy@squirrelpower.org', 2)\n",
      "2022-05-15 19:33:23,323 INFO sqlalchemy.engine.Engine COMMIT\n"
     ]
    }
   ],
   "source": [
    "from sqlalchemy.orm import Session\n",
    "\n",
    "with Session(engine) as session:\n",
    "    spongebob = User(\n",
    "        name=\"spongebob\",\n",
    "        fullname=\"Spongebob Squarepants\",\n",
    "        addresses=[Address(email_address=\"spongebob@sqlalchemy.org\")],\n",
    "    )\n",
    "    sandy = User(\n",
    "        name=\"sandy\",\n",
    "        fullname=\"Sandy Cheeks\",\n",
    "        addresses=[\n",
    "            Address(email_address=\"sandy@sqlalchemy.org\"),\n",
    "            Address(email_address=\"sandy@squirrelpower.org\"),\n",
    "        ],\n",
    "    )\n",
    "    patrick = User(name=\"patrick\", fullname=\"Patrick Star\")\n",
    "    session.add_all([spongebob, sandy, patrick])\n",
    "    session.commit()\n"
   ]
  },
  {
   "cell_type": "code",
   "execution_count": 8,
   "id": "05f4bc9e-cec5-49b9-aeab-8b580f6e352b",
   "metadata": {},
   "outputs": [
    {
     "name": "stdout",
     "output_type": "stream",
     "text": [
      "2022-05-15 19:34:05,853 INFO sqlalchemy.engine.Engine BEGIN (implicit)\n",
      "2022-05-15 19:34:05,857 INFO sqlalchemy.engine.Engine SELECT user_account.id, user_account.name, user_account.fullname \n",
      "FROM user_account \n",
      "WHERE user_account.name IN (?, ?)\n",
      "2022-05-15 19:34:05,858 INFO sqlalchemy.engine.Engine [generated in 0.00121s] ('spongebob', 'sandy')\n",
      "User(id=1, name='spongebob', fullname='Spongebob Squarepants')\n",
      "User(id=2, name='sandy', fullname='Sandy Cheeks')\n"
     ]
    }
   ],
   "source": [
    "from sqlalchemy import select\n",
    "\n",
    "session = Session(engine)\n",
    "\n",
    "stmt = select(User).where(User.name.in_([\"spongebob\", \"sandy\"]))\n",
    "\n",
    "for user in session.scalars(stmt):\n",
    "    print(user)\n"
   ]
  },
  {
   "cell_type": "code",
   "execution_count": 9,
   "id": "23c9bb17-2262-4c28-aa40-daa5a3d9dbab",
   "metadata": {},
   "outputs": [
    {
     "name": "stdout",
     "output_type": "stream",
     "text": [
      "2022-05-15 19:34:34,645 INFO sqlalchemy.engine.Engine SELECT address.id, address.email_address, address.user_id \n",
      "FROM address JOIN user_account ON user_account.id = address.user_id \n",
      "WHERE user_account.name = ? AND address.email_address = ?\n",
      "2022-05-15 19:34:34,646 INFO sqlalchemy.engine.Engine [generated in 0.00133s] ('sandy', 'sandy@sqlalchemy.org')\n"
     ]
    },
    {
     "data": {
      "text/plain": [
       "Address(id=2, email_address='sandy@sqlalchemy.org')"
      ]
     },
     "execution_count": 9,
     "metadata": {},
     "output_type": "execute_result"
    }
   ],
   "source": [
    "stmt = (\n",
    " select(Address)\n",
    " .join(Address.user)\n",
    " .where(User.name == \"sandy\")\n",
    " .where(Address.email_address == \"sandy@sqlalchemy.org\")\n",
    ")\n",
    "sandy_address = session.scalars(stmt).one()\n",
    "\n",
    "\n",
    "sandy_address"
   ]
  },
  {
   "cell_type": "code",
   "execution_count": 10,
   "id": "f10c1b36-f6f7-424e-abf3-91f764069da2",
   "metadata": {},
   "outputs": [
    {
     "name": "stdout",
     "output_type": "stream",
     "text": [
      "2022-05-15 19:35:59,663 INFO sqlalchemy.engine.Engine SELECT user_account.id, user_account.name, user_account.fullname \n",
      "FROM user_account \n",
      "WHERE user_account.name = ?\n",
      "2022-05-15 19:35:59,664 INFO sqlalchemy.engine.Engine [generated in 0.00100s] ('patrick',)\n",
      "2022-05-15 19:35:59,667 INFO sqlalchemy.engine.Engine SELECT address.id AS address_id, address.email_address AS address_email_address, address.user_id AS address_user_id \n",
      "FROM address \n",
      "WHERE ? = address.user_id\n",
      "2022-05-15 19:35:59,667 INFO sqlalchemy.engine.Engine [generated in 0.00093s] (3,)\n",
      "2022-05-15 19:35:59,670 INFO sqlalchemy.engine.Engine UPDATE address SET email_address=? WHERE address.id = ?\n",
      "2022-05-15 19:35:59,671 INFO sqlalchemy.engine.Engine [generated in 0.00088s] ('sandy_cheeks@sqlalchemy.org', 2)\n",
      "2022-05-15 19:35:59,672 INFO sqlalchemy.engine.Engine INSERT INTO address (email_address, user_id) VALUES (?, ?)\n",
      "2022-05-15 19:35:59,672 INFO sqlalchemy.engine.Engine [cached since 156.4s ago] ('patrickstar@sqlalchemy.org', 3)\n",
      "2022-05-15 19:35:59,673 INFO sqlalchemy.engine.Engine COMMIT\n"
     ]
    }
   ],
   "source": [
    "stmt = select(User).where(User.name == \"patrick\")\n",
    "patrick = session.scalars(stmt).one()\n",
    "\n",
    "\n",
    "patrick.addresses.append(\n",
    "    Address(email_address=\"patrickstar@sqlalchemy.org\")\n",
    ")\n",
    "\n",
    "\n",
    "sandy_address.email_address = \"sandy_cheeks@sqlalchemy.org\"\n",
    "\n",
    "session.commit()\n"
   ]
  },
  {
   "cell_type": "code",
   "execution_count": 11,
   "id": "0334c373-964f-4b60-a06a-e33df811d50b",
   "metadata": {},
   "outputs": [
    {
     "name": "stdout",
     "output_type": "stream",
     "text": [
      "2022-05-15 19:36:46,936 INFO sqlalchemy.engine.Engine BEGIN (implicit)\n",
      "2022-05-15 19:36:46,938 INFO sqlalchemy.engine.Engine SELECT user_account.id AS user_account_id, user_account.name AS user_account_name, user_account.fullname AS user_account_fullname \n",
      "FROM user_account \n",
      "WHERE user_account.id = ?\n",
      "2022-05-15 19:36:46,939 INFO sqlalchemy.engine.Engine [generated in 0.00085s] (2,)\n",
      "2022-05-15 19:36:46,941 INFO sqlalchemy.engine.Engine SELECT address.id AS address_id, address.email_address AS address_email_address, address.user_id AS address_user_id \n",
      "FROM address \n",
      "WHERE ? = address.user_id\n",
      "2022-05-15 19:36:46,941 INFO sqlalchemy.engine.Engine [cached since 47.27s ago] (2,)\n"
     ]
    }
   ],
   "source": [
    "sandy = session.get(User, 2)\n",
    "\n",
    "\n",
    "sandy.addresses.remove(sandy_address)\n"
   ]
  },
  {
   "cell_type": "code",
   "execution_count": 12,
   "id": "ec19a3cd-0395-4828-8299-9d3b94cc31e9",
   "metadata": {},
   "outputs": [
    {
     "name": "stdout",
     "output_type": "stream",
     "text": [
      "2022-05-15 19:36:51,227 INFO sqlalchemy.engine.Engine DELETE FROM address WHERE address.id = ?\n",
      "2022-05-15 19:36:51,228 INFO sqlalchemy.engine.Engine [generated in 0.00121s] (2,)\n"
     ]
    }
   ],
   "source": [
    "session.flush()\n"
   ]
  },
  {
   "cell_type": "code",
   "execution_count": 13,
   "id": "30644c2f-e06a-465f-8476-9de014260f80",
   "metadata": {},
   "outputs": [
    {
     "name": "stdout",
     "output_type": "stream",
     "text": [
      "2022-05-15 19:36:56,342 INFO sqlalchemy.engine.Engine SELECT user_account.id AS user_account_id, user_account.name AS user_account_name, user_account.fullname AS user_account_fullname \n",
      "FROM user_account \n",
      "WHERE user_account.id = ?\n",
      "2022-05-15 19:36:56,343 INFO sqlalchemy.engine.Engine [cached since 9.405s ago] (3,)\n",
      "2022-05-15 19:36:56,345 INFO sqlalchemy.engine.Engine SELECT address.id AS address_id, address.email_address AS address_email_address, address.user_id AS address_user_id \n",
      "FROM address \n",
      "WHERE ? = address.user_id\n",
      "2022-05-15 19:36:56,345 INFO sqlalchemy.engine.Engine [cached since 56.68s ago] (3,)\n"
     ]
    }
   ],
   "source": [
    "session.delete(patrick)\n"
   ]
  },
  {
   "cell_type": "code",
   "execution_count": 14,
   "id": "22655bd0-ae7f-481d-a6e5-55d211326672",
   "metadata": {},
   "outputs": [
    {
     "name": "stdout",
     "output_type": "stream",
     "text": [
      "2022-05-15 19:37:04,195 INFO sqlalchemy.engine.Engine DELETE FROM address WHERE address.id = ?\n",
      "2022-05-15 19:37:04,196 INFO sqlalchemy.engine.Engine [cached since 12.97s ago] (4,)\n",
      "2022-05-15 19:37:04,197 INFO sqlalchemy.engine.Engine DELETE FROM user_account WHERE user_account.id = ?\n",
      "2022-05-15 19:37:04,198 INFO sqlalchemy.engine.Engine [generated in 0.00088s] (3,)\n",
      "2022-05-15 19:37:04,199 INFO sqlalchemy.engine.Engine COMMIT\n"
     ]
    }
   ],
   "source": [
    "session.commit()\n"
   ]
  },
  {
   "cell_type": "code",
   "execution_count": null,
   "id": "eac7f821-102f-4cf4-ba06-7ec2b57de4f4",
   "metadata": {},
   "outputs": [],
   "source": []
  }
 ],
 "metadata": {
  "kernelspec": {
   "display_name": "Python 3 (ipykernel)",
   "language": "python",
   "name": "python3"
  },
  "language_info": {
   "codemirror_mode": {
    "name": "ipython",
    "version": 3
   },
   "file_extension": ".py",
   "mimetype": "text/x-python",
   "name": "python",
   "nbconvert_exporter": "python",
   "pygments_lexer": "ipython3",
   "version": "3.8.9"
  }
 },
 "nbformat": 4,
 "nbformat_minor": 5
}
