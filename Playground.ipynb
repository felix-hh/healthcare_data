{
 "cells": [
  {
   "cell_type": "code",
   "execution_count": 9,
   "id": "589c2af4-7375-424f-85cf-e7d7c7e363fa",
   "metadata": {},
   "outputs": [
    {
     "name": "stdout",
     "output_type": "stream",
     "text": [
      "The autoreload extension is already loaded. To reload it, use:\n",
      "  %reload_ext autoreload\n"
     ]
    }
   ],
   "source": [
    "import pandas as pd\n",
    "import numpy as np\n",
    "from pathlib import Path\n",
    "\n",
    "%load_ext autoreload\n",
    "%autoreload 2"
   ]
  },
  {
   "cell_type": "code",
   "execution_count": 13,
   "id": "9f99aa93-2c29-4064-b602-d58076263880",
   "metadata": {},
   "outputs": [
    {
     "data": {
      "text/html": [
       "<div>\n",
       "<style scoped>\n",
       "    .dataframe tbody tr th:only-of-type {\n",
       "        vertical-align: middle;\n",
       "    }\n",
       "\n",
       "    .dataframe tbody tr th {\n",
       "        vertical-align: top;\n",
       "    }\n",
       "\n",
       "    .dataframe thead th {\n",
       "        text-align: right;\n",
       "    }\n",
       "</style>\n",
       "<table border=\"1\" class=\"dataframe\">\n",
       "  <thead>\n",
       "    <tr style=\"text-align: right;\">\n",
       "      <th></th>\n",
       "      <th>Hospital Name:  San Francisco General Hospital</th>\n",
       "      <th>Unnamed: 1</th>\n",
       "      <th>Unnamed: 2</th>\n",
       "    </tr>\n",
       "  </thead>\n",
       "  <tbody>\n",
       "    <tr>\n",
       "      <th>0</th>\n",
       "      <td>OSHPD Facility No: 106380939</td>\n",
       "      <td>NaN</td>\n",
       "      <td>NaN</td>\n",
       "    </tr>\n",
       "    <tr>\n",
       "      <th>1</th>\n",
       "      <td>Effective Date of Charges: June 1, 2021</td>\n",
       "      <td>NaN</td>\n",
       "      <td>NaN</td>\n",
       "    </tr>\n",
       "    <tr>\n",
       "      <th>2</th>\n",
       "      <td>NaN</td>\n",
       "      <td>NaN</td>\n",
       "      <td>NaN</td>\n",
       "    </tr>\n",
       "    <tr>\n",
       "      <th>3</th>\n",
       "      <td>In response to requests from hospitals and the...</td>\n",
       "      <td>NaN</td>\n",
       "      <td>NaN</td>\n",
       "    </tr>\n",
       "    <tr>\n",
       "      <th>4</th>\n",
       "      <td>Evaluation &amp; Management Services (CPT Codes 99...</td>\n",
       "      <td>2021 CPT Code</td>\n",
       "      <td>Average Charge</td>\n",
       "    </tr>\n",
       "    <tr>\n",
       "      <th>...</th>\n",
       "      <td>...</td>\n",
       "      <td>...</td>\n",
       "      <td>...</td>\n",
       "    </tr>\n",
       "    <tr>\n",
       "      <th>81</th>\n",
       "      <td>(e.g., supplies, drugs, lab, use of operat...</td>\n",
       "      <td>NaN</td>\n",
       "      <td>NaN</td>\n",
       "    </tr>\n",
       "    <tr>\n",
       "      <th>82</th>\n",
       "      <td>3. Do not change procedure descriptions or CPT...</td>\n",
       "      <td>NaN</td>\n",
       "      <td>NaN</td>\n",
       "    </tr>\n",
       "    <tr>\n",
       "      <th>83</th>\n",
       "      <td>(rows 62-71) if you are unable to select p...</td>\n",
       "      <td>NaN</td>\n",
       "      <td>NaN</td>\n",
       "    </tr>\n",
       "    <tr>\n",
       "      <th>84</th>\n",
       "      <td>4. Submit completed form as Excel (.xls) file,...</td>\n",
       "      <td>NaN</td>\n",
       "      <td>NaN</td>\n",
       "    </tr>\n",
       "    <tr>\n",
       "      <th>85</th>\n",
       "      <td>calculation, by e-mail to chargemaster@osh...</td>\n",
       "      <td>NaN</td>\n",
       "      <td>NaN</td>\n",
       "    </tr>\n",
       "  </tbody>\n",
       "</table>\n",
       "<p>86 rows × 3 columns</p>\n",
       "</div>"
      ],
      "text/plain": [
       "       Hospital Name:  San Francisco General Hospital     Unnamed: 1  \\\n",
       "0                        OSHPD Facility No: 106380939            NaN   \n",
       "1             Effective Date of Charges: June 1, 2021            NaN   \n",
       "2                                                 NaN            NaN   \n",
       "3   In response to requests from hospitals and the...            NaN   \n",
       "4   Evaluation & Management Services (CPT Codes 99...  2021 CPT Code   \n",
       "..                                                ...            ...   \n",
       "81      (e.g., supplies, drugs, lab, use of operat...            NaN   \n",
       "82  3. Do not change procedure descriptions or CPT...            NaN   \n",
       "83      (rows 62-71) if you are unable to select p...            NaN   \n",
       "84  4. Submit completed form as Excel (.xls) file,...            NaN   \n",
       "85      calculation, by e-mail to chargemaster@osh...            NaN   \n",
       "\n",
       "        Unnamed: 2  \n",
       "0              NaN  \n",
       "1              NaN  \n",
       "2              NaN  \n",
       "3              NaN  \n",
       "4   Average Charge  \n",
       "..             ...  \n",
       "81             NaN  \n",
       "82             NaN  \n",
       "83             NaN  \n",
       "84             NaN  \n",
       "85             NaN  \n",
       "\n",
       "[86 rows x 3 columns]"
      ]
     },
     "execution_count": 13,
     "metadata": {},
     "output_type": "execute_result"
    }
   ],
   "source": [
    "src = Path(\"chargemaster-cdm-2021\")\n",
    "sample_csv = src / \"Zuckerberg San Francisco General Hospital & Trauma Center\" / \"106380939_CDM_All_2021.xlsx\"\n",
    "target_sheet = \"AB 1045 Form\"\n",
    "\n",
    "data = pd.read_excel(sample_csv, sheet_name=target_sheet)\n",
    "data"
   ]
  },
  {
   "cell_type": "code",
   "execution_count": 14,
   "id": "0274e7e1-027b-4a21-840e-b324d11d2d92",
   "metadata": {},
   "outputs": [
    {
     "name": "stdout",
     "output_type": "stream",
     "text": [
      "Hospital Name:  San Francisco General Hospital\n",
      "Unnamed: 1\n",
      "Unnamed: 2\n"
     ]
    }
   ],
   "source": [
    "for row in data:\n",
    "    print(row)"
   ]
  },
  {
   "cell_type": "code",
   "execution_count": null,
   "id": "99c2f126-e3e1-4af4-9c24-a82e1d3f7471",
   "metadata": {},
   "outputs": [],
   "source": []
  }
 ],
 "metadata": {
  "kernelspec": {
   "display_name": "Python 3 (ipykernel)",
   "language": "python",
   "name": "python3"
  },
  "language_info": {
   "codemirror_mode": {
    "name": "ipython",
    "version": 3
   },
   "file_extension": ".py",
   "mimetype": "text/x-python",
   "name": "python",
   "nbconvert_exporter": "python",
   "pygments_lexer": "ipython3",
   "version": "3.8.9"
  }
 },
 "nbformat": 4,
 "nbformat_minor": 5
}
